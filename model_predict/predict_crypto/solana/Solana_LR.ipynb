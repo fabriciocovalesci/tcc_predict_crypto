{
  "nbformat": 4,
  "nbformat_minor": 0,
  "metadata": {
    "colab": {
      "provenance": [],
      "collapsed_sections": []
    },
    "kernelspec": {
      "name": "python3",
      "display_name": "Python 3"
    },
    "language_info": {
      "name": "python"
    }
  },
  "cells": [
    {
      "cell_type": "markdown",
      "source": [
        "### Modelo preditivo Solana"
      ],
      "metadata": {
        "id": "LnhRNFDuuqQj"
      }
    },
    {
      "cell_type": "markdown",
      "source": [
        "- Instalar biblioteca **yfinance**"
      ],
      "metadata": {
        "id": "9aH0e44yuqIl"
      }
    },
    {
      "cell_type": "code",
      "execution_count": null,
      "metadata": {
        "colab": {
          "base_uri": "https://localhost:8080/"
        },
        "id": "XI7yeySJr7dG",
        "outputId": "264a2262-5470-4d9c-c396-8e0827921ffe"
      },
      "outputs": [
        {
          "output_type": "stream",
          "name": "stdout",
          "text": [
            "Looking in indexes: https://pypi.org/simple, https://us-python.pkg.dev/colab-wheels/public/simple/\n",
            "Collecting yfinance\n",
            "  Downloading yfinance-0.1.77-py2.py3-none-any.whl (28 kB)\n",
            "Collecting requests>=2.26\n",
            "  Downloading requests-2.28.1-py3-none-any.whl (62 kB)\n",
            "\u001b[K     |████████████████████████████████| 62 kB 15.0 MB/s \n",
            "\u001b[?25hRequirement already satisfied: multitasking>=0.0.7 in /usr/local/lib/python3.7/dist-packages (from yfinance) (0.0.11)\n",
            "Requirement already satisfied: lxml>=4.5.1 in /usr/local/lib/python3.7/dist-packages (from yfinance) (4.9.1)\n",
            "Requirement already satisfied: pandas>=0.24.0 in /usr/local/lib/python3.7/dist-packages (from yfinance) (1.3.5)\n",
            "Requirement already satisfied: appdirs>=1.4.4 in /usr/local/lib/python3.7/dist-packages (from yfinance) (1.4.4)\n",
            "Requirement already satisfied: numpy>=1.15 in /usr/local/lib/python3.7/dist-packages (from yfinance) (1.21.6)\n",
            "Requirement already satisfied: pytz>=2017.3 in /usr/local/lib/python3.7/dist-packages (from pandas>=0.24.0->yfinance) (2022.4)\n",
            "Requirement already satisfied: python-dateutil>=2.7.3 in /usr/local/lib/python3.7/dist-packages (from pandas>=0.24.0->yfinance) (2.8.2)\n",
            "Requirement already satisfied: six>=1.5 in /usr/local/lib/python3.7/dist-packages (from python-dateutil>=2.7.3->pandas>=0.24.0->yfinance) (1.15.0)\n",
            "Requirement already satisfied: urllib3<1.27,>=1.21.1 in /usr/local/lib/python3.7/dist-packages (from requests>=2.26->yfinance) (1.24.3)\n",
            "Requirement already satisfied: idna<4,>=2.5 in /usr/local/lib/python3.7/dist-packages (from requests>=2.26->yfinance) (2.10)\n",
            "Requirement already satisfied: certifi>=2017.4.17 in /usr/local/lib/python3.7/dist-packages (from requests>=2.26->yfinance) (2022.9.24)\n",
            "Requirement already satisfied: charset-normalizer<3,>=2 in /usr/local/lib/python3.7/dist-packages (from requests>=2.26->yfinance) (2.1.1)\n",
            "Installing collected packages: requests, yfinance\n",
            "  Attempting uninstall: requests\n",
            "    Found existing installation: requests 2.23.0\n",
            "    Uninstalling requests-2.23.0:\n",
            "      Successfully uninstalled requests-2.23.0\n",
            "Successfully installed requests-2.28.1 yfinance-0.1.77\n"
          ]
        }
      ],
      "source": [
        "!pip install yfinance --upgrade --no-cache-dir"
      ]
    },
    {
      "cell_type": "markdown",
      "source": [
        "- Importar bibliotecas de manipulação de dados"
      ],
      "metadata": {
        "id": "pEmfJP70u4O6"
      }
    },
    {
      "cell_type": "code",
      "source": [
        "import pandas as pd\n",
        "import numpy as np\n",
        "import yfinance as yf"
      ],
      "metadata": {
        "id": "wcxpjo8msA5L"
      },
      "execution_count": null,
      "outputs": []
    },
    {
      "cell_type": "markdown",
      "source": [
        "- Importar bibliotecas realizar as predições"
      ],
      "metadata": {
        "id": "nGxQC0Rmu_Wi"
      }
    },
    {
      "cell_type": "code",
      "source": [
        "from sklearn.feature_selection import SelectKBest, f_regression\n",
        "from sklearn.model_selection import GridSearchCV\n",
        "from sklearn.neural_network import MLPRegressor\n",
        "from sklearn.preprocessing import MinMaxScaler\n",
        "from sklearn import datasets, linear_model\n",
        "from sklearn.metrics import mean_squared_error, r2_score, mean_absolute_error, accuracy_score, confusion_matrix, precision_score\n",
        "from sklearn.model_selection import train_test_split\n",
        "from sklearn.linear_model import LinearRegression\n",
        "from sklearn.pipeline import Pipeline, make_pipeline\n",
        "import joblib"
      ],
      "metadata": {
        "id": "YvTLcAqquVuv"
      },
      "execution_count": null,
      "outputs": []
    },
    {
      "cell_type": "markdown",
      "source": [
        "- Importar bibliotecas para plotar gráficos"
      ],
      "metadata": {
        "id": "WIh3Dk45vE5K"
      }
    },
    {
      "cell_type": "code",
      "source": [
        "import matplotlib.pyplot as plt\n",
        "import plotly.graph_objects as go\n",
        "from plotly.subplots import make_subplots\n",
        "import plotly.express as px\n",
        "import seaborn as sns\n",
        "from statsmodels.graphics.tsaplots import plot_acf\n",
        "from statsmodels.graphics.tsaplots import plot_pacf\n",
        "import plotly.express as px\n",
        "plt.style.use('ggplot')\n",
        "%matplotlib inline"
      ],
      "metadata": {
        "id": "6RQ1XVxTsA-h"
      },
      "execution_count": null,
      "outputs": []
    },
    {
      "cell_type": "markdown",
      "source": [
        "- Importar bibliotecas internas do python"
      ],
      "metadata": {
        "id": "09mrCrKYvNNK"
      }
    },
    {
      "cell_type": "code",
      "source": [
        "from functools import reduce\n",
        "from datetime import datetime"
      ],
      "metadata": {
        "id": "jY9SWGLasBBL"
      },
      "execution_count": null,
      "outputs": []
    },
    {
      "cell_type": "markdown",
      "source": [
        "- Definir datas para capturar os dados"
      ],
      "metadata": {
        "id": "kBXFlQ1VvQRC"
      }
    },
    {
      "cell_type": "code",
      "source": [
        "date_today = datetime.strftime(datetime.today(), '%Y-%m-%d')\n",
        "date_init = \"2014-01-01\""
      ],
      "metadata": {
        "id": "meKtzz9isBDv"
      },
      "execution_count": null,
      "outputs": []
    },
    {
      "cell_type": "markdown",
      "source": [
        "- Criar funções auxiliares "
      ],
      "metadata": {
        "id": "wO7VGEmSvWOC"
      }
    },
    {
      "cell_type": "code",
      "source": [
        "TICKER = \"SOL-USD\"\n",
        "\n",
        "def download_tickers(ticker):\n",
        "  try:\n",
        "    asset = yf.download(ticker, start=date_init, end=date_today, interval='1d')\n",
        "    return asset.Close\n",
        "  except Exception as err:\n",
        "    print(f\"ERROR: {err}\")\n",
        "\n",
        "  \n",
        "def create_data_frame(asset_close, ticker):\n",
        "  return pd.DataFrame(asset_close).rename(columns = {'Close': ticker})\n",
        "\n",
        "\n",
        "def mean_absolute_percentage_error(y_true, y_pred):\n",
        "\t\"\"\"Take in true and predicted values and calculate the MAPE score\"\"\"\n",
        "\ty_true, y_pred = np.array(y_true), np.array(y_pred)\n",
        "\treturn np.mean(np.abs((y_true - y_pred) / y_true)) * 100"
      ],
      "metadata": {
        "id": "gAcRyUa0sBHC"
      },
      "execution_count": null,
      "outputs": []
    },
    {
      "cell_type": "markdown",
      "source": [
        "- Download dos dados"
      ],
      "metadata": {
        "id": "H6PD_lK9vaNC"
      }
    },
    {
      "cell_type": "code",
      "source": [
        "df_sol = yf.download(TICKER, date_init, date_today)\n",
        "df_sol = df_sol.reset_index()"
      ],
      "metadata": {
        "colab": {
          "base_uri": "https://localhost:8080/"
        },
        "id": "WqndBn94sVKZ",
        "outputId": "8512f68d-8316-4ef2-e040-299379c6d266"
      },
      "execution_count": null,
      "outputs": [
        {
          "output_type": "stream",
          "name": "stdout",
          "text": [
            "\r[*********************100%***********************]  1 of 1 completed\n"
          ]
        }
      ]
    },
    {
      "cell_type": "markdown",
      "source": [
        "- Reindexar index, por default vem o Date"
      ],
      "metadata": {
        "id": "okcEKn2SvfDb"
      }
    },
    {
      "cell_type": "code",
      "source": [
        "df_sol.reset_index(inplace=True)"
      ],
      "metadata": {
        "id": "-uH-w6QwsVNZ"
      },
      "execution_count": null,
      "outputs": []
    },
    {
      "cell_type": "code",
      "source": [
        "df_sol.dtypes"
      ],
      "metadata": {
        "colab": {
          "base_uri": "https://localhost:8080/"
        },
        "id": "rCX7TgAob3lt",
        "outputId": "f7274a87-21de-4a20-9900-c145046c7046"
      },
      "execution_count": null,
      "outputs": [
        {
          "output_type": "execute_result",
          "data": {
            "text/plain": [
              "index                      int64\n",
              "Date         datetime64[ns, UTC]\n",
              "Open                     float64\n",
              "High                     float64\n",
              "Low                      float64\n",
              "Close                    float64\n",
              "Adj Close                float64\n",
              "Volume                     int64\n",
              "dtype: object"
            ]
          },
          "metadata": {},
          "execution_count": 10
        }
      ]
    },
    {
      "cell_type": "markdown",
      "source": [
        "- Converter data"
      ],
      "metadata": {
        "id": "qiqyJR65vo9S"
      }
    },
    {
      "cell_type": "code",
      "source": [
        "df_sol['Date'] = pd.to_datetime(df_sol['Date'], format=\"%Y-%m-%d\")"
      ],
      "metadata": {
        "id": "fHf2mLrDsVQJ"
      },
      "execution_count": null,
      "outputs": []
    },
    {
      "cell_type": "markdown",
      "source": [
        "- Criar médias móveis de 7 dias e 21 dias"
      ],
      "metadata": {
        "id": "obt8r1F6vser"
      }
    },
    {
      "cell_type": "code",
      "source": [
        "df_sol['mm7d'] = df_sol['Adj Close'].rolling(7).mean()\n",
        "df_sol['mm21d'] = df_sol['Adj Close'].rolling(21).mean()\n",
        "\n",
        "df_sol.tail()"
      ],
      "metadata": {
        "colab": {
          "base_uri": "https://localhost:8080/",
          "height": 206
        },
        "id": "TzTF6UoEs84B",
        "outputId": "3d269e98-2546-4e0d-a548-7cb69d35fd26"
      },
      "execution_count": null,
      "outputs": [
        {
          "output_type": "execute_result",
          "data": {
            "text/plain": [
              "     index                      Date       Open       High        Low  \\\n",
              "913    913 2022-10-10 00:00:00+00:00  32.912937  33.339455  31.970835   \n",
              "914    914 2022-10-11 00:00:00+00:00  31.966032  31.966032  30.579493   \n",
              "915    915 2022-10-12 00:00:00+00:00  30.779692  31.460230  30.729170   \n",
              "916    916 2022-10-13 00:00:00+00:00  31.164413  31.181086  28.197371   \n",
              "917    917 2022-10-14 00:00:00+00:00  30.542488  31.909657  29.759932   \n",
              "\n",
              "         Close  Adj Close      Volume       mm7d      mm21d  \n",
              "913  31.970835  31.970835   640691958  33.143327  32.889047  \n",
              "914  30.776869  30.776869   733071932  32.665384  32.857801  \n",
              "915  31.165485  31.165485   490127096  32.249899  32.873949  \n",
              "916  30.544519  30.544519  1302451856  31.850142  32.785169  \n",
              "917  30.007418  30.007418   836283411  31.422421  32.610444  "
            ],
            "text/html": [
              "\n",
              "  <div id=\"df-43a8954b-6971-41f2-a0fd-d3695e7b64f8\">\n",
              "    <div class=\"colab-df-container\">\n",
              "      <div>\n",
              "<style scoped>\n",
              "    .dataframe tbody tr th:only-of-type {\n",
              "        vertical-align: middle;\n",
              "    }\n",
              "\n",
              "    .dataframe tbody tr th {\n",
              "        vertical-align: top;\n",
              "    }\n",
              "\n",
              "    .dataframe thead th {\n",
              "        text-align: right;\n",
              "    }\n",
              "</style>\n",
              "<table border=\"1\" class=\"dataframe\">\n",
              "  <thead>\n",
              "    <tr style=\"text-align: right;\">\n",
              "      <th></th>\n",
              "      <th>index</th>\n",
              "      <th>Date</th>\n",
              "      <th>Open</th>\n",
              "      <th>High</th>\n",
              "      <th>Low</th>\n",
              "      <th>Close</th>\n",
              "      <th>Adj Close</th>\n",
              "      <th>Volume</th>\n",
              "      <th>mm7d</th>\n",
              "      <th>mm21d</th>\n",
              "    </tr>\n",
              "  </thead>\n",
              "  <tbody>\n",
              "    <tr>\n",
              "      <th>913</th>\n",
              "      <td>913</td>\n",
              "      <td>2022-10-10 00:00:00+00:00</td>\n",
              "      <td>32.912937</td>\n",
              "      <td>33.339455</td>\n",
              "      <td>31.970835</td>\n",
              "      <td>31.970835</td>\n",
              "      <td>31.970835</td>\n",
              "      <td>640691958</td>\n",
              "      <td>33.143327</td>\n",
              "      <td>32.889047</td>\n",
              "    </tr>\n",
              "    <tr>\n",
              "      <th>914</th>\n",
              "      <td>914</td>\n",
              "      <td>2022-10-11 00:00:00+00:00</td>\n",
              "      <td>31.966032</td>\n",
              "      <td>31.966032</td>\n",
              "      <td>30.579493</td>\n",
              "      <td>30.776869</td>\n",
              "      <td>30.776869</td>\n",
              "      <td>733071932</td>\n",
              "      <td>32.665384</td>\n",
              "      <td>32.857801</td>\n",
              "    </tr>\n",
              "    <tr>\n",
              "      <th>915</th>\n",
              "      <td>915</td>\n",
              "      <td>2022-10-12 00:00:00+00:00</td>\n",
              "      <td>30.779692</td>\n",
              "      <td>31.460230</td>\n",
              "      <td>30.729170</td>\n",
              "      <td>31.165485</td>\n",
              "      <td>31.165485</td>\n",
              "      <td>490127096</td>\n",
              "      <td>32.249899</td>\n",
              "      <td>32.873949</td>\n",
              "    </tr>\n",
              "    <tr>\n",
              "      <th>916</th>\n",
              "      <td>916</td>\n",
              "      <td>2022-10-13 00:00:00+00:00</td>\n",
              "      <td>31.164413</td>\n",
              "      <td>31.181086</td>\n",
              "      <td>28.197371</td>\n",
              "      <td>30.544519</td>\n",
              "      <td>30.544519</td>\n",
              "      <td>1302451856</td>\n",
              "      <td>31.850142</td>\n",
              "      <td>32.785169</td>\n",
              "    </tr>\n",
              "    <tr>\n",
              "      <th>917</th>\n",
              "      <td>917</td>\n",
              "      <td>2022-10-14 00:00:00+00:00</td>\n",
              "      <td>30.542488</td>\n",
              "      <td>31.909657</td>\n",
              "      <td>29.759932</td>\n",
              "      <td>30.007418</td>\n",
              "      <td>30.007418</td>\n",
              "      <td>836283411</td>\n",
              "      <td>31.422421</td>\n",
              "      <td>32.610444</td>\n",
              "    </tr>\n",
              "  </tbody>\n",
              "</table>\n",
              "</div>\n",
              "      <button class=\"colab-df-convert\" onclick=\"convertToInteractive('df-43a8954b-6971-41f2-a0fd-d3695e7b64f8')\"\n",
              "              title=\"Convert this dataframe to an interactive table.\"\n",
              "              style=\"display:none;\">\n",
              "        \n",
              "  <svg xmlns=\"http://www.w3.org/2000/svg\" height=\"24px\"viewBox=\"0 0 24 24\"\n",
              "       width=\"24px\">\n",
              "    <path d=\"M0 0h24v24H0V0z\" fill=\"none\"/>\n",
              "    <path d=\"M18.56 5.44l.94 2.06.94-2.06 2.06-.94-2.06-.94-.94-2.06-.94 2.06-2.06.94zm-11 1L8.5 8.5l.94-2.06 2.06-.94-2.06-.94L8.5 2.5l-.94 2.06-2.06.94zm10 10l.94 2.06.94-2.06 2.06-.94-2.06-.94-.94-2.06-.94 2.06-2.06.94z\"/><path d=\"M17.41 7.96l-1.37-1.37c-.4-.4-.92-.59-1.43-.59-.52 0-1.04.2-1.43.59L10.3 9.45l-7.72 7.72c-.78.78-.78 2.05 0 2.83L4 21.41c.39.39.9.59 1.41.59.51 0 1.02-.2 1.41-.59l7.78-7.78 2.81-2.81c.8-.78.8-2.07 0-2.86zM5.41 20L4 18.59l7.72-7.72 1.47 1.35L5.41 20z\"/>\n",
              "  </svg>\n",
              "      </button>\n",
              "      \n",
              "  <style>\n",
              "    .colab-df-container {\n",
              "      display:flex;\n",
              "      flex-wrap:wrap;\n",
              "      gap: 12px;\n",
              "    }\n",
              "\n",
              "    .colab-df-convert {\n",
              "      background-color: #E8F0FE;\n",
              "      border: none;\n",
              "      border-radius: 50%;\n",
              "      cursor: pointer;\n",
              "      display: none;\n",
              "      fill: #1967D2;\n",
              "      height: 32px;\n",
              "      padding: 0 0 0 0;\n",
              "      width: 32px;\n",
              "    }\n",
              "\n",
              "    .colab-df-convert:hover {\n",
              "      background-color: #E2EBFA;\n",
              "      box-shadow: 0px 1px 2px rgba(60, 64, 67, 0.3), 0px 1px 3px 1px rgba(60, 64, 67, 0.15);\n",
              "      fill: #174EA6;\n",
              "    }\n",
              "\n",
              "    [theme=dark] .colab-df-convert {\n",
              "      background-color: #3B4455;\n",
              "      fill: #D2E3FC;\n",
              "    }\n",
              "\n",
              "    [theme=dark] .colab-df-convert:hover {\n",
              "      background-color: #434B5C;\n",
              "      box-shadow: 0px 1px 3px 1px rgba(0, 0, 0, 0.15);\n",
              "      filter: drop-shadow(0px 1px 2px rgba(0, 0, 0, 0.3));\n",
              "      fill: #FFFFFF;\n",
              "    }\n",
              "  </style>\n",
              "\n",
              "      <script>\n",
              "        const buttonEl =\n",
              "          document.querySelector('#df-43a8954b-6971-41f2-a0fd-d3695e7b64f8 button.colab-df-convert');\n",
              "        buttonEl.style.display =\n",
              "          google.colab.kernel.accessAllowed ? 'block' : 'none';\n",
              "\n",
              "        async function convertToInteractive(key) {\n",
              "          const element = document.querySelector('#df-43a8954b-6971-41f2-a0fd-d3695e7b64f8');\n",
              "          const dataTable =\n",
              "            await google.colab.kernel.invokeFunction('convertToInteractive',\n",
              "                                                     [key], {});\n",
              "          if (!dataTable) return;\n",
              "\n",
              "          const docLinkHtml = 'Like what you see? Visit the ' +\n",
              "            '<a target=\"_blank\" href=https://colab.research.google.com/notebooks/data_table.ipynb>data table notebook</a>'\n",
              "            + ' to learn more about interactive tables.';\n",
              "          element.innerHTML = '';\n",
              "          dataTable['output_type'] = 'display_data';\n",
              "          await google.colab.output.renderOutput(dataTable, element);\n",
              "          const docLink = document.createElement('div');\n",
              "          docLink.innerHTML = docLinkHtml;\n",
              "          element.appendChild(docLink);\n",
              "        }\n",
              "      </script>\n",
              "    </div>\n",
              "  </div>\n",
              "  "
            ]
          },
          "metadata": {},
          "execution_count": 12
        }
      ]
    },
    {
      "cell_type": "markdown",
      "source": [
        "- Função de agrupamento dos dados"
      ],
      "metadata": {
        "id": "eX434S8Kv09a"
      }
    },
    {
      "cell_type": "code",
      "source": [
        "def group_data(type_group):\n",
        "  new_df = df_sol.groupby(pd.Grouper(key=\"Date\", freq=type_group)).sum()\n",
        "  new_df.reset_index(inplace=True)\n",
        "  return new_df"
      ],
      "metadata": {
        "id": "MPjrm4WbpN61"
      },
      "execution_count": null,
      "outputs": []
    },
    {
      "cell_type": "markdown",
      "source": [
        "- Função para plotar grafico conforme o Agrupamento dos Dados\n",
        "- Tipo de agrupamento:\n",
        "- Por Meses (M) ou por Semanas (W)\n",
        "- Por Ano (year)\n",
        "- Tipo de grafico: 'bar',  'line',  'hist',  'barh'"
      ],
      "metadata": {
        "id": "83_LMHOIqubc"
      }
    },
    {
      "cell_type": "code",
      "source": [
        "def create_plot_custom(filter_Mounth_or_Week, year, type_plot):\n",
        "  \"\"\" \n",
        "    Cria um grafico filtrando por Ano, Meses ou Semanas\n",
        "\n",
        "    filter_Mounth_or_Week: 'M' ou 'W'\n",
        "    type_plot: 'line', 'bar', 'hist', 'barh'\n",
        "  \n",
        "  \"\"\"\n",
        "  if year >= 2014 and year <= 2022 and filter_Mounth_or_Week in (\"M\", \"W\"):\n",
        "    filtro_label = None\n",
        "    df_filter = group_data(filter_Mounth_or_Week)\n",
        "    include = df_filter[df_filter['Date'].dt.year == year]\n",
        "    meses = [\"jan\", \"fev\", \"mar\", \"abr\", \"mai\", \"jun\", \"jul\", \"ago\", \"set\", \"out\", \"nov\", \"dez\"]\n",
        "    if len(include.index) <= 12:\n",
        "      include.index = meses[:len(include.index)]\n",
        "      filtro_label = \"Meses\"\n",
        "    elif len(include.index) > 50:\n",
        "      include.index = [i for i in range(0, len(include.index))]\n",
        "      filtro_label = \"Semanas\"\n",
        "    include.plot(y=\"Adj Close\", kind=type_plot, figsize=(14, 8),rot=30, title=f'Distruibuição por {filtro_label} - ano {year}', ylabel='Preço US$', xlabel=filtro_label, color=\"blue\")"
      ],
      "metadata": {
        "id": "8tL9xZOlZ8r0"
      },
      "execution_count": null,
      "outputs": []
    },
    {
      "cell_type": "code",
      "source": [
        "create_plot_custom(\"M\", 2022, \"bar\")"
      ],
      "metadata": {
        "colab": {
          "base_uri": "https://localhost:8080/",
          "height": 525
        },
        "id": "QxCJ15tsa7E9",
        "outputId": "a572d491-3a52-4952-fc01-63c98dc60679"
      },
      "execution_count": null,
      "outputs": [
        {
          "output_type": "display_data",
          "data": {
            "text/plain": [
              "<Figure size 1008x576 with 1 Axes>"
            ],
            "image/png": "[encoded data removed]"
          },
          "metadata": {
            "needs_background": "light"
          }
        }
      ]
    },
    {
      "cell_type": "markdown",
      "source": [
        "- Empurrando para frente os valores da criptomoeda"
      ],
      "metadata": {
        "id": "irz8F9VLv4ui"
      }
    },
    {
      "cell_type": "code",
      "source": [
        "df_sol['Adj Close'] = df_sol['Adj Close'].shift(-1)\n",
        "df_sol.tail()"
      ],
      "metadata": {
        "colab": {
          "base_uri": "https://localhost:8080/",
          "height": 206
        },
        "id": "vrSuQkVcs89Q",
        "outputId": "f8566103-8d96-4237-ac64-f667d409863b"
      },
      "execution_count": null,
      "outputs": [
        {
          "output_type": "execute_result",
          "data": {
            "text/plain": [
              "     index                      Date       Open       High        Low  \\\n",
              "913    913 2022-10-10 00:00:00+00:00  32.912937  33.339455  31.970835   \n",
              "914    914 2022-10-11 00:00:00+00:00  31.966032  31.966032  30.579493   \n",
              "915    915 2022-10-12 00:00:00+00:00  30.779692  31.460230  30.729170   \n",
              "916    916 2022-10-13 00:00:00+00:00  31.164413  31.181086  28.197371   \n",
              "917    917 2022-10-14 00:00:00+00:00  30.542488  31.909657  29.759932   \n",
              "\n",
              "         Close  Adj Close      Volume       mm7d      mm21d  \n",
              "913  31.970835  30.776869   640691958  33.143327  32.889047  \n",
              "914  30.776869  31.165485   733071932  32.665384  32.857801  \n",
              "915  31.165485  30.544519   490127096  32.249899  32.873949  \n",
              "916  30.544519  30.007418  1302451856  31.850142  32.785169  \n",
              "917  30.007418        NaN   836283411  31.422421  32.610444  "
            ],
            "text/html": [
              "\n",
              "  <div id=\"df-3ffba1bb-69eb-45d3-9693-028b164ad58e\">\n",
              "    <div class=\"colab-df-container\">\n",
              "      <div>\n",
              "<style scoped>\n",
              "    .dataframe tbody tr th:only-of-type {\n",
              "        vertical-align: middle;\n",
              "    }\n",
              "\n",
              "    .dataframe tbody tr th {\n",
              "        vertical-align: top;\n",
              "    }\n",
              "\n",
              "    .dataframe thead th {\n",
              "        text-align: right;\n",
              "    }\n",
              "</style>\n",
              "<table border=\"1\" class=\"dataframe\">\n",
              "  <thead>\n",
              "    <tr style=\"text-align: right;\">\n",
              "      <th></th>\n",
              "      <th>index</th>\n",
              "      <th>Date</th>\n",
              "      <th>Open</th>\n",
              "      <th>High</th>\n",
              "      <th>Low</th>\n",
              "      <th>Close</th>\n",
              "      <th>Adj Close</th>\n",
              "      <th>Volume</th>\n",
              "      <th>mm7d</th>\n",
              "      <th>mm21d</th>\n",
              "    </tr>\n",
              "  </thead>\n",
              "  <tbody>\n",
              "    <tr>\n",
              "      <th>913</th>\n",
              "      <td>913</td>\n",
              "      <td>2022-10-10 00:00:00+00:00</td>\n",
              "      <td>32.912937</td>\n",
              "      <td>33.339455</td>\n",
              "      <td>31.970835</td>\n",
              "      <td>31.970835</td>\n",
              "      <td>30.776869</td>\n",
              "      <td>640691958</td>\n",
              "      <td>33.143327</td>\n",
              "      <td>32.889047</td>\n",
              "    </tr>\n",
              "    <tr>\n",
              "      <th>914</th>\n",
              "      <td>914</td>\n",
              "      <td>2022-10-11 00:00:00+00:00</td>\n",
              "      <td>31.966032</td>\n",
              "      <td>31.966032</td>\n",
              "      <td>30.579493</td>\n",
              "      <td>30.776869</td>\n",
              "      <td>31.165485</td>\n",
              "      <td>733071932</td>\n",
              "      <td>32.665384</td>\n",
              "      <td>32.857801</td>\n",
              "    </tr>\n",
              "    <tr>\n",
              "      <th>915</th>\n",
              "      <td>915</td>\n",
              "      <td>2022-10-12 00:00:00+00:00</td>\n",
              "      <td>30.779692</td>\n",
              "      <td>31.460230</td>\n",
              "      <td>30.729170</td>\n",
              "      <td>31.165485</td>\n",
              "      <td>30.544519</td>\n",
              "      <td>490127096</td>\n",
              "      <td>32.249899</td>\n",
              "      <td>32.873949</td>\n",
              "    </tr>\n",
              "    <tr>\n",
              "      <th>916</th>\n",
              "      <td>916</td>\n",
              "      <td>2022-10-13 00:00:00+00:00</td>\n",
              "      <td>31.164413</td>\n",
              "      <td>31.181086</td>\n",
              "      <td>28.197371</td>\n",
              "      <td>30.544519</td>\n",
              "      <td>30.007418</td>\n",
              "      <td>1302451856</td>\n",
              "      <td>31.850142</td>\n",
              "      <td>32.785169</td>\n",
              "    </tr>\n",
              "    <tr>\n",
              "      <th>917</th>\n",
              "      <td>917</td>\n",
              "      <td>2022-10-14 00:00:00+00:00</td>\n",
              "      <td>30.542488</td>\n",
              "      <td>31.909657</td>\n",
              "      <td>29.759932</td>\n",
              "      <td>30.007418</td>\n",
              "      <td>NaN</td>\n",
              "      <td>836283411</td>\n",
              "      <td>31.422421</td>\n",
              "      <td>32.610444</td>\n",
              "    </tr>\n",
              "  </tbody>\n",
              "</table>\n",
              "</div>\n",
              "      <button class=\"colab-df-convert\" onclick=\"convertToInteractive('df-3ffba1bb-69eb-45d3-9693-028b164ad58e')\"\n",
              "              title=\"Convert this dataframe to an interactive table.\"\n",
              "              style=\"display:none;\">\n",
              "        \n",
              "  <svg xmlns=\"http://www.w3.org/2000/svg\" height=\"24px\"viewBox=\"0 0 24 24\"\n",
              "       width=\"24px\">\n",
              "    <path d=\"M0 0h24v24H0V0z\" fill=\"none\"/>\n",
              "    <path d=\"M18.56 5.44l.94 2.06.94-2.06 2.06-.94-2.06-.94-.94-2.06-.94 2.06-2.06.94zm-11 1L8.5 8.5l.94-2.06 2.06-.94-2.06-.94L8.5 2.5l-.94 2.06-2.06.94zm10 10l.94 2.06.94-2.06 2.06-.94-2.06-.94-.94-2.06-.94 2.06-2.06.94z\"/><path d=\"M17.41 7.96l-1.37-1.37c-.4-.4-.92-.59-1.43-.59-.52 0-1.04.2-1.43.59L10.3 9.45l-7.72 7.72c-.78.78-.78 2.05 0 2.83L4 21.41c.39.39.9.59 1.41.59.51 0 1.02-.2 1.41-.59l7.78-7.78 2.81-2.81c.8-.78.8-2.07 0-2.86zM5.41 20L4 18.59l7.72-7.72 1.47 1.35L5.41 20z\"/>\n",
              "  </svg>\n",
              "      </button>\n",
              "      \n",
              "  <style>\n",
              "    .colab-df-container {\n",
              "      display:flex;\n",
              "      flex-wrap:wrap;\n",
              "      gap: 12px;\n",
              "    }\n",
              "\n",
              "    .colab-df-convert {\n",
              "      background-color: #E8F0FE;\n",
              "      border: none;\n",
              "      border-radius: 50%;\n",
              "      cursor: pointer;\n",
              "      display: none;\n",
              "      fill: #1967D2;\n",
              "      height: 32px;\n",
              "      padding: 0 0 0 0;\n",
              "      width: 32px;\n",
              "    }\n",
              "\n",
              "    .colab-df-convert:hover {\n",
              "      background-color: #E2EBFA;\n",
              "      box-shadow: 0px 1px 2px rgba(60, 64, 67, 0.3), 0px 1px 3px 1px rgba(60, 64, 67, 0.15);\n",
              "      fill: #174EA6;\n",
              "    }\n",
              "\n",
              "    [theme=dark] .colab-df-convert {\n",
              "      background-color: #3B4455;\n",
              "      fill: #D2E3FC;\n",
              "    }\n",
              "\n",
              "    [theme=dark] .colab-df-convert:hover {\n",
              "      background-color: #434B5C;\n",
              "      box-shadow: 0px 1px 3px 1px rgba(0, 0, 0, 0.15);\n",
              "      filter: drop-shadow(0px 1px 2px rgba(0, 0, 0, 0.3));\n",
              "      fill: #FFFFFF;\n",
              "    }\n",
              "  </style>\n",
              "\n",
              "      <script>\n",
              "        const buttonEl =\n",
              "          document.querySelector('#df-3ffba1bb-69eb-45d3-9693-028b164ad58e button.colab-df-convert');\n",
              "        buttonEl.style.display =\n",
              "          google.colab.kernel.accessAllowed ? 'block' : 'none';\n",
              "\n",
              "        async function convertToInteractive(key) {\n",
              "          const element = document.querySelector('#df-3ffba1bb-69eb-45d3-9693-028b164ad58e');\n",
              "          const dataTable =\n",
              "            await google.colab.kernel.invokeFunction('convertToInteractive',\n",
              "                                                     [key], {});\n",
              "          if (!dataTable) return;\n",
              "\n",
              "          const docLinkHtml = 'Like what you see? Visit the ' +\n",
              "            '<a target=\"_blank\" href=https://colab.research.google.com/notebooks/data_table.ipynb>data table notebook</a>'\n",
              "            + ' to learn more about interactive tables.';\n",
              "          element.innerHTML = '';\n",
              "          dataTable['output_type'] = 'display_data';\n",
              "          await google.colab.output.renderOutput(dataTable, element);\n",
              "          const docLink = document.createElement('div');\n",
              "          docLink.innerHTML = docLinkHtml;\n",
              "          element.appendChild(docLink);\n",
              "        }\n",
              "      </script>\n",
              "    </div>\n",
              "  </div>\n",
              "  "
            ]
          },
          "metadata": {},
          "execution_count": 19
        }
      ]
    },
    {
      "cell_type": "markdown",
      "source": [
        "- Remover os dados nulos"
      ],
      "metadata": {
        "id": "RXxYDot8wARz"
      }
    },
    {
      "cell_type": "code",
      "source": [
        "df_sol.dropna(inplace=True)\n",
        "df_sol"
      ],
      "metadata": {
        "colab": {
          "base_uri": "https://localhost:8080/",
          "height": 424
        },
        "id": "jIP4Y09auAln",
        "outputId": "baef248b-724f-4ce8-fb3f-87ab0cc2c33b"
      },
      "execution_count": null,
      "outputs": [
        {
          "output_type": "execute_result",
          "data": {
            "text/plain": [
              "     index                      Date       Open       High        Low  \\\n",
              "20      20 2020-04-30 00:00:00+00:00   0.747195   0.800816   0.687881   \n",
              "21      21 2020-05-01 00:00:00+00:00   0.691045   0.737071   0.685903   \n",
              "22      22 2020-05-02 00:00:00+00:00   0.727268   0.748981   0.707904   \n",
              "23      23 2020-05-03 00:00:00+00:00   0.714796   0.729801   0.656616   \n",
              "24      24 2020-05-04 00:00:00+00:00   0.679625   0.705812   0.618434   \n",
              "..     ...                       ...        ...        ...        ...   \n",
              "912    912 2022-10-09 00:00:00+00:00  32.578014  33.103115  32.478024   \n",
              "913    913 2022-10-10 00:00:00+00:00  32.912937  33.339455  31.970835   \n",
              "914    914 2022-10-11 00:00:00+00:00  31.966032  31.966032  30.579493   \n",
              "915    915 2022-10-12 00:00:00+00:00  30.779692  31.460230  30.729170   \n",
              "916    916 2022-10-13 00:00:00+00:00  31.164413  31.181086  28.197371   \n",
              "\n",
              "         Close  Adj Close      Volume       mm7d      mm21d  \n",
              "20    0.691045   0.728794     5016892   0.654804   0.684074  \n",
              "21    0.728794   0.715876     4164272   0.668311   0.673490  \n",
              "22    0.715876   0.679535     3441356   0.678675   0.670588  \n",
              "23    0.679535   0.667491     3328344   0.684965   0.660923  \n",
              "24    0.667491   0.641837     3443698   0.698553   0.655668  \n",
              "..         ...        ...         ...        ...        ...  \n",
              "912  32.913883  31.970835   405849928  33.285725  32.923070  \n",
              "913  31.970835  30.776869   640691958  33.143327  32.889047  \n",
              "914  30.776869  31.165485   733071932  32.665384  32.857801  \n",
              "915  31.165485  30.544519   490127096  32.249899  32.873949  \n",
              "916  30.544519  30.007418  1302451856  31.850142  32.785169  \n",
              "\n",
              "[897 rows x 10 columns]"
            ],
            "text/html": [
              "\n",
              "  <div id=\"df-6c3d1a56-b4d6-44a8-94e9-c6a66994a5c8\">\n",
              "    <div class=\"colab-df-container\">\n",
              "      <div>\n",
              "<style scoped>\n",
              "    .dataframe tbody tr th:only-of-type {\n",
              "        vertical-align: middle;\n",
              "    }\n",
              "\n",
              "    .dataframe tbody tr th {\n",
              "        vertical-align: top;\n",
              "    }\n",
              "\n",
              "    .dataframe thead th {\n",
              "        text-align: right;\n",
              "    }\n",
              "</style>\n",
              "<table border=\"1\" class=\"dataframe\">\n",
              "  <thead>\n",
              "    <tr style=\"text-align: right;\">\n",
              "      <th></th>\n",
              "      <th>index</th>\n",
              "      <th>Date</th>\n",
              "      <th>Open</th>\n",
              "      <th>High</th>\n",
              "      <th>Low</th>\n",
              "      <th>Close</th>\n",
              "      <th>Adj Close</th>\n",
              "      <th>Volume</th>\n",
              "      <th>mm7d</th>\n",
              "      <th>mm21d</th>\n",
              "    </tr>\n",
              "  </thead>\n",
              "  <tbody>\n",
              "    <tr>\n",
              "      <th>20</th>\n",
              "      <td>20</td>\n",
              "      <td>2020-04-30 00:00:00+00:00</td>\n",
              "      <td>0.747195</td>\n",
              "      <td>0.800816</td>\n",
              "      <td>0.687881</td>\n",
              "      <td>0.691045</td>\n",
              "      <td>0.728794</td>\n",
              "      <td>5016892</td>\n",
              "      <td>0.654804</td>\n",
              "      <td>0.684074</td>\n",
              "    </tr>\n",
              "    <tr>\n",
              "      <th>21</th>\n",
              "      <td>21</td>\n",
              "      <td>2020-05-01 00:00:00+00:00</td>\n",
              "      <td>0.691045</td>\n",
              "      <td>0.737071</td>\n",
              "      <td>0.685903</td>\n",
              "      <td>0.728794</td>\n",
              "      <td>0.715876</td>\n",
              "      <td>4164272</td>\n",
              "      <td>0.668311</td>\n",
              "      <td>0.673490</td>\n",
              "    </tr>\n",
              "    <tr>\n",
              "      <th>22</th>\n",
              "      <td>22</td>\n",
              "      <td>2020-05-02 00:00:00+00:00</td>\n",
              "      <td>0.727268</td>\n",
              "      <td>0.748981</td>\n",
              "      <td>0.707904</td>\n",
              "      <td>0.715876</td>\n",
              "      <td>0.679535</td>\n",
              "      <td>3441356</td>\n",
              "      <td>0.678675</td>\n",
              "      <td>0.670588</td>\n",
              "    </tr>\n",
              "    <tr>\n",
              "      <th>23</th>\n",
              "      <td>23</td>\n",
              "      <td>2020-05-03 00:00:00+00:00</td>\n",
              "      <td>0.714796</td>\n",
              "      <td>0.729801</td>\n",
              "      <td>0.656616</td>\n",
              "      <td>0.679535</td>\n",
              "      <td>0.667491</td>\n",
              "      <td>3328344</td>\n",
              "      <td>0.684965</td>\n",
              "      <td>0.660923</td>\n",
              "    </tr>\n",
              "    <tr>\n",
              "      <th>24</th>\n",
              "      <td>24</td>\n",
              "      <td>2020-05-04 00:00:00+00:00</td>\n",
              "      <td>0.679625</td>\n",
              "      <td>0.705812</td>\n",
              "      <td>0.618434</td>\n",
              "      <td>0.667491</td>\n",
              "      <td>0.641837</td>\n",
              "      <td>3443698</td>\n",
              "      <td>0.698553</td>\n",
              "      <td>0.655668</td>\n",
              "    </tr>\n",
              "    <tr>\n",
              "      <th>...</th>\n",
              "      <td>...</td>\n",
              "      <td>...</td>\n",
              "      <td>...</td>\n",
              "      <td>...</td>\n",
              "      <td>...</td>\n",
              "      <td>...</td>\n",
              "      <td>...</td>\n",
              "      <td>...</td>\n",
              "      <td>...</td>\n",
              "      <td>...</td>\n",
              "    </tr>\n",
              "    <tr>\n",
              "      <th>912</th>\n",
              "      <td>912</td>\n",
              "      <td>2022-10-09 00:00:00+00:00</td>\n",
              "      <td>32.578014</td>\n",
              "      <td>33.103115</td>\n",
              "      <td>32.478024</td>\n",
              "      <td>32.913883</td>\n",
              "      <td>31.970835</td>\n",
              "      <td>405849928</td>\n",
              "      <td>33.285725</td>\n",
              "      <td>32.923070</td>\n",
              "    </tr>\n",
              "    <tr>\n",
              "      <th>913</th>\n",
              "      <td>913</td>\n",
              "      <td>2022-10-10 00:00:00+00:00</td>\n",
              "      <td>32.912937</td>\n",
              "      <td>33.339455</td>\n",
              "      <td>31.970835</td>\n",
              "      <td>31.970835</td>\n",
              "      <td>30.776869</td>\n",
              "      <td>640691958</td>\n",
              "      <td>33.143327</td>\n",
              "      <td>32.889047</td>\n",
              "    </tr>\n",
              "    <tr>\n",
              "      <th>914</th>\n",
              "      <td>914</td>\n",
              "      <td>2022-10-11 00:00:00+00:00</td>\n",
              "      <td>31.966032</td>\n",
              "      <td>31.966032</td>\n",
              "      <td>30.579493</td>\n",
              "      <td>30.776869</td>\n",
              "      <td>31.165485</td>\n",
              "      <td>733071932</td>\n",
              "      <td>32.665384</td>\n",
              "      <td>32.857801</td>\n",
              "    </tr>\n",
              "    <tr>\n",
              "      <th>915</th>\n",
              "      <td>915</td>\n",
              "      <td>2022-10-12 00:00:00+00:00</td>\n",
              "      <td>30.779692</td>\n",
              "      <td>31.460230</td>\n",
              "      <td>30.729170</td>\n",
              "      <td>31.165485</td>\n",
              "      <td>30.544519</td>\n",
              "      <td>490127096</td>\n",
              "      <td>32.249899</td>\n",
              "      <td>32.873949</td>\n",
              "    </tr>\n",
              "    <tr>\n",
              "      <th>916</th>\n",
              "      <td>916</td>\n",
              "      <td>2022-10-13 00:00:00+00:00</td>\n",
              "      <td>31.164413</td>\n",
              "      <td>31.181086</td>\n",
              "      <td>28.197371</td>\n",
              "      <td>30.544519</td>\n",
              "      <td>30.007418</td>\n",
              "      <td>1302451856</td>\n",
              "      <td>31.850142</td>\n",
              "      <td>32.785169</td>\n",
              "    </tr>\n",
              "  </tbody>\n",
              "</table>\n",
              "<p>897 rows × 10 columns</p>\n",
              "</div>\n",
              "      <button class=\"colab-df-convert\" onclick=\"convertToInteractive('df-6c3d1a56-b4d6-44a8-94e9-c6a66994a5c8')\"\n",
              "              title=\"Convert this dataframe to an interactive table.\"\n",
              "              style=\"display:none;\">\n",
              "        \n",
              "  <svg xmlns=\"http://www.w3.org/2000/svg\" height=\"24px\"viewBox=\"0 0 24 24\"\n",
              "       width=\"24px\">\n",
              "    <path d=\"M0 0h24v24H0V0z\" fill=\"none\"/>\n",
              "    <path d=\"M18.56 5.44l.94 2.06.94-2.06 2.06-.94-2.06-.94-.94-2.06-.94 2.06-2.06.94zm-11 1L8.5 8.5l.94-2.06 2.06-.94-2.06-.94L8.5 2.5l-.94 2.06-2.06.94zm10 10l.94 2.06.94-2.06 2.06-.94-2.06-.94-.94-2.06-.94 2.06-2.06.94z\"/><path d=\"M17.41 7.96l-1.37-1.37c-.4-.4-.92-.59-1.43-.59-.52 0-1.04.2-1.43.59L10.3 9.45l-7.72 7.72c-.78.78-.78 2.05 0 2.83L4 21.41c.39.39.9.59 1.41.59.51 0 1.02-.2 1.41-.59l7.78-7.78 2.81-2.81c.8-.78.8-2.07 0-2.86zM5.41 20L4 18.59l7.72-7.72 1.47 1.35L5.41 20z\"/>\n",
              "  </svg>\n",
              "      </button>\n",
              "      \n",
              "  <style>\n",
              "    .colab-df-container {\n",
              "      display:flex;\n",
              "      flex-wrap:wrap;\n",
              "      gap: 12px;\n",
              "    }\n",
              "\n",
              "    .colab-df-convert {\n",
              "      background-color: #E8F0FE;\n",
              "      border: none;\n",
              "      border-radius: 50%;\n",
              "      cursor: pointer;\n",
              "      display: none;\n",
              "      fill: #1967D2;\n",
              "      height: 32px;\n",
              "      padding: 0 0 0 0;\n",
              "      width: 32px;\n",
              "    }\n",
              "\n",
              "    .colab-df-convert:hover {\n",
              "      background-color: #E2EBFA;\n",
              "      box-shadow: 0px 1px 2px rgba(60, 64, 67, 0.3), 0px 1px 3px 1px rgba(60, 64, 67, 0.15);\n",
              "      fill: #174EA6;\n",
              "    }\n",
              "\n",
              "    [theme=dark] .colab-df-convert {\n",
              "      background-color: #3B4455;\n",
              "      fill: #D2E3FC;\n",
              "    }\n",
              "\n",
              "    [theme=dark] .colab-df-convert:hover {\n",
              "      background-color: #434B5C;\n",
              "      box-shadow: 0px 1px 3px 1px rgba(0, 0, 0, 0.15);\n",
              "      filter: drop-shadow(0px 1px 2px rgba(0, 0, 0, 0.3));\n",
              "      fill: #FFFFFF;\n",
              "    }\n",
              "  </style>\n",
              "\n",
              "      <script>\n",
              "        const buttonEl =\n",
              "          document.querySelector('#df-6c3d1a56-b4d6-44a8-94e9-c6a66994a5c8 button.colab-df-convert');\n",
              "        buttonEl.style.display =\n",
              "          google.colab.kernel.accessAllowed ? 'block' : 'none';\n",
              "\n",
              "        async function convertToInteractive(key) {\n",
              "          const element = document.querySelector('#df-6c3d1a56-b4d6-44a8-94e9-c6a66994a5c8');\n",
              "          const dataTable =\n",
              "            await google.colab.kernel.invokeFunction('convertToInteractive',\n",
              "                                                     [key], {});\n",
              "          if (!dataTable) return;\n",
              "\n",
              "          const docLinkHtml = 'Like what you see? Visit the ' +\n",
              "            '<a target=\"_blank\" href=https://colab.research.google.com/notebooks/data_table.ipynb>data table notebook</a>'\n",
              "            + ' to learn more about interactive tables.';\n",
              "          element.innerHTML = '';\n",
              "          dataTable['output_type'] = 'display_data';\n",
              "          await google.colab.output.renderOutput(dataTable, element);\n",
              "          const docLink = document.createElement('div');\n",
              "          docLink.innerHTML = docLinkHtml;\n",
              "          element.appendChild(docLink);\n",
              "        }\n",
              "      </script>\n",
              "    </div>\n",
              "  </div>\n",
              "  "
            ]
          },
          "metadata": {},
          "execution_count": 20
        }
      ]
    },
    {
      "cell_type": "markdown",
      "source": [
        "- Testar se o DataFrame possui dados nulos"
      ],
      "metadata": {
        "id": "8yFxnOQmwDk6"
      }
    },
    {
      "cell_type": "code",
      "source": [
        "assert df_sol.isnull().sum().sum() == 0"
      ],
      "metadata": {
        "id": "Sk84FushxKQy"
      },
      "execution_count": null,
      "outputs": []
    },
    {
      "cell_type": "markdown",
      "source": [
        "- Separar os dados em Treino, Teste e Validação. "
      ],
      "metadata": {
        "id": "zRInT3dbwJvy"
      }
    },
    {
      "cell_type": "code",
      "source": [
        "qtd_linhas = len(df_sol)\n",
        "\n",
        "qtd_linhas_treino= round(.70 * qtd_linhas)\n",
        "qtd_linhas_teste= qtd_linhas - qtd_linhas_treino  \n",
        "qtd_linhas_validacao = qtd_linhas -1\n",
        "\n",
        "info = (\n",
        "    f\"linhas treino= 0:{qtd_linhas_treino}\"\n",
        "    f\" linhas teste= {qtd_linhas_treino}:{qtd_linhas_treino + qtd_linhas_teste -1}\"\n",
        "    f\" linhas validação= {qtd_linhas_validacao}\"\n",
        ")\n",
        "\n",
        "info"
      ],
      "metadata": {
        "colab": {
          "base_uri": "https://localhost:8080/",
          "height": 35
        },
        "id": "km4dWJkRs9AH",
        "outputId": "9b251e52-442e-4ce0-92f5-52c8574eaf10"
      },
      "execution_count": null,
      "outputs": [
        {
          "output_type": "execute_result",
          "data": {
            "text/plain": [
              "'linhas treino= 0:628 linhas teste= 628:896 linhas validação= 896'"
            ],
            "application/vnd.google.colaboratory.intrinsic+json": {
              "type": "string"
            }
          },
          "metadata": {},
          "execution_count": 22
        }
      ]
    },
    {
      "cell_type": "markdown",
      "source": [
        "- Separar a **labels** que será o target a ser encontrado pelo modelo preditivo\n",
        "- Separar as **features** que serão utilizadas para prever o valor final"
      ],
      "metadata": {
        "id": "SO2vROrYxaHK"
      }
    },
    {
      "cell_type": "code",
      "source": [
        "features = df_sol.drop(['Date', 'Adj Close'], 1)\n",
        "labels = df_sol['Adj Close']"
      ],
      "metadata": {
        "colab": {
          "base_uri": "https://localhost:8080/"
        },
        "id": "f2BJx4Gks9DE",
        "outputId": "b252d348-9656-4b2d-e279-843eccaa1aa1"
      },
      "execution_count": null,
      "outputs": [
        {
          "output_type": "stream",
          "name": "stderr",
          "text": [
            "/usr/local/lib/python3.7/dist-packages/ipykernel_launcher.py:1: FutureWarning: In a future version of pandas all arguments of DataFrame.drop except for the argument 'labels' will be keyword-only\n",
            "  \"\"\"Entry point for launching an IPython kernel.\n"
          ]
        }
      ]
    },
    {
      "cell_type": "markdown",
      "source": [
        "- Escolhendo as melhores features com Kbest"
      ],
      "metadata": {
        "id": "accSLbKVx1Ui"
      }
    },
    {
      "cell_type": "code",
      "source": [
        "features_list = ('Date', 'Open', 'High', 'Low', 'Volume', 'mm7d', 'mm21d')\n",
        "\n",
        "selector = SelectKBest(score_func=f_regression, k='all').fit(features, labels)\n",
        "x_new = selector.transform(features)\n",
        "scores = selector.scores_\n",
        "\n",
        "raw_pairs = zip(features_list[1:], scores)\n",
        "ordered_pairs = list(reversed(sorted(raw_pairs, key=lambda x: x[1])))\n",
        "\n",
        "k_best_features_final = dict(ordered_pairs[:15])\n",
        "best_features = k_best_features_final.keys()\n",
        "\n",
        "print(\"Melhores features:\")\n",
        "print(k_best_features_final)"
      ],
      "metadata": {
        "colab": {
          "base_uri": "https://localhost:8080/"
        },
        "id": "WS7D9-cns9Fw",
        "outputId": "724b0ff7-fecf-4c18-a029-bf6780783a67"
      },
      "execution_count": null,
      "outputs": [
        {
          "output_type": "stream",
          "name": "stdout",
          "text": [
            "Melhores features:\n",
            "{'mm7d': 147603.20224571202, 'Low': 111824.29067126891, 'Volume': 85859.39612367052, 'High': 70421.67827667546, 'mm21d': 1061.5688879369977, 'Open': 278.1329975973224}\n"
          ]
        }
      ]
    },
    {
      "cell_type": "markdown",
      "source": [
        "- Separando as features escolhidas, com melhor pontuação"
      ],
      "metadata": {
        "id": "859MDpnVx5aC"
      }
    },
    {
      "cell_type": "code",
      "source": [
        "features = df_sol.loc[:,['mm7d', 'Low', 'Volume', 'High', 'mm21d', 'Open']]\n",
        "features"
      ],
      "metadata": {
        "colab": {
          "base_uri": "https://localhost:8080/",
          "height": 424
        },
        "id": "VZzojRaqu_r-",
        "outputId": "dea8983f-c2df-42b2-970b-0b89c28ff370"
      },
      "execution_count": null,
      "outputs": [
        {
          "output_type": "execute_result",
          "data": {
            "text/plain": [
              "          mm7d        Low      Volume       High      mm21d       Open\n",
              "20    0.654804   0.687881     5016892   0.800816   0.684074   0.747195\n",
              "21    0.668311   0.685903     4164272   0.737071   0.673490   0.691045\n",
              "22    0.678675   0.707904     3441356   0.748981   0.670588   0.727268\n",
              "23    0.684965   0.656616     3328344   0.729801   0.660923   0.714796\n",
              "24    0.698553   0.618434     3443698   0.705812   0.655668   0.679625\n",
              "..         ...        ...         ...        ...        ...        ...\n",
              "912  33.285725  32.478024   405849928  33.103115  32.923070  32.578014\n",
              "913  33.143327  31.970835   640691958  33.339455  32.889047  32.912937\n",
              "914  32.665384  30.579493   733071932  31.966032  32.857801  31.966032\n",
              "915  32.249899  30.729170   490127096  31.460230  32.873949  30.779692\n",
              "916  31.850142  28.197371  1302451856  31.181086  32.785169  31.164413\n",
              "\n",
              "[897 rows x 6 columns]"
            ],
            "text/html": [
              "\n",
              "  <div id=\"df-2528dba7-0a58-4042-953e-917bc9b945cd\">\n",
              "    <div class=\"colab-df-container\">\n",
              "      <div>\n",
              "<style scoped>\n",
              "    .dataframe tbody tr th:only-of-type {\n",
              "        vertical-align: middle;\n",
              "    }\n",
              "\n",
              "    .dataframe tbody tr th {\n",
              "        vertical-align: top;\n",
              "    }\n",
              "\n",
              "    .dataframe thead th {\n",
              "        text-align: right;\n",
              "    }\n",
              "</style>\n",
              "<table border=\"1\" class=\"dataframe\">\n",
              "  <thead>\n",
              "    <tr style=\"text-align: right;\">\n",
              "      <th></th>\n",
              "      <th>mm7d</th>\n",
              "      <th>Low</th>\n",
              "      <th>Volume</th>\n",
              "      <th>High</th>\n",
              "      <th>mm21d</th>\n",
              "      <th>Open</th>\n",
              "    </tr>\n",
              "  </thead>\n",
              "  <tbody>\n",
              "    <tr>\n",
              "      <th>20</th>\n",
              "      <td>0.654804</td>\n",
              "      <td>0.687881</td>\n",
              "      <td>5016892</td>\n",
              "      <td>0.800816</td>\n",
              "      <td>0.684074</td>\n",
              "      <td>0.747195</td>\n",
              "    </tr>\n",
              "    <tr>\n",
              "      <th>21</th>\n",
              "      <td>0.668311</td>\n",
              "      <td>0.685903</td>\n",
              "      <td>4164272</td>\n",
              "      <td>0.737071</td>\n",
              "      <td>0.673490</td>\n",
              "      <td>0.691045</td>\n",
              "    </tr>\n",
              "    <tr>\n",
              "      <th>22</th>\n",
              "      <td>0.678675</td>\n",
              "      <td>0.707904</td>\n",
              "      <td>3441356</td>\n",
              "      <td>0.748981</td>\n",
              "      <td>0.670588</td>\n",
              "      <td>0.727268</td>\n",
              "    </tr>\n",
              "    <tr>\n",
              "      <th>23</th>\n",
              "      <td>0.684965</td>\n",
              "      <td>0.656616</td>\n",
              "      <td>3328344</td>\n",
              "      <td>0.729801</td>\n",
              "      <td>0.660923</td>\n",
              "      <td>0.714796</td>\n",
              "    </tr>\n",
              "    <tr>\n",
              "      <th>24</th>\n",
              "      <td>0.698553</td>\n",
              "      <td>0.618434</td>\n",
              "      <td>3443698</td>\n",
              "      <td>0.705812</td>\n",
              "      <td>0.655668</td>\n",
              "      <td>0.679625</td>\n",
              "    </tr>\n",
              "    <tr>\n",
              "      <th>...</th>\n",
              "      <td>...</td>\n",
              "      <td>...</td>\n",
              "      <td>...</td>\n",
              "      <td>...</td>\n",
              "      <td>...</td>\n",
              "      <td>...</td>\n",
              "    </tr>\n",
              "    <tr>\n",
              "      <th>912</th>\n",
              "      <td>33.285725</td>\n",
              "      <td>32.478024</td>\n",
              "      <td>405849928</td>\n",
              "      <td>33.103115</td>\n",
              "      <td>32.923070</td>\n",
              "      <td>32.578014</td>\n",
              "    </tr>\n",
              "    <tr>\n",
              "      <th>913</th>\n",
              "      <td>33.143327</td>\n",
              "      <td>31.970835</td>\n",
              "      <td>640691958</td>\n",
              "      <td>33.339455</td>\n",
              "      <td>32.889047</td>\n",
              "      <td>32.912937</td>\n",
              "    </tr>\n",
              "    <tr>\n",
              "      <th>914</th>\n",
              "      <td>32.665384</td>\n",
              "      <td>30.579493</td>\n",
              "      <td>733071932</td>\n",
              "      <td>31.966032</td>\n",
              "      <td>32.857801</td>\n",
              "      <td>31.966032</td>\n",
              "    </tr>\n",
              "    <tr>\n",
              "      <th>915</th>\n",
              "      <td>32.249899</td>\n",
              "      <td>30.729170</td>\n",
              "      <td>490127096</td>\n",
              "      <td>31.460230</td>\n",
              "      <td>32.873949</td>\n",
              "      <td>30.779692</td>\n",
              "    </tr>\n",
              "    <tr>\n",
              "      <th>916</th>\n",
              "      <td>31.850142</td>\n",
              "      <td>28.197371</td>\n",
              "      <td>1302451856</td>\n",
              "      <td>31.181086</td>\n",
              "      <td>32.785169</td>\n",
              "      <td>31.164413</td>\n",
              "    </tr>\n",
              "  </tbody>\n",
              "</table>\n",
              "<p>897 rows × 6 columns</p>\n",
              "</div>\n",
              "      <button class=\"colab-df-convert\" onclick=\"convertToInteractive('df-2528dba7-0a58-4042-953e-917bc9b945cd')\"\n",
              "              title=\"Convert this dataframe to an interactive table.\"\n",
              "              style=\"display:none;\">\n",
              "        \n",
              "  <svg xmlns=\"http://www.w3.org/2000/svg\" height=\"24px\"viewBox=\"0 0 24 24\"\n",
              "       width=\"24px\">\n",
              "    <path d=\"M0 0h24v24H0V0z\" fill=\"none\"/>\n",
              "    <path d=\"M18.56 5.44l.94 2.06.94-2.06 2.06-.94-2.06-.94-.94-2.06-.94 2.06-2.06.94zm-11 1L8.5 8.5l.94-2.06 2.06-.94-2.06-.94L8.5 2.5l-.94 2.06-2.06.94zm10 10l.94 2.06.94-2.06 2.06-.94-2.06-.94-.94-2.06-.94 2.06-2.06.94z\"/><path d=\"M17.41 7.96l-1.37-1.37c-.4-.4-.92-.59-1.43-.59-.52 0-1.04.2-1.43.59L10.3 9.45l-7.72 7.72c-.78.78-.78 2.05 0 2.83L4 21.41c.39.39.9.59 1.41.59.51 0 1.02-.2 1.41-.59l7.78-7.78 2.81-2.81c.8-.78.8-2.07 0-2.86zM5.41 20L4 18.59l7.72-7.72 1.47 1.35L5.41 20z\"/>\n",
              "  </svg>\n",
              "      </button>\n",
              "      \n",
              "  <style>\n",
              "    .colab-df-container {\n",
              "      display:flex;\n",
              "      flex-wrap:wrap;\n",
              "      gap: 12px;\n",
              "    }\n",
              "\n",
              "    .colab-df-convert {\n",
              "      background-color: #E8F0FE;\n",
              "      border: none;\n",
              "      border-radius: 50%;\n",
              "      cursor: pointer;\n",
              "      display: none;\n",
              "      fill: #1967D2;\n",
              "      height: 32px;\n",
              "      padding: 0 0 0 0;\n",
              "      width: 32px;\n",
              "    }\n",
              "\n",
              "    .colab-df-convert:hover {\n",
              "      background-color: #E2EBFA;\n",
              "      box-shadow: 0px 1px 2px rgba(60, 64, 67, 0.3), 0px 1px 3px 1px rgba(60, 64, 67, 0.15);\n",
              "      fill: #174EA6;\n",
              "    }\n",
              "\n",
              "    [theme=dark] .colab-df-convert {\n",
              "      background-color: #3B4455;\n",
              "      fill: #D2E3FC;\n",
              "    }\n",
              "\n",
              "    [theme=dark] .colab-df-convert:hover {\n",
              "      background-color: #434B5C;\n",
              "      box-shadow: 0px 1px 3px 1px rgba(0, 0, 0, 0.15);\n",
              "      filter: drop-shadow(0px 1px 2px rgba(0, 0, 0, 0.3));\n",
              "      fill: #FFFFFF;\n",
              "    }\n",
              "  </style>\n",
              "\n",
              "      <script>\n",
              "        const buttonEl =\n",
              "          document.querySelector('#df-2528dba7-0a58-4042-953e-917bc9b945cd button.colab-df-convert');\n",
              "        buttonEl.style.display =\n",
              "          google.colab.kernel.accessAllowed ? 'block' : 'none';\n",
              "\n",
              "        async function convertToInteractive(key) {\n",
              "          const element = document.querySelector('#df-2528dba7-0a58-4042-953e-917bc9b945cd');\n",
              "          const dataTable =\n",
              "            await google.colab.kernel.invokeFunction('convertToInteractive',\n",
              "                                                     [key], {});\n",
              "          if (!dataTable) return;\n",
              "\n",
              "          const docLinkHtml = 'Like what you see? Visit the ' +\n",
              "            '<a target=\"_blank\" href=https://colab.research.google.com/notebooks/data_table.ipynb>data table notebook</a>'\n",
              "            + ' to learn more about interactive tables.';\n",
              "          element.innerHTML = '';\n",
              "          dataTable['output_type'] = 'display_data';\n",
              "          await google.colab.output.renderOutput(dataTable, element);\n",
              "          const docLink = document.createElement('div');\n",
              "          docLink.innerHTML = docLinkHtml;\n",
              "          element.appendChild(docLink);\n",
              "        }\n",
              "      </script>\n",
              "    </div>\n",
              "  </div>\n",
              "  "
            ]
          },
          "metadata": {},
          "execution_count": 41
        }
      ]
    },
    {
      "cell_type": "markdown",
      "source": [
        "- Criando Pipeline"
      ],
      "metadata": {
        "id": "R0muN60Nm9ft"
      }
    },
    {
      "cell_type": "code",
      "source": [
        "pipeline_linear_regression = make_pipeline(MinMaxScaler(), LinearRegression())"
      ],
      "metadata": {
        "id": "nhzFEDP1myuc"
      },
      "execution_count": null,
      "outputs": []
    },
    {
      "cell_type": "markdown",
      "source": [],
      "metadata": {
        "id": "Ok2GPU77yDhq"
      }
    },
    {
      "cell_type": "markdown",
      "source": [
        "- Separa os dados de treino teste e validação"
      ],
      "metadata": {
        "id": "vuH9rqRkyFqq"
      }
    },
    {
      "cell_type": "code",
      "source": [
        "X_train = features[:qtd_linhas_treino]\n",
        "X_test = features[qtd_linhas_treino:qtd_linhas_treino + qtd_linhas_teste -1]\n",
        "\n",
        "y_train = labels[:qtd_linhas_treino]\n",
        "y_test = labels[qtd_linhas_treino:qtd_linhas_treino + qtd_linhas_teste -1]\n",
        "\n",
        "print( len(X_train), len(y_train))\n",
        "\n",
        "print( len(X_test), len(y_test))"
      ],
      "metadata": {
        "colab": {
          "base_uri": "https://localhost:8080/"
        },
        "id": "WSkeTZq9u_ut",
        "outputId": "5ef115db-5dd3-457e-940c-59206e928be7"
      },
      "execution_count": null,
      "outputs": [
        {
          "output_type": "stream",
          "name": "stdout",
          "text": [
            "628 628\n",
            "268 268\n"
          ]
        }
      ]
    },
    {
      "cell_type": "markdown",
      "source": [
        "- Treina modelo"
      ],
      "metadata": {
        "id": "w3oopIFM8CGs"
      }
    },
    {
      "cell_type": "code",
      "source": [
        "pipeline_linear_regression.fit(X_train, y_train)"
      ],
      "metadata": {
        "colab": {
          "base_uri": "https://localhost:8080/"
        },
        "id": "mbdd4IOunOuJ",
        "outputId": "d6a9eb3e-2346-4434-db1e-9bef7557be2f"
      },
      "execution_count": null,
      "outputs": [
        {
          "output_type": "execute_result",
          "data": {
            "text/plain": [
              "Pipeline(steps=[('minmaxscaler', MinMaxScaler()),\n",
              "                ('linearregression', LinearRegression())])"
            ]
          },
          "metadata": {},
          "execution_count": 44
        }
      ]
    },
    {
      "cell_type": "markdown",
      "source": [
        "- Confere "
      ],
      "metadata": {
        "id": "yTVOPZ-c8F6D"
      }
    },
    {
      "cell_type": "code",
      "source": [
        "score_model = pipeline_linear_regression.score(X_test, y_test)\n",
        "f'Teste pontuação para avaliar a consistência do modelo: {score_model * 100:.2f}%'"
      ],
      "metadata": {
        "colab": {
          "base_uri": "https://localhost:8080/",
          "height": 35
        },
        "id": "3CA1WtRInY05",
        "outputId": "f80b58e9-fac5-4fd8-bc04-ee5c02c88802"
      },
      "execution_count": null,
      "outputs": [
        {
          "output_type": "execute_result",
          "data": {
            "text/plain": [
              "'Teste pontuação para avaliar a consistência do modelo: 97.65%'"
            ],
            "application/vnd.google.colaboratory.intrinsic+json": {
              "type": "string"
            }
          },
          "metadata": {},
          "execution_count": 45
        }
      ]
    },
    {
      "cell_type": "markdown",
      "source": [
        "- Pega último dado do dataframe"
      ],
      "metadata": {
        "id": "PMAgF8RO8O7F"
      }
    },
    {
      "cell_type": "code",
      "source": [
        "data_pred = ['mm7d', 'Low', 'Volume', 'High', 'mm21d', 'Open']\n",
        "df_sol.tail(1)"
      ],
      "metadata": {
        "colab": {
          "base_uri": "https://localhost:8080/",
          "height": 81
        },
        "id": "lioyLP9en1OB",
        "outputId": "9c82c7d2-b20c-4097-c37b-b89f6371d353"
      },
      "execution_count": null,
      "outputs": [
        {
          "output_type": "execute_result",
          "data": {
            "text/plain": [
              "     index                      Date       Open       High        Low  \\\n",
              "916    916 2022-10-13 00:00:00+00:00  31.164413  31.181086  28.197371   \n",
              "\n",
              "         Close  Adj Close      Volume       mm7d      mm21d  \n",
              "916  30.544519  30.007418  1302451856  31.850142  32.785169  "
            ],
            "text/html": [
              "\n",
              "  <div id=\"df-dbbc4006-47c3-409d-a091-2bf89762369d\">\n",
              "    <div class=\"colab-df-container\">\n",
              "      <div>\n",
              "<style scoped>\n",
              "    .dataframe tbody tr th:only-of-type {\n",
              "        vertical-align: middle;\n",
              "    }\n",
              "\n",
              "    .dataframe tbody tr th {\n",
              "        vertical-align: top;\n",
              "    }\n",
              "\n",
              "    .dataframe thead th {\n",
              "        text-align: right;\n",
              "    }\n",
              "</style>\n",
              "<table border=\"1\" class=\"dataframe\">\n",
              "  <thead>\n",
              "    <tr style=\"text-align: right;\">\n",
              "      <th></th>\n",
              "      <th>index</th>\n",
              "      <th>Date</th>\n",
              "      <th>Open</th>\n",
              "      <th>High</th>\n",
              "      <th>Low</th>\n",
              "      <th>Close</th>\n",
              "      <th>Adj Close</th>\n",
              "      <th>Volume</th>\n",
              "      <th>mm7d</th>\n",
              "      <th>mm21d</th>\n",
              "    </tr>\n",
              "  </thead>\n",
              "  <tbody>\n",
              "    <tr>\n",
              "      <th>916</th>\n",
              "      <td>916</td>\n",
              "      <td>2022-10-13 00:00:00+00:00</td>\n",
              "      <td>31.164413</td>\n",
              "      <td>31.181086</td>\n",
              "      <td>28.197371</td>\n",
              "      <td>30.544519</td>\n",
              "      <td>30.007418</td>\n",
              "      <td>1302451856</td>\n",
              "      <td>31.850142</td>\n",
              "      <td>32.785169</td>\n",
              "    </tr>\n",
              "  </tbody>\n",
              "</table>\n",
              "</div>\n",
              "      <button class=\"colab-df-convert\" onclick=\"convertToInteractive('df-dbbc4006-47c3-409d-a091-2bf89762369d')\"\n",
              "              title=\"Convert this dataframe to an interactive table.\"\n",
              "              style=\"display:none;\">\n",
              "        \n",
              "  <svg xmlns=\"http://www.w3.org/2000/svg\" height=\"24px\"viewBox=\"0 0 24 24\"\n",
              "       width=\"24px\">\n",
              "    <path d=\"M0 0h24v24H0V0z\" fill=\"none\"/>\n",
              "    <path d=\"M18.56 5.44l.94 2.06.94-2.06 2.06-.94-2.06-.94-.94-2.06-.94 2.06-2.06.94zm-11 1L8.5 8.5l.94-2.06 2.06-.94-2.06-.94L8.5 2.5l-.94 2.06-2.06.94zm10 10l.94 2.06.94-2.06 2.06-.94-2.06-.94-.94-2.06-.94 2.06-2.06.94z\"/><path d=\"M17.41 7.96l-1.37-1.37c-.4-.4-.92-.59-1.43-.59-.52 0-1.04.2-1.43.59L10.3 9.45l-7.72 7.72c-.78.78-.78 2.05 0 2.83L4 21.41c.39.39.9.59 1.41.59.51 0 1.02-.2 1.41-.59l7.78-7.78 2.81-2.81c.8-.78.8-2.07 0-2.86zM5.41 20L4 18.59l7.72-7.72 1.47 1.35L5.41 20z\"/>\n",
              "  </svg>\n",
              "      </button>\n",
              "      \n",
              "  <style>\n",
              "    .colab-df-container {\n",
              "      display:flex;\n",
              "      flex-wrap:wrap;\n",
              "      gap: 12px;\n",
              "    }\n",
              "\n",
              "    .colab-df-convert {\n",
              "      background-color: #E8F0FE;\n",
              "      border: none;\n",
              "      border-radius: 50%;\n",
              "      cursor: pointer;\n",
              "      display: none;\n",
              "      fill: #1967D2;\n",
              "      height: 32px;\n",
              "      padding: 0 0 0 0;\n",
              "      width: 32px;\n",
              "    }\n",
              "\n",
              "    .colab-df-convert:hover {\n",
              "      background-color: #E2EBFA;\n",
              "      box-shadow: 0px 1px 2px rgba(60, 64, 67, 0.3), 0px 1px 3px 1px rgba(60, 64, 67, 0.15);\n",
              "      fill: #174EA6;\n",
              "    }\n",
              "\n",
              "    [theme=dark] .colab-df-convert {\n",
              "      background-color: #3B4455;\n",
              "      fill: #D2E3FC;\n",
              "    }\n",
              "\n",
              "    [theme=dark] .colab-df-convert:hover {\n",
              "      background-color: #434B5C;\n",
              "      box-shadow: 0px 1px 3px 1px rgba(0, 0, 0, 0.15);\n",
              "      filter: drop-shadow(0px 1px 2px rgba(0, 0, 0, 0.3));\n",
              "      fill: #FFFFFF;\n",
              "    }\n",
              "  </style>\n",
              "\n",
              "      <script>\n",
              "        const buttonEl =\n",
              "          document.querySelector('#df-dbbc4006-47c3-409d-a091-2bf89762369d button.colab-df-convert');\n",
              "        buttonEl.style.display =\n",
              "          google.colab.kernel.accessAllowed ? 'block' : 'none';\n",
              "\n",
              "        async function convertToInteractive(key) {\n",
              "          const element = document.querySelector('#df-dbbc4006-47c3-409d-a091-2bf89762369d');\n",
              "          const dataTable =\n",
              "            await google.colab.kernel.invokeFunction('convertToInteractive',\n",
              "                                                     [key], {});\n",
              "          if (!dataTable) return;\n",
              "\n",
              "          const docLinkHtml = 'Like what you see? Visit the ' +\n",
              "            '<a target=\"_blank\" href=https://colab.research.google.com/notebooks/data_table.ipynb>data table notebook</a>'\n",
              "            + ' to learn more about interactive tables.';\n",
              "          element.innerHTML = '';\n",
              "          dataTable['output_type'] = 'display_data';\n",
              "          await google.colab.output.renderOutput(dataTable, element);\n",
              "          const docLink = document.createElement('div');\n",
              "          docLink.innerHTML = docLinkHtml;\n",
              "          element.appendChild(docLink);\n",
              "        }\n",
              "      </script>\n",
              "    </div>\n",
              "  </div>\n",
              "  "
            ]
          },
          "metadata": {},
          "execution_count": 47
        }
      ]
    },
    {
      "cell_type": "markdown",
      "source": [
        "- Testar a predição"
      ],
      "metadata": {
        "id": "EbKjFx4L8XBU"
      }
    },
    {
      "cell_type": "code",
      "source": [
        "pipeline_linear_regression.predict(df_sol.tail(1)[data_pred])"
      ],
      "metadata": {
        "colab": {
          "base_uri": "https://localhost:8080/"
        },
        "id": "LhP_P8ppnYoZ",
        "outputId": "b6aa331d-7fd8-414d-9ce3-290bb50481c0"
      },
      "execution_count": null,
      "outputs": [
        {
          "output_type": "execute_result",
          "data": {
            "text/plain": [
              "array([28.81900095])"
            ]
          },
          "metadata": {},
          "execution_count": 48
        }
      ]
    },
    {
      "cell_type": "markdown",
      "source": [
        "- Realizar a predição com os dados de testes(dados que o modelo desconhece)"
      ],
      "metadata": {
        "id": "jW34sUhzA7Sc"
      }
    },
    {
      "cell_type": "code",
      "source": [
        "previsao = features[qtd_linhas_treino:qtd_linhas_treino + qtd_linhas_teste -1]\n",
        "\n",
        "data_btc_full=df_sol[\"Date\"]\n",
        "data_btc = data_btc_full[qtd_linhas_treino:qtd_linhas_treino + qtd_linhas_teste -1]\n",
        "\n",
        "res_full = df_sol[\"Adj Close\"]\n",
        "res = res_full[qtd_linhas_treino:qtd_linhas_treino + qtd_linhas_teste -1]\n",
        "\n",
        "\n",
        "predict2 = pipeline_linear_regression.predict(previsao)\n",
        "\n",
        "\n",
        "df = pd.DataFrame({ \"data_solana\": data_btc, \"real\": res , \"previsao\": predict2 })\n",
        "\n",
        "df[\"real\"] = df[\"real\"].shift(+1)\n",
        "\n",
        "df.set_index(\"data_solana\", inplace= True)\n",
        "\n",
        "df.tail()\n",
        "\n"
      ],
      "metadata": {
        "colab": {
          "base_uri": "https://localhost:8080/",
          "height": 238
        },
        "id": "xvcNFxHL6RED",
        "outputId": "12d784d7-2421-437e-d314-bb12d8132b7d"
      },
      "execution_count": null,
      "outputs": [
        {
          "output_type": "execute_result",
          "data": {
            "text/plain": [
              "                                real   previsao\n",
              "data_solana                                    \n",
              "2022-10-08 00:00:00+00:00  32.577934  31.820048\n",
              "2022-10-09 00:00:00+00:00  32.913883  32.178620\n",
              "2022-10-10 00:00:00+00:00  31.970835  31.951566\n",
              "2022-10-11 00:00:00+00:00  30.776869  30.373684\n",
              "2022-10-12 00:00:00+00:00  31.165485  30.644210"
            ],
            "text/html": [
              "\n",
              "  <div id=\"df-fca826d3-b0ef-410b-b0cb-794a4bbf891a\">\n",
              "    <div class=\"colab-df-container\">\n",
              "      <div>\n",
              "<style scoped>\n",
              "    .dataframe tbody tr th:only-of-type {\n",
              "        vertical-align: middle;\n",
              "    }\n",
              "\n",
              "    .dataframe tbody tr th {\n",
              "        vertical-align: top;\n",
              "    }\n",
              "\n",
              "    .dataframe thead th {\n",
              "        text-align: right;\n",
              "    }\n",
              "</style>\n",
              "<table border=\"1\" class=\"dataframe\">\n",
              "  <thead>\n",
              "    <tr style=\"text-align: right;\">\n",
              "      <th></th>\n",
              "      <th>real</th>\n",
              "      <th>previsao</th>\n",
              "    </tr>\n",
              "    <tr>\n",
              "      <th>data_solana</th>\n",
              "      <th></th>\n",
              "      <th></th>\n",
              "    </tr>\n",
              "  </thead>\n",
              "  <tbody>\n",
              "    <tr>\n",
              "      <th>2022-10-08 00:00:00+00:00</th>\n",
              "      <td>32.577934</td>\n",
              "      <td>31.820048</td>\n",
              "    </tr>\n",
              "    <tr>\n",
              "      <th>2022-10-09 00:00:00+00:00</th>\n",
              "      <td>32.913883</td>\n",
              "      <td>32.178620</td>\n",
              "    </tr>\n",
              "    <tr>\n",
              "      <th>2022-10-10 00:00:00+00:00</th>\n",
              "      <td>31.970835</td>\n",
              "      <td>31.951566</td>\n",
              "    </tr>\n",
              "    <tr>\n",
              "      <th>2022-10-11 00:00:00+00:00</th>\n",
              "      <td>30.776869</td>\n",
              "      <td>30.373684</td>\n",
              "    </tr>\n",
              "    <tr>\n",
              "      <th>2022-10-12 00:00:00+00:00</th>\n",
              "      <td>31.165485</td>\n",
              "      <td>30.644210</td>\n",
              "    </tr>\n",
              "  </tbody>\n",
              "</table>\n",
              "</div>\n",
              "      <button class=\"colab-df-convert\" onclick=\"convertToInteractive('df-fca826d3-b0ef-410b-b0cb-794a4bbf891a')\"\n",
              "              title=\"Convert this dataframe to an interactive table.\"\n",
              "              style=\"display:none;\">\n",
              "        \n",
              "  <svg xmlns=\"http://www.w3.org/2000/svg\" height=\"24px\"viewBox=\"0 0 24 24\"\n",
              "       width=\"24px\">\n",
              "    <path d=\"M0 0h24v24H0V0z\" fill=\"none\"/>\n",
              "    <path d=\"M18.56 5.44l.94 2.06.94-2.06 2.06-.94-2.06-.94-.94-2.06-.94 2.06-2.06.94zm-11 1L8.5 8.5l.94-2.06 2.06-.94-2.06-.94L8.5 2.5l-.94 2.06-2.06.94zm10 10l.94 2.06.94-2.06 2.06-.94-2.06-.94-.94-2.06-.94 2.06-2.06.94z\"/><path d=\"M17.41 7.96l-1.37-1.37c-.4-.4-.92-.59-1.43-.59-.52 0-1.04.2-1.43.59L10.3 9.45l-7.72 7.72c-.78.78-.78 2.05 0 2.83L4 21.41c.39.39.9.59 1.41.59.51 0 1.02-.2 1.41-.59l7.78-7.78 2.81-2.81c.8-.78.8-2.07 0-2.86zM5.41 20L4 18.59l7.72-7.72 1.47 1.35L5.41 20z\"/>\n",
              "  </svg>\n",
              "      </button>\n",
              "      \n",
              "  <style>\n",
              "    .colab-df-container {\n",
              "      display:flex;\n",
              "      flex-wrap:wrap;\n",
              "      gap: 12px;\n",
              "    }\n",
              "\n",
              "    .colab-df-convert {\n",
              "      background-color: #E8F0FE;\n",
              "      border: none;\n",
              "      border-radius: 50%;\n",
              "      cursor: pointer;\n",
              "      display: none;\n",
              "      fill: #1967D2;\n",
              "      height: 32px;\n",
              "      padding: 0 0 0 0;\n",
              "      width: 32px;\n",
              "    }\n",
              "\n",
              "    .colab-df-convert:hover {\n",
              "      background-color: #E2EBFA;\n",
              "      box-shadow: 0px 1px 2px rgba(60, 64, 67, 0.3), 0px 1px 3px 1px rgba(60, 64, 67, 0.15);\n",
              "      fill: #174EA6;\n",
              "    }\n",
              "\n",
              "    [theme=dark] .colab-df-convert {\n",
              "      background-color: #3B4455;\n",
              "      fill: #D2E3FC;\n",
              "    }\n",
              "\n",
              "    [theme=dark] .colab-df-convert:hover {\n",
              "      background-color: #434B5C;\n",
              "      box-shadow: 0px 1px 3px 1px rgba(0, 0, 0, 0.15);\n",
              "      filter: drop-shadow(0px 1px 2px rgba(0, 0, 0, 0.3));\n",
              "      fill: #FFFFFF;\n",
              "    }\n",
              "  </style>\n",
              "\n",
              "      <script>\n",
              "        const buttonEl =\n",
              "          document.querySelector('#df-fca826d3-b0ef-410b-b0cb-794a4bbf891a button.colab-df-convert');\n",
              "        buttonEl.style.display =\n",
              "          google.colab.kernel.accessAllowed ? 'block' : 'none';\n",
              "\n",
              "        async function convertToInteractive(key) {\n",
              "          const element = document.querySelector('#df-fca826d3-b0ef-410b-b0cb-794a4bbf891a');\n",
              "          const dataTable =\n",
              "            await google.colab.kernel.invokeFunction('convertToInteractive',\n",
              "                                                     [key], {});\n",
              "          if (!dataTable) return;\n",
              "\n",
              "          const docLinkHtml = 'Like what you see? Visit the ' +\n",
              "            '<a target=\"_blank\" href=https://colab.research.google.com/notebooks/data_table.ipynb>data table notebook</a>'\n",
              "            + ' to learn more about interactive tables.';\n",
              "          element.innerHTML = '';\n",
              "          dataTable['output_type'] = 'display_data';\n",
              "          await google.colab.output.renderOutput(dataTable, element);\n",
              "          const docLink = document.createElement('div');\n",
              "          docLink.innerHTML = docLinkHtml;\n",
              "          element.appendChild(docLink);\n",
              "        }\n",
              "      </script>\n",
              "    </div>\n",
              "  </div>\n",
              "  "
            ]
          },
          "metadata": {},
          "execution_count": 50
        }
      ]
    },
    {
      "cell_type": "markdown",
      "source": [
        "- Plotar os resultados"
      ],
      "metadata": {
        "id": "gFLwsKCnBJ28"
      }
    },
    {
      "cell_type": "code",
      "source": [
        "plt.figure(figsize=(25,12))\n",
        "plt.title(\"Analise preço solana com dados de teste\")\n",
        "plt.plot(df[\"real\"], label=\"real\", color=\"blue\")\n",
        "plt.plot(df[\"previsao\"], label=\"previsao\", color=\"red\")\n",
        "plt.xlabel(\"Data\")\n",
        "plt.ylabel(\"Preço de Fechamento\")\n",
        "leg = plt.legend()"
      ],
      "metadata": {
        "colab": {
          "base_uri": "https://localhost:8080/",
          "height": 734
        },
        "id": "BADKUbAvva-J",
        "outputId": "17206855-a6f0-467e-a94b-d66a2610f468"
      },
      "execution_count": null,
      "outputs": [
        {
          "output_type": "display_data",
          "data": {
            "text/plain": [
              "<Figure size 1800x864 with 1 Axes>"
            ],
            "image/png": "[encoded data removed]"
          },
          "metadata": {
            "needs_background": "light"
          }
        }
      ]
    },
    {
      "cell_type": "code",
      "source": [
        "sns.set_style('whitegrid')\n",
        "sns.set(rc={'figure.figsize':(24, 12)})\n",
        "sns.regplot(x =\"real\", y =\"previsao\", data = df, ci=False, order=2)"
      ],
      "metadata": {
        "colab": {
          "base_uri": "https://localhost:8080/",
          "height": 737
        },
        "id": "3iczwjHLsnNo",
        "outputId": "9977581c-55a9-4e3e-9094-415fcfd70d19"
      },
      "execution_count": null,
      "outputs": [
        {
          "output_type": "execute_result",
          "data": {
            "text/plain": [
              "<matplotlib.axes._subplots.AxesSubplot at 0x7f3fc6d429d0>"
            ]
          },
          "metadata": {},
          "execution_count": 52
        },
        {
          "output_type": "display_data",
          "data": {
            "text/plain": [
              "<Figure size 1728x864 with 1 Axes>"
            ],
            "image/png": "[encoded data removed]"
          },
          "metadata": {}
        }
      ]
    },
    {
      "cell_type": "markdown",
      "source": [
        "- Export modelo preditivo "
      ],
      "metadata": {
        "id": "ym9fUM-5x-gj"
      }
    },
    {
      "cell_type": "code",
      "source": [
        "joblib.dump(pipeline_linear_regression, 'pipeline_linear_regression.pk1')"
      ],
      "metadata": {
        "id": "pyu5yBRFsnTp",
        "colab": {
          "base_uri": "https://localhost:8080/"
        },
        "outputId": "48003b93-926c-4e83-c15e-4cafe96702f8"
      },
      "execution_count": null,
      "outputs": [
        {
          "output_type": "execute_result",
          "data": {
            "text/plain": [
              "['pipeline_linear_regression.pk1']"
            ]
          },
          "metadata": {},
          "execution_count": 40
        }
      ]
    },
    {
      "cell_type": "markdown",
      "source": [
        "- Import modelo preditivo"
      ],
      "metadata": {
        "id": "x6qezcv5yBlL"
      }
    },
    {
      "cell_type": "code",
      "source": [
        "model = joblib.load('pipeline_linear_regression.pkl')"
      ],
      "metadata": {
        "id": "eobLnSMHIt13"
      },
      "execution_count": null,
      "outputs": []
    },
    {
      "cell_type": "code",
      "source": [],
      "metadata": {
        "id": "sKtWqU-oJeaN"
      },
      "execution_count": null,
      "outputs": []
    },
    {
      "cell_type": "code",
      "source": [],
      "metadata": {
        "id": "q3lv6P2RJmK5"
      },
      "execution_count": null,
      "outputs": []
    }
  ]
}