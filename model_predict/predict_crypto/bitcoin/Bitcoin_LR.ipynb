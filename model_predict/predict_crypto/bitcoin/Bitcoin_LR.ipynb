{
  "nbformat": 4,
  "nbformat_minor": 0,
  "metadata": {
    "colab": {
      "provenance": [],
      "collapsed_sections": [],
      "include_colab_link": true
    },
    "kernelspec": {
      "name": "python3",
      "display_name": "Python 3"
    },
    "language_info": {
      "name": "python"
    }
  },
  "cells": [
    {
      "cell_type": "markdown",
      "metadata": {
        "id": "view-in-github",
        "colab_type": "text"
      },
      "source": [
        "<a href=\"https://colab.research.google.com/github/fabriciocovalesci/tcc_predict_crypto/blob/main/model_predict/predict_crypto/bitcoin/Bitcoin_LR.ipynb\" target=\"_parent\"><img src=\"https://colab.research.google.com/assets/colab-badge.svg\" alt=\"Open In Colab\"/></a>"
      ]
    },
    {
      "cell_type": "markdown",
      "source": [
        "### Modelo preditivo Bitcoin"
      ],
      "metadata": {
        "id": "LnhRNFDuuqQj"
      }
    },
    {
      "cell_type": "markdown",
      "source": [
        "- Instalar biblioteca **yfinance**"
      ],
      "metadata": {
        "id": "9aH0e44yuqIl"
      }
    },
    {
      "cell_type": "code",
      "execution_count": null,
      "metadata": {
        "colab": {
          "base_uri": "https://localhost:8080/",
          "height": 520
        },
        "id": "XI7yeySJr7dG",
        "outputId": "248da148-82c8-43b9-d56e-4e3b1b87ac12"
      },
      "outputs": [
        {
          "output_type": "stream",
          "name": "stdout",
          "text": [
            "Looking in indexes: https://pypi.org/simple, https://us-python.pkg.dev/colab-wheels/public/simple/\n",
            "Collecting yfinance\n",
            "  Downloading yfinance-0.1.84-py2.py3-none-any.whl (29 kB)\n",
            "Requirement already satisfied: appdirs>=1.4.4 in /usr/local/lib/python3.7/dist-packages (from yfinance) (1.4.4)\n",
            "Requirement already satisfied: pandas>=0.24.0 in /usr/local/lib/python3.7/dist-packages (from yfinance) (1.3.5)\n",
            "Requirement already satisfied: lxml>=4.5.1 in /usr/local/lib/python3.7/dist-packages (from yfinance) (4.9.1)\n",
            "Requirement already satisfied: multitasking>=0.0.7 in /usr/local/lib/python3.7/dist-packages (from yfinance) (0.0.11)\n",
            "Requirement already satisfied: numpy>=1.15 in /usr/local/lib/python3.7/dist-packages (from yfinance) (1.21.6)\n",
            "Collecting requests>=2.26\n",
            "  Downloading requests-2.28.1-py3-none-any.whl (62 kB)\n",
            "\u001b[K     |████████████████████████████████| 62 kB 8.5 MB/s \n",
            "\u001b[?25hRequirement already satisfied: pytz>=2017.3 in /usr/local/lib/python3.7/dist-packages (from pandas>=0.24.0->yfinance) (2022.5)\n",
            "Requirement already satisfied: python-dateutil>=2.7.3 in /usr/local/lib/python3.7/dist-packages (from pandas>=0.24.0->yfinance) (2.8.2)\n",
            "Requirement already satisfied: six>=1.5 in /usr/local/lib/python3.7/dist-packages (from python-dateutil>=2.7.3->pandas>=0.24.0->yfinance) (1.15.0)\n",
            "Requirement already satisfied: certifi>=2017.4.17 in /usr/local/lib/python3.7/dist-packages (from requests>=2.26->yfinance) (2022.9.24)\n",
            "Requirement already satisfied: charset-normalizer<3,>=2 in /usr/local/lib/python3.7/dist-packages (from requests>=2.26->yfinance) (2.1.1)\n",
            "Requirement already satisfied: urllib3<1.27,>=1.21.1 in /usr/local/lib/python3.7/dist-packages (from requests>=2.26->yfinance) (1.24.3)\n",
            "Requirement already satisfied: idna<4,>=2.5 in /usr/local/lib/python3.7/dist-packages (from requests>=2.26->yfinance) (2.10)\n",
            "Installing collected packages: requests, yfinance\n",
            "  Attempting uninstall: requests\n",
            "    Found existing installation: requests 2.23.0\n",
            "    Uninstalling requests-2.23.0:\n",
            "      Successfully uninstalled requests-2.23.0\n",
            "Successfully installed requests-2.28.1 yfinance-0.1.84\n"
          ]
        },
        {
          "output_type": "display_data",
          "data": {
            "application/vnd.colab-display-data+json": {
              "pip_warning": {
                "packages": [
                  "requests"
                ]
              }
            }
          },
          "metadata": {}
        }
      ],
      "source": [
        "!pip install yfinance --upgrade --no-cache-dir "
      ]
    },
    {
      "cell_type": "markdown",
      "source": [
        "- Importar bibliotecas de manipulação de dados"
      ],
      "metadata": {
        "id": "pEmfJP70u4O6"
      }
    },
    {
      "cell_type": "code",
      "source": [
        "import pandas as pd\n",
        "import numpy as np\n",
        "import yfinance as yf"
      ],
      "metadata": {
        "id": "wcxpjo8msA5L"
      },
      "execution_count": null,
      "outputs": []
    },
    {
      "cell_type": "markdown",
      "source": [
        "- Importar bibliotecas realizar as predições"
      ],
      "metadata": {
        "id": "nGxQC0Rmu_Wi"
      }
    },
    {
      "cell_type": "code",
      "source": [
        "from sklearn.feature_selection import SelectKBest\n",
        "from sklearn.model_selection import GridSearchCV\n",
        "from sklearn.neural_network import MLPRegressor\n",
        "from sklearn.preprocessing import MinMaxScaler\n",
        "from sklearn import datasets, linear_model\n",
        "from sklearn.metrics import mean_squared_error, r2_score, mean_absolute_error, accuracy_score, confusion_matrix, precision_score\n",
        "from sklearn.model_selection import train_test_split\n",
        "from sklearn.linear_model import LinearRegression\n",
        "from sklearn.pipeline import Pipeline, make_pipeline\n",
        "import joblib"
      ],
      "metadata": {
        "id": "YvTLcAqquVuv"
      },
      "execution_count": null,
      "outputs": []
    },
    {
      "cell_type": "markdown",
      "source": [
        "- Importar bibliotecas para plotar gráficos"
      ],
      "metadata": {
        "id": "WIh3Dk45vE5K"
      }
    },
    {
      "cell_type": "code",
      "source": [
        "import matplotlib.pyplot as plt\n",
        "import plotly.graph_objects as go\n",
        "from plotly.subplots import make_subplots\n",
        "import plotly.express as px\n",
        "import seaborn as sns\n",
        "from statsmodels.graphics.tsaplots import plot_acf\n",
        "from statsmodels.graphics.tsaplots import plot_pacf\n",
        "import plotly.express as px\n",
        "plt.style.use('ggplot')\n",
        "%matplotlib inline"
      ],
      "metadata": {
        "id": "6RQ1XVxTsA-h"
      },
      "execution_count": null,
      "outputs": []
    },
    {
      "cell_type": "code",
      "source": [
        "import warnings\n",
        "warnings.filterwarnings('ignore')"
      ],
      "metadata": {
        "id": "EiK_QWb-1Xg7"
      },
      "execution_count": null,
      "outputs": []
    },
    {
      "cell_type": "markdown",
      "source": [
        "- Importar bibliotecas internas do python"
      ],
      "metadata": {
        "id": "09mrCrKYvNNK"
      }
    },
    {
      "cell_type": "code",
      "source": [
        "from functools import reduce\n",
        "from datetime import datetime\n",
        "from math import sqrt"
      ],
      "metadata": {
        "id": "jY9SWGLasBBL"
      },
      "execution_count": null,
      "outputs": []
    },
    {
      "cell_type": "markdown",
      "source": [
        "- Definir datas para capturar os dados"
      ],
      "metadata": {
        "id": "kBXFlQ1VvQRC"
      }
    },
    {
      "cell_type": "code",
      "source": [
        "date_today = datetime.strftime(datetime.today(), '%Y-%m-%d')\n",
        "date_init = \"2014-01-01\""
      ],
      "metadata": {
        "id": "meKtzz9isBDv"
      },
      "execution_count": null,
      "outputs": []
    },
    {
      "cell_type": "markdown",
      "source": [
        "- Criar funções auxiliares "
      ],
      "metadata": {
        "id": "wO7VGEmSvWOC"
      }
    },
    {
      "cell_type": "code",
      "source": [
        "list_tickers = [\"BTC-USD\"]\n",
        "\n",
        "def download_tickers(ticker):\n",
        "  try:\n",
        "    asset = yf.download(ticker, start=date_init, end=date_today, interval='1d')\n",
        "    return asset.Close\n",
        "  except Exception as err:\n",
        "    print(f\"ERROR: {err}\")\n",
        "\n",
        "  \n",
        "def create_data_frame(asset_close, ticker):\n",
        "  return pd.DataFrame(asset_close).rename(columns = {'Close': ticker})\n",
        "\n",
        "\n",
        "def mean_absolute_percentage_error(y_true, y_pred):\n",
        "\t\"\"\"Take in true and predicted values and calculate the MAPE score\"\"\"\n",
        "\ty_true, y_pred = np.array(y_true), np.array(y_pred)\n",
        "\treturn np.mean(np.abs((y_true - y_pred) / y_true)) * 100"
      ],
      "metadata": {
        "id": "gAcRyUa0sBHC"
      },
      "execution_count": null,
      "outputs": []
    },
    {
      "cell_type": "markdown",
      "source": [
        "- Download dos dados"
      ],
      "metadata": {
        "id": "H6PD_lK9vaNC"
      }
    },
    {
      "cell_type": "code",
      "source": [
        "df_btc = yf.download(\"BTC-USD\", date_init, date_today)\n",
        "df_btc = df_btc.reset_index()"
      ],
      "metadata": {
        "colab": {
          "base_uri": "https://localhost:8080/"
        },
        "id": "WqndBn94sVKZ",
        "outputId": "a5511ca6-c0ab-4304-d777-1b7847d08492"
      },
      "execution_count": null,
      "outputs": [
        {
          "output_type": "stream",
          "name": "stdout",
          "text": [
            "\r[*********************100%***********************]  1 of 1 completed\n"
          ]
        }
      ]
    },
    {
      "cell_type": "markdown",
      "source": [
        "- Renomendo colunas"
      ],
      "metadata": {
        "id": "okcEKn2SvfDb"
      }
    },
    {
      "cell_type": "code",
      "source": [
        "df_btc.rename({'Date': 'timestamp', 'Open': 'open', 'High': 'high', 'Low': 'low', 'Adj Close': 'close', 'Volume': 'volume' }, axis=1, inplace=True)\n"
      ],
      "metadata": {
        "id": "-uH-w6QwsVNZ"
      },
      "execution_count": null,
      "outputs": []
    },
    {
      "cell_type": "code",
      "source": [
        "df_btc.tail(1)"
      ],
      "metadata": {
        "colab": {
          "base_uri": "https://localhost:8080/",
          "height": 81
        },
        "id": "D_YL59NqYg3o",
        "outputId": "2b5ad3a4-1d76-4dd4-a828-acbbc7df0910"
      },
      "execution_count": null,
      "outputs": [
        {
          "output_type": "execute_result",
          "data": {
            "text/plain": [
              "      timestamp          open          high           low         Close  \\\n",
              "2964 2022-10-29  20595.103516  20988.394531  20566.484375  20818.476562   \n",
              "\n",
              "             close       volume  \n",
              "2964  20818.476562  40369840645  "
            ],
            "text/html": [
              "\n",
              "  <div id=\"df-c58c8fee-dad2-417a-a9bb-83e165ef6bff\">\n",
              "    <div class=\"colab-df-container\">\n",
              "      <div>\n",
              "<style scoped>\n",
              "    .dataframe tbody tr th:only-of-type {\n",
              "        vertical-align: middle;\n",
              "    }\n",
              "\n",
              "    .dataframe tbody tr th {\n",
              "        vertical-align: top;\n",
              "    }\n",
              "\n",
              "    .dataframe thead th {\n",
              "        text-align: right;\n",
              "    }\n",
              "</style>\n",
              "<table border=\"1\" class=\"dataframe\">\n",
              "  <thead>\n",
              "    <tr style=\"text-align: right;\">\n",
              "      <th></th>\n",
              "      <th>timestamp</th>\n",
              "      <th>open</th>\n",
              "      <th>high</th>\n",
              "      <th>low</th>\n",
              "      <th>Close</th>\n",
              "      <th>close</th>\n",
              "      <th>volume</th>\n",
              "    </tr>\n",
              "  </thead>\n",
              "  <tbody>\n",
              "    <tr>\n",
              "      <th>2964</th>\n",
              "      <td>2022-10-29</td>\n",
              "      <td>20595.103516</td>\n",
              "      <td>20988.394531</td>\n",
              "      <td>20566.484375</td>\n",
              "      <td>20818.476562</td>\n",
              "      <td>20818.476562</td>\n",
              "      <td>40369840645</td>\n",
              "    </tr>\n",
              "  </tbody>\n",
              "</table>\n",
              "</div>\n",
              "      <button class=\"colab-df-convert\" onclick=\"convertToInteractive('df-c58c8fee-dad2-417a-a9bb-83e165ef6bff')\"\n",
              "              title=\"Convert this dataframe to an interactive table.\"\n",
              "              style=\"display:none;\">\n",
              "        \n",
              "  <svg xmlns=\"http://www.w3.org/2000/svg\" height=\"24px\"viewBox=\"0 0 24 24\"\n",
              "       width=\"24px\">\n",
              "    <path d=\"M0 0h24v24H0V0z\" fill=\"none\"/>\n",
              "    <path d=\"M18.56 5.44l.94 2.06.94-2.06 2.06-.94-2.06-.94-.94-2.06-.94 2.06-2.06.94zm-11 1L8.5 8.5l.94-2.06 2.06-.94-2.06-.94L8.5 2.5l-.94 2.06-2.06.94zm10 10l.94 2.06.94-2.06 2.06-.94-2.06-.94-.94-2.06-.94 2.06-2.06.94z\"/><path d=\"M17.41 7.96l-1.37-1.37c-.4-.4-.92-.59-1.43-.59-.52 0-1.04.2-1.43.59L10.3 9.45l-7.72 7.72c-.78.78-.78 2.05 0 2.83L4 21.41c.39.39.9.59 1.41.59.51 0 1.02-.2 1.41-.59l7.78-7.78 2.81-2.81c.8-.78.8-2.07 0-2.86zM5.41 20L4 18.59l7.72-7.72 1.47 1.35L5.41 20z\"/>\n",
              "  </svg>\n",
              "      </button>\n",
              "      \n",
              "  <style>\n",
              "    .colab-df-container {\n",
              "      display:flex;\n",
              "      flex-wrap:wrap;\n",
              "      gap: 12px;\n",
              "    }\n",
              "\n",
              "    .colab-df-convert {\n",
              "      background-color: #E8F0FE;\n",
              "      border: none;\n",
              "      border-radius: 50%;\n",
              "      cursor: pointer;\n",
              "      display: none;\n",
              "      fill: #1967D2;\n",
              "      height: 32px;\n",
              "      padding: 0 0 0 0;\n",
              "      width: 32px;\n",
              "    }\n",
              "\n",
              "    .colab-df-convert:hover {\n",
              "      background-color: #E2EBFA;\n",
              "      box-shadow: 0px 1px 2px rgba(60, 64, 67, 0.3), 0px 1px 3px 1px rgba(60, 64, 67, 0.15);\n",
              "      fill: #174EA6;\n",
              "    }\n",
              "\n",
              "    [theme=dark] .colab-df-convert {\n",
              "      background-color: #3B4455;\n",
              "      fill: #D2E3FC;\n",
              "    }\n",
              "\n",
              "    [theme=dark] .colab-df-convert:hover {\n",
              "      background-color: #434B5C;\n",
              "      box-shadow: 0px 1px 3px 1px rgba(0, 0, 0, 0.15);\n",
              "      filter: drop-shadow(0px 1px 2px rgba(0, 0, 0, 0.3));\n",
              "      fill: #FFFFFF;\n",
              "    }\n",
              "  </style>\n",
              "\n",
              "      <script>\n",
              "        const buttonEl =\n",
              "          document.querySelector('#df-c58c8fee-dad2-417a-a9bb-83e165ef6bff button.colab-df-convert');\n",
              "        buttonEl.style.display =\n",
              "          google.colab.kernel.accessAllowed ? 'block' : 'none';\n",
              "\n",
              "        async function convertToInteractive(key) {\n",
              "          const element = document.querySelector('#df-c58c8fee-dad2-417a-a9bb-83e165ef6bff');\n",
              "          const dataTable =\n",
              "            await google.colab.kernel.invokeFunction('convertToInteractive',\n",
              "                                                     [key], {});\n",
              "          if (!dataTable) return;\n",
              "\n",
              "          const docLinkHtml = 'Like what you see? Visit the ' +\n",
              "            '<a target=\"_blank\" href=https://colab.research.google.com/notebooks/data_table.ipynb>data table notebook</a>'\n",
              "            + ' to learn more about interactive tables.';\n",
              "          element.innerHTML = '';\n",
              "          dataTable['output_type'] = 'display_data';\n",
              "          await google.colab.output.renderOutput(dataTable, element);\n",
              "          const docLink = document.createElement('div');\n",
              "          docLink.innerHTML = docLinkHtml;\n",
              "          element.appendChild(docLink);\n",
              "        }\n",
              "      </script>\n",
              "    </div>\n",
              "  </div>\n",
              "  "
            ]
          },
          "metadata": {},
          "execution_count": 16
        }
      ]
    },
    {
      "cell_type": "code",
      "source": [
        "df_btc.dtypes"
      ],
      "metadata": {
        "colab": {
          "base_uri": "https://localhost:8080/"
        },
        "id": "rCX7TgAob3lt",
        "outputId": "dfd5db21-f572-48cf-93b7-2638a270a1ae"
      },
      "execution_count": null,
      "outputs": [
        {
          "output_type": "execute_result",
          "data": {
            "text/plain": [
              "timestamp    datetime64[ns]\n",
              "open                float64\n",
              "high                float64\n",
              "low                 float64\n",
              "Close               float64\n",
              "close               float64\n",
              "volume                int64\n",
              "dtype: object"
            ]
          },
          "metadata": {},
          "execution_count": 17
        }
      ]
    },
    {
      "cell_type": "markdown",
      "source": [
        "- Converter data"
      ],
      "metadata": {
        "id": "qiqyJR65vo9S"
      }
    },
    {
      "cell_type": "code",
      "source": [
        "df_btc['timestamp'] = pd.to_datetime(df_btc['timestamp'], format=\"%Y-%m-%d\")"
      ],
      "metadata": {
        "id": "fHf2mLrDsVQJ"
      },
      "execution_count": null,
      "outputs": []
    },
    {
      "cell_type": "markdown",
      "source": [
        "- Criar médias móveis de 7 dias e 21 dias"
      ],
      "metadata": {
        "id": "obt8r1F6vser"
      }
    },
    {
      "cell_type": "code",
      "source": [
        "df_btc['mm7d'] = df_btc['close'].rolling(7).mean()\n",
        "df_btc['mm21d'] = df_btc['close'].rolling(21).mean()\n",
        "\n",
        "df_btc.tail(1)"
      ],
      "metadata": {
        "colab": {
          "base_uri": "https://localhost:8080/",
          "height": 81
        },
        "id": "TzTF6UoEs84B",
        "outputId": "1d729f7f-4971-42e3-c297-23bb9973131a"
      },
      "execution_count": null,
      "outputs": [
        {
          "output_type": "execute_result",
          "data": {
            "text/plain": [
              "      timestamp          open          high           low         Close  \\\n",
              "2964 2022-10-29  20595.103516  20988.394531  20566.484375  20818.476562   \n",
              "\n",
              "             close       volume          mm7d         mm21d  \n",
              "2964  20818.476562  40369840645  20211.220424  19554.224423  "
            ],
            "text/html": [
              "\n",
              "  <div id=\"df-8a530eae-4f28-469e-88f8-e16847bc032f\">\n",
              "    <div class=\"colab-df-container\">\n",
              "      <div>\n",
              "<style scoped>\n",
              "    .dataframe tbody tr th:only-of-type {\n",
              "        vertical-align: middle;\n",
              "    }\n",
              "\n",
              "    .dataframe tbody tr th {\n",
              "        vertical-align: top;\n",
              "    }\n",
              "\n",
              "    .dataframe thead th {\n",
              "        text-align: right;\n",
              "    }\n",
              "</style>\n",
              "<table border=\"1\" class=\"dataframe\">\n",
              "  <thead>\n",
              "    <tr style=\"text-align: right;\">\n",
              "      <th></th>\n",
              "      <th>timestamp</th>\n",
              "      <th>open</th>\n",
              "      <th>high</th>\n",
              "      <th>low</th>\n",
              "      <th>Close</th>\n",
              "      <th>close</th>\n",
              "      <th>volume</th>\n",
              "      <th>mm7d</th>\n",
              "      <th>mm21d</th>\n",
              "    </tr>\n",
              "  </thead>\n",
              "  <tbody>\n",
              "    <tr>\n",
              "      <th>2964</th>\n",
              "      <td>2022-10-29</td>\n",
              "      <td>20595.103516</td>\n",
              "      <td>20988.394531</td>\n",
              "      <td>20566.484375</td>\n",
              "      <td>20818.476562</td>\n",
              "      <td>20818.476562</td>\n",
              "      <td>40369840645</td>\n",
              "      <td>20211.220424</td>\n",
              "      <td>19554.224423</td>\n",
              "    </tr>\n",
              "  </tbody>\n",
              "</table>\n",
              "</div>\n",
              "      <button class=\"colab-df-convert\" onclick=\"convertToInteractive('df-8a530eae-4f28-469e-88f8-e16847bc032f')\"\n",
              "              title=\"Convert this dataframe to an interactive table.\"\n",
              "              style=\"display:none;\">\n",
              "        \n",
              "  <svg xmlns=\"http://www.w3.org/2000/svg\" height=\"24px\"viewBox=\"0 0 24 24\"\n",
              "       width=\"24px\">\n",
              "    <path d=\"M0 0h24v24H0V0z\" fill=\"none\"/>\n",
              "    <path d=\"M18.56 5.44l.94 2.06.94-2.06 2.06-.94-2.06-.94-.94-2.06-.94 2.06-2.06.94zm-11 1L8.5 8.5l.94-2.06 2.06-.94-2.06-.94L8.5 2.5l-.94 2.06-2.06.94zm10 10l.94 2.06.94-2.06 2.06-.94-2.06-.94-.94-2.06-.94 2.06-2.06.94z\"/><path d=\"M17.41 7.96l-1.37-1.37c-.4-.4-.92-.59-1.43-.59-.52 0-1.04.2-1.43.59L10.3 9.45l-7.72 7.72c-.78.78-.78 2.05 0 2.83L4 21.41c.39.39.9.59 1.41.59.51 0 1.02-.2 1.41-.59l7.78-7.78 2.81-2.81c.8-.78.8-2.07 0-2.86zM5.41 20L4 18.59l7.72-7.72 1.47 1.35L5.41 20z\"/>\n",
              "  </svg>\n",
              "      </button>\n",
              "      \n",
              "  <style>\n",
              "    .colab-df-container {\n",
              "      display:flex;\n",
              "      flex-wrap:wrap;\n",
              "      gap: 12px;\n",
              "    }\n",
              "\n",
              "    .colab-df-convert {\n",
              "      background-color: #E8F0FE;\n",
              "      border: none;\n",
              "      border-radius: 50%;\n",
              "      cursor: pointer;\n",
              "      display: none;\n",
              "      fill: #1967D2;\n",
              "      height: 32px;\n",
              "      padding: 0 0 0 0;\n",
              "      width: 32px;\n",
              "    }\n",
              "\n",
              "    .colab-df-convert:hover {\n",
              "      background-color: #E2EBFA;\n",
              "      box-shadow: 0px 1px 2px rgba(60, 64, 67, 0.3), 0px 1px 3px 1px rgba(60, 64, 67, 0.15);\n",
              "      fill: #174EA6;\n",
              "    }\n",
              "\n",
              "    [theme=dark] .colab-df-convert {\n",
              "      background-color: #3B4455;\n",
              "      fill: #D2E3FC;\n",
              "    }\n",
              "\n",
              "    [theme=dark] .colab-df-convert:hover {\n",
              "      background-color: #434B5C;\n",
              "      box-shadow: 0px 1px 3px 1px rgba(0, 0, 0, 0.15);\n",
              "      filter: drop-shadow(0px 1px 2px rgba(0, 0, 0, 0.3));\n",
              "      fill: #FFFFFF;\n",
              "    }\n",
              "  </style>\n",
              "\n",
              "      <script>\n",
              "        const buttonEl =\n",
              "          document.querySelector('#df-8a530eae-4f28-469e-88f8-e16847bc032f button.colab-df-convert');\n",
              "        buttonEl.style.display =\n",
              "          google.colab.kernel.accessAllowed ? 'block' : 'none';\n",
              "\n",
              "        async function convertToInteractive(key) {\n",
              "          const element = document.querySelector('#df-8a530eae-4f28-469e-88f8-e16847bc032f');\n",
              "          const dataTable =\n",
              "            await google.colab.kernel.invokeFunction('convertToInteractive',\n",
              "                                                     [key], {});\n",
              "          if (!dataTable) return;\n",
              "\n",
              "          const docLinkHtml = 'Like what you see? Visit the ' +\n",
              "            '<a target=\"_blank\" href=https://colab.research.google.com/notebooks/data_table.ipynb>data table notebook</a>'\n",
              "            + ' to learn more about interactive tables.';\n",
              "          element.innerHTML = '';\n",
              "          dataTable['output_type'] = 'display_data';\n",
              "          await google.colab.output.renderOutput(dataTable, element);\n",
              "          const docLink = document.createElement('div');\n",
              "          docLink.innerHTML = docLinkHtml;\n",
              "          element.appendChild(docLink);\n",
              "        }\n",
              "      </script>\n",
              "    </div>\n",
              "  </div>\n",
              "  "
            ]
          },
          "metadata": {},
          "execution_count": 19
        }
      ]
    },
    {
      "cell_type": "markdown",
      "source": [
        "- Função de agrupamento dos dados"
      ],
      "metadata": {
        "id": "eX434S8Kv09a"
      }
    },
    {
      "cell_type": "code",
      "source": [
        "def group_data(type_group):\n",
        "  new_df = df_btc.groupby(pd.Grouper(key=\"timestamp\", freq=type_group)).sum()\n",
        "  new_df.reset_index(inplace=True)\n",
        "  return new_df"
      ],
      "metadata": {
        "id": "MPjrm4WbpN61"
      },
      "execution_count": null,
      "outputs": []
    },
    {
      "cell_type": "markdown",
      "source": [
        "- Função para plotar grafico conforme o Agrupamento dos Dados\n",
        "- Tipo de agrupamento:\n",
        "- Por Meses (M) ou por Semanas (W)\n",
        "- Por Ano (year)\n",
        "- Tipo de grafico: 'bar',  'line',  'hist',  'barh'"
      ],
      "metadata": {
        "id": "83_LMHOIqubc"
      }
    },
    {
      "cell_type": "code",
      "source": [
        "def create_plot_custom(filter_Mounth_or_Week, year, type_plot):\n",
        "  \"\"\" \n",
        "    Cria um grafico filtrando por Ano, Meses ou Semanas\n",
        "\n",
        "    filter_Mounth_or_Week: 'M' ou 'W'\n",
        "    type_plot: 'line', 'bar', 'hist', 'barh'\n",
        "  \n",
        "  \"\"\"\n",
        "  if year >= 2014 and year <= 2022 and filter_Mounth_or_Week in (\"M\", \"W\"):\n",
        "    filtro_label = None\n",
        "    df_filter = group_data(filter_Mounth_or_Week)\n",
        "    include = df_filter[df_filter['timestamp'].dt.year == year]\n",
        "    meses = [\"jan\", \"fev\", \"mar\", \"abr\", \"mai\", \"jun\", \"jul\", \"ago\", \"set\", \"out\", \"nov\", \"dez\"]\n",
        "    if len(include.index) == 12:\n",
        "      include.index = meses[:len(include.index)]\n",
        "      filtro_label = \"Meses\"\n",
        "    elif len(include.index) > 50:\n",
        "      include.index = [i for i in range(0, len(include.index))]\n",
        "      filtro_label = \"Semanas\"\n",
        "    include.plot(y=\"close\", kind=type_plot, figsize=(14, 8),rot=30, title=f'Distruibuição por {filtro_label} - ano {year}', ylabel='Preço US$', xlabel=filtro_label, color=\"blue\")"
      ],
      "metadata": {
        "id": "8tL9xZOlZ8r0"
      },
      "execution_count": null,
      "outputs": []
    },
    {
      "cell_type": "code",
      "source": [
        "create_plot_custom(\"W\", 2019, \"bar\")"
      ],
      "metadata": {
        "colab": {
          "base_uri": "https://localhost:8080/",
          "height": 522
        },
        "id": "QxCJ15tsa7E9",
        "outputId": "893095ef-be6e-45f1-fbde-90927270518b"
      },
      "execution_count": null,
      "outputs": [
        {
          "output_type": "display_data",
          "data": {
            "text/plain": [
              "<Figure size 1008x576 with 1 Axes>"
            ],
            "image/png": "[encoded data removed]"
          },
          "metadata": {
            "needs_background": "light"
          }
        }
      ]
    },
    {
      "cell_type": "markdown",
      "source": [
        "- Empurrando para frente os valores da criptomoeda"
      ],
      "metadata": {
        "id": "irz8F9VLv4ui"
      }
    },
    {
      "cell_type": "code",
      "source": [
        "df_btc['timestamp'] = df_btc['timestamp'].shift(-1)\n",
        "df_btc.tail()"
      ],
      "metadata": {
        "colab": {
          "base_uri": "https://localhost:8080/",
          "height": 206
        },
        "id": "vrSuQkVcs89Q",
        "outputId": "5b4af8d4-3619-4b9d-a97e-e1148edaff55"
      },
      "execution_count": null,
      "outputs": [
        {
          "output_type": "execute_result",
          "data": {
            "text/plain": [
              "      timestamp          open          high           low         Close  \\\n",
              "2960 2022-10-26  19344.964844  20348.412109  19261.447266  20095.857422   \n",
              "2961 2022-10-27  20092.236328  20938.134766  20076.117188  20770.441406   \n",
              "2962 2022-10-28  20772.802734  20854.044922  20255.373047  20285.835938   \n",
              "2963 2022-10-29  20287.957031  20724.980469  20086.068359  20595.351562   \n",
              "2964        NaT  20595.103516  20988.394531  20566.484375  20818.476562   \n",
              "\n",
              "             close       volume          mm7d         mm21d  \n",
              "2960  20095.857422  47761524910  19368.910156  19392.770740  \n",
              "2961  20770.441406  58895950537  19601.896763  19421.805246  \n",
              "2962  20285.835938  49625110402  19777.910435  19437.538225  \n",
              "2963  20595.351562  43994715910  19981.179408  19487.466890  \n",
              "2964  20818.476562  40369840645  20211.220424  19554.224423  "
            ],
            "text/html": [
              "\n",
              "  <div id=\"df-c9f2ee55-9287-4adb-b6b0-808d9bb70e1f\">\n",
              "    <div class=\"colab-df-container\">\n",
              "      <div>\n",
              "<style scoped>\n",
              "    .dataframe tbody tr th:only-of-type {\n",
              "        vertical-align: middle;\n",
              "    }\n",
              "\n",
              "    .dataframe tbody tr th {\n",
              "        vertical-align: top;\n",
              "    }\n",
              "\n",
              "    .dataframe thead th {\n",
              "        text-align: right;\n",
              "    }\n",
              "</style>\n",
              "<table border=\"1\" class=\"dataframe\">\n",
              "  <thead>\n",
              "    <tr style=\"text-align: right;\">\n",
              "      <th></th>\n",
              "      <th>timestamp</th>\n",
              "      <th>open</th>\n",
              "      <th>high</th>\n",
              "      <th>low</th>\n",
              "      <th>Close</th>\n",
              "      <th>close</th>\n",
              "      <th>volume</th>\n",
              "      <th>mm7d</th>\n",
              "      <th>mm21d</th>\n",
              "    </tr>\n",
              "  </thead>\n",
              "  <tbody>\n",
              "    <tr>\n",
              "      <th>2960</th>\n",
              "      <td>2022-10-26</td>\n",
              "      <td>19344.964844</td>\n",
              "      <td>20348.412109</td>\n",
              "      <td>19261.447266</td>\n",
              "      <td>20095.857422</td>\n",
              "      <td>20095.857422</td>\n",
              "      <td>47761524910</td>\n",
              "      <td>19368.910156</td>\n",
              "      <td>19392.770740</td>\n",
              "    </tr>\n",
              "    <tr>\n",
              "      <th>2961</th>\n",
              "      <td>2022-10-27</td>\n",
              "      <td>20092.236328</td>\n",
              "      <td>20938.134766</td>\n",
              "      <td>20076.117188</td>\n",
              "      <td>20770.441406</td>\n",
              "      <td>20770.441406</td>\n",
              "      <td>58895950537</td>\n",
              "      <td>19601.896763</td>\n",
              "      <td>19421.805246</td>\n",
              "    </tr>\n",
              "    <tr>\n",
              "      <th>2962</th>\n",
              "      <td>2022-10-28</td>\n",
              "      <td>20772.802734</td>\n",
              "      <td>20854.044922</td>\n",
              "      <td>20255.373047</td>\n",
              "      <td>20285.835938</td>\n",
              "      <td>20285.835938</td>\n",
              "      <td>49625110402</td>\n",
              "      <td>19777.910435</td>\n",
              "      <td>19437.538225</td>\n",
              "    </tr>\n",
              "    <tr>\n",
              "      <th>2963</th>\n",
              "      <td>2022-10-29</td>\n",
              "      <td>20287.957031</td>\n",
              "      <td>20724.980469</td>\n",
              "      <td>20086.068359</td>\n",
              "      <td>20595.351562</td>\n",
              "      <td>20595.351562</td>\n",
              "      <td>43994715910</td>\n",
              "      <td>19981.179408</td>\n",
              "      <td>19487.466890</td>\n",
              "    </tr>\n",
              "    <tr>\n",
              "      <th>2964</th>\n",
              "      <td>NaT</td>\n",
              "      <td>20595.103516</td>\n",
              "      <td>20988.394531</td>\n",
              "      <td>20566.484375</td>\n",
              "      <td>20818.476562</td>\n",
              "      <td>20818.476562</td>\n",
              "      <td>40369840645</td>\n",
              "      <td>20211.220424</td>\n",
              "      <td>19554.224423</td>\n",
              "    </tr>\n",
              "  </tbody>\n",
              "</table>\n",
              "</div>\n",
              "      <button class=\"colab-df-convert\" onclick=\"convertToInteractive('df-c9f2ee55-9287-4adb-b6b0-808d9bb70e1f')\"\n",
              "              title=\"Convert this dataframe to an interactive table.\"\n",
              "              style=\"display:none;\">\n",
              "        \n",
              "  <svg xmlns=\"http://www.w3.org/2000/svg\" height=\"24px\"viewBox=\"0 0 24 24\"\n",
              "       width=\"24px\">\n",
              "    <path d=\"M0 0h24v24H0V0z\" fill=\"none\"/>\n",
              "    <path d=\"M18.56 5.44l.94 2.06.94-2.06 2.06-.94-2.06-.94-.94-2.06-.94 2.06-2.06.94zm-11 1L8.5 8.5l.94-2.06 2.06-.94-2.06-.94L8.5 2.5l-.94 2.06-2.06.94zm10 10l.94 2.06.94-2.06 2.06-.94-2.06-.94-.94-2.06-.94 2.06-2.06.94z\"/><path d=\"M17.41 7.96l-1.37-1.37c-.4-.4-.92-.59-1.43-.59-.52 0-1.04.2-1.43.59L10.3 9.45l-7.72 7.72c-.78.78-.78 2.05 0 2.83L4 21.41c.39.39.9.59 1.41.59.51 0 1.02-.2 1.41-.59l7.78-7.78 2.81-2.81c.8-.78.8-2.07 0-2.86zM5.41 20L4 18.59l7.72-7.72 1.47 1.35L5.41 20z\"/>\n",
              "  </svg>\n",
              "      </button>\n",
              "      \n",
              "  <style>\n",
              "    .colab-df-container {\n",
              "      display:flex;\n",
              "      flex-wrap:wrap;\n",
              "      gap: 12px;\n",
              "    }\n",
              "\n",
              "    .colab-df-convert {\n",
              "      background-color: #E8F0FE;\n",
              "      border: none;\n",
              "      border-radius: 50%;\n",
              "      cursor: pointer;\n",
              "      display: none;\n",
              "      fill: #1967D2;\n",
              "      height: 32px;\n",
              "      padding: 0 0 0 0;\n",
              "      width: 32px;\n",
              "    }\n",
              "\n",
              "    .colab-df-convert:hover {\n",
              "      background-color: #E2EBFA;\n",
              "      box-shadow: 0px 1px 2px rgba(60, 64, 67, 0.3), 0px 1px 3px 1px rgba(60, 64, 67, 0.15);\n",
              "      fill: #174EA6;\n",
              "    }\n",
              "\n",
              "    [theme=dark] .colab-df-convert {\n",
              "      background-color: #3B4455;\n",
              "      fill: #D2E3FC;\n",
              "    }\n",
              "\n",
              "    [theme=dark] .colab-df-convert:hover {\n",
              "      background-color: #434B5C;\n",
              "      box-shadow: 0px 1px 3px 1px rgba(0, 0, 0, 0.15);\n",
              "      filter: drop-shadow(0px 1px 2px rgba(0, 0, 0, 0.3));\n",
              "      fill: #FFFFFF;\n",
              "    }\n",
              "  </style>\n",
              "\n",
              "      <script>\n",
              "        const buttonEl =\n",
              "          document.querySelector('#df-c9f2ee55-9287-4adb-b6b0-808d9bb70e1f button.colab-df-convert');\n",
              "        buttonEl.style.display =\n",
              "          google.colab.kernel.accessAllowed ? 'block' : 'none';\n",
              "\n",
              "        async function convertToInteractive(key) {\n",
              "          const element = document.querySelector('#df-c9f2ee55-9287-4adb-b6b0-808d9bb70e1f');\n",
              "          const dataTable =\n",
              "            await google.colab.kernel.invokeFunction('convertToInteractive',\n",
              "                                                     [key], {});\n",
              "          if (!dataTable) return;\n",
              "\n",
              "          const docLinkHtml = 'Like what you see? Visit the ' +\n",
              "            '<a target=\"_blank\" href=https://colab.research.google.com/notebooks/data_table.ipynb>data table notebook</a>'\n",
              "            + ' to learn more about interactive tables.';\n",
              "          element.innerHTML = '';\n",
              "          dataTable['output_type'] = 'display_data';\n",
              "          await google.colab.output.renderOutput(dataTable, element);\n",
              "          const docLink = document.createElement('div');\n",
              "          docLink.innerHTML = docLinkHtml;\n",
              "          element.appendChild(docLink);\n",
              "        }\n",
              "      </script>\n",
              "    </div>\n",
              "  </div>\n",
              "  "
            ]
          },
          "metadata": {},
          "execution_count": 23
        }
      ]
    },
    {
      "cell_type": "markdown",
      "source": [
        "- Remover os dados nulos"
      ],
      "metadata": {
        "id": "RXxYDot8wARz"
      }
    },
    {
      "cell_type": "code",
      "source": [
        "df_btc.dropna(inplace=True)\n",
        "df_btc"
      ],
      "metadata": {
        "colab": {
          "base_uri": "https://localhost:8080/",
          "height": 424
        },
        "id": "jIP4Y09auAln",
        "outputId": "3d528338-8f18-4c43-8df8-6e16e40496d6"
      },
      "execution_count": null,
      "outputs": [
        {
          "output_type": "execute_result",
          "data": {
            "text/plain": [
              "      timestamp          open          high           low         Close  \\\n",
              "20   2014-10-08    330.584015    339.247009    320.481995    336.187012   \n",
              "21   2014-10-09    336.115997    354.364014    327.187988    352.940002   \n",
              "22   2014-10-10    352.747986    382.726013    347.687012    365.026001   \n",
              "23   2014-10-11    364.687012    375.066986    352.963013    361.562012   \n",
              "24   2014-10-12    361.362000    367.191010    355.950989    362.299011   \n",
              "...         ...           ...           ...           ...           ...   \n",
              "2959 2022-10-25  19567.769531  19589.125000  19206.324219  19345.572266   \n",
              "2960 2022-10-26  19344.964844  20348.412109  19261.447266  20095.857422   \n",
              "2961 2022-10-27  20092.236328  20938.134766  20076.117188  20770.441406   \n",
              "2962 2022-10-28  20772.802734  20854.044922  20255.373047  20285.835938   \n",
              "2963 2022-10-29  20287.957031  20724.980469  20086.068359  20595.351562   \n",
              "\n",
              "             close       volume          mm7d         mm21d  \n",
              "20      336.187012     49199900    347.691572    387.352142  \n",
              "21      352.940002     54736300    343.309431    382.380999  \n",
              "22      365.026001     83641104    341.874289    379.551761  \n",
              "23      361.562012     43665700    342.167149    377.969190  \n",
              "24      362.299011     13345200    346.943294    375.749906  \n",
              "...            ...          ...           ...           ...  \n",
              "2959  19345.572266  30202235805  19260.132812  19404.246280  \n",
              "2960  20095.857422  47761524910  19368.910156  19392.770740  \n",
              "2961  20770.441406  58895950537  19601.896763  19421.805246  \n",
              "2962  20285.835938  49625110402  19777.910435  19437.538225  \n",
              "2963  20595.351562  43994715910  19981.179408  19487.466890  \n",
              "\n",
              "[2944 rows x 9 columns]"
            ],
            "text/html": [
              "\n",
              "  <div id=\"df-59d7287b-52d5-4328-a79b-a65c64f7d526\">\n",
              "    <div class=\"colab-df-container\">\n",
              "      <div>\n",
              "<style scoped>\n",
              "    .dataframe tbody tr th:only-of-type {\n",
              "        vertical-align: middle;\n",
              "    }\n",
              "\n",
              "    .dataframe tbody tr th {\n",
              "        vertical-align: top;\n",
              "    }\n",
              "\n",
              "    .dataframe thead th {\n",
              "        text-align: right;\n",
              "    }\n",
              "</style>\n",
              "<table border=\"1\" class=\"dataframe\">\n",
              "  <thead>\n",
              "    <tr style=\"text-align: right;\">\n",
              "      <th></th>\n",
              "      <th>timestamp</th>\n",
              "      <th>open</th>\n",
              "      <th>high</th>\n",
              "      <th>low</th>\n",
              "      <th>Close</th>\n",
              "      <th>close</th>\n",
              "      <th>volume</th>\n",
              "      <th>mm7d</th>\n",
              "      <th>mm21d</th>\n",
              "    </tr>\n",
              "  </thead>\n",
              "  <tbody>\n",
              "    <tr>\n",
              "      <th>20</th>\n",
              "      <td>2014-10-08</td>\n",
              "      <td>330.584015</td>\n",
              "      <td>339.247009</td>\n",
              "      <td>320.481995</td>\n",
              "      <td>336.187012</td>\n",
              "      <td>336.187012</td>\n",
              "      <td>49199900</td>\n",
              "      <td>347.691572</td>\n",
              "      <td>387.352142</td>\n",
              "    </tr>\n",
              "    <tr>\n",
              "      <th>21</th>\n",
              "      <td>2014-10-09</td>\n",
              "      <td>336.115997</td>\n",
              "      <td>354.364014</td>\n",
              "      <td>327.187988</td>\n",
              "      <td>352.940002</td>\n",
              "      <td>352.940002</td>\n",
              "      <td>54736300</td>\n",
              "      <td>343.309431</td>\n",
              "      <td>382.380999</td>\n",
              "    </tr>\n",
              "    <tr>\n",
              "      <th>22</th>\n",
              "      <td>2014-10-10</td>\n",
              "      <td>352.747986</td>\n",
              "      <td>382.726013</td>\n",
              "      <td>347.687012</td>\n",
              "      <td>365.026001</td>\n",
              "      <td>365.026001</td>\n",
              "      <td>83641104</td>\n",
              "      <td>341.874289</td>\n",
              "      <td>379.551761</td>\n",
              "    </tr>\n",
              "    <tr>\n",
              "      <th>23</th>\n",
              "      <td>2014-10-11</td>\n",
              "      <td>364.687012</td>\n",
              "      <td>375.066986</td>\n",
              "      <td>352.963013</td>\n",
              "      <td>361.562012</td>\n",
              "      <td>361.562012</td>\n",
              "      <td>43665700</td>\n",
              "      <td>342.167149</td>\n",
              "      <td>377.969190</td>\n",
              "    </tr>\n",
              "    <tr>\n",
              "      <th>24</th>\n",
              "      <td>2014-10-12</td>\n",
              "      <td>361.362000</td>\n",
              "      <td>367.191010</td>\n",
              "      <td>355.950989</td>\n",
              "      <td>362.299011</td>\n",
              "      <td>362.299011</td>\n",
              "      <td>13345200</td>\n",
              "      <td>346.943294</td>\n",
              "      <td>375.749906</td>\n",
              "    </tr>\n",
              "    <tr>\n",
              "      <th>...</th>\n",
              "      <td>...</td>\n",
              "      <td>...</td>\n",
              "      <td>...</td>\n",
              "      <td>...</td>\n",
              "      <td>...</td>\n",
              "      <td>...</td>\n",
              "      <td>...</td>\n",
              "      <td>...</td>\n",
              "      <td>...</td>\n",
              "    </tr>\n",
              "    <tr>\n",
              "      <th>2959</th>\n",
              "      <td>2022-10-25</td>\n",
              "      <td>19567.769531</td>\n",
              "      <td>19589.125000</td>\n",
              "      <td>19206.324219</td>\n",
              "      <td>19345.572266</td>\n",
              "      <td>19345.572266</td>\n",
              "      <td>30202235805</td>\n",
              "      <td>19260.132812</td>\n",
              "      <td>19404.246280</td>\n",
              "    </tr>\n",
              "    <tr>\n",
              "      <th>2960</th>\n",
              "      <td>2022-10-26</td>\n",
              "      <td>19344.964844</td>\n",
              "      <td>20348.412109</td>\n",
              "      <td>19261.447266</td>\n",
              "      <td>20095.857422</td>\n",
              "      <td>20095.857422</td>\n",
              "      <td>47761524910</td>\n",
              "      <td>19368.910156</td>\n",
              "      <td>19392.770740</td>\n",
              "    </tr>\n",
              "    <tr>\n",
              "      <th>2961</th>\n",
              "      <td>2022-10-27</td>\n",
              "      <td>20092.236328</td>\n",
              "      <td>20938.134766</td>\n",
              "      <td>20076.117188</td>\n",
              "      <td>20770.441406</td>\n",
              "      <td>20770.441406</td>\n",
              "      <td>58895950537</td>\n",
              "      <td>19601.896763</td>\n",
              "      <td>19421.805246</td>\n",
              "    </tr>\n",
              "    <tr>\n",
              "      <th>2962</th>\n",
              "      <td>2022-10-28</td>\n",
              "      <td>20772.802734</td>\n",
              "      <td>20854.044922</td>\n",
              "      <td>20255.373047</td>\n",
              "      <td>20285.835938</td>\n",
              "      <td>20285.835938</td>\n",
              "      <td>49625110402</td>\n",
              "      <td>19777.910435</td>\n",
              "      <td>19437.538225</td>\n",
              "    </tr>\n",
              "    <tr>\n",
              "      <th>2963</th>\n",
              "      <td>2022-10-29</td>\n",
              "      <td>20287.957031</td>\n",
              "      <td>20724.980469</td>\n",
              "      <td>20086.068359</td>\n",
              "      <td>20595.351562</td>\n",
              "      <td>20595.351562</td>\n",
              "      <td>43994715910</td>\n",
              "      <td>19981.179408</td>\n",
              "      <td>19487.466890</td>\n",
              "    </tr>\n",
              "  </tbody>\n",
              "</table>\n",
              "<p>2944 rows × 9 columns</p>\n",
              "</div>\n",
              "      <button class=\"colab-df-convert\" onclick=\"convertToInteractive('df-59d7287b-52d5-4328-a79b-a65c64f7d526')\"\n",
              "              title=\"Convert this dataframe to an interactive table.\"\n",
              "              style=\"display:none;\">\n",
              "        \n",
              "  <svg xmlns=\"http://www.w3.org/2000/svg\" height=\"24px\"viewBox=\"0 0 24 24\"\n",
              "       width=\"24px\">\n",
              "    <path d=\"M0 0h24v24H0V0z\" fill=\"none\"/>\n",
              "    <path d=\"M18.56 5.44l.94 2.06.94-2.06 2.06-.94-2.06-.94-.94-2.06-.94 2.06-2.06.94zm-11 1L8.5 8.5l.94-2.06 2.06-.94-2.06-.94L8.5 2.5l-.94 2.06-2.06.94zm10 10l.94 2.06.94-2.06 2.06-.94-2.06-.94-.94-2.06-.94 2.06-2.06.94z\"/><path d=\"M17.41 7.96l-1.37-1.37c-.4-.4-.92-.59-1.43-.59-.52 0-1.04.2-1.43.59L10.3 9.45l-7.72 7.72c-.78.78-.78 2.05 0 2.83L4 21.41c.39.39.9.59 1.41.59.51 0 1.02-.2 1.41-.59l7.78-7.78 2.81-2.81c.8-.78.8-2.07 0-2.86zM5.41 20L4 18.59l7.72-7.72 1.47 1.35L5.41 20z\"/>\n",
              "  </svg>\n",
              "      </button>\n",
              "      \n",
              "  <style>\n",
              "    .colab-df-container {\n",
              "      display:flex;\n",
              "      flex-wrap:wrap;\n",
              "      gap: 12px;\n",
              "    }\n",
              "\n",
              "    .colab-df-convert {\n",
              "      background-color: #E8F0FE;\n",
              "      border: none;\n",
              "      border-radius: 50%;\n",
              "      cursor: pointer;\n",
              "      display: none;\n",
              "      fill: #1967D2;\n",
              "      height: 32px;\n",
              "      padding: 0 0 0 0;\n",
              "      width: 32px;\n",
              "    }\n",
              "\n",
              "    .colab-df-convert:hover {\n",
              "      background-color: #E2EBFA;\n",
              "      box-shadow: 0px 1px 2px rgba(60, 64, 67, 0.3), 0px 1px 3px 1px rgba(60, 64, 67, 0.15);\n",
              "      fill: #174EA6;\n",
              "    }\n",
              "\n",
              "    [theme=dark] .colab-df-convert {\n",
              "      background-color: #3B4455;\n",
              "      fill: #D2E3FC;\n",
              "    }\n",
              "\n",
              "    [theme=dark] .colab-df-convert:hover {\n",
              "      background-color: #434B5C;\n",
              "      box-shadow: 0px 1px 3px 1px rgba(0, 0, 0, 0.15);\n",
              "      filter: drop-shadow(0px 1px 2px rgba(0, 0, 0, 0.3));\n",
              "      fill: #FFFFFF;\n",
              "    }\n",
              "  </style>\n",
              "\n",
              "      <script>\n",
              "        const buttonEl =\n",
              "          document.querySelector('#df-59d7287b-52d5-4328-a79b-a65c64f7d526 button.colab-df-convert');\n",
              "        buttonEl.style.display =\n",
              "          google.colab.kernel.accessAllowed ? 'block' : 'none';\n",
              "\n",
              "        async function convertToInteractive(key) {\n",
              "          const element = document.querySelector('#df-59d7287b-52d5-4328-a79b-a65c64f7d526');\n",
              "          const dataTable =\n",
              "            await google.colab.kernel.invokeFunction('convertToInteractive',\n",
              "                                                     [key], {});\n",
              "          if (!dataTable) return;\n",
              "\n",
              "          const docLinkHtml = 'Like what you see? Visit the ' +\n",
              "            '<a target=\"_blank\" href=https://colab.research.google.com/notebooks/data_table.ipynb>data table notebook</a>'\n",
              "            + ' to learn more about interactive tables.';\n",
              "          element.innerHTML = '';\n",
              "          dataTable['output_type'] = 'display_data';\n",
              "          await google.colab.output.renderOutput(dataTable, element);\n",
              "          const docLink = document.createElement('div');\n",
              "          docLink.innerHTML = docLinkHtml;\n",
              "          element.appendChild(docLink);\n",
              "        }\n",
              "      </script>\n",
              "    </div>\n",
              "  </div>\n",
              "  "
            ]
          },
          "metadata": {},
          "execution_count": 24
        }
      ]
    },
    {
      "cell_type": "markdown",
      "source": [
        "- Testar se o DataFrame possui dados nulos"
      ],
      "metadata": {
        "id": "8yFxnOQmwDk6"
      }
    },
    {
      "cell_type": "code",
      "source": [
        "assert df_btc.isnull().sum().sum() == 0"
      ],
      "metadata": {
        "id": "Sk84FushxKQy"
      },
      "execution_count": null,
      "outputs": []
    },
    {
      "cell_type": "markdown",
      "source": [
        "- Separar os dados em Treino, Teste e Validação. "
      ],
      "metadata": {
        "id": "zRInT3dbwJvy"
      }
    },
    {
      "cell_type": "code",
      "source": [
        "qtd_linhas = len(df_btc)\n",
        "\n",
        "qtd_linhas_treino= round(.70 * qtd_linhas)\n",
        "qtd_linhas_teste= qtd_linhas - qtd_linhas_treino  \n",
        "qtd_linhas_validacao = qtd_linhas -1\n",
        "\n",
        "info = (\n",
        "    f\"linhas treino= 0:{qtd_linhas_treino}\"\n",
        "    f\" linhas teste= {qtd_linhas_treino}:{qtd_linhas_treino + qtd_linhas_teste -1}\"\n",
        "    f\" linhas validação= {qtd_linhas_validacao}\"\n",
        ")\n",
        "\n",
        "info"
      ],
      "metadata": {
        "colab": {
          "base_uri": "https://localhost:8080/",
          "height": 35
        },
        "id": "km4dWJkRs9AH",
        "outputId": "589e01d6-7f5f-4b18-a779-18466934c27c"
      },
      "execution_count": null,
      "outputs": [
        {
          "output_type": "execute_result",
          "data": {
            "text/plain": [
              "'linhas treino= 0:2061 linhas teste= 2061:2943 linhas validação= 2943'"
            ],
            "application/vnd.google.colaboratory.intrinsic+json": {
              "type": "string"
            }
          },
          "metadata": {},
          "execution_count": 26
        }
      ]
    },
    {
      "cell_type": "markdown",
      "source": [
        "- Separar a **labels** que será o target a ser encontrado pelo modelo preditivo\n",
        "- Separar as **features** que serão utilizadas para prever o valor final"
      ],
      "metadata": {
        "id": "SO2vROrYxaHK"
      }
    },
    {
      "cell_type": "code",
      "source": [
        "features = df_btc.drop(['timestamp', 'close'], 1)\n",
        "labels = df_btc['close']"
      ],
      "metadata": {
        "id": "f2BJx4Gks9DE"
      },
      "execution_count": null,
      "outputs": []
    },
    {
      "cell_type": "markdown",
      "source": [
        "- Escolhendo as melhores features com Kbest"
      ],
      "metadata": {
        "id": "accSLbKVx1Ui"
      }
    },
    {
      "cell_type": "code",
      "source": [
        "features_list = ('timestamp', 'open', 'high', 'low', 'Close', 'close', 'volume', 'mm7d', 'mm21d')\n",
        "\n",
        "k_best_features = SelectKBest(k='all')\n",
        "k_best_features.fit_transform(features, labels)\n",
        "k_best_features_scores = k_best_features.scores_\n",
        "raw_pairs = zip(features_list[1:], k_best_features_scores)\n",
        "ordered_pairs = list(reversed(sorted(raw_pairs, key=lambda x: x[1])))\n",
        "\n",
        "k_best_features_final = dict(ordered_pairs[:15])\n",
        "best_features = k_best_features_final.keys()\n",
        "\n",
        "print (\"\\nMelhores features:\")\n",
        "print (k_best_features_final)"
      ],
      "metadata": {
        "colab": {
          "base_uri": "https://localhost:8080/"
        },
        "id": "WS7D9-cns9Fw",
        "outputId": "68cb3274-1737-46d1-fc05-3a5f1fe980cc"
      },
      "execution_count": null,
      "outputs": [
        {
          "output_type": "stream",
          "name": "stdout",
          "text": [
            "\n",
            "Melhores features:\n",
            "{'Close': inf, 'mm7d': 3058237.8311888888, 'high': 177851.58887814588, 'volume': 15612.925489322564, 'low': 11226.237363073393, 'open': 9195.449256028236, 'close': 2334.7776075304796}\n"
          ]
        }
      ]
    },
    {
      "cell_type": "markdown",
      "source": [
        "- Separando as features escolhidas, com melhor pontuação"
      ],
      "metadata": {
        "id": "859MDpnVx5aC"
      }
    },
    {
      "cell_type": "code",
      "source": [
        "features = df_btc.loc[:,['mm21d','high', 'volume', 'low', 'open']]\n",
        "features"
      ],
      "metadata": {
        "colab": {
          "base_uri": "https://localhost:8080/",
          "height": 424
        },
        "id": "VZzojRaqu_r-",
        "outputId": "8519c610-4f79-49fa-de57-dd1853c04f91"
      },
      "execution_count": null,
      "outputs": [
        {
          "output_type": "execute_result",
          "data": {
            "text/plain": [
              "             mm21d          high       volume           low          open\n",
              "20      387.352142    339.247009     49199900    320.481995    330.584015\n",
              "21      382.380999    354.364014     54736300    327.187988    336.115997\n",
              "22      379.551761    382.726013     83641104    347.687012    352.747986\n",
              "23      377.969190    375.066986     43665700    352.963013    364.687012\n",
              "24      375.749906    367.191010     13345200    355.950989    361.362000\n",
              "...            ...           ...          ...           ...           ...\n",
              "2959  19404.246280  19589.125000  30202235805  19206.324219  19567.769531\n",
              "2960  19392.770740  20348.412109  47761524910  19261.447266  19344.964844\n",
              "2961  19421.805246  20938.134766  58895950537  20076.117188  20092.236328\n",
              "2962  19437.538225  20854.044922  49625110402  20255.373047  20772.802734\n",
              "2963  19487.466890  20724.980469  43994715910  20086.068359  20287.957031\n",
              "\n",
              "[2944 rows x 5 columns]"
            ],
            "text/html": [
              "\n",
              "  <div id=\"df-e32ba8b3-109a-4d84-bcda-20595e945108\">\n",
              "    <div class=\"colab-df-container\">\n",
              "      <div>\n",
              "<style scoped>\n",
              "    .dataframe tbody tr th:only-of-type {\n",
              "        vertical-align: middle;\n",
              "    }\n",
              "\n",
              "    .dataframe tbody tr th {\n",
              "        vertical-align: top;\n",
              "    }\n",
              "\n",
              "    .dataframe thead th {\n",
              "        text-align: right;\n",
              "    }\n",
              "</style>\n",
              "<table border=\"1\" class=\"dataframe\">\n",
              "  <thead>\n",
              "    <tr style=\"text-align: right;\">\n",
              "      <th></th>\n",
              "      <th>mm21d</th>\n",
              "      <th>high</th>\n",
              "      <th>volume</th>\n",
              "      <th>low</th>\n",
              "      <th>open</th>\n",
              "    </tr>\n",
              "  </thead>\n",
              "  <tbody>\n",
              "    <tr>\n",
              "      <th>20</th>\n",
              "      <td>387.352142</td>\n",
              "      <td>339.247009</td>\n",
              "      <td>49199900</td>\n",
              "      <td>320.481995</td>\n",
              "      <td>330.584015</td>\n",
              "    </tr>\n",
              "    <tr>\n",
              "      <th>21</th>\n",
              "      <td>382.380999</td>\n",
              "      <td>354.364014</td>\n",
              "      <td>54736300</td>\n",
              "      <td>327.187988</td>\n",
              "      <td>336.115997</td>\n",
              "    </tr>\n",
              "    <tr>\n",
              "      <th>22</th>\n",
              "      <td>379.551761</td>\n",
              "      <td>382.726013</td>\n",
              "      <td>83641104</td>\n",
              "      <td>347.687012</td>\n",
              "      <td>352.747986</td>\n",
              "    </tr>\n",
              "    <tr>\n",
              "      <th>23</th>\n",
              "      <td>377.969190</td>\n",
              "      <td>375.066986</td>\n",
              "      <td>43665700</td>\n",
              "      <td>352.963013</td>\n",
              "      <td>364.687012</td>\n",
              "    </tr>\n",
              "    <tr>\n",
              "      <th>24</th>\n",
              "      <td>375.749906</td>\n",
              "      <td>367.191010</td>\n",
              "      <td>13345200</td>\n",
              "      <td>355.950989</td>\n",
              "      <td>361.362000</td>\n",
              "    </tr>\n",
              "    <tr>\n",
              "      <th>...</th>\n",
              "      <td>...</td>\n",
              "      <td>...</td>\n",
              "      <td>...</td>\n",
              "      <td>...</td>\n",
              "      <td>...</td>\n",
              "    </tr>\n",
              "    <tr>\n",
              "      <th>2959</th>\n",
              "      <td>19404.246280</td>\n",
              "      <td>19589.125000</td>\n",
              "      <td>30202235805</td>\n",
              "      <td>19206.324219</td>\n",
              "      <td>19567.769531</td>\n",
              "    </tr>\n",
              "    <tr>\n",
              "      <th>2960</th>\n",
              "      <td>19392.770740</td>\n",
              "      <td>20348.412109</td>\n",
              "      <td>47761524910</td>\n",
              "      <td>19261.447266</td>\n",
              "      <td>19344.964844</td>\n",
              "    </tr>\n",
              "    <tr>\n",
              "      <th>2961</th>\n",
              "      <td>19421.805246</td>\n",
              "      <td>20938.134766</td>\n",
              "      <td>58895950537</td>\n",
              "      <td>20076.117188</td>\n",
              "      <td>20092.236328</td>\n",
              "    </tr>\n",
              "    <tr>\n",
              "      <th>2962</th>\n",
              "      <td>19437.538225</td>\n",
              "      <td>20854.044922</td>\n",
              "      <td>49625110402</td>\n",
              "      <td>20255.373047</td>\n",
              "      <td>20772.802734</td>\n",
              "    </tr>\n",
              "    <tr>\n",
              "      <th>2963</th>\n",
              "      <td>19487.466890</td>\n",
              "      <td>20724.980469</td>\n",
              "      <td>43994715910</td>\n",
              "      <td>20086.068359</td>\n",
              "      <td>20287.957031</td>\n",
              "    </tr>\n",
              "  </tbody>\n",
              "</table>\n",
              "<p>2944 rows × 5 columns</p>\n",
              "</div>\n",
              "      <button class=\"colab-df-convert\" onclick=\"convertToInteractive('df-e32ba8b3-109a-4d84-bcda-20595e945108')\"\n",
              "              title=\"Convert this dataframe to an interactive table.\"\n",
              "              style=\"display:none;\">\n",
              "        \n",
              "  <svg xmlns=\"http://www.w3.org/2000/svg\" height=\"24px\"viewBox=\"0 0 24 24\"\n",
              "       width=\"24px\">\n",
              "    <path d=\"M0 0h24v24H0V0z\" fill=\"none\"/>\n",
              "    <path d=\"M18.56 5.44l.94 2.06.94-2.06 2.06-.94-2.06-.94-.94-2.06-.94 2.06-2.06.94zm-11 1L8.5 8.5l.94-2.06 2.06-.94-2.06-.94L8.5 2.5l-.94 2.06-2.06.94zm10 10l.94 2.06.94-2.06 2.06-.94-2.06-.94-.94-2.06-.94 2.06-2.06.94z\"/><path d=\"M17.41 7.96l-1.37-1.37c-.4-.4-.92-.59-1.43-.59-.52 0-1.04.2-1.43.59L10.3 9.45l-7.72 7.72c-.78.78-.78 2.05 0 2.83L4 21.41c.39.39.9.59 1.41.59.51 0 1.02-.2 1.41-.59l7.78-7.78 2.81-2.81c.8-.78.8-2.07 0-2.86zM5.41 20L4 18.59l7.72-7.72 1.47 1.35L5.41 20z\"/>\n",
              "  </svg>\n",
              "      </button>\n",
              "      \n",
              "  <style>\n",
              "    .colab-df-container {\n",
              "      display:flex;\n",
              "      flex-wrap:wrap;\n",
              "      gap: 12px;\n",
              "    }\n",
              "\n",
              "    .colab-df-convert {\n",
              "      background-color: #E8F0FE;\n",
              "      border: none;\n",
              "      border-radius: 50%;\n",
              "      cursor: pointer;\n",
              "      display: none;\n",
              "      fill: #1967D2;\n",
              "      height: 32px;\n",
              "      padding: 0 0 0 0;\n",
              "      width: 32px;\n",
              "    }\n",
              "\n",
              "    .colab-df-convert:hover {\n",
              "      background-color: #E2EBFA;\n",
              "      box-shadow: 0px 1px 2px rgba(60, 64, 67, 0.3), 0px 1px 3px 1px rgba(60, 64, 67, 0.15);\n",
              "      fill: #174EA6;\n",
              "    }\n",
              "\n",
              "    [theme=dark] .colab-df-convert {\n",
              "      background-color: #3B4455;\n",
              "      fill: #D2E3FC;\n",
              "    }\n",
              "\n",
              "    [theme=dark] .colab-df-convert:hover {\n",
              "      background-color: #434B5C;\n",
              "      box-shadow: 0px 1px 3px 1px rgba(0, 0, 0, 0.15);\n",
              "      filter: drop-shadow(0px 1px 2px rgba(0, 0, 0, 0.3));\n",
              "      fill: #FFFFFF;\n",
              "    }\n",
              "  </style>\n",
              "\n",
              "      <script>\n",
              "        const buttonEl =\n",
              "          document.querySelector('#df-e32ba8b3-109a-4d84-bcda-20595e945108 button.colab-df-convert');\n",
              "        buttonEl.style.display =\n",
              "          google.colab.kernel.accessAllowed ? 'block' : 'none';\n",
              "\n",
              "        async function convertToInteractive(key) {\n",
              "          const element = document.querySelector('#df-e32ba8b3-109a-4d84-bcda-20595e945108');\n",
              "          const dataTable =\n",
              "            await google.colab.kernel.invokeFunction('convertToInteractive',\n",
              "                                                     [key], {});\n",
              "          if (!dataTable) return;\n",
              "\n",
              "          const docLinkHtml = 'Like what you see? Visit the ' +\n",
              "            '<a target=\"_blank\" href=https://colab.research.google.com/notebooks/data_table.ipynb>data table notebook</a>'\n",
              "            + ' to learn more about interactive tables.';\n",
              "          element.innerHTML = '';\n",
              "          dataTable['output_type'] = 'display_data';\n",
              "          await google.colab.output.renderOutput(dataTable, element);\n",
              "          const docLink = document.createElement('div');\n",
              "          docLink.innerHTML = docLinkHtml;\n",
              "          element.appendChild(docLink);\n",
              "        }\n",
              "      </script>\n",
              "    </div>\n",
              "  </div>\n",
              "  "
            ]
          },
          "metadata": {},
          "execution_count": 29
        }
      ]
    },
    {
      "cell_type": "markdown",
      "source": [
        "- Criando Pipeline"
      ],
      "metadata": {
        "id": "R0muN60Nm9ft"
      }
    },
    {
      "cell_type": "code",
      "source": [
        "pipeline_linear_regression = make_pipeline(MinMaxScaler(), LinearRegression())"
      ],
      "metadata": {
        "id": "nhzFEDP1myuc"
      },
      "execution_count": null,
      "outputs": []
    },
    {
      "cell_type": "markdown",
      "source": [],
      "metadata": {
        "id": "Ok2GPU77yDhq"
      }
    },
    {
      "cell_type": "markdown",
      "source": [
        "- Separa os dados de treino teste e validação"
      ],
      "metadata": {
        "id": "vuH9rqRkyFqq"
      }
    },
    {
      "cell_type": "code",
      "source": [
        "\n",
        "X_train = features[:qtd_linhas_treino]\n",
        "X_test = features[qtd_linhas_treino:qtd_linhas_treino + qtd_linhas_teste -1]\n",
        "\n",
        "y_train = labels[:qtd_linhas_treino]\n",
        "y_test = labels[qtd_linhas_treino:qtd_linhas_treino + qtd_linhas_teste -1]\n",
        "\n",
        "print( len(X_train), len(y_train))\n",
        "\n",
        "print( len(X_test), len(y_test))"
      ],
      "metadata": {
        "colab": {
          "base_uri": "https://localhost:8080/"
        },
        "id": "WSkeTZq9u_ut",
        "outputId": "e68e8cad-d4cb-434a-a6e7-29ac8c2c11f1"
      },
      "execution_count": null,
      "outputs": [
        {
          "output_type": "stream",
          "name": "stdout",
          "text": [
            "2061 2061\n",
            "882 882\n"
          ]
        }
      ]
    },
    {
      "cell_type": "markdown",
      "source": [
        "- Treina modelo"
      ],
      "metadata": {
        "id": "w3oopIFM8CGs"
      }
    },
    {
      "cell_type": "code",
      "source": [
        "pipeline_linear_regression.fit(X_train, y_train)"
      ],
      "metadata": {
        "colab": {
          "base_uri": "https://localhost:8080/"
        },
        "id": "mbdd4IOunOuJ",
        "outputId": "f696c664-d681-4ad2-efc2-2fdd74907803"
      },
      "execution_count": null,
      "outputs": [
        {
          "output_type": "execute_result",
          "data": {
            "text/plain": [
              "Pipeline(steps=[('minmaxscaler', MinMaxScaler()),\n",
              "                ('linearregression', LinearRegression())])"
            ]
          },
          "metadata": {},
          "execution_count": 32
        }
      ]
    },
    {
      "cell_type": "markdown",
      "source": [
        "- Confere "
      ],
      "metadata": {
        "id": "yTVOPZ-c8F6D"
      }
    },
    {
      "cell_type": "code",
      "source": [
        "score_model = pipeline_linear_regression.score(X_test, y_test)"
      ],
      "metadata": {
        "id": "3CA1WtRInY05"
      },
      "execution_count": null,
      "outputs": []
    },
    {
      "cell_type": "markdown",
      "source": [
        "- Pega último dado do dataframe"
      ],
      "metadata": {
        "id": "PMAgF8RO8O7F"
      }
    },
    {
      "cell_type": "code",
      "source": [
        "data_pred = ['mm21d','high', 'volume', 'low', 'open']\n",
        "df_btc.tail(1)"
      ],
      "metadata": {
        "colab": {
          "base_uri": "https://localhost:8080/",
          "height": 81
        },
        "id": "lioyLP9en1OB",
        "outputId": "9b2942f1-933e-4c47-913c-650c307d5878"
      },
      "execution_count": null,
      "outputs": [
        {
          "output_type": "execute_result",
          "data": {
            "text/plain": [
              "      timestamp          open          high           low         Close  \\\n",
              "2963 2022-10-29  20287.957031  20724.980469  20086.068359  20595.351562   \n",
              "\n",
              "             close       volume          mm7d        mm21d  \n",
              "2963  20595.351562  43994715910  19981.179408  19487.46689  "
            ],
            "text/html": [
              "\n",
              "  <div id=\"df-25a7747c-c0d4-44ac-9fec-6305649cbbb3\">\n",
              "    <div class=\"colab-df-container\">\n",
              "      <div>\n",
              "<style scoped>\n",
              "    .dataframe tbody tr th:only-of-type {\n",
              "        vertical-align: middle;\n",
              "    }\n",
              "\n",
              "    .dataframe tbody tr th {\n",
              "        vertical-align: top;\n",
              "    }\n",
              "\n",
              "    .dataframe thead th {\n",
              "        text-align: right;\n",
              "    }\n",
              "</style>\n",
              "<table border=\"1\" class=\"dataframe\">\n",
              "  <thead>\n",
              "    <tr style=\"text-align: right;\">\n",
              "      <th></th>\n",
              "      <th>timestamp</th>\n",
              "      <th>open</th>\n",
              "      <th>high</th>\n",
              "      <th>low</th>\n",
              "      <th>Close</th>\n",
              "      <th>close</th>\n",
              "      <th>volume</th>\n",
              "      <th>mm7d</th>\n",
              "      <th>mm21d</th>\n",
              "    </tr>\n",
              "  </thead>\n",
              "  <tbody>\n",
              "    <tr>\n",
              "      <th>2963</th>\n",
              "      <td>2022-10-29</td>\n",
              "      <td>20287.957031</td>\n",
              "      <td>20724.980469</td>\n",
              "      <td>20086.068359</td>\n",
              "      <td>20595.351562</td>\n",
              "      <td>20595.351562</td>\n",
              "      <td>43994715910</td>\n",
              "      <td>19981.179408</td>\n",
              "      <td>19487.46689</td>\n",
              "    </tr>\n",
              "  </tbody>\n",
              "</table>\n",
              "</div>\n",
              "      <button class=\"colab-df-convert\" onclick=\"convertToInteractive('df-25a7747c-c0d4-44ac-9fec-6305649cbbb3')\"\n",
              "              title=\"Convert this dataframe to an interactive table.\"\n",
              "              style=\"display:none;\">\n",
              "        \n",
              "  <svg xmlns=\"http://www.w3.org/2000/svg\" height=\"24px\"viewBox=\"0 0 24 24\"\n",
              "       width=\"24px\">\n",
              "    <path d=\"M0 0h24v24H0V0z\" fill=\"none\"/>\n",
              "    <path d=\"M18.56 5.44l.94 2.06.94-2.06 2.06-.94-2.06-.94-.94-2.06-.94 2.06-2.06.94zm-11 1L8.5 8.5l.94-2.06 2.06-.94-2.06-.94L8.5 2.5l-.94 2.06-2.06.94zm10 10l.94 2.06.94-2.06 2.06-.94-2.06-.94-.94-2.06-.94 2.06-2.06.94z\"/><path d=\"M17.41 7.96l-1.37-1.37c-.4-.4-.92-.59-1.43-.59-.52 0-1.04.2-1.43.59L10.3 9.45l-7.72 7.72c-.78.78-.78 2.05 0 2.83L4 21.41c.39.39.9.59 1.41.59.51 0 1.02-.2 1.41-.59l7.78-7.78 2.81-2.81c.8-.78.8-2.07 0-2.86zM5.41 20L4 18.59l7.72-7.72 1.47 1.35L5.41 20z\"/>\n",
              "  </svg>\n",
              "      </button>\n",
              "      \n",
              "  <style>\n",
              "    .colab-df-container {\n",
              "      display:flex;\n",
              "      flex-wrap:wrap;\n",
              "      gap: 12px;\n",
              "    }\n",
              "\n",
              "    .colab-df-convert {\n",
              "      background-color: #E8F0FE;\n",
              "      border: none;\n",
              "      border-radius: 50%;\n",
              "      cursor: pointer;\n",
              "      display: none;\n",
              "      fill: #1967D2;\n",
              "      height: 32px;\n",
              "      padding: 0 0 0 0;\n",
              "      width: 32px;\n",
              "    }\n",
              "\n",
              "    .colab-df-convert:hover {\n",
              "      background-color: #E2EBFA;\n",
              "      box-shadow: 0px 1px 2px rgba(60, 64, 67, 0.3), 0px 1px 3px 1px rgba(60, 64, 67, 0.15);\n",
              "      fill: #174EA6;\n",
              "    }\n",
              "\n",
              "    [theme=dark] .colab-df-convert {\n",
              "      background-color: #3B4455;\n",
              "      fill: #D2E3FC;\n",
              "    }\n",
              "\n",
              "    [theme=dark] .colab-df-convert:hover {\n",
              "      background-color: #434B5C;\n",
              "      box-shadow: 0px 1px 3px 1px rgba(0, 0, 0, 0.15);\n",
              "      filter: drop-shadow(0px 1px 2px rgba(0, 0, 0, 0.3));\n",
              "      fill: #FFFFFF;\n",
              "    }\n",
              "  </style>\n",
              "\n",
              "      <script>\n",
              "        const buttonEl =\n",
              "          document.querySelector('#df-25a7747c-c0d4-44ac-9fec-6305649cbbb3 button.colab-df-convert');\n",
              "        buttonEl.style.display =\n",
              "          google.colab.kernel.accessAllowed ? 'block' : 'none';\n",
              "\n",
              "        async function convertToInteractive(key) {\n",
              "          const element = document.querySelector('#df-25a7747c-c0d4-44ac-9fec-6305649cbbb3');\n",
              "          const dataTable =\n",
              "            await google.colab.kernel.invokeFunction('convertToInteractive',\n",
              "                                                     [key], {});\n",
              "          if (!dataTable) return;\n",
              "\n",
              "          const docLinkHtml = 'Like what you see? Visit the ' +\n",
              "            '<a target=\"_blank\" href=https://colab.research.google.com/notebooks/data_table.ipynb>data table notebook</a>'\n",
              "            + ' to learn more about interactive tables.';\n",
              "          element.innerHTML = '';\n",
              "          dataTable['output_type'] = 'display_data';\n",
              "          await google.colab.output.renderOutput(dataTable, element);\n",
              "          const docLink = document.createElement('div');\n",
              "          docLink.innerHTML = docLinkHtml;\n",
              "          element.appendChild(docLink);\n",
              "        }\n",
              "      </script>\n",
              "    </div>\n",
              "  </div>\n",
              "  "
            ]
          },
          "metadata": {},
          "execution_count": 34
        }
      ]
    },
    {
      "cell_type": "markdown",
      "source": [
        "## Testar a predição"
      ],
      "metadata": {
        "id": "EbKjFx4L8XBU"
      }
    },
    {
      "cell_type": "code",
      "source": [
        "y_predicted = pipeline_linear_regression.predict(df_btc.tail(1)[data_pred])\n",
        "y_predicted"
      ],
      "metadata": {
        "colab": {
          "base_uri": "https://localhost:8080/"
        },
        "id": "LhP_P8ppnYoZ",
        "outputId": "d2fb9559-0f20-45bb-b416-0208ae2945e0"
      },
      "execution_count": null,
      "outputs": [
        {
          "output_type": "execute_result",
          "data": {
            "text/plain": [
              "array([20460.40250202])"
            ]
          },
          "metadata": {},
          "execution_count": 35
        }
      ]
    },
    {
      "cell_type": "markdown",
      "source": [
        "## Metricas de Avaliação"
      ],
      "metadata": {
        "id": "Beux1PdyyfNB"
      }
    },
    {
      "cell_type": "code",
      "source": [
        "f'Teste pontuação para avaliar a consistência do modelo: {score_model * 100:.2f}%'"
      ],
      "metadata": {
        "colab": {
          "base_uri": "https://localhost:8080/",
          "height": 35
        },
        "id": "x27b6xq4yqty",
        "outputId": "8653cfab-84d6-4b1b-97a5-2b548d05aa2f"
      },
      "execution_count": null,
      "outputs": [
        {
          "output_type": "execute_result",
          "data": {
            "text/plain": [
              "'Teste pontuação para avaliar a consistência do modelo: 99.87%'"
            ],
            "application/vnd.google.colaboratory.intrinsic+json": {
              "type": "string"
            }
          },
          "metadata": {},
          "execution_count": 36
        }
      ]
    },
    {
      "cell_type": "code",
      "source": [
        "rmse = sqrt(mean_squared_error(df_btc.tail(1)[\"close\"], y_predicted))\n",
        "rmse"
      ],
      "metadata": {
        "colab": {
          "base_uri": "https://localhost:8080/"
        },
        "id": "WE4M1u2DyKFM",
        "outputId": "966ea233-410a-4303-a5d9-0cfee7c21bcf"
      },
      "execution_count": null,
      "outputs": [
        {
          "output_type": "execute_result",
          "data": {
            "text/plain": [
              "134.94906047671975"
            ]
          },
          "metadata": {},
          "execution_count": 37
        }
      ]
    },
    {
      "cell_type": "code",
      "source": [
        "r2 = r2_score(np.array(list(df_btc.tail(1)[\"close\"])), y_predicted)\n",
        "r2"
      ],
      "metadata": {
        "colab": {
          "base_uri": "https://localhost:8080/"
        },
        "id": "gUENLexmy9I7",
        "outputId": "4a62b75e-3105-4ca8-d5e7-4c4545275632"
      },
      "execution_count": null,
      "outputs": [
        {
          "output_type": "execute_result",
          "data": {
            "text/plain": [
              "nan"
            ]
          },
          "metadata": {},
          "execution_count": 38
        }
      ]
    },
    {
      "cell_type": "markdown",
      "source": [
        "- Realizar a predição com os dados de testes(dados que o modelo desconhece)"
      ],
      "metadata": {
        "id": "jW34sUhzA7Sc"
      }
    },
    {
      "cell_type": "code",
      "source": [
        "previsao = features[qtd_linhas_treino:qtd_linhas_treino + qtd_linhas_teste -1]\n",
        "\n",
        "data_btc_full=df_btc[\"timestamp\"]\n",
        "data_btc = data_btc_full[qtd_linhas_treino:qtd_linhas_treino + qtd_linhas_teste -1]\n",
        "\n",
        "res_full = df_btc[\"close\"]\n",
        "res = res_full[qtd_linhas_treino:qtd_linhas_treino + qtd_linhas_teste -1]\n",
        "\n",
        "\n",
        "predict2 = pipeline_linear_regression.predict(previsao)\n",
        "\n",
        "\n",
        "df = pd.DataFrame({ \"data_bitcoin\": data_btc, \"real\": res , \"previsao\": predict2 })\n",
        "\n",
        "df[\"real\"] = df[\"real\"].shift(+1)\n",
        "\n",
        "df.set_index(\"data_bitcoin\", inplace= True)\n",
        "\n",
        "df.tail()\n",
        "\n"
      ],
      "metadata": {
        "colab": {
          "base_uri": "https://localhost:8080/",
          "height": 238
        },
        "id": "xvcNFxHL6RED",
        "outputId": "4a2b5eaf-4b22-45e6-c4e3-41e12efe2da3"
      },
      "execution_count": null,
      "outputs": [
        {
          "output_type": "execute_result",
          "data": {
            "text/plain": [
              "                      real      previsao\n",
              "data_bitcoin                            \n",
              "2022-10-24    19208.189453  19477.765773\n",
              "2022-10-25    19567.007812  19278.839924\n",
              "2022-10-26    19345.572266  20101.564606\n",
              "2022-10-27    20095.857422  20742.901742\n",
              "2022-10-28    20770.441406  20416.305149"
            ],
            "text/html": [
              "\n",
              "  <div id=\"df-84f773e6-9834-4897-8fca-782de3aac65f\">\n",
              "    <div class=\"colab-df-container\">\n",
              "      <div>\n",
              "<style scoped>\n",
              "    .dataframe tbody tr th:only-of-type {\n",
              "        vertical-align: middle;\n",
              "    }\n",
              "\n",
              "    .dataframe tbody tr th {\n",
              "        vertical-align: top;\n",
              "    }\n",
              "\n",
              "    .dataframe thead th {\n",
              "        text-align: right;\n",
              "    }\n",
              "</style>\n",
              "<table border=\"1\" class=\"dataframe\">\n",
              "  <thead>\n",
              "    <tr style=\"text-align: right;\">\n",
              "      <th></th>\n",
              "      <th>real</th>\n",
              "      <th>previsao</th>\n",
              "    </tr>\n",
              "    <tr>\n",
              "      <th>data_bitcoin</th>\n",
              "      <th></th>\n",
              "      <th></th>\n",
              "    </tr>\n",
              "  </thead>\n",
              "  <tbody>\n",
              "    <tr>\n",
              "      <th>2022-10-24</th>\n",
              "      <td>19208.189453</td>\n",
              "      <td>19477.765773</td>\n",
              "    </tr>\n",
              "    <tr>\n",
              "      <th>2022-10-25</th>\n",
              "      <td>19567.007812</td>\n",
              "      <td>19278.839924</td>\n",
              "    </tr>\n",
              "    <tr>\n",
              "      <th>2022-10-26</th>\n",
              "      <td>19345.572266</td>\n",
              "      <td>20101.564606</td>\n",
              "    </tr>\n",
              "    <tr>\n",
              "      <th>2022-10-27</th>\n",
              "      <td>20095.857422</td>\n",
              "      <td>20742.901742</td>\n",
              "    </tr>\n",
              "    <tr>\n",
              "      <th>2022-10-28</th>\n",
              "      <td>20770.441406</td>\n",
              "      <td>20416.305149</td>\n",
              "    </tr>\n",
              "  </tbody>\n",
              "</table>\n",
              "</div>\n",
              "      <button class=\"colab-df-convert\" onclick=\"convertToInteractive('df-84f773e6-9834-4897-8fca-782de3aac65f')\"\n",
              "              title=\"Convert this dataframe to an interactive table.\"\n",
              "              style=\"display:none;\">\n",
              "        \n",
              "  <svg xmlns=\"http://www.w3.org/2000/svg\" height=\"24px\"viewBox=\"0 0 24 24\"\n",
              "       width=\"24px\">\n",
              "    <path d=\"M0 0h24v24H0V0z\" fill=\"none\"/>\n",
              "    <path d=\"M18.56 5.44l.94 2.06.94-2.06 2.06-.94-2.06-.94-.94-2.06-.94 2.06-2.06.94zm-11 1L8.5 8.5l.94-2.06 2.06-.94-2.06-.94L8.5 2.5l-.94 2.06-2.06.94zm10 10l.94 2.06.94-2.06 2.06-.94-2.06-.94-.94-2.06-.94 2.06-2.06.94z\"/><path d=\"M17.41 7.96l-1.37-1.37c-.4-.4-.92-.59-1.43-.59-.52 0-1.04.2-1.43.59L10.3 9.45l-7.72 7.72c-.78.78-.78 2.05 0 2.83L4 21.41c.39.39.9.59 1.41.59.51 0 1.02-.2 1.41-.59l7.78-7.78 2.81-2.81c.8-.78.8-2.07 0-2.86zM5.41 20L4 18.59l7.72-7.72 1.47 1.35L5.41 20z\"/>\n",
              "  </svg>\n",
              "      </button>\n",
              "      \n",
              "  <style>\n",
              "    .colab-df-container {\n",
              "      display:flex;\n",
              "      flex-wrap:wrap;\n",
              "      gap: 12px;\n",
              "    }\n",
              "\n",
              "    .colab-df-convert {\n",
              "      background-color: #E8F0FE;\n",
              "      border: none;\n",
              "      border-radius: 50%;\n",
              "      cursor: pointer;\n",
              "      display: none;\n",
              "      fill: #1967D2;\n",
              "      height: 32px;\n",
              "      padding: 0 0 0 0;\n",
              "      width: 32px;\n",
              "    }\n",
              "\n",
              "    .colab-df-convert:hover {\n",
              "      background-color: #E2EBFA;\n",
              "      box-shadow: 0px 1px 2px rgba(60, 64, 67, 0.3), 0px 1px 3px 1px rgba(60, 64, 67, 0.15);\n",
              "      fill: #174EA6;\n",
              "    }\n",
              "\n",
              "    [theme=dark] .colab-df-convert {\n",
              "      background-color: #3B4455;\n",
              "      fill: #D2E3FC;\n",
              "    }\n",
              "\n",
              "    [theme=dark] .colab-df-convert:hover {\n",
              "      background-color: #434B5C;\n",
              "      box-shadow: 0px 1px 3px 1px rgba(0, 0, 0, 0.15);\n",
              "      filter: drop-shadow(0px 1px 2px rgba(0, 0, 0, 0.3));\n",
              "      fill: #FFFFFF;\n",
              "    }\n",
              "  </style>\n",
              "\n",
              "      <script>\n",
              "        const buttonEl =\n",
              "          document.querySelector('#df-84f773e6-9834-4897-8fca-782de3aac65f button.colab-df-convert');\n",
              "        buttonEl.style.display =\n",
              "          google.colab.kernel.accessAllowed ? 'block' : 'none';\n",
              "\n",
              "        async function convertToInteractive(key) {\n",
              "          const element = document.querySelector('#df-84f773e6-9834-4897-8fca-782de3aac65f');\n",
              "          const dataTable =\n",
              "            await google.colab.kernel.invokeFunction('convertToInteractive',\n",
              "                                                     [key], {});\n",
              "          if (!dataTable) return;\n",
              "\n",
              "          const docLinkHtml = 'Like what you see? Visit the ' +\n",
              "            '<a target=\"_blank\" href=https://colab.research.google.com/notebooks/data_table.ipynb>data table notebook</a>'\n",
              "            + ' to learn more about interactive tables.';\n",
              "          element.innerHTML = '';\n",
              "          dataTable['output_type'] = 'display_data';\n",
              "          await google.colab.output.renderOutput(dataTable, element);\n",
              "          const docLink = document.createElement('div');\n",
              "          docLink.innerHTML = docLinkHtml;\n",
              "          element.appendChild(docLink);\n",
              "        }\n",
              "      </script>\n",
              "    </div>\n",
              "  </div>\n",
              "  "
            ]
          },
          "metadata": {},
          "execution_count": 39
        }
      ]
    },
    {
      "cell_type": "code",
      "source": [
        "# r2 = r2_score(df[\"real\"], df[\"previsao\"], force_finite=False)\n",
        "\n",
        "r2 = r2_score(np.array(list(df_btc.tail(1)[\"close\"])), y_predicted)\n",
        "r2"
      ],
      "metadata": {
        "colab": {
          "base_uri": "https://localhost:8080/"
        },
        "id": "TK8HT9kVzgb_",
        "outputId": "adfd439d-6c90-4744-be7d-a27703c85c43"
      },
      "execution_count": null,
      "outputs": [
        {
          "output_type": "execute_result",
          "data": {
            "text/plain": [
              "nan"
            ]
          },
          "metadata": {},
          "execution_count": 40
        }
      ]
    },
    {
      "cell_type": "code",
      "source": [
        "df_r2 = df\n",
        "df_r2.reset_index(inplace=True)\n",
        "df_r2.dropna(inplace=True)"
      ],
      "metadata": {
        "id": "G4HW5fT32J0A"
      },
      "execution_count": null,
      "outputs": []
    },
    {
      "cell_type": "code",
      "source": [
        "r2 = r2_score(df_r2[\"real\"], df_r2[\"previsao\"])\n",
        "r2"
      ],
      "metadata": {
        "colab": {
          "base_uri": "https://localhost:8080/"
        },
        "id": "2KNKWKON251e",
        "outputId": "638b653e-ccbf-436c-dc0e-8aaf4e35b8fa"
      },
      "execution_count": null,
      "outputs": [
        {
          "output_type": "execute_result",
          "data": {
            "text/plain": [
              "0.993875387198412"
            ]
          },
          "metadata": {},
          "execution_count": 42
        }
      ]
    },
    {
      "cell_type": "markdown",
      "source": [
        "- Plotar os resultados"
      ],
      "metadata": {
        "id": "gFLwsKCnBJ28"
      }
    },
    {
      "cell_type": "code",
      "source": [
        "plt.figure(figsize=(25,12))\n",
        "plt.title(\"Analise preço bitcoin com dados de teste\")\n",
        "plt.plot(df[\"real\"], label=\"real\", color=\"blue\")\n",
        "plt.plot(df[\"previsao\"], label=\"previsao\", color=\"red\")\n",
        "plt.xlabel(\"Data\")\n",
        "plt.ylabel(\"Preço de Fechamento\")\n",
        "leg = plt.legend()"
      ],
      "metadata": {
        "colab": {
          "base_uri": "https://localhost:8080/",
          "height": 626
        },
        "id": "BADKUbAvva-J",
        "outputId": "7007f4e9-a8b3-4fdb-c308-ce30567f658e"
      },
      "execution_count": null,
      "outputs": [
        {
          "output_type": "display_data",
          "data": {
            "text/plain": [
              "<Figure size 1800x864 with 1 Axes>"
            ],
            "image/png": "[encoded data removed]"
          },
          "metadata": {
            "needs_background": "light"
          }
        }
      ]
    },
    {
      "cell_type": "code",
      "source": [
        "sns.set_style('whitegrid')\n",
        "sns.set(rc={'figure.figsize':(24, 12)})\n",
        "sns.regplot(x =\"real\", y =\"previsao\", data = df, ci=False, order=2)"
      ],
      "metadata": {
        "colab": {
          "base_uri": "https://localhost:8080/",
          "height": 649
        },
        "id": "3iczwjHLsnNo",
        "outputId": "24b545c4-17e9-4d90-c21e-1f306ab5ef08"
      },
      "execution_count": null,
      "outputs": [
        {
          "output_type": "execute_result",
          "data": {
            "text/plain": [
              "<matplotlib.axes._subplots.AxesSubplot at 0x7f08f67b6610>"
            ]
          },
          "metadata": {},
          "execution_count": 44
        },
        {
          "output_type": "display_data",
          "data": {
            "text/plain": [
              "<Figure size 1728x864 with 1 Axes>"
            ],
            "image/png": "[encoded data removed]"
          },
          "metadata": {}
        }
      ]
    },
    {
      "cell_type": "markdown",
      "source": [
        "- Export modelo preditivo "
      ],
      "metadata": {
        "id": "ym9fUM-5x-gj"
      }
    },
    {
      "cell_type": "code",
      "source": [
        "joblib.dump(pipeline_linear_regression, 'model_btc_usd.pkl')"
      ],
      "metadata": {
        "id": "pyu5yBRFsnTp",
        "colab": {
          "base_uri": "https://localhost:8080/"
        },
        "outputId": "fcafa8c9-cd92-4993-cfe8-eb986b905bb6"
      },
      "execution_count": null,
      "outputs": [
        {
          "output_type": "execute_result",
          "data": {
            "text/plain": [
              "['model_btc_usd.pkl']"
            ]
          },
          "metadata": {},
          "execution_count": 45
        }
      ]
    },
    {
      "cell_type": "markdown",
      "source": [
        "- Import modelo preditivo"
      ],
      "metadata": {
        "id": "x6qezcv5yBlL"
      }
    },
    {
      "cell_type": "code",
      "source": [
        "model = joblib.load('model_btc_usd.pkl')"
      ],
      "metadata": {
        "id": "eobLnSMHIt13"
      },
      "execution_count": null,
      "outputs": []
    },
    {
      "cell_type": "code",
      "source": [],
      "metadata": {
        "id": "sKtWqU-oJeaN"
      },
      "execution_count": null,
      "outputs": []
    }
  ]
}