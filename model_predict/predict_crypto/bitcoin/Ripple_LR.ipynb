{
  "nbformat": 4,
  "nbformat_minor": 0,
  "metadata": {
    "colab": {
      "provenance": [],
      "collapsed_sections": [],
      "include_colab_link": true
    },
    "kernelspec": {
      "name": "python3",
      "display_name": "Python 3"
    },
    "language_info": {
      "name": "python"
    }
  },
  "cells": [
    {
      "cell_type": "markdown",
      "metadata": {
        "id": "view-in-github",
        "colab_type": "text"
      },
      "source": [
        "<a href=\"https://colab.research.google.com/github/fabriciocovalesci/tcc_predict_crypto/blob/main/model_predict/predict_crypto/bitcoin/Ripple_LR.ipynb\" target=\"_parent\"><img src=\"https://colab.research.google.com/assets/colab-badge.svg\" alt=\"Open In Colab\"/></a>"
      ]
    },
    {
      "cell_type": "markdown",
      "source": [
        "### Modelo preditivo Ripple"
      ],
      "metadata": {
        "id": "LnhRNFDuuqQj"
      }
    },
    {
      "cell_type": "markdown",
      "source": [
        "- Instalar biblioteca **yfinance**"
      ],
      "metadata": {
        "id": "9aH0e44yuqIl"
      }
    },
    {
      "cell_type": "code",
      "execution_count": 1,
      "metadata": {
        "colab": {
          "base_uri": "https://localhost:8080/"
        },
        "id": "XI7yeySJr7dG",
        "outputId": "bb61055b-17e4-44b6-bd67-905e059b0093"
      },
      "outputs": [
        {
          "output_type": "stream",
          "name": "stdout",
          "text": [
            "Looking in indexes: https://pypi.org/simple, https://us-python.pkg.dev/colab-wheels/public/simple/\n",
            "Collecting yfinance\n",
            "  Downloading yfinance-0.1.84-py2.py3-none-any.whl (29 kB)\n",
            "Requirement already satisfied: appdirs>=1.4.4 in /usr/local/lib/python3.7/dist-packages (from yfinance) (1.4.4)\n",
            "Requirement already satisfied: pandas>=0.24.0 in /usr/local/lib/python3.7/dist-packages (from yfinance) (1.3.5)\n",
            "Requirement already satisfied: multitasking>=0.0.7 in /usr/local/lib/python3.7/dist-packages (from yfinance) (0.0.11)\n",
            "Requirement already satisfied: numpy>=1.15 in /usr/local/lib/python3.7/dist-packages (from yfinance) (1.21.6)\n",
            "Requirement already satisfied: lxml>=4.5.1 in /usr/local/lib/python3.7/dist-packages (from yfinance) (4.9.1)\n",
            "Collecting requests>=2.26\n",
            "  Downloading requests-2.28.1-py3-none-any.whl (62 kB)\n",
            "\u001b[K     |████████████████████████████████| 62 kB 12.9 MB/s \n",
            "\u001b[?25hRequirement already satisfied: python-dateutil>=2.7.3 in /usr/local/lib/python3.7/dist-packages (from pandas>=0.24.0->yfinance) (2.8.2)\n",
            "Requirement already satisfied: pytz>=2017.3 in /usr/local/lib/python3.7/dist-packages (from pandas>=0.24.0->yfinance) (2022.5)\n",
            "Requirement already satisfied: six>=1.5 in /usr/local/lib/python3.7/dist-packages (from python-dateutil>=2.7.3->pandas>=0.24.0->yfinance) (1.15.0)\n",
            "Requirement already satisfied: urllib3<1.27,>=1.21.1 in /usr/local/lib/python3.7/dist-packages (from requests>=2.26->yfinance) (1.24.3)\n",
            "Requirement already satisfied: charset-normalizer<3,>=2 in /usr/local/lib/python3.7/dist-packages (from requests>=2.26->yfinance) (2.1.1)\n",
            "Requirement already satisfied: idna<4,>=2.5 in /usr/local/lib/python3.7/dist-packages (from requests>=2.26->yfinance) (2.10)\n",
            "Requirement already satisfied: certifi>=2017.4.17 in /usr/local/lib/python3.7/dist-packages (from requests>=2.26->yfinance) (2022.9.24)\n",
            "Installing collected packages: requests, yfinance\n",
            "  Attempting uninstall: requests\n",
            "    Found existing installation: requests 2.23.0\n",
            "    Uninstalling requests-2.23.0:\n",
            "      Successfully uninstalled requests-2.23.0\n",
            "Successfully installed requests-2.28.1 yfinance-0.1.84\n"
          ]
        }
      ],
      "source": [
        "!pip install yfinance --upgrade --no-cache-dir"
      ]
    },
    {
      "cell_type": "markdown",
      "source": [
        "- Importar bibliotecas de manipulação de dados"
      ],
      "metadata": {
        "id": "pEmfJP70u4O6"
      }
    },
    {
      "cell_type": "code",
      "source": [
        "import pandas as pd\n",
        "import numpy as np\n",
        "import yfinance as yf"
      ],
      "metadata": {
        "id": "wcxpjo8msA5L"
      },
      "execution_count": 2,
      "outputs": []
    },
    {
      "cell_type": "markdown",
      "source": [
        "- Importar bibliotecas realizar as predições"
      ],
      "metadata": {
        "id": "nGxQC0Rmu_Wi"
      }
    },
    {
      "cell_type": "code",
      "source": [
        "from sklearn.feature_selection import SelectKBest, f_regression\n",
        "from sklearn.model_selection import GridSearchCV\n",
        "from sklearn.neural_network import MLPRegressor\n",
        "from sklearn.preprocessing import MinMaxScaler\n",
        "from sklearn import datasets, linear_model\n",
        "from sklearn.metrics import mean_squared_error, r2_score, mean_absolute_error, accuracy_score, confusion_matrix, precision_score\n",
        "from sklearn.model_selection import train_test_split\n",
        "from sklearn.linear_model import LinearRegression\n",
        "from sklearn.pipeline import Pipeline, make_pipeline\n",
        "import joblib"
      ],
      "metadata": {
        "id": "YvTLcAqquVuv"
      },
      "execution_count": 3,
      "outputs": []
    },
    {
      "cell_type": "markdown",
      "source": [
        "- Importar bibliotecas para plotar gráficos"
      ],
      "metadata": {
        "id": "WIh3Dk45vE5K"
      }
    },
    {
      "cell_type": "code",
      "source": [
        "import matplotlib.pyplot as plt\n",
        "import plotly.graph_objects as go\n",
        "from plotly.subplots import make_subplots\n",
        "import plotly.express as px\n",
        "import seaborn as sns\n",
        "from statsmodels.graphics.tsaplots import plot_acf\n",
        "from statsmodels.graphics.tsaplots import plot_pacf\n",
        "import plotly.express as px\n",
        "plt.style.use('ggplot')\n",
        "%matplotlib inline"
      ],
      "metadata": {
        "id": "6RQ1XVxTsA-h"
      },
      "execution_count": 4,
      "outputs": []
    },
    {
      "cell_type": "markdown",
      "source": [
        "- Importar bibliotecas internas do python"
      ],
      "metadata": {
        "id": "09mrCrKYvNNK"
      }
    },
    {
      "cell_type": "code",
      "source": [
        "from functools import reduce\n",
        "from datetime import datetime"
      ],
      "metadata": {
        "id": "jY9SWGLasBBL"
      },
      "execution_count": 5,
      "outputs": []
    },
    {
      "cell_type": "markdown",
      "source": [
        "- Definir datas para capturar os dados"
      ],
      "metadata": {
        "id": "kBXFlQ1VvQRC"
      }
    },
    {
      "cell_type": "code",
      "source": [
        "date_today = datetime.strftime(datetime.today(), '%Y-%m-%d')\n",
        "date_init = \"2014-01-01\""
      ],
      "metadata": {
        "id": "meKtzz9isBDv"
      },
      "execution_count": 6,
      "outputs": []
    },
    {
      "cell_type": "markdown",
      "source": [
        "- Criar funções auxiliares "
      ],
      "metadata": {
        "id": "wO7VGEmSvWOC"
      }
    },
    {
      "cell_type": "code",
      "source": [
        "TICKER = \"XRP-USD\"\n",
        "\n",
        "def download_tickers(ticker):\n",
        "  try:\n",
        "    asset = yf.download(ticker, start=date_init, end=date_today, interval='1d')\n",
        "    return asset.Close\n",
        "  except Exception as err:\n",
        "    print(f\"ERROR: {err}\")\n",
        "\n",
        "  \n",
        "def create_data_frame(asset_close, ticker):\n",
        "  return pd.DataFrame(asset_close).rename(columns = {'Close': ticker})\n",
        "\n",
        "\n",
        "def mean_absolute_percentage_error(y_true, y_pred):\n",
        "\t\"\"\"Take in true and predicted values and calculate the MAPE score\"\"\"\n",
        "\ty_true, y_pred = np.array(y_true), np.array(y_pred)\n",
        "\treturn np.mean(np.abs((y_true - y_pred) / y_true)) * 100"
      ],
      "metadata": {
        "id": "gAcRyUa0sBHC"
      },
      "execution_count": 7,
      "outputs": []
    },
    {
      "cell_type": "markdown",
      "source": [
        "- Download dos dados"
      ],
      "metadata": {
        "id": "H6PD_lK9vaNC"
      }
    },
    {
      "cell_type": "code",
      "source": [
        "df_xrp = yf.download(TICKER, date_init, date_today)\n",
        "df_xrp = df_xrp.reset_index()"
      ],
      "metadata": {
        "colab": {
          "base_uri": "https://localhost:8080/"
        },
        "id": "WqndBn94sVKZ",
        "outputId": "9dea8312-9919-42d6-9c98-b85b9830ee76"
      },
      "execution_count": 8,
      "outputs": [
        {
          "output_type": "stream",
          "name": "stdout",
          "text": [
            "\r[*********************100%***********************]  1 of 1 completed\n"
          ]
        }
      ]
    },
    {
      "cell_type": "markdown",
      "source": [
        "- Renomear colunas"
      ],
      "metadata": {
        "id": "okcEKn2SvfDb"
      }
    },
    {
      "cell_type": "code",
      "source": [
        "df_xrp.rename({'Date': 'timestamp', 'Open': 'open', 'High': 'high', 'Low': 'low', 'Adj Close': 'close', 'Volume': 'volume' }, axis=1, inplace=True)\n"
      ],
      "metadata": {
        "id": "-uH-w6QwsVNZ"
      },
      "execution_count": 9,
      "outputs": []
    },
    {
      "cell_type": "code",
      "source": [
        "df_xrp.dtypes"
      ],
      "metadata": {
        "colab": {
          "base_uri": "https://localhost:8080/"
        },
        "id": "rCX7TgAob3lt",
        "outputId": "85fe0f24-699f-4807-da6d-a34c154bf7df"
      },
      "execution_count": 10,
      "outputs": [
        {
          "output_type": "execute_result",
          "data": {
            "text/plain": [
              "timestamp    datetime64[ns]\n",
              "open                float64\n",
              "high                float64\n",
              "low                 float64\n",
              "Close               float64\n",
              "close               float64\n",
              "volume                int64\n",
              "dtype: object"
            ]
          },
          "metadata": {},
          "execution_count": 10
        }
      ]
    },
    {
      "cell_type": "markdown",
      "source": [
        "- Converter data"
      ],
      "metadata": {
        "id": "qiqyJR65vo9S"
      }
    },
    {
      "cell_type": "code",
      "source": [
        "df_xrp['timestamp'] = pd.to_datetime(df_xrp['timestamp'], format=\"%Y-%m-%d\")"
      ],
      "metadata": {
        "id": "fHf2mLrDsVQJ"
      },
      "execution_count": 11,
      "outputs": []
    },
    {
      "cell_type": "markdown",
      "source": [
        "- Criar médias móveis de 7 dias e 21 dias"
      ],
      "metadata": {
        "id": "obt8r1F6vser"
      }
    },
    {
      "cell_type": "code",
      "source": [
        "df_xrp['mm7d'] = df_xrp['close'].rolling(7).mean()\n",
        "df_xrp['mm21d'] = df_xrp['close'].rolling(21).mean()\n",
        "\n",
        "df_xrp.tail()"
      ],
      "metadata": {
        "colab": {
          "base_uri": "https://localhost:8080/",
          "height": 206
        },
        "id": "TzTF6UoEs84B",
        "outputId": "725a64d0-a2cb-45d1-aeb6-5369ec583295"
      },
      "execution_count": 12,
      "outputs": [
        {
          "output_type": "execute_result",
          "data": {
            "text/plain": [
              "      timestamp      open      high       low     Close     close      volume  \\\n",
              "1813 2022-10-27  0.469395  0.480456  0.460977  0.462407  0.462407  1694861069   \n",
              "1814 2022-10-28  0.462427  0.474674  0.457785  0.473981  0.473981  1201992237   \n",
              "1815 2022-10-29  0.473984  0.481666  0.467697  0.470416  0.470416  1404785407   \n",
              "1816 2022-10-30  0.470407  0.472510  0.455642  0.458455  0.458455   964813817   \n",
              "1817 2022-10-31  0.458401  0.466114  0.449523  0.465915  0.465915  1462007947   \n",
              "\n",
              "          mm7d     mm21d  \n",
              "1813  0.463250  0.478880  \n",
              "1814  0.465090  0.476771  \n",
              "1815  0.465797  0.474547  \n",
              "1816  0.464286  0.470947  \n",
              "1817  0.466013  0.469466  "
            ],
            "text/html": [
              "\n",
              "  <div id=\"df-b2b3a0ca-138e-47b6-8ec1-8372f8381e32\">\n",
              "    <div class=\"colab-df-container\">\n",
              "      <div>\n",
              "<style scoped>\n",
              "    .dataframe tbody tr th:only-of-type {\n",
              "        vertical-align: middle;\n",
              "    }\n",
              "\n",
              "    .dataframe tbody tr th {\n",
              "        vertical-align: top;\n",
              "    }\n",
              "\n",
              "    .dataframe thead th {\n",
              "        text-align: right;\n",
              "    }\n",
              "</style>\n",
              "<table border=\"1\" class=\"dataframe\">\n",
              "  <thead>\n",
              "    <tr style=\"text-align: right;\">\n",
              "      <th></th>\n",
              "      <th>timestamp</th>\n",
              "      <th>open</th>\n",
              "      <th>high</th>\n",
              "      <th>low</th>\n",
              "      <th>Close</th>\n",
              "      <th>close</th>\n",
              "      <th>volume</th>\n",
              "      <th>mm7d</th>\n",
              "      <th>mm21d</th>\n",
              "    </tr>\n",
              "  </thead>\n",
              "  <tbody>\n",
              "    <tr>\n",
              "      <th>1813</th>\n",
              "      <td>2022-10-27</td>\n",
              "      <td>0.469395</td>\n",
              "      <td>0.480456</td>\n",
              "      <td>0.460977</td>\n",
              "      <td>0.462407</td>\n",
              "      <td>0.462407</td>\n",
              "      <td>1694861069</td>\n",
              "      <td>0.463250</td>\n",
              "      <td>0.478880</td>\n",
              "    </tr>\n",
              "    <tr>\n",
              "      <th>1814</th>\n",
              "      <td>2022-10-28</td>\n",
              "      <td>0.462427</td>\n",
              "      <td>0.474674</td>\n",
              "      <td>0.457785</td>\n",
              "      <td>0.473981</td>\n",
              "      <td>0.473981</td>\n",
              "      <td>1201992237</td>\n",
              "      <td>0.465090</td>\n",
              "      <td>0.476771</td>\n",
              "    </tr>\n",
              "    <tr>\n",
              "      <th>1815</th>\n",
              "      <td>2022-10-29</td>\n",
              "      <td>0.473984</td>\n",
              "      <td>0.481666</td>\n",
              "      <td>0.467697</td>\n",
              "      <td>0.470416</td>\n",
              "      <td>0.470416</td>\n",
              "      <td>1404785407</td>\n",
              "      <td>0.465797</td>\n",
              "      <td>0.474547</td>\n",
              "    </tr>\n",
              "    <tr>\n",
              "      <th>1816</th>\n",
              "      <td>2022-10-30</td>\n",
              "      <td>0.470407</td>\n",
              "      <td>0.472510</td>\n",
              "      <td>0.455642</td>\n",
              "      <td>0.458455</td>\n",
              "      <td>0.458455</td>\n",
              "      <td>964813817</td>\n",
              "      <td>0.464286</td>\n",
              "      <td>0.470947</td>\n",
              "    </tr>\n",
              "    <tr>\n",
              "      <th>1817</th>\n",
              "      <td>2022-10-31</td>\n",
              "      <td>0.458401</td>\n",
              "      <td>0.466114</td>\n",
              "      <td>0.449523</td>\n",
              "      <td>0.465915</td>\n",
              "      <td>0.465915</td>\n",
              "      <td>1462007947</td>\n",
              "      <td>0.466013</td>\n",
              "      <td>0.469466</td>\n",
              "    </tr>\n",
              "  </tbody>\n",
              "</table>\n",
              "</div>\n",
              "      <button class=\"colab-df-convert\" onclick=\"convertToInteractive('df-b2b3a0ca-138e-47b6-8ec1-8372f8381e32')\"\n",
              "              title=\"Convert this dataframe to an interactive table.\"\n",
              "              style=\"display:none;\">\n",
              "        \n",
              "  <svg xmlns=\"http://www.w3.org/2000/svg\" height=\"24px\"viewBox=\"0 0 24 24\"\n",
              "       width=\"24px\">\n",
              "    <path d=\"M0 0h24v24H0V0z\" fill=\"none\"/>\n",
              "    <path d=\"M18.56 5.44l.94 2.06.94-2.06 2.06-.94-2.06-.94-.94-2.06-.94 2.06-2.06.94zm-11 1L8.5 8.5l.94-2.06 2.06-.94-2.06-.94L8.5 2.5l-.94 2.06-2.06.94zm10 10l.94 2.06.94-2.06 2.06-.94-2.06-.94-.94-2.06-.94 2.06-2.06.94z\"/><path d=\"M17.41 7.96l-1.37-1.37c-.4-.4-.92-.59-1.43-.59-.52 0-1.04.2-1.43.59L10.3 9.45l-7.72 7.72c-.78.78-.78 2.05 0 2.83L4 21.41c.39.39.9.59 1.41.59.51 0 1.02-.2 1.41-.59l7.78-7.78 2.81-2.81c.8-.78.8-2.07 0-2.86zM5.41 20L4 18.59l7.72-7.72 1.47 1.35L5.41 20z\"/>\n",
              "  </svg>\n",
              "      </button>\n",
              "      \n",
              "  <style>\n",
              "    .colab-df-container {\n",
              "      display:flex;\n",
              "      flex-wrap:wrap;\n",
              "      gap: 12px;\n",
              "    }\n",
              "\n",
              "    .colab-df-convert {\n",
              "      background-color: #E8F0FE;\n",
              "      border: none;\n",
              "      border-radius: 50%;\n",
              "      cursor: pointer;\n",
              "      display: none;\n",
              "      fill: #1967D2;\n",
              "      height: 32px;\n",
              "      padding: 0 0 0 0;\n",
              "      width: 32px;\n",
              "    }\n",
              "\n",
              "    .colab-df-convert:hover {\n",
              "      background-color: #E2EBFA;\n",
              "      box-shadow: 0px 1px 2px rgba(60, 64, 67, 0.3), 0px 1px 3px 1px rgba(60, 64, 67, 0.15);\n",
              "      fill: #174EA6;\n",
              "    }\n",
              "\n",
              "    [theme=dark] .colab-df-convert {\n",
              "      background-color: #3B4455;\n",
              "      fill: #D2E3FC;\n",
              "    }\n",
              "\n",
              "    [theme=dark] .colab-df-convert:hover {\n",
              "      background-color: #434B5C;\n",
              "      box-shadow: 0px 1px 3px 1px rgba(0, 0, 0, 0.15);\n",
              "      filter: drop-shadow(0px 1px 2px rgba(0, 0, 0, 0.3));\n",
              "      fill: #FFFFFF;\n",
              "    }\n",
              "  </style>\n",
              "\n",
              "      <script>\n",
              "        const buttonEl =\n",
              "          document.querySelector('#df-b2b3a0ca-138e-47b6-8ec1-8372f8381e32 button.colab-df-convert');\n",
              "        buttonEl.style.display =\n",
              "          google.colab.kernel.accessAllowed ? 'block' : 'none';\n",
              "\n",
              "        async function convertToInteractive(key) {\n",
              "          const element = document.querySelector('#df-b2b3a0ca-138e-47b6-8ec1-8372f8381e32');\n",
              "          const dataTable =\n",
              "            await google.colab.kernel.invokeFunction('convertToInteractive',\n",
              "                                                     [key], {});\n",
              "          if (!dataTable) return;\n",
              "\n",
              "          const docLinkHtml = 'Like what you see? Visit the ' +\n",
              "            '<a target=\"_blank\" href=https://colab.research.google.com/notebooks/data_table.ipynb>data table notebook</a>'\n",
              "            + ' to learn more about interactive tables.';\n",
              "          element.innerHTML = '';\n",
              "          dataTable['output_type'] = 'display_data';\n",
              "          await google.colab.output.renderOutput(dataTable, element);\n",
              "          const docLink = document.createElement('div');\n",
              "          docLink.innerHTML = docLinkHtml;\n",
              "          element.appendChild(docLink);\n",
              "        }\n",
              "      </script>\n",
              "    </div>\n",
              "  </div>\n",
              "  "
            ]
          },
          "metadata": {},
          "execution_count": 12
        }
      ]
    },
    {
      "cell_type": "markdown",
      "source": [
        "- Função de agrupamento dos dados"
      ],
      "metadata": {
        "id": "eX434S8Kv09a"
      }
    },
    {
      "cell_type": "code",
      "source": [
        "def group_data(type_group):\n",
        "  new_df = df_xrp.groupby(pd.Grouper(key=\"timestamp\", freq=type_group)).sum()\n",
        "  new_df.reset_index(inplace=True)\n",
        "  return new_df"
      ],
      "metadata": {
        "id": "MPjrm4WbpN61"
      },
      "execution_count": 13,
      "outputs": []
    },
    {
      "cell_type": "markdown",
      "source": [
        "- Função para plotar grafico conforme o Agrupamento dos Dados\n",
        "- Tipo de agrupamento:\n",
        "- Por Meses (M) ou por Semanas (W)\n",
        "- Por Ano (year)\n",
        "- Tipo de grafico: 'bar',  'line',  'hist',  'barh'"
      ],
      "metadata": {
        "id": "83_LMHOIqubc"
      }
    },
    {
      "cell_type": "code",
      "source": [
        "def create_plot_custom(filter_Mounth_or_Week, year, type_plot):\n",
        "  \"\"\" \n",
        "    Cria um grafico filtrando por Ano, Meses ou Semanas\n",
        "\n",
        "    filter_Mounth_or_Week: 'M' ou 'W'\n",
        "    type_plot: 'line', 'bar', 'hist', 'barh'\n",
        "  \n",
        "  \"\"\"\n",
        "  if year >= 2014 and year <= 2022 and filter_Mounth_or_Week in (\"M\", \"W\"):\n",
        "    filtro_label = None\n",
        "    df_filter = group_data(filter_Mounth_or_Week)\n",
        "    include = df_filter[df_filter['timestamp'].dt.year == year]\n",
        "    meses = [\"jan\", \"fev\", \"mar\", \"abr\", \"mai\", \"jun\", \"jul\", \"ago\", \"set\", \"out\", \"nov\", \"dez\"]\n",
        "    if len(include.index) == 12:\n",
        "      include.index = meses[:len(include.index)]\n",
        "      filtro_label = \"Meses\"\n",
        "    elif len(include.index) > 50:\n",
        "      include.index = [i for i in range(0, len(include.index))]\n",
        "      filtro_label = \"Semanas\"\n",
        "    include.plot(y=\"close\", kind=type_plot, figsize=(14, 8),rot=30, title=f'Distruibuição por {filtro_label} - ano {year}', ylabel='Preço US$', xlabel=filtro_label, color=\"blue\")"
      ],
      "metadata": {
        "id": "8tL9xZOlZ8r0"
      },
      "execution_count": 14,
      "outputs": []
    },
    {
      "cell_type": "code",
      "source": [
        "create_plot_custom(\"W\", 2021, \"bar\")"
      ],
      "metadata": {
        "colab": {
          "base_uri": "https://localhost:8080/",
          "height": 522
        },
        "id": "QxCJ15tsa7E9",
        "outputId": "95e28385-a811-42c5-c00d-a57095024bf5"
      },
      "execution_count": 15,
      "outputs": [
        {
          "output_type": "display_data",
          "data": {
            "text/plain": [
              "<Figure size 1008x576 with 1 Axes>"
            ],
            "image/png": "[encoded data removed]"
          },
          "metadata": {
            "needs_background": "light"
          }
        }
      ]
    },
    {
      "cell_type": "markdown",
      "source": [
        "- Empurrando para frente os valores da criptomoeda"
      ],
      "metadata": {
        "id": "irz8F9VLv4ui"
      }
    },
    {
      "cell_type": "code",
      "source": [
        "df_xrp['close'] = df_xrp['close'].shift(-1)\n",
        "df_xrp.tail()"
      ],
      "metadata": {
        "colab": {
          "base_uri": "https://localhost:8080/",
          "height": 206
        },
        "id": "vrSuQkVcs89Q",
        "outputId": "172a2c2c-0512-4a1a-fe54-9c8f3a91e3fd"
      },
      "execution_count": 16,
      "outputs": [
        {
          "output_type": "execute_result",
          "data": {
            "text/plain": [
              "      timestamp      open      high       low     Close     close      volume  \\\n",
              "1813 2022-10-27  0.469395  0.480456  0.460977  0.462407  0.473981  1694861069   \n",
              "1814 2022-10-28  0.462427  0.474674  0.457785  0.473981  0.470416  1201992237   \n",
              "1815 2022-10-29  0.473984  0.481666  0.467697  0.470416  0.458455  1404785407   \n",
              "1816 2022-10-30  0.470407  0.472510  0.455642  0.458455  0.465915   964813817   \n",
              "1817 2022-10-31  0.458401  0.466114  0.449523  0.465915       NaN  1462007947   \n",
              "\n",
              "          mm7d     mm21d  \n",
              "1813  0.463250  0.478880  \n",
              "1814  0.465090  0.476771  \n",
              "1815  0.465797  0.474547  \n",
              "1816  0.464286  0.470947  \n",
              "1817  0.466013  0.469466  "
            ],
            "text/html": [
              "\n",
              "  <div id=\"df-321ee50d-e774-4104-9939-da99a4a98e42\">\n",
              "    <div class=\"colab-df-container\">\n",
              "      <div>\n",
              "<style scoped>\n",
              "    .dataframe tbody tr th:only-of-type {\n",
              "        vertical-align: middle;\n",
              "    }\n",
              "\n",
              "    .dataframe tbody tr th {\n",
              "        vertical-align: top;\n",
              "    }\n",
              "\n",
              "    .dataframe thead th {\n",
              "        text-align: right;\n",
              "    }\n",
              "</style>\n",
              "<table border=\"1\" class=\"dataframe\">\n",
              "  <thead>\n",
              "    <tr style=\"text-align: right;\">\n",
              "      <th></th>\n",
              "      <th>timestamp</th>\n",
              "      <th>open</th>\n",
              "      <th>high</th>\n",
              "      <th>low</th>\n",
              "      <th>Close</th>\n",
              "      <th>close</th>\n",
              "      <th>volume</th>\n",
              "      <th>mm7d</th>\n",
              "      <th>mm21d</th>\n",
              "    </tr>\n",
              "  </thead>\n",
              "  <tbody>\n",
              "    <tr>\n",
              "      <th>1813</th>\n",
              "      <td>2022-10-27</td>\n",
              "      <td>0.469395</td>\n",
              "      <td>0.480456</td>\n",
              "      <td>0.460977</td>\n",
              "      <td>0.462407</td>\n",
              "      <td>0.473981</td>\n",
              "      <td>1694861069</td>\n",
              "      <td>0.463250</td>\n",
              "      <td>0.478880</td>\n",
              "    </tr>\n",
              "    <tr>\n",
              "      <th>1814</th>\n",
              "      <td>2022-10-28</td>\n",
              "      <td>0.462427</td>\n",
              "      <td>0.474674</td>\n",
              "      <td>0.457785</td>\n",
              "      <td>0.473981</td>\n",
              "      <td>0.470416</td>\n",
              "      <td>1201992237</td>\n",
              "      <td>0.465090</td>\n",
              "      <td>0.476771</td>\n",
              "    </tr>\n",
              "    <tr>\n",
              "      <th>1815</th>\n",
              "      <td>2022-10-29</td>\n",
              "      <td>0.473984</td>\n",
              "      <td>0.481666</td>\n",
              "      <td>0.467697</td>\n",
              "      <td>0.470416</td>\n",
              "      <td>0.458455</td>\n",
              "      <td>1404785407</td>\n",
              "      <td>0.465797</td>\n",
              "      <td>0.474547</td>\n",
              "    </tr>\n",
              "    <tr>\n",
              "      <th>1816</th>\n",
              "      <td>2022-10-30</td>\n",
              "      <td>0.470407</td>\n",
              "      <td>0.472510</td>\n",
              "      <td>0.455642</td>\n",
              "      <td>0.458455</td>\n",
              "      <td>0.465915</td>\n",
              "      <td>964813817</td>\n",
              "      <td>0.464286</td>\n",
              "      <td>0.470947</td>\n",
              "    </tr>\n",
              "    <tr>\n",
              "      <th>1817</th>\n",
              "      <td>2022-10-31</td>\n",
              "      <td>0.458401</td>\n",
              "      <td>0.466114</td>\n",
              "      <td>0.449523</td>\n",
              "      <td>0.465915</td>\n",
              "      <td>NaN</td>\n",
              "      <td>1462007947</td>\n",
              "      <td>0.466013</td>\n",
              "      <td>0.469466</td>\n",
              "    </tr>\n",
              "  </tbody>\n",
              "</table>\n",
              "</div>\n",
              "      <button class=\"colab-df-convert\" onclick=\"convertToInteractive('df-321ee50d-e774-4104-9939-da99a4a98e42')\"\n",
              "              title=\"Convert this dataframe to an interactive table.\"\n",
              "              style=\"display:none;\">\n",
              "        \n",
              "  <svg xmlns=\"http://www.w3.org/2000/svg\" height=\"24px\"viewBox=\"0 0 24 24\"\n",
              "       width=\"24px\">\n",
              "    <path d=\"M0 0h24v24H0V0z\" fill=\"none\"/>\n",
              "    <path d=\"M18.56 5.44l.94 2.06.94-2.06 2.06-.94-2.06-.94-.94-2.06-.94 2.06-2.06.94zm-11 1L8.5 8.5l.94-2.06 2.06-.94-2.06-.94L8.5 2.5l-.94 2.06-2.06.94zm10 10l.94 2.06.94-2.06 2.06-.94-2.06-.94-.94-2.06-.94 2.06-2.06.94z\"/><path d=\"M17.41 7.96l-1.37-1.37c-.4-.4-.92-.59-1.43-.59-.52 0-1.04.2-1.43.59L10.3 9.45l-7.72 7.72c-.78.78-.78 2.05 0 2.83L4 21.41c.39.39.9.59 1.41.59.51 0 1.02-.2 1.41-.59l7.78-7.78 2.81-2.81c.8-.78.8-2.07 0-2.86zM5.41 20L4 18.59l7.72-7.72 1.47 1.35L5.41 20z\"/>\n",
              "  </svg>\n",
              "      </button>\n",
              "      \n",
              "  <style>\n",
              "    .colab-df-container {\n",
              "      display:flex;\n",
              "      flex-wrap:wrap;\n",
              "      gap: 12px;\n",
              "    }\n",
              "\n",
              "    .colab-df-convert {\n",
              "      background-color: #E8F0FE;\n",
              "      border: none;\n",
              "      border-radius: 50%;\n",
              "      cursor: pointer;\n",
              "      display: none;\n",
              "      fill: #1967D2;\n",
              "      height: 32px;\n",
              "      padding: 0 0 0 0;\n",
              "      width: 32px;\n",
              "    }\n",
              "\n",
              "    .colab-df-convert:hover {\n",
              "      background-color: #E2EBFA;\n",
              "      box-shadow: 0px 1px 2px rgba(60, 64, 67, 0.3), 0px 1px 3px 1px rgba(60, 64, 67, 0.15);\n",
              "      fill: #174EA6;\n",
              "    }\n",
              "\n",
              "    [theme=dark] .colab-df-convert {\n",
              "      background-color: #3B4455;\n",
              "      fill: #D2E3FC;\n",
              "    }\n",
              "\n",
              "    [theme=dark] .colab-df-convert:hover {\n",
              "      background-color: #434B5C;\n",
              "      box-shadow: 0px 1px 3px 1px rgba(0, 0, 0, 0.15);\n",
              "      filter: drop-shadow(0px 1px 2px rgba(0, 0, 0, 0.3));\n",
              "      fill: #FFFFFF;\n",
              "    }\n",
              "  </style>\n",
              "\n",
              "      <script>\n",
              "        const buttonEl =\n",
              "          document.querySelector('#df-321ee50d-e774-4104-9939-da99a4a98e42 button.colab-df-convert');\n",
              "        buttonEl.style.display =\n",
              "          google.colab.kernel.accessAllowed ? 'block' : 'none';\n",
              "\n",
              "        async function convertToInteractive(key) {\n",
              "          const element = document.querySelector('#df-321ee50d-e774-4104-9939-da99a4a98e42');\n",
              "          const dataTable =\n",
              "            await google.colab.kernel.invokeFunction('convertToInteractive',\n",
              "                                                     [key], {});\n",
              "          if (!dataTable) return;\n",
              "\n",
              "          const docLinkHtml = 'Like what you see? Visit the ' +\n",
              "            '<a target=\"_blank\" href=https://colab.research.google.com/notebooks/data_table.ipynb>data table notebook</a>'\n",
              "            + ' to learn more about interactive tables.';\n",
              "          element.innerHTML = '';\n",
              "          dataTable['output_type'] = 'display_data';\n",
              "          await google.colab.output.renderOutput(dataTable, element);\n",
              "          const docLink = document.createElement('div');\n",
              "          docLink.innerHTML = docLinkHtml;\n",
              "          element.appendChild(docLink);\n",
              "        }\n",
              "      </script>\n",
              "    </div>\n",
              "  </div>\n",
              "  "
            ]
          },
          "metadata": {},
          "execution_count": 16
        }
      ]
    },
    {
      "cell_type": "markdown",
      "source": [
        "- Remover os dados nulos"
      ],
      "metadata": {
        "id": "RXxYDot8wARz"
      }
    },
    {
      "cell_type": "code",
      "source": [
        "df_xrp.dropna(inplace=True)\n",
        "df_xrp"
      ],
      "metadata": {
        "colab": {
          "base_uri": "https://localhost:8080/",
          "height": 424
        },
        "id": "jIP4Y09auAln",
        "outputId": "d26b9c22-5e30-4bea-b3b1-dde11b15345f"
      },
      "execution_count": 17,
      "outputs": [
        {
          "output_type": "execute_result",
          "data": {
            "text/plain": [
              "      timestamp      open      high       low     Close     close      volume  \\\n",
              "20   2017-11-29  0.297867  0.297867  0.239409  0.243064  0.250878   541177984   \n",
              "21   2017-11-30  0.246433  0.261524  0.229586  0.250878  0.255699   270907008   \n",
              "22   2017-12-01  0.250352  0.258828  0.239438  0.255699  0.255492   182992000   \n",
              "23   2017-12-02  0.255656  0.259218  0.250756  0.255492  0.252558   118250000   \n",
              "24   2017-12-03  0.255530  0.263072  0.247391  0.252558  0.253571   134710000   \n",
              "...         ...       ...       ...       ...       ...       ...         ...   \n",
              "1812 2022-10-26  0.461466  0.470251  0.458092  0.469376  0.462407  1440473976   \n",
              "1813 2022-10-27  0.469395  0.480456  0.460977  0.462407  0.473981  1694861069   \n",
              "1814 2022-10-28  0.462427  0.474674  0.457785  0.473981  0.470416  1201992237   \n",
              "1815 2022-10-29  0.473984  0.481666  0.467697  0.470416  0.458455  1404785407   \n",
              "1816 2022-10-30  0.470407  0.472510  0.455642  0.458455  0.465915   964813817   \n",
              "\n",
              "          mm7d     mm21d  \n",
              "20    0.254914  0.231742  \n",
              "21    0.256125  0.233332  \n",
              "22    0.257704  0.235676  \n",
              "23    0.258147  0.237821  \n",
              "24    0.258681  0.240451  \n",
              "...        ...       ...  \n",
              "1812  0.461204  0.480346  \n",
              "1813  0.463250  0.478880  \n",
              "1814  0.465090  0.476771  \n",
              "1815  0.465797  0.474547  \n",
              "1816  0.464286  0.470947  \n",
              "\n",
              "[1797 rows x 9 columns]"
            ],
            "text/html": [
              "\n",
              "  <div id=\"df-2060db1a-38fd-4309-8120-aad9d9954458\">\n",
              "    <div class=\"colab-df-container\">\n",
              "      <div>\n",
              "<style scoped>\n",
              "    .dataframe tbody tr th:only-of-type {\n",
              "        vertical-align: middle;\n",
              "    }\n",
              "\n",
              "    .dataframe tbody tr th {\n",
              "        vertical-align: top;\n",
              "    }\n",
              "\n",
              "    .dataframe thead th {\n",
              "        text-align: right;\n",
              "    }\n",
              "</style>\n",
              "<table border=\"1\" class=\"dataframe\">\n",
              "  <thead>\n",
              "    <tr style=\"text-align: right;\">\n",
              "      <th></th>\n",
              "      <th>timestamp</th>\n",
              "      <th>open</th>\n",
              "      <th>high</th>\n",
              "      <th>low</th>\n",
              "      <th>Close</th>\n",
              "      <th>close</th>\n",
              "      <th>volume</th>\n",
              "      <th>mm7d</th>\n",
              "      <th>mm21d</th>\n",
              "    </tr>\n",
              "  </thead>\n",
              "  <tbody>\n",
              "    <tr>\n",
              "      <th>20</th>\n",
              "      <td>2017-11-29</td>\n",
              "      <td>0.297867</td>\n",
              "      <td>0.297867</td>\n",
              "      <td>0.239409</td>\n",
              "      <td>0.243064</td>\n",
              "      <td>0.250878</td>\n",
              "      <td>541177984</td>\n",
              "      <td>0.254914</td>\n",
              "      <td>0.231742</td>\n",
              "    </tr>\n",
              "    <tr>\n",
              "      <th>21</th>\n",
              "      <td>2017-11-30</td>\n",
              "      <td>0.246433</td>\n",
              "      <td>0.261524</td>\n",
              "      <td>0.229586</td>\n",
              "      <td>0.250878</td>\n",
              "      <td>0.255699</td>\n",
              "      <td>270907008</td>\n",
              "      <td>0.256125</td>\n",
              "      <td>0.233332</td>\n",
              "    </tr>\n",
              "    <tr>\n",
              "      <th>22</th>\n",
              "      <td>2017-12-01</td>\n",
              "      <td>0.250352</td>\n",
              "      <td>0.258828</td>\n",
              "      <td>0.239438</td>\n",
              "      <td>0.255699</td>\n",
              "      <td>0.255492</td>\n",
              "      <td>182992000</td>\n",
              "      <td>0.257704</td>\n",
              "      <td>0.235676</td>\n",
              "    </tr>\n",
              "    <tr>\n",
              "      <th>23</th>\n",
              "      <td>2017-12-02</td>\n",
              "      <td>0.255656</td>\n",
              "      <td>0.259218</td>\n",
              "      <td>0.250756</td>\n",
              "      <td>0.255492</td>\n",
              "      <td>0.252558</td>\n",
              "      <td>118250000</td>\n",
              "      <td>0.258147</td>\n",
              "      <td>0.237821</td>\n",
              "    </tr>\n",
              "    <tr>\n",
              "      <th>24</th>\n",
              "      <td>2017-12-03</td>\n",
              "      <td>0.255530</td>\n",
              "      <td>0.263072</td>\n",
              "      <td>0.247391</td>\n",
              "      <td>0.252558</td>\n",
              "      <td>0.253571</td>\n",
              "      <td>134710000</td>\n",
              "      <td>0.258681</td>\n",
              "      <td>0.240451</td>\n",
              "    </tr>\n",
              "    <tr>\n",
              "      <th>...</th>\n",
              "      <td>...</td>\n",
              "      <td>...</td>\n",
              "      <td>...</td>\n",
              "      <td>...</td>\n",
              "      <td>...</td>\n",
              "      <td>...</td>\n",
              "      <td>...</td>\n",
              "      <td>...</td>\n",
              "      <td>...</td>\n",
              "    </tr>\n",
              "    <tr>\n",
              "      <th>1812</th>\n",
              "      <td>2022-10-26</td>\n",
              "      <td>0.461466</td>\n",
              "      <td>0.470251</td>\n",
              "      <td>0.458092</td>\n",
              "      <td>0.469376</td>\n",
              "      <td>0.462407</td>\n",
              "      <td>1440473976</td>\n",
              "      <td>0.461204</td>\n",
              "      <td>0.480346</td>\n",
              "    </tr>\n",
              "    <tr>\n",
              "      <th>1813</th>\n",
              "      <td>2022-10-27</td>\n",
              "      <td>0.469395</td>\n",
              "      <td>0.480456</td>\n",
              "      <td>0.460977</td>\n",
              "      <td>0.462407</td>\n",
              "      <td>0.473981</td>\n",
              "      <td>1694861069</td>\n",
              "      <td>0.463250</td>\n",
              "      <td>0.478880</td>\n",
              "    </tr>\n",
              "    <tr>\n",
              "      <th>1814</th>\n",
              "      <td>2022-10-28</td>\n",
              "      <td>0.462427</td>\n",
              "      <td>0.474674</td>\n",
              "      <td>0.457785</td>\n",
              "      <td>0.473981</td>\n",
              "      <td>0.470416</td>\n",
              "      <td>1201992237</td>\n",
              "      <td>0.465090</td>\n",
              "      <td>0.476771</td>\n",
              "    </tr>\n",
              "    <tr>\n",
              "      <th>1815</th>\n",
              "      <td>2022-10-29</td>\n",
              "      <td>0.473984</td>\n",
              "      <td>0.481666</td>\n",
              "      <td>0.467697</td>\n",
              "      <td>0.470416</td>\n",
              "      <td>0.458455</td>\n",
              "      <td>1404785407</td>\n",
              "      <td>0.465797</td>\n",
              "      <td>0.474547</td>\n",
              "    </tr>\n",
              "    <tr>\n",
              "      <th>1816</th>\n",
              "      <td>2022-10-30</td>\n",
              "      <td>0.470407</td>\n",
              "      <td>0.472510</td>\n",
              "      <td>0.455642</td>\n",
              "      <td>0.458455</td>\n",
              "      <td>0.465915</td>\n",
              "      <td>964813817</td>\n",
              "      <td>0.464286</td>\n",
              "      <td>0.470947</td>\n",
              "    </tr>\n",
              "  </tbody>\n",
              "</table>\n",
              "<p>1797 rows × 9 columns</p>\n",
              "</div>\n",
              "      <button class=\"colab-df-convert\" onclick=\"convertToInteractive('df-2060db1a-38fd-4309-8120-aad9d9954458')\"\n",
              "              title=\"Convert this dataframe to an interactive table.\"\n",
              "              style=\"display:none;\">\n",
              "        \n",
              "  <svg xmlns=\"http://www.w3.org/2000/svg\" height=\"24px\"viewBox=\"0 0 24 24\"\n",
              "       width=\"24px\">\n",
              "    <path d=\"M0 0h24v24H0V0z\" fill=\"none\"/>\n",
              "    <path d=\"M18.56 5.44l.94 2.06.94-2.06 2.06-.94-2.06-.94-.94-2.06-.94 2.06-2.06.94zm-11 1L8.5 8.5l.94-2.06 2.06-.94-2.06-.94L8.5 2.5l-.94 2.06-2.06.94zm10 10l.94 2.06.94-2.06 2.06-.94-2.06-.94-.94-2.06-.94 2.06-2.06.94z\"/><path d=\"M17.41 7.96l-1.37-1.37c-.4-.4-.92-.59-1.43-.59-.52 0-1.04.2-1.43.59L10.3 9.45l-7.72 7.72c-.78.78-.78 2.05 0 2.83L4 21.41c.39.39.9.59 1.41.59.51 0 1.02-.2 1.41-.59l7.78-7.78 2.81-2.81c.8-.78.8-2.07 0-2.86zM5.41 20L4 18.59l7.72-7.72 1.47 1.35L5.41 20z\"/>\n",
              "  </svg>\n",
              "      </button>\n",
              "      \n",
              "  <style>\n",
              "    .colab-df-container {\n",
              "      display:flex;\n",
              "      flex-wrap:wrap;\n",
              "      gap: 12px;\n",
              "    }\n",
              "\n",
              "    .colab-df-convert {\n",
              "      background-color: #E8F0FE;\n",
              "      border: none;\n",
              "      border-radius: 50%;\n",
              "      cursor: pointer;\n",
              "      display: none;\n",
              "      fill: #1967D2;\n",
              "      height: 32px;\n",
              "      padding: 0 0 0 0;\n",
              "      width: 32px;\n",
              "    }\n",
              "\n",
              "    .colab-df-convert:hover {\n",
              "      background-color: #E2EBFA;\n",
              "      box-shadow: 0px 1px 2px rgba(60, 64, 67, 0.3), 0px 1px 3px 1px rgba(60, 64, 67, 0.15);\n",
              "      fill: #174EA6;\n",
              "    }\n",
              "\n",
              "    [theme=dark] .colab-df-convert {\n",
              "      background-color: #3B4455;\n",
              "      fill: #D2E3FC;\n",
              "    }\n",
              "\n",
              "    [theme=dark] .colab-df-convert:hover {\n",
              "      background-color: #434B5C;\n",
              "      box-shadow: 0px 1px 3px 1px rgba(0, 0, 0, 0.15);\n",
              "      filter: drop-shadow(0px 1px 2px rgba(0, 0, 0, 0.3));\n",
              "      fill: #FFFFFF;\n",
              "    }\n",
              "  </style>\n",
              "\n",
              "      <script>\n",
              "        const buttonEl =\n",
              "          document.querySelector('#df-2060db1a-38fd-4309-8120-aad9d9954458 button.colab-df-convert');\n",
              "        buttonEl.style.display =\n",
              "          google.colab.kernel.accessAllowed ? 'block' : 'none';\n",
              "\n",
              "        async function convertToInteractive(key) {\n",
              "          const element = document.querySelector('#df-2060db1a-38fd-4309-8120-aad9d9954458');\n",
              "          const dataTable =\n",
              "            await google.colab.kernel.invokeFunction('convertToInteractive',\n",
              "                                                     [key], {});\n",
              "          if (!dataTable) return;\n",
              "\n",
              "          const docLinkHtml = 'Like what you see? Visit the ' +\n",
              "            '<a target=\"_blank\" href=https://colab.research.google.com/notebooks/data_table.ipynb>data table notebook</a>'\n",
              "            + ' to learn more about interactive tables.';\n",
              "          element.innerHTML = '';\n",
              "          dataTable['output_type'] = 'display_data';\n",
              "          await google.colab.output.renderOutput(dataTable, element);\n",
              "          const docLink = document.createElement('div');\n",
              "          docLink.innerHTML = docLinkHtml;\n",
              "          element.appendChild(docLink);\n",
              "        }\n",
              "      </script>\n",
              "    </div>\n",
              "  </div>\n",
              "  "
            ]
          },
          "metadata": {},
          "execution_count": 17
        }
      ]
    },
    {
      "cell_type": "markdown",
      "source": [
        "- Testar se o DataFrame possui dados nulos"
      ],
      "metadata": {
        "id": "8yFxnOQmwDk6"
      }
    },
    {
      "cell_type": "code",
      "source": [
        "assert df_xrp.isnull().sum().sum() == 0"
      ],
      "metadata": {
        "id": "Sk84FushxKQy"
      },
      "execution_count": 18,
      "outputs": []
    },
    {
      "cell_type": "markdown",
      "source": [
        "- Separar os dados em Treino, Teste e Validação. "
      ],
      "metadata": {
        "id": "zRInT3dbwJvy"
      }
    },
    {
      "cell_type": "code",
      "source": [
        "qtd_linhas = len(df_xrp)\n",
        "\n",
        "qtd_linhas_treino= round(.70 * qtd_linhas)\n",
        "qtd_linhas_teste= qtd_linhas - qtd_linhas_treino  \n",
        "qtd_linhas_validacao = qtd_linhas -1\n",
        "\n",
        "info = (\n",
        "    f\"linhas treino= 0:{qtd_linhas_treino}\"\n",
        "    f\" linhas teste= {qtd_linhas_treino}:{qtd_linhas_treino + qtd_linhas_teste -1}\"\n",
        "    f\" linhas validação= {qtd_linhas_validacao}\"\n",
        ")\n",
        "\n",
        "info"
      ],
      "metadata": {
        "colab": {
          "base_uri": "https://localhost:8080/",
          "height": 35
        },
        "id": "km4dWJkRs9AH",
        "outputId": "47b53eeb-5987-4478-996a-495ebe28d13d"
      },
      "execution_count": 19,
      "outputs": [
        {
          "output_type": "execute_result",
          "data": {
            "text/plain": [
              "'linhas treino= 0:1258 linhas teste= 1258:1796 linhas validação= 1796'"
            ],
            "application/vnd.google.colaboratory.intrinsic+json": {
              "type": "string"
            }
          },
          "metadata": {},
          "execution_count": 19
        }
      ]
    },
    {
      "cell_type": "markdown",
      "source": [
        "- Separar a **labels** que será o target a ser encontrado pelo modelo preditivo\n",
        "- Separar as **features** que serão utilizadas para prever o valor final"
      ],
      "metadata": {
        "id": "SO2vROrYxaHK"
      }
    },
    {
      "cell_type": "code",
      "source": [
        "features = df_xrp.drop(['timestamp', 'close'], 1)\n",
        "labels = df_xrp['close']"
      ],
      "metadata": {
        "colab": {
          "base_uri": "https://localhost:8080/"
        },
        "id": "f2BJx4Gks9DE",
        "outputId": "5d58b27a-0e8b-4082-b55f-ad298d4c24bf"
      },
      "execution_count": 20,
      "outputs": [
        {
          "output_type": "stream",
          "name": "stderr",
          "text": [
            "/usr/local/lib/python3.7/dist-packages/ipykernel_launcher.py:1: FutureWarning: In a future version of pandas all arguments of DataFrame.drop except for the argument 'labels' will be keyword-only\n",
            "  \"\"\"Entry point for launching an IPython kernel.\n"
          ]
        }
      ]
    },
    {
      "cell_type": "markdown",
      "source": [
        "- Escolhendo as melhores features com Kbest"
      ],
      "metadata": {
        "id": "accSLbKVx1Ui"
      }
    },
    {
      "cell_type": "code",
      "source": [
        "features_list = ('timestamp', 'open', 'high', 'low', 'volume', 'mm7d', 'mm21d')\n",
        "\n",
        "selector = SelectKBest(score_func=f_regression, k='all').fit(features, labels)\n",
        "x_new = selector.transform(features)\n",
        "scores = selector.scores_\n",
        "\n",
        "raw_pairs = zip(features_list[1:], scores)\n",
        "ordered_pairs = list(reversed(sorted(raw_pairs, key=lambda x: x[1])))\n",
        "\n",
        "k_best_features_final = dict(ordered_pairs[:15])\n",
        "best_features = k_best_features_final.keys()\n",
        "\n",
        "print(\"Melhores features:\")\n",
        "print(k_best_features_final)"
      ],
      "metadata": {
        "colab": {
          "base_uri": "https://localhost:8080/"
        },
        "id": "WS7D9-cns9Fw",
        "outputId": "1319ee2a-4d2e-447a-a083-15e05187a0ee"
      },
      "execution_count": 21,
      "outputs": [
        {
          "output_type": "stream",
          "name": "stdout",
          "text": [
            "Melhores features:\n",
            "{'volume': 72325.08424504184, 'high': 48209.26562449246, 'low': 41890.94055521483, 'open': 34438.510470113964, 'mm21d': 20993.149800623007, 'mm7d': 254.12302277313825}\n"
          ]
        }
      ]
    },
    {
      "cell_type": "markdown",
      "source": [
        "- Separando as features escolhidas, com melhor pontuação"
      ],
      "metadata": {
        "id": "859MDpnVx5aC"
      }
    },
    {
      "cell_type": "code",
      "source": [
        "features = df_xrp.loc[:,['volume', 'high', 'low', 'open', 'mm21d']]\n",
        "features"
      ],
      "metadata": {
        "colab": {
          "base_uri": "https://localhost:8080/",
          "height": 424
        },
        "id": "VZzojRaqu_r-",
        "outputId": "a809e72f-69cf-436b-e45c-cb6c7cc9975a"
      },
      "execution_count": 22,
      "outputs": [
        {
          "output_type": "execute_result",
          "data": {
            "text/plain": [
              "          volume      high       low      open     mm21d\n",
              "20     541177984  0.297867  0.239409  0.297867  0.231742\n",
              "21     270907008  0.261524  0.229586  0.246433  0.233332\n",
              "22     182992000  0.258828  0.239438  0.250352  0.235676\n",
              "23     118250000  0.259218  0.250756  0.255656  0.237821\n",
              "24     134710000  0.263072  0.247391  0.255530  0.240451\n",
              "...          ...       ...       ...       ...       ...\n",
              "1812  1440473976  0.470251  0.458092  0.461466  0.480346\n",
              "1813  1694861069  0.480456  0.460977  0.469395  0.478880\n",
              "1814  1201992237  0.474674  0.457785  0.462427  0.476771\n",
              "1815  1404785407  0.481666  0.467697  0.473984  0.474547\n",
              "1816   964813817  0.472510  0.455642  0.470407  0.470947\n",
              "\n",
              "[1797 rows x 5 columns]"
            ],
            "text/html": [
              "\n",
              "  <div id=\"df-5d30a199-546f-4da6-8154-c412af6f67e6\">\n",
              "    <div class=\"colab-df-container\">\n",
              "      <div>\n",
              "<style scoped>\n",
              "    .dataframe tbody tr th:only-of-type {\n",
              "        vertical-align: middle;\n",
              "    }\n",
              "\n",
              "    .dataframe tbody tr th {\n",
              "        vertical-align: top;\n",
              "    }\n",
              "\n",
              "    .dataframe thead th {\n",
              "        text-align: right;\n",
              "    }\n",
              "</style>\n",
              "<table border=\"1\" class=\"dataframe\">\n",
              "  <thead>\n",
              "    <tr style=\"text-align: right;\">\n",
              "      <th></th>\n",
              "      <th>volume</th>\n",
              "      <th>high</th>\n",
              "      <th>low</th>\n",
              "      <th>open</th>\n",
              "      <th>mm21d</th>\n",
              "    </tr>\n",
              "  </thead>\n",
              "  <tbody>\n",
              "    <tr>\n",
              "      <th>20</th>\n",
              "      <td>541177984</td>\n",
              "      <td>0.297867</td>\n",
              "      <td>0.239409</td>\n",
              "      <td>0.297867</td>\n",
              "      <td>0.231742</td>\n",
              "    </tr>\n",
              "    <tr>\n",
              "      <th>21</th>\n",
              "      <td>270907008</td>\n",
              "      <td>0.261524</td>\n",
              "      <td>0.229586</td>\n",
              "      <td>0.246433</td>\n",
              "      <td>0.233332</td>\n",
              "    </tr>\n",
              "    <tr>\n",
              "      <th>22</th>\n",
              "      <td>182992000</td>\n",
              "      <td>0.258828</td>\n",
              "      <td>0.239438</td>\n",
              "      <td>0.250352</td>\n",
              "      <td>0.235676</td>\n",
              "    </tr>\n",
              "    <tr>\n",
              "      <th>23</th>\n",
              "      <td>118250000</td>\n",
              "      <td>0.259218</td>\n",
              "      <td>0.250756</td>\n",
              "      <td>0.255656</td>\n",
              "      <td>0.237821</td>\n",
              "    </tr>\n",
              "    <tr>\n",
              "      <th>24</th>\n",
              "      <td>134710000</td>\n",
              "      <td>0.263072</td>\n",
              "      <td>0.247391</td>\n",
              "      <td>0.255530</td>\n",
              "      <td>0.240451</td>\n",
              "    </tr>\n",
              "    <tr>\n",
              "      <th>...</th>\n",
              "      <td>...</td>\n",
              "      <td>...</td>\n",
              "      <td>...</td>\n",
              "      <td>...</td>\n",
              "      <td>...</td>\n",
              "    </tr>\n",
              "    <tr>\n",
              "      <th>1812</th>\n",
              "      <td>1440473976</td>\n",
              "      <td>0.470251</td>\n",
              "      <td>0.458092</td>\n",
              "      <td>0.461466</td>\n",
              "      <td>0.480346</td>\n",
              "    </tr>\n",
              "    <tr>\n",
              "      <th>1813</th>\n",
              "      <td>1694861069</td>\n",
              "      <td>0.480456</td>\n",
              "      <td>0.460977</td>\n",
              "      <td>0.469395</td>\n",
              "      <td>0.478880</td>\n",
              "    </tr>\n",
              "    <tr>\n",
              "      <th>1814</th>\n",
              "      <td>1201992237</td>\n",
              "      <td>0.474674</td>\n",
              "      <td>0.457785</td>\n",
              "      <td>0.462427</td>\n",
              "      <td>0.476771</td>\n",
              "    </tr>\n",
              "    <tr>\n",
              "      <th>1815</th>\n",
              "      <td>1404785407</td>\n",
              "      <td>0.481666</td>\n",
              "      <td>0.467697</td>\n",
              "      <td>0.473984</td>\n",
              "      <td>0.474547</td>\n",
              "    </tr>\n",
              "    <tr>\n",
              "      <th>1816</th>\n",
              "      <td>964813817</td>\n",
              "      <td>0.472510</td>\n",
              "      <td>0.455642</td>\n",
              "      <td>0.470407</td>\n",
              "      <td>0.470947</td>\n",
              "    </tr>\n",
              "  </tbody>\n",
              "</table>\n",
              "<p>1797 rows × 5 columns</p>\n",
              "</div>\n",
              "      <button class=\"colab-df-convert\" onclick=\"convertToInteractive('df-5d30a199-546f-4da6-8154-c412af6f67e6')\"\n",
              "              title=\"Convert this dataframe to an interactive table.\"\n",
              "              style=\"display:none;\">\n",
              "        \n",
              "  <svg xmlns=\"http://www.w3.org/2000/svg\" height=\"24px\"viewBox=\"0 0 24 24\"\n",
              "       width=\"24px\">\n",
              "    <path d=\"M0 0h24v24H0V0z\" fill=\"none\"/>\n",
              "    <path d=\"M18.56 5.44l.94 2.06.94-2.06 2.06-.94-2.06-.94-.94-2.06-.94 2.06-2.06.94zm-11 1L8.5 8.5l.94-2.06 2.06-.94-2.06-.94L8.5 2.5l-.94 2.06-2.06.94zm10 10l.94 2.06.94-2.06 2.06-.94-2.06-.94-.94-2.06-.94 2.06-2.06.94z\"/><path d=\"M17.41 7.96l-1.37-1.37c-.4-.4-.92-.59-1.43-.59-.52 0-1.04.2-1.43.59L10.3 9.45l-7.72 7.72c-.78.78-.78 2.05 0 2.83L4 21.41c.39.39.9.59 1.41.59.51 0 1.02-.2 1.41-.59l7.78-7.78 2.81-2.81c.8-.78.8-2.07 0-2.86zM5.41 20L4 18.59l7.72-7.72 1.47 1.35L5.41 20z\"/>\n",
              "  </svg>\n",
              "      </button>\n",
              "      \n",
              "  <style>\n",
              "    .colab-df-container {\n",
              "      display:flex;\n",
              "      flex-wrap:wrap;\n",
              "      gap: 12px;\n",
              "    }\n",
              "\n",
              "    .colab-df-convert {\n",
              "      background-color: #E8F0FE;\n",
              "      border: none;\n",
              "      border-radius: 50%;\n",
              "      cursor: pointer;\n",
              "      display: none;\n",
              "      fill: #1967D2;\n",
              "      height: 32px;\n",
              "      padding: 0 0 0 0;\n",
              "      width: 32px;\n",
              "    }\n",
              "\n",
              "    .colab-df-convert:hover {\n",
              "      background-color: #E2EBFA;\n",
              "      box-shadow: 0px 1px 2px rgba(60, 64, 67, 0.3), 0px 1px 3px 1px rgba(60, 64, 67, 0.15);\n",
              "      fill: #174EA6;\n",
              "    }\n",
              "\n",
              "    [theme=dark] .colab-df-convert {\n",
              "      background-color: #3B4455;\n",
              "      fill: #D2E3FC;\n",
              "    }\n",
              "\n",
              "    [theme=dark] .colab-df-convert:hover {\n",
              "      background-color: #434B5C;\n",
              "      box-shadow: 0px 1px 3px 1px rgba(0, 0, 0, 0.15);\n",
              "      filter: drop-shadow(0px 1px 2px rgba(0, 0, 0, 0.3));\n",
              "      fill: #FFFFFF;\n",
              "    }\n",
              "  </style>\n",
              "\n",
              "      <script>\n",
              "        const buttonEl =\n",
              "          document.querySelector('#df-5d30a199-546f-4da6-8154-c412af6f67e6 button.colab-df-convert');\n",
              "        buttonEl.style.display =\n",
              "          google.colab.kernel.accessAllowed ? 'block' : 'none';\n",
              "\n",
              "        async function convertToInteractive(key) {\n",
              "          const element = document.querySelector('#df-5d30a199-546f-4da6-8154-c412af6f67e6');\n",
              "          const dataTable =\n",
              "            await google.colab.kernel.invokeFunction('convertToInteractive',\n",
              "                                                     [key], {});\n",
              "          if (!dataTable) return;\n",
              "\n",
              "          const docLinkHtml = 'Like what you see? Visit the ' +\n",
              "            '<a target=\"_blank\" href=https://colab.research.google.com/notebooks/data_table.ipynb>data table notebook</a>'\n",
              "            + ' to learn more about interactive tables.';\n",
              "          element.innerHTML = '';\n",
              "          dataTable['output_type'] = 'display_data';\n",
              "          await google.colab.output.renderOutput(dataTable, element);\n",
              "          const docLink = document.createElement('div');\n",
              "          docLink.innerHTML = docLinkHtml;\n",
              "          element.appendChild(docLink);\n",
              "        }\n",
              "      </script>\n",
              "    </div>\n",
              "  </div>\n",
              "  "
            ]
          },
          "metadata": {},
          "execution_count": 22
        }
      ]
    },
    {
      "cell_type": "markdown",
      "source": [
        "- Criando Pipeline"
      ],
      "metadata": {
        "id": "R0muN60Nm9ft"
      }
    },
    {
      "cell_type": "code",
      "source": [
        "pipeline_linear_regression = make_pipeline(MinMaxScaler(), LinearRegression())"
      ],
      "metadata": {
        "id": "nhzFEDP1myuc"
      },
      "execution_count": 23,
      "outputs": []
    },
    {
      "cell_type": "markdown",
      "source": [],
      "metadata": {
        "id": "Ok2GPU77yDhq"
      }
    },
    {
      "cell_type": "markdown",
      "source": [
        "- Separa os dados de treino teste e validação"
      ],
      "metadata": {
        "id": "vuH9rqRkyFqq"
      }
    },
    {
      "cell_type": "code",
      "source": [
        "\n",
        "X_train = features[:qtd_linhas_treino]\n",
        "X_test = features[qtd_linhas_treino:qtd_linhas_treino + qtd_linhas_teste -1]\n",
        "\n",
        "y_train = labels[:qtd_linhas_treino]\n",
        "y_test = labels[qtd_linhas_treino:qtd_linhas_treino + qtd_linhas_teste -1]\n",
        "\n",
        "print( len(X_train), len(y_train))\n",
        "\n",
        "print( len(X_test), len(y_test))"
      ],
      "metadata": {
        "colab": {
          "base_uri": "https://localhost:8080/"
        },
        "id": "WSkeTZq9u_ut",
        "outputId": "2415ef0a-2ec5-40b3-c8dd-b5029d860a8c"
      },
      "execution_count": 24,
      "outputs": [
        {
          "output_type": "stream",
          "name": "stdout",
          "text": [
            "1258 1258\n",
            "538 538\n"
          ]
        }
      ]
    },
    {
      "cell_type": "markdown",
      "source": [
        "- Treina modelo"
      ],
      "metadata": {
        "id": "w3oopIFM8CGs"
      }
    },
    {
      "cell_type": "code",
      "source": [
        "pipeline_linear_regression.fit(X_train, y_train)"
      ],
      "metadata": {
        "colab": {
          "base_uri": "https://localhost:8080/"
        },
        "id": "mbdd4IOunOuJ",
        "outputId": "f2790712-88d9-4df3-8625-ce63db4882d3"
      },
      "execution_count": 25,
      "outputs": [
        {
          "output_type": "execute_result",
          "data": {
            "text/plain": [
              "Pipeline(steps=[('minmaxscaler', MinMaxScaler()),\n",
              "                ('linearregression', LinearRegression())])"
            ]
          },
          "metadata": {},
          "execution_count": 25
        }
      ]
    },
    {
      "cell_type": "markdown",
      "source": [
        "- Confere "
      ],
      "metadata": {
        "id": "yTVOPZ-c8F6D"
      }
    },
    {
      "cell_type": "code",
      "source": [
        "score_model = pipeline_linear_regression.score(X_test, y_test)\n",
        "f'Teste pontuação para avaliar a consistência do modelo: {score_model * 100:.2f}%'"
      ],
      "metadata": {
        "colab": {
          "base_uri": "https://localhost:8080/",
          "height": 35
        },
        "id": "3CA1WtRInY05",
        "outputId": "412b09a9-1445-4b27-899b-dac7cc04021c"
      },
      "execution_count": 26,
      "outputs": [
        {
          "output_type": "execute_result",
          "data": {
            "text/plain": [
              "'Teste pontuação para avaliar a consistência do modelo: 96.95%'"
            ],
            "application/vnd.google.colaboratory.intrinsic+json": {
              "type": "string"
            }
          },
          "metadata": {},
          "execution_count": 26
        }
      ]
    },
    {
      "cell_type": "markdown",
      "source": [
        "- Pega último dado do dataframe"
      ],
      "metadata": {
        "id": "PMAgF8RO8O7F"
      }
    },
    {
      "cell_type": "code",
      "source": [
        "data_pred = ['volume', 'high', 'low', 'open', 'mm21d']\n",
        "df_xrp.tail(1)"
      ],
      "metadata": {
        "colab": {
          "base_uri": "https://localhost:8080/",
          "height": 81
        },
        "id": "lioyLP9en1OB",
        "outputId": "3cee4c2e-878c-4545-9e7c-c1180608db99"
      },
      "execution_count": 27,
      "outputs": [
        {
          "output_type": "execute_result",
          "data": {
            "text/plain": [
              "      timestamp      open     high       low     Close     close     volume  \\\n",
              "1816 2022-10-30  0.470407  0.47251  0.455642  0.458455  0.465915  964813817   \n",
              "\n",
              "          mm7d     mm21d  \n",
              "1816  0.464286  0.470947  "
            ],
            "text/html": [
              "\n",
              "  <div id=\"df-9aa3a0fd-76f0-4a75-bb95-884102606c3e\">\n",
              "    <div class=\"colab-df-container\">\n",
              "      <div>\n",
              "<style scoped>\n",
              "    .dataframe tbody tr th:only-of-type {\n",
              "        vertical-align: middle;\n",
              "    }\n",
              "\n",
              "    .dataframe tbody tr th {\n",
              "        vertical-align: top;\n",
              "    }\n",
              "\n",
              "    .dataframe thead th {\n",
              "        text-align: right;\n",
              "    }\n",
              "</style>\n",
              "<table border=\"1\" class=\"dataframe\">\n",
              "  <thead>\n",
              "    <tr style=\"text-align: right;\">\n",
              "      <th></th>\n",
              "      <th>timestamp</th>\n",
              "      <th>open</th>\n",
              "      <th>high</th>\n",
              "      <th>low</th>\n",
              "      <th>Close</th>\n",
              "      <th>close</th>\n",
              "      <th>volume</th>\n",
              "      <th>mm7d</th>\n",
              "      <th>mm21d</th>\n",
              "    </tr>\n",
              "  </thead>\n",
              "  <tbody>\n",
              "    <tr>\n",
              "      <th>1816</th>\n",
              "      <td>2022-10-30</td>\n",
              "      <td>0.470407</td>\n",
              "      <td>0.47251</td>\n",
              "      <td>0.455642</td>\n",
              "      <td>0.458455</td>\n",
              "      <td>0.465915</td>\n",
              "      <td>964813817</td>\n",
              "      <td>0.464286</td>\n",
              "      <td>0.470947</td>\n",
              "    </tr>\n",
              "  </tbody>\n",
              "</table>\n",
              "</div>\n",
              "      <button class=\"colab-df-convert\" onclick=\"convertToInteractive('df-9aa3a0fd-76f0-4a75-bb95-884102606c3e')\"\n",
              "              title=\"Convert this dataframe to an interactive table.\"\n",
              "              style=\"display:none;\">\n",
              "        \n",
              "  <svg xmlns=\"http://www.w3.org/2000/svg\" height=\"24px\"viewBox=\"0 0 24 24\"\n",
              "       width=\"24px\">\n",
              "    <path d=\"M0 0h24v24H0V0z\" fill=\"none\"/>\n",
              "    <path d=\"M18.56 5.44l.94 2.06.94-2.06 2.06-.94-2.06-.94-.94-2.06-.94 2.06-2.06.94zm-11 1L8.5 8.5l.94-2.06 2.06-.94-2.06-.94L8.5 2.5l-.94 2.06-2.06.94zm10 10l.94 2.06.94-2.06 2.06-.94-2.06-.94-.94-2.06-.94 2.06-2.06.94z\"/><path d=\"M17.41 7.96l-1.37-1.37c-.4-.4-.92-.59-1.43-.59-.52 0-1.04.2-1.43.59L10.3 9.45l-7.72 7.72c-.78.78-.78 2.05 0 2.83L4 21.41c.39.39.9.59 1.41.59.51 0 1.02-.2 1.41-.59l7.78-7.78 2.81-2.81c.8-.78.8-2.07 0-2.86zM5.41 20L4 18.59l7.72-7.72 1.47 1.35L5.41 20z\"/>\n",
              "  </svg>\n",
              "      </button>\n",
              "      \n",
              "  <style>\n",
              "    .colab-df-container {\n",
              "      display:flex;\n",
              "      flex-wrap:wrap;\n",
              "      gap: 12px;\n",
              "    }\n",
              "\n",
              "    .colab-df-convert {\n",
              "      background-color: #E8F0FE;\n",
              "      border: none;\n",
              "      border-radius: 50%;\n",
              "      cursor: pointer;\n",
              "      display: none;\n",
              "      fill: #1967D2;\n",
              "      height: 32px;\n",
              "      padding: 0 0 0 0;\n",
              "      width: 32px;\n",
              "    }\n",
              "\n",
              "    .colab-df-convert:hover {\n",
              "      background-color: #E2EBFA;\n",
              "      box-shadow: 0px 1px 2px rgba(60, 64, 67, 0.3), 0px 1px 3px 1px rgba(60, 64, 67, 0.15);\n",
              "      fill: #174EA6;\n",
              "    }\n",
              "\n",
              "    [theme=dark] .colab-df-convert {\n",
              "      background-color: #3B4455;\n",
              "      fill: #D2E3FC;\n",
              "    }\n",
              "\n",
              "    [theme=dark] .colab-df-convert:hover {\n",
              "      background-color: #434B5C;\n",
              "      box-shadow: 0px 1px 3px 1px rgba(0, 0, 0, 0.15);\n",
              "      filter: drop-shadow(0px 1px 2px rgba(0, 0, 0, 0.3));\n",
              "      fill: #FFFFFF;\n",
              "    }\n",
              "  </style>\n",
              "\n",
              "      <script>\n",
              "        const buttonEl =\n",
              "          document.querySelector('#df-9aa3a0fd-76f0-4a75-bb95-884102606c3e button.colab-df-convert');\n",
              "        buttonEl.style.display =\n",
              "          google.colab.kernel.accessAllowed ? 'block' : 'none';\n",
              "\n",
              "        async function convertToInteractive(key) {\n",
              "          const element = document.querySelector('#df-9aa3a0fd-76f0-4a75-bb95-884102606c3e');\n",
              "          const dataTable =\n",
              "            await google.colab.kernel.invokeFunction('convertToInteractive',\n",
              "                                                     [key], {});\n",
              "          if (!dataTable) return;\n",
              "\n",
              "          const docLinkHtml = 'Like what you see? Visit the ' +\n",
              "            '<a target=\"_blank\" href=https://colab.research.google.com/notebooks/data_table.ipynb>data table notebook</a>'\n",
              "            + ' to learn more about interactive tables.';\n",
              "          element.innerHTML = '';\n",
              "          dataTable['output_type'] = 'display_data';\n",
              "          await google.colab.output.renderOutput(dataTable, element);\n",
              "          const docLink = document.createElement('div');\n",
              "          docLink.innerHTML = docLinkHtml;\n",
              "          element.appendChild(docLink);\n",
              "        }\n",
              "      </script>\n",
              "    </div>\n",
              "  </div>\n",
              "  "
            ]
          },
          "metadata": {},
          "execution_count": 27
        }
      ]
    },
    {
      "cell_type": "markdown",
      "source": [
        "- Testar a predição"
      ],
      "metadata": {
        "id": "EbKjFx4L8XBU"
      }
    },
    {
      "cell_type": "code",
      "source": [
        "pipeline_linear_regression.predict(df_xrp.tail(1)[data_pred])"
      ],
      "metadata": {
        "colab": {
          "base_uri": "https://localhost:8080/"
        },
        "id": "LhP_P8ppnYoZ",
        "outputId": "f353dd77-2c49-47fc-ce7d-db4fbb51f3fc"
      },
      "execution_count": 28,
      "outputs": [
        {
          "output_type": "execute_result",
          "data": {
            "text/plain": [
              "array([0.45958426])"
            ]
          },
          "metadata": {},
          "execution_count": 28
        }
      ]
    },
    {
      "cell_type": "markdown",
      "source": [
        "- Realizar a predição com os dados de testes(dados que o modelo desconhece)"
      ],
      "metadata": {
        "id": "jW34sUhzA7Sc"
      }
    },
    {
      "cell_type": "code",
      "source": [
        "previsao = features[qtd_linhas_treino:qtd_linhas_treino + qtd_linhas_teste -1]\n",
        "\n",
        "data_btc_full=df_xrp[\"timestamp\"]\n",
        "data_btc = data_btc_full[qtd_linhas_treino:qtd_linhas_treino + qtd_linhas_teste -1]\n",
        "\n",
        "res_full = df_xrp[\"close\"]\n",
        "res = res_full[qtd_linhas_treino:qtd_linhas_treino + qtd_linhas_teste -1]\n",
        "\n",
        "\n",
        "predict2 = pipeline_linear_regression.predict(previsao)\n",
        "\n",
        "\n",
        "df = pd.DataFrame({ \"data_ripple\": data_btc, \"real\": res , \"previsao\": predict2 })\n",
        "\n",
        "df[\"real\"] = df[\"real\"].shift(+1)\n",
        "\n",
        "df.set_index(\"data_ripple\", inplace= True)\n",
        "\n",
        "df.tail()\n",
        "\n"
      ],
      "metadata": {
        "colab": {
          "base_uri": "https://localhost:8080/",
          "height": 238
        },
        "id": "xvcNFxHL6RED",
        "outputId": "2b7a60a3-a658-42f1-a84d-d57dd0914f65"
      },
      "execution_count": 29,
      "outputs": [
        {
          "output_type": "execute_result",
          "data": {
            "text/plain": [
              "                 real  previsao\n",
              "data_ripple                    \n",
              "2022-10-25   0.461544  0.459440\n",
              "2022-10-26   0.469376  0.463282\n",
              "2022-10-27   0.462407  0.469789\n",
              "2022-10-28   0.473981  0.465945\n",
              "2022-10-29   0.470416  0.472704"
            ],
            "text/html": [
              "\n",
              "  <div id=\"df-7d80b0fd-f0c6-440f-b643-6f867db998ed\">\n",
              "    <div class=\"colab-df-container\">\n",
              "      <div>\n",
              "<style scoped>\n",
              "    .dataframe tbody tr th:only-of-type {\n",
              "        vertical-align: middle;\n",
              "    }\n",
              "\n",
              "    .dataframe tbody tr th {\n",
              "        vertical-align: top;\n",
              "    }\n",
              "\n",
              "    .dataframe thead th {\n",
              "        text-align: right;\n",
              "    }\n",
              "</style>\n",
              "<table border=\"1\" class=\"dataframe\">\n",
              "  <thead>\n",
              "    <tr style=\"text-align: right;\">\n",
              "      <th></th>\n",
              "      <th>real</th>\n",
              "      <th>previsao</th>\n",
              "    </tr>\n",
              "    <tr>\n",
              "      <th>data_ripple</th>\n",
              "      <th></th>\n",
              "      <th></th>\n",
              "    </tr>\n",
              "  </thead>\n",
              "  <tbody>\n",
              "    <tr>\n",
              "      <th>2022-10-25</th>\n",
              "      <td>0.461544</td>\n",
              "      <td>0.459440</td>\n",
              "    </tr>\n",
              "    <tr>\n",
              "      <th>2022-10-26</th>\n",
              "      <td>0.469376</td>\n",
              "      <td>0.463282</td>\n",
              "    </tr>\n",
              "    <tr>\n",
              "      <th>2022-10-27</th>\n",
              "      <td>0.462407</td>\n",
              "      <td>0.469789</td>\n",
              "    </tr>\n",
              "    <tr>\n",
              "      <th>2022-10-28</th>\n",
              "      <td>0.473981</td>\n",
              "      <td>0.465945</td>\n",
              "    </tr>\n",
              "    <tr>\n",
              "      <th>2022-10-29</th>\n",
              "      <td>0.470416</td>\n",
              "      <td>0.472704</td>\n",
              "    </tr>\n",
              "  </tbody>\n",
              "</table>\n",
              "</div>\n",
              "      <button class=\"colab-df-convert\" onclick=\"convertToInteractive('df-7d80b0fd-f0c6-440f-b643-6f867db998ed')\"\n",
              "              title=\"Convert this dataframe to an interactive table.\"\n",
              "              style=\"display:none;\">\n",
              "        \n",
              "  <svg xmlns=\"http://www.w3.org/2000/svg\" height=\"24px\"viewBox=\"0 0 24 24\"\n",
              "       width=\"24px\">\n",
              "    <path d=\"M0 0h24v24H0V0z\" fill=\"none\"/>\n",
              "    <path d=\"M18.56 5.44l.94 2.06.94-2.06 2.06-.94-2.06-.94-.94-2.06-.94 2.06-2.06.94zm-11 1L8.5 8.5l.94-2.06 2.06-.94-2.06-.94L8.5 2.5l-.94 2.06-2.06.94zm10 10l.94 2.06.94-2.06 2.06-.94-2.06-.94-.94-2.06-.94 2.06-2.06.94z\"/><path d=\"M17.41 7.96l-1.37-1.37c-.4-.4-.92-.59-1.43-.59-.52 0-1.04.2-1.43.59L10.3 9.45l-7.72 7.72c-.78.78-.78 2.05 0 2.83L4 21.41c.39.39.9.59 1.41.59.51 0 1.02-.2 1.41-.59l7.78-7.78 2.81-2.81c.8-.78.8-2.07 0-2.86zM5.41 20L4 18.59l7.72-7.72 1.47 1.35L5.41 20z\"/>\n",
              "  </svg>\n",
              "      </button>\n",
              "      \n",
              "  <style>\n",
              "    .colab-df-container {\n",
              "      display:flex;\n",
              "      flex-wrap:wrap;\n",
              "      gap: 12px;\n",
              "    }\n",
              "\n",
              "    .colab-df-convert {\n",
              "      background-color: #E8F0FE;\n",
              "      border: none;\n",
              "      border-radius: 50%;\n",
              "      cursor: pointer;\n",
              "      display: none;\n",
              "      fill: #1967D2;\n",
              "      height: 32px;\n",
              "      padding: 0 0 0 0;\n",
              "      width: 32px;\n",
              "    }\n",
              "\n",
              "    .colab-df-convert:hover {\n",
              "      background-color: #E2EBFA;\n",
              "      box-shadow: 0px 1px 2px rgba(60, 64, 67, 0.3), 0px 1px 3px 1px rgba(60, 64, 67, 0.15);\n",
              "      fill: #174EA6;\n",
              "    }\n",
              "\n",
              "    [theme=dark] .colab-df-convert {\n",
              "      background-color: #3B4455;\n",
              "      fill: #D2E3FC;\n",
              "    }\n",
              "\n",
              "    [theme=dark] .colab-df-convert:hover {\n",
              "      background-color: #434B5C;\n",
              "      box-shadow: 0px 1px 3px 1px rgba(0, 0, 0, 0.15);\n",
              "      filter: drop-shadow(0px 1px 2px rgba(0, 0, 0, 0.3));\n",
              "      fill: #FFFFFF;\n",
              "    }\n",
              "  </style>\n",
              "\n",
              "      <script>\n",
              "        const buttonEl =\n",
              "          document.querySelector('#df-7d80b0fd-f0c6-440f-b643-6f867db998ed button.colab-df-convert');\n",
              "        buttonEl.style.display =\n",
              "          google.colab.kernel.accessAllowed ? 'block' : 'none';\n",
              "\n",
              "        async function convertToInteractive(key) {\n",
              "          const element = document.querySelector('#df-7d80b0fd-f0c6-440f-b643-6f867db998ed');\n",
              "          const dataTable =\n",
              "            await google.colab.kernel.invokeFunction('convertToInteractive',\n",
              "                                                     [key], {});\n",
              "          if (!dataTable) return;\n",
              "\n",
              "          const docLinkHtml = 'Like what you see? Visit the ' +\n",
              "            '<a target=\"_blank\" href=https://colab.research.google.com/notebooks/data_table.ipynb>data table notebook</a>'\n",
              "            + ' to learn more about interactive tables.';\n",
              "          element.innerHTML = '';\n",
              "          dataTable['output_type'] = 'display_data';\n",
              "          await google.colab.output.renderOutput(dataTable, element);\n",
              "          const docLink = document.createElement('div');\n",
              "          docLink.innerHTML = docLinkHtml;\n",
              "          element.appendChild(docLink);\n",
              "        }\n",
              "      </script>\n",
              "    </div>\n",
              "  </div>\n",
              "  "
            ]
          },
          "metadata": {},
          "execution_count": 29
        }
      ]
    },
    {
      "cell_type": "markdown",
      "source": [
        "- Plotar os resultados"
      ],
      "metadata": {
        "id": "gFLwsKCnBJ28"
      }
    },
    {
      "cell_type": "code",
      "source": [
        "plt.figure(figsize=(25,12))\n",
        "plt.title(\"Analise preço ripple com dados de teste\")\n",
        "plt.plot(df[\"real\"], label=\"real\", color=\"blue\")\n",
        "plt.plot(df[\"previsao\"], label=\"previsao\", color=\"red\")\n",
        "plt.xlabel(\"Data\")\n",
        "plt.ylabel(\"Preço de Fechamento\")\n",
        "leg = plt.legend()"
      ],
      "metadata": {
        "colab": {
          "base_uri": "https://localhost:8080/",
          "height": 633
        },
        "id": "BADKUbAvva-J",
        "outputId": "0f6e9216-651e-4fa0-8e44-2a2aba13a1a4"
      },
      "execution_count": 30,
      "outputs": [
        {
          "output_type": "display_data",
          "data": {
            "text/plain": [
              "<Figure size 1800x864 with 1 Axes>"
            ],
            "image/png": "[encoded data removed]"
          },
          "metadata": {
            "needs_background": "light"
          }
        }
      ]
    },
    {
      "cell_type": "code",
      "source": [
        "sns.set_style('whitegrid')\n",
        "sns.set(rc={'figure.figsize':(24, 12)})\n",
        "sns.regplot(x =\"real\", y =\"previsao\", data = df, ci=False, order=2)"
      ],
      "metadata": {
        "colab": {
          "base_uri": "https://localhost:8080/",
          "height": 660
        },
        "id": "3iczwjHLsnNo",
        "outputId": "df03b30e-6b63-40b8-e6c6-07144fe34a42"
      },
      "execution_count": 31,
      "outputs": [
        {
          "output_type": "execute_result",
          "data": {
            "text/plain": [
              "<matplotlib.axes._subplots.AxesSubplot at 0x7f27a0d08490>"
            ]
          },
          "metadata": {},
          "execution_count": 31
        },
        {
          "output_type": "display_data",
          "data": {
            "text/plain": [
              "<Figure size 1728x864 with 1 Axes>"
            ],
            "image/png": "[encoded data removed]"
          },
          "metadata": {}
        }
      ]
    },
    {
      "cell_type": "markdown",
      "source": [
        "- Export modelo preditivo "
      ],
      "metadata": {
        "id": "ym9fUM-5x-gj"
      }
    },
    {
      "cell_type": "code",
      "source": [
        "joblib.dump(pipeline_linear_regression, 'model_xrp_usd.pkl')"
      ],
      "metadata": {
        "id": "pyu5yBRFsnTp",
        "colab": {
          "base_uri": "https://localhost:8080/"
        },
        "outputId": "a6cc89a0-c9ae-449c-b940-3e0eeee05e52"
      },
      "execution_count": 32,
      "outputs": [
        {
          "output_type": "execute_result",
          "data": {
            "text/plain": [
              "['model_xrp_usd.pkl']"
            ]
          },
          "metadata": {},
          "execution_count": 32
        }
      ]
    },
    {
      "cell_type": "markdown",
      "source": [
        "- Import modelo preditivo"
      ],
      "metadata": {
        "id": "x6qezcv5yBlL"
      }
    },
    {
      "cell_type": "code",
      "source": [
        "model = joblib.load('model_xrp_usd.pkl')"
      ],
      "metadata": {
        "id": "eobLnSMHIt13"
      },
      "execution_count": 33,
      "outputs": []
    }
  ]
}