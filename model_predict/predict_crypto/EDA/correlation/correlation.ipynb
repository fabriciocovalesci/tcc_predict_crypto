{
  "nbformat": 4,
  "nbformat_minor": 0,
  "metadata": {
    "colab": {
      "provenance": [],
      "collapsed_sections": [],
      "authorship_tag": "ABX9TyNA/wb4Jcrv/PZ5k+d7IuoV",
      "include_colab_link": true
    },
    "kernelspec": {
      "name": "python3",
      "display_name": "Python 3"
    },
    "language_info": {
      "name": "python"
    }
  },
  "cells": [
    {
      "cell_type": "markdown",
      "metadata": {
        "id": "view-in-github",
        "colab_type": "text"
      },
      "source": [
        "<a href=\"https://colab.research.google.com/github/fabriciocovalesci/tcc_predict_crypto/blob/main/model_predict/predict_crypto/EDA/correlation/correlation.ipynb\" target=\"_parent\"><img src=\"https://colab.research.google.com/assets/colab-badge.svg\" alt=\"Open In Colab\"/></a>"
      ]
    },
    {
      "cell_type": "markdown",
      "source": [
        "\n",
        "##   <center>**Criando DataFrame de correlação entre as criptomoedas** </center>"
      ],
      "metadata": {
        "id": "I2blAbhKy-Di"
      }
    },
    {
      "cell_type": "markdown",
      "source": [
        "#### **Correlação**: \n",
        "O coeficiente de correlação de Pearson (r) ou coeficiente de correlação\n",
        "produto-momento ou o r de Pearson mede o grau da correlação linear entre\n",
        "duas variáveis quantitativas. É um índice adimensional com valores situados\n",
        "ente -1,0 e 1.0 inclusive, que reflete a intensidade de uma relação linear entre\n",
        "dois conjuntos de dados. \n",
        "\n",
        "*Este coeficiente, normalmente representado por **ρ** assume apenas valores entre -1 e 1.*\n",
        "\n",
        "\n",
        "\n",
        "*   ***ρ = 1***  -  Significa uma correlação perfeita positiva entre as duas variáveis.\n",
        "*   ***ρ = -1*** -  Significa uma correlação negativa perfeita entre as duas variáveis - Isto é, se uma aumenta, a outra sempre diminui.\n",
        "*   ***ρ = 0***  - Significa que as duas variáveis não dependem linearmente uma da outra. No entanto, pode existir uma dependência não linear. Assim, o resultado ***ρ = 0*** deve ser investigado por outros meios.\n",
        "\n",
        "\n",
        "Interpretando ***ρ***\n",
        "\n",
        "\n",
        "*   0.9 para mais ou para menos indica uma correlação muito forte.\n",
        "*   0.7 a 0.9 positivo ou negativo indica uma correlação forte.\n",
        "*   0.5 a 0.7 positivo ou negativo indica uma correlação moderada.\n",
        "*   0.3 a 0.5 positivo ou negativo indica uma correlação fraca.\n",
        "*   0 a 0.3 positivo ou negativo indica uma correlação desprezível.\n"
      ],
      "metadata": {
        "id": "KuhAdawqvHpA"
      }
    },
    {
      "cell_type": "markdown",
      "source": [
        "- Instalar dependencia **yfinance** para fazer o download dos dados"
      ],
      "metadata": {
        "id": "aJaa06IHzN0S"
      }
    },
    {
      "cell_type": "code",
      "source": [
        "!pip install yfinance --upgrade --no-cache-dir"
      ],
      "metadata": {
        "colab": {
          "base_uri": "https://localhost:8080/"
        },
        "id": "HsHmkyBE_Dyf",
        "outputId": "539038df-4804-4b50-c838-40c6680c5f35"
      },
      "execution_count": null,
      "outputs": [
        {
          "output_type": "stream",
          "name": "stdout",
          "text": [
            "Looking in indexes: https://pypi.org/simple, https://us-python.pkg.dev/colab-wheels/public/simple/\n",
            "Collecting yfinance\n",
            "  Downloading yfinance-0.1.75-py2.py3-none-any.whl (28 kB)\n",
            "Requirement already satisfied: pandas>=0.24.0 in /usr/local/lib/python3.7/dist-packages (from yfinance) (1.3.5)\n",
            "Requirement already satisfied: appdirs>=1.4.4 in /usr/local/lib/python3.7/dist-packages (from yfinance) (1.4.4)\n",
            "Requirement already satisfied: lxml>=4.5.1 in /usr/local/lib/python3.7/dist-packages (from yfinance) (4.9.1)\n",
            "Requirement already satisfied: multitasking>=0.0.7 in /usr/local/lib/python3.7/dist-packages (from yfinance) (0.0.11)\n",
            "Requirement already satisfied: numpy>=1.15 in /usr/local/lib/python3.7/dist-packages (from yfinance) (1.21.6)\n",
            "Collecting requests>=2.26\n",
            "  Downloading requests-2.28.1-py3-none-any.whl (62 kB)\n",
            "\u001b[K     |████████████████████████████████| 62 kB 7.2 MB/s \n",
            "\u001b[?25hRequirement already satisfied: python-dateutil>=2.7.3 in /usr/local/lib/python3.7/dist-packages (from pandas>=0.24.0->yfinance) (2.8.2)\n",
            "Requirement already satisfied: pytz>=2017.3 in /usr/local/lib/python3.7/dist-packages (from pandas>=0.24.0->yfinance) (2022.2.1)\n",
            "Requirement already satisfied: six>=1.5 in /usr/local/lib/python3.7/dist-packages (from python-dateutil>=2.7.3->pandas>=0.24.0->yfinance) (1.15.0)\n",
            "Requirement already satisfied: certifi>=2017.4.17 in /usr/local/lib/python3.7/dist-packages (from requests>=2.26->yfinance) (2022.6.15)\n",
            "Requirement already satisfied: urllib3<1.27,>=1.21.1 in /usr/local/lib/python3.7/dist-packages (from requests>=2.26->yfinance) (1.24.3)\n",
            "Requirement already satisfied: idna<4,>=2.5 in /usr/local/lib/python3.7/dist-packages (from requests>=2.26->yfinance) (2.10)\n",
            "Requirement already satisfied: charset-normalizer<3,>=2 in /usr/local/lib/python3.7/dist-packages (from requests>=2.26->yfinance) (2.1.1)\n",
            "Installing collected packages: requests, yfinance\n",
            "  Attempting uninstall: requests\n",
            "    Found existing installation: requests 2.23.0\n",
            "    Uninstalling requests-2.23.0:\n",
            "      Successfully uninstalled requests-2.23.0\n",
            "Successfully installed requests-2.28.1 yfinance-0.1.75\n"
          ]
        }
      ]
    },
    {
      "cell_type": "markdown",
      "source": [
        "- Importar as libs para manipulação dos dados"
      ],
      "metadata": {
        "id": "qKIhjlnp0RXD"
      }
    },
    {
      "cell_type": "code",
      "execution_count": null,
      "metadata": {
        "id": "WhHfOVl6-6Ri"
      },
      "outputs": [],
      "source": [
        "import pandas as pd\n",
        "import numpy as np\n",
        "from sklearn import metrics\n",
        "import yfinance as yf"
      ]
    },
    {
      "cell_type": "markdown",
      "source": [
        "- Importar as libs para Plotar os gráficos"
      ],
      "metadata": {
        "id": "xCrwc0220ymb"
      }
    },
    {
      "cell_type": "code",
      "source": [
        "import matplotlib.pyplot as plt\n",
        "import plotly.graph_objects as go\n",
        "from plotly.subplots import make_subplots\n",
        "import plotly.express as px\n",
        "import seaborn as sns\n",
        "from statsmodels.graphics.tsaplots import plot_acf\n",
        "from statsmodels.graphics.tsaplots import plot_pacf\n",
        "import plotly.express as px\n",
        "plt.style.use('ggplot')\n",
        "%matplotlib inline"
      ],
      "metadata": {
        "id": "jdLMkTYPATaH"
      },
      "execution_count": null,
      "outputs": []
    },
    {
      "cell_type": "markdown",
      "source": [
        "- Importar as libs nativas do python"
      ],
      "metadata": {
        "id": "-PRXPh8X1RGM"
      }
    },
    {
      "cell_type": "code",
      "source": [
        "from functools import reduce\n",
        "from datetime import datetime"
      ],
      "metadata": {
        "id": "vpF4jYbu1XTu"
      },
      "execution_count": null,
      "outputs": []
    },
    {
      "cell_type": "markdown",
      "source": [
        "- Definir data inicial e data final para buscar os dados no **yfinance**\n",
        "\n",
        "\n"
      ],
      "metadata": {
        "id": "rviSAFCG1JPb"
      }
    },
    {
      "cell_type": "code",
      "source": [
        "today = datetime.strftime(datetime.today(), '%Y-%m-%d')\n",
        "date_init = \"2014-01-01\""
      ],
      "metadata": {
        "id": "29SqIF001zpD"
      },
      "execution_count": null,
      "outputs": []
    },
    {
      "cell_type": "markdown",
      "source": [
        "- Definir uma lista com as criptomoedas \n",
        "- Criado uma função para buscar os dados,  e filtrar somente o preço do Fechamento"
      ],
      "metadata": {
        "id": "wOvn2ARG4trq"
      }
    },
    {
      "cell_type": "code",
      "source": [
        "list_tickers = [\"BTC-USD\", \"ETH-USD\", \"SOL-USD\", \"BNB-USD\", \"ADA-USD\", \"DAI-USD\", \"DOGE-USD\", \"DOT-USD\", \"MATIC-USD\", \"XRP-USD\"]\n",
        "\n",
        "def download_tickers(ticker):\n",
        "  try:\n",
        "    asset = yf.download(ticker, start=date_init, end=today, interval='1d')\n",
        "    return asset.Close\n",
        "  except Exception as err:\n",
        "    print(f\"ERROR: {err}\")\n",
        "\n",
        "  \n",
        "def create_data_frame(asset_close, ticker):\n",
        "  return pd.DataFrame(asset_close).rename(columns = {'Close': ticker})\n"
      ],
      "metadata": {
        "id": "S_jRChbI_AvP"
      },
      "execution_count": null,
      "outputs": []
    },
    {
      "cell_type": "markdown",
      "source": [
        "- Download dos dados e agrupar numa lista auxiliar"
      ],
      "metadata": {
        "id": "8GEdp2fX7P9i"
      }
    },
    {
      "cell_type": "code",
      "source": [
        "dfs = []\n",
        "for ticker in list_tickers:\n",
        "  asset = download_tickers(ticker)\n",
        "  dfs.append(create_data_frame(asset, ticker.split('-')[0]))"
      ],
      "metadata": {
        "colab": {
          "base_uri": "https://localhost:8080/"
        },
        "id": "p5kDqgZd4n_j",
        "outputId": "2679ddd9-7437-4b05-880f-d19ebd25b5d6"
      },
      "execution_count": null,
      "outputs": [
        {
          "output_type": "stream",
          "name": "stdout",
          "text": [
            "[*********************100%***********************]  1 of 1 completed\n",
            "[*********************100%***********************]  1 of 1 completed\n",
            "[*********************100%***********************]  1 of 1 completed\n",
            "[*********************100%***********************]  1 of 1 completed\n",
            "[*********************100%***********************]  1 of 1 completed\n",
            "[*********************100%***********************]  1 of 1 completed\n",
            "[*********************100%***********************]  1 of 1 completed\n",
            "[*********************100%***********************]  1 of 1 completed\n",
            "[*********************100%***********************]  1 of 1 completed\n",
            "[*********************100%***********************]  1 of 1 completed\n"
          ]
        }
      ]
    },
    {
      "cell_type": "markdown",
      "source": [
        "- Fazer um merge da atravez da lib pandas, retornando um dataframe final"
      ],
      "metadata": {
        "id": "AoTXYj8k7ZE6"
      }
    },
    {
      "cell_type": "code",
      "source": [
        "df_final = reduce(lambda left,right: pd.merge(left, right, on = 'Date', how = 'inner'), dfs)"
      ],
      "metadata": {
        "id": "cAa8wG5263fa"
      },
      "execution_count": null,
      "outputs": []
    },
    {
      "cell_type": "markdown",
      "source": [
        "- Verificando se há dados nulos no dataframe"
      ],
      "metadata": {
        "id": "LogbE1PI8YB6"
      }
    },
    {
      "cell_type": "code",
      "source": [
        "df_final.isnull().sum()"
      ],
      "metadata": {
        "id": "AKMAhocY_Bad",
        "colab": {
          "base_uri": "https://localhost:8080/"
        },
        "outputId": "bbfbb0a1-f282-484b-8544-bcc7921d245d"
      },
      "execution_count": null,
      "outputs": [
        {
          "output_type": "execute_result",
          "data": {
            "text/plain": [
              "BTC      0\n",
              "ETH      0\n",
              "SOL      0\n",
              "BNB      0\n",
              "ADA      0\n",
              "DAI      0\n",
              "DOGE     0\n",
              "DOT      0\n",
              "MATIC    0\n",
              "XRP      0\n",
              "dtype: int64"
            ]
          },
          "metadata": {},
          "execution_count": 9
        }
      ]
    },
    {
      "cell_type": "markdown",
      "source": [
        "- Exibir matriz de correlação entre as criptomoedas"
      ],
      "metadata": {
        "id": "5bQvZ0zB8lZC"
      }
    },
    {
      "cell_type": "code",
      "source": [
        "df_final.corr()"
      ],
      "metadata": {
        "id": "32A4ries_BPd",
        "colab": {
          "base_uri": "https://localhost:8080/",
          "height": 363
        },
        "outputId": "31a4b95d-ce01-4e8f-e2f0-c586589a6abf"
      },
      "execution_count": null,
      "outputs": [
        {
          "output_type": "execute_result",
          "data": {
            "text/plain": [
              "            BTC       ETH       SOL       BNB       ADA       DAI      DOGE  \\\n",
              "BTC    1.000000  0.827272  0.620454  0.774642  0.797066 -0.425659  0.623059   \n",
              "ETH    0.827272  1.000000  0.876107  0.929535  0.841099 -0.460303  0.753872   \n",
              "SOL    0.620454  0.876107  1.000000  0.771213  0.674257 -0.318159  0.482113   \n",
              "BNB    0.774642  0.929535  0.771213  1.000000  0.779030 -0.476482  0.772891   \n",
              "ADA    0.797066  0.841099  0.674257  0.779030  1.000000 -0.350306  0.813340   \n",
              "DAI   -0.425659 -0.460303 -0.318159 -0.476482 -0.350306  1.000000 -0.323086   \n",
              "DOGE   0.623059  0.753872  0.482113  0.772891  0.813340 -0.323086  1.000000   \n",
              "DOT    0.945502  0.781680  0.618574  0.742284  0.814600 -0.287741  0.645207   \n",
              "MATIC  0.548566  0.875225  0.819587  0.829902  0.680321 -0.416622  0.647772   \n",
              "XRP    0.782717  0.805608  0.597805  0.820299  0.842530 -0.319529  0.854366   \n",
              "\n",
              "            DOT     MATIC       XRP  \n",
              "BTC    0.945502  0.548566  0.782717  \n",
              "ETH    0.781680  0.875225  0.805608  \n",
              "SOL    0.618574  0.819587  0.597805  \n",
              "BNB    0.742284  0.829902  0.820299  \n",
              "ADA    0.814600  0.680321  0.842530  \n",
              "DAI   -0.287741 -0.416622 -0.319529  \n",
              "DOGE   0.645207  0.647772  0.854366  \n",
              "DOT    1.000000  0.500607  0.799237  \n",
              "MATIC  0.500607  1.000000  0.618009  \n",
              "XRP    0.799237  0.618009  1.000000  "
            ],
            "text/html": [
              "\n",
              "  <div id=\"df-95cc5224-4ca6-4123-92e2-a8f06e3a27e5\">\n",
              "    <div class=\"colab-df-container\">\n",
              "      <div>\n",
              "<style scoped>\n",
              "    .dataframe tbody tr th:only-of-type {\n",
              "        vertical-align: middle;\n",
              "    }\n",
              "\n",
              "    .dataframe tbody tr th {\n",
              "        vertical-align: top;\n",
              "    }\n",
              "\n",
              "    .dataframe thead th {\n",
              "        text-align: right;\n",
              "    }\n",
              "</style>\n",
              "<table border=\"1\" class=\"dataframe\">\n",
              "  <thead>\n",
              "    <tr style=\"text-align: right;\">\n",
              "      <th></th>\n",
              "      <th>BTC</th>\n",
              "      <th>ETH</th>\n",
              "      <th>SOL</th>\n",
              "      <th>BNB</th>\n",
              "      <th>ADA</th>\n",
              "      <th>DAI</th>\n",
              "      <th>DOGE</th>\n",
              "      <th>DOT</th>\n",
              "      <th>MATIC</th>\n",
              "      <th>XRP</th>\n",
              "    </tr>\n",
              "  </thead>\n",
              "  <tbody>\n",
              "    <tr>\n",
              "      <th>BTC</th>\n",
              "      <td>1.000000</td>\n",
              "      <td>0.827272</td>\n",
              "      <td>0.620454</td>\n",
              "      <td>0.774642</td>\n",
              "      <td>0.797066</td>\n",
              "      <td>-0.425659</td>\n",
              "      <td>0.623059</td>\n",
              "      <td>0.945502</td>\n",
              "      <td>0.548566</td>\n",
              "      <td>0.782717</td>\n",
              "    </tr>\n",
              "    <tr>\n",
              "      <th>ETH</th>\n",
              "      <td>0.827272</td>\n",
              "      <td>1.000000</td>\n",
              "      <td>0.876107</td>\n",
              "      <td>0.929535</td>\n",
              "      <td>0.841099</td>\n",
              "      <td>-0.460303</td>\n",
              "      <td>0.753872</td>\n",
              "      <td>0.781680</td>\n",
              "      <td>0.875225</td>\n",
              "      <td>0.805608</td>\n",
              "    </tr>\n",
              "    <tr>\n",
              "      <th>SOL</th>\n",
              "      <td>0.620454</td>\n",
              "      <td>0.876107</td>\n",
              "      <td>1.000000</td>\n",
              "      <td>0.771213</td>\n",
              "      <td>0.674257</td>\n",
              "      <td>-0.318159</td>\n",
              "      <td>0.482113</td>\n",
              "      <td>0.618574</td>\n",
              "      <td>0.819587</td>\n",
              "      <td>0.597805</td>\n",
              "    </tr>\n",
              "    <tr>\n",
              "      <th>BNB</th>\n",
              "      <td>0.774642</td>\n",
              "      <td>0.929535</td>\n",
              "      <td>0.771213</td>\n",
              "      <td>1.000000</td>\n",
              "      <td>0.779030</td>\n",
              "      <td>-0.476482</td>\n",
              "      <td>0.772891</td>\n",
              "      <td>0.742284</td>\n",
              "      <td>0.829902</td>\n",
              "      <td>0.820299</td>\n",
              "    </tr>\n",
              "    <tr>\n",
              "      <th>ADA</th>\n",
              "      <td>0.797066</td>\n",
              "      <td>0.841099</td>\n",
              "      <td>0.674257</td>\n",
              "      <td>0.779030</td>\n",
              "      <td>1.000000</td>\n",
              "      <td>-0.350306</td>\n",
              "      <td>0.813340</td>\n",
              "      <td>0.814600</td>\n",
              "      <td>0.680321</td>\n",
              "      <td>0.842530</td>\n",
              "    </tr>\n",
              "    <tr>\n",
              "      <th>DAI</th>\n",
              "      <td>-0.425659</td>\n",
              "      <td>-0.460303</td>\n",
              "      <td>-0.318159</td>\n",
              "      <td>-0.476482</td>\n",
              "      <td>-0.350306</td>\n",
              "      <td>1.000000</td>\n",
              "      <td>-0.323086</td>\n",
              "      <td>-0.287741</td>\n",
              "      <td>-0.416622</td>\n",
              "      <td>-0.319529</td>\n",
              "    </tr>\n",
              "    <tr>\n",
              "      <th>DOGE</th>\n",
              "      <td>0.623059</td>\n",
              "      <td>0.753872</td>\n",
              "      <td>0.482113</td>\n",
              "      <td>0.772891</td>\n",
              "      <td>0.813340</td>\n",
              "      <td>-0.323086</td>\n",
              "      <td>1.000000</td>\n",
              "      <td>0.645207</td>\n",
              "      <td>0.647772</td>\n",
              "      <td>0.854366</td>\n",
              "    </tr>\n",
              "    <tr>\n",
              "      <th>DOT</th>\n",
              "      <td>0.945502</td>\n",
              "      <td>0.781680</td>\n",
              "      <td>0.618574</td>\n",
              "      <td>0.742284</td>\n",
              "      <td>0.814600</td>\n",
              "      <td>-0.287741</td>\n",
              "      <td>0.645207</td>\n",
              "      <td>1.000000</td>\n",
              "      <td>0.500607</td>\n",
              "      <td>0.799237</td>\n",
              "    </tr>\n",
              "    <tr>\n",
              "      <th>MATIC</th>\n",
              "      <td>0.548566</td>\n",
              "      <td>0.875225</td>\n",
              "      <td>0.819587</td>\n",
              "      <td>0.829902</td>\n",
              "      <td>0.680321</td>\n",
              "      <td>-0.416622</td>\n",
              "      <td>0.647772</td>\n",
              "      <td>0.500607</td>\n",
              "      <td>1.000000</td>\n",
              "      <td>0.618009</td>\n",
              "    </tr>\n",
              "    <tr>\n",
              "      <th>XRP</th>\n",
              "      <td>0.782717</td>\n",
              "      <td>0.805608</td>\n",
              "      <td>0.597805</td>\n",
              "      <td>0.820299</td>\n",
              "      <td>0.842530</td>\n",
              "      <td>-0.319529</td>\n",
              "      <td>0.854366</td>\n",
              "      <td>0.799237</td>\n",
              "      <td>0.618009</td>\n",
              "      <td>1.000000</td>\n",
              "    </tr>\n",
              "  </tbody>\n",
              "</table>\n",
              "</div>\n",
              "      <button class=\"colab-df-convert\" onclick=\"convertToInteractive('df-95cc5224-4ca6-4123-92e2-a8f06e3a27e5')\"\n",
              "              title=\"Convert this dataframe to an interactive table.\"\n",
              "              style=\"display:none;\">\n",
              "        \n",
              "  <svg xmlns=\"http://www.w3.org/2000/svg\" height=\"24px\"viewBox=\"0 0 24 24\"\n",
              "       width=\"24px\">\n",
              "    <path d=\"M0 0h24v24H0V0z\" fill=\"none\"/>\n",
              "    <path d=\"M18.56 5.44l.94 2.06.94-2.06 2.06-.94-2.06-.94-.94-2.06-.94 2.06-2.06.94zm-11 1L8.5 8.5l.94-2.06 2.06-.94-2.06-.94L8.5 2.5l-.94 2.06-2.06.94zm10 10l.94 2.06.94-2.06 2.06-.94-2.06-.94-.94-2.06-.94 2.06-2.06.94z\"/><path d=\"M17.41 7.96l-1.37-1.37c-.4-.4-.92-.59-1.43-.59-.52 0-1.04.2-1.43.59L10.3 9.45l-7.72 7.72c-.78.78-.78 2.05 0 2.83L4 21.41c.39.39.9.59 1.41.59.51 0 1.02-.2 1.41-.59l7.78-7.78 2.81-2.81c.8-.78.8-2.07 0-2.86zM5.41 20L4 18.59l7.72-7.72 1.47 1.35L5.41 20z\"/>\n",
              "  </svg>\n",
              "      </button>\n",
              "      \n",
              "  <style>\n",
              "    .colab-df-container {\n",
              "      display:flex;\n",
              "      flex-wrap:wrap;\n",
              "      gap: 12px;\n",
              "    }\n",
              "\n",
              "    .colab-df-convert {\n",
              "      background-color: #E8F0FE;\n",
              "      border: none;\n",
              "      border-radius: 50%;\n",
              "      cursor: pointer;\n",
              "      display: none;\n",
              "      fill: #1967D2;\n",
              "      height: 32px;\n",
              "      padding: 0 0 0 0;\n",
              "      width: 32px;\n",
              "    }\n",
              "\n",
              "    .colab-df-convert:hover {\n",
              "      background-color: #E2EBFA;\n",
              "      box-shadow: 0px 1px 2px rgba(60, 64, 67, 0.3), 0px 1px 3px 1px rgba(60, 64, 67, 0.15);\n",
              "      fill: #174EA6;\n",
              "    }\n",
              "\n",
              "    [theme=dark] .colab-df-convert {\n",
              "      background-color: #3B4455;\n",
              "      fill: #D2E3FC;\n",
              "    }\n",
              "\n",
              "    [theme=dark] .colab-df-convert:hover {\n",
              "      background-color: #434B5C;\n",
              "      box-shadow: 0px 1px 3px 1px rgba(0, 0, 0, 0.15);\n",
              "      filter: drop-shadow(0px 1px 2px rgba(0, 0, 0, 0.3));\n",
              "      fill: #FFFFFF;\n",
              "    }\n",
              "  </style>\n",
              "\n",
              "      <script>\n",
              "        const buttonEl =\n",
              "          document.querySelector('#df-95cc5224-4ca6-4123-92e2-a8f06e3a27e5 button.colab-df-convert');\n",
              "        buttonEl.style.display =\n",
              "          google.colab.kernel.accessAllowed ? 'block' : 'none';\n",
              "\n",
              "        async function convertToInteractive(key) {\n",
              "          const element = document.querySelector('#df-95cc5224-4ca6-4123-92e2-a8f06e3a27e5');\n",
              "          const dataTable =\n",
              "            await google.colab.kernel.invokeFunction('convertToInteractive',\n",
              "                                                     [key], {});\n",
              "          if (!dataTable) return;\n",
              "\n",
              "          const docLinkHtml = 'Like what you see? Visit the ' +\n",
              "            '<a target=\"_blank\" href=https://colab.research.google.com/notebooks/data_table.ipynb>data table notebook</a>'\n",
              "            + ' to learn more about interactive tables.';\n",
              "          element.innerHTML = '';\n",
              "          dataTable['output_type'] = 'display_data';\n",
              "          await google.colab.output.renderOutput(dataTable, element);\n",
              "          const docLink = document.createElement('div');\n",
              "          docLink.innerHTML = docLinkHtml;\n",
              "          element.appendChild(docLink);\n",
              "        }\n",
              "      </script>\n",
              "    </div>\n",
              "  </div>\n",
              "  "
            ]
          },
          "metadata": {},
          "execution_count": 10
        }
      ]
    },
    {
      "cell_type": "markdown",
      "source": [
        "- Visualizar a matriz de correlação\n"
      ],
      "metadata": {
        "id": "yrU-QQM09P0j"
      }
    },
    {
      "cell_type": "code",
      "source": [
        "plt.figure(figsize = (16, 8))\n",
        "sns.heatmap(df_final.corr(), vmin=-1, vmax=1, annot=True, cmap='BrBG')"
      ],
      "metadata": {
        "colab": {
          "base_uri": "https://localhost:8080/",
          "height": 504
        },
        "id": "DKKW75hbGEno",
        "outputId": "fa6457ab-1cbd-4e72-f3a7-af07a60b072e"
      },
      "execution_count": null,
      "outputs": [
        {
          "output_type": "execute_result",
          "data": {
            "text/plain": [
              "<matplotlib.axes._subplots.AxesSubplot at 0x7f9f1caa3e90>"
            ]
          },
          "metadata": {},
          "execution_count": 11
        },
        {
          "output_type": "display_data",
          "data": {
            "text/plain": [
              "<Figure size 1152x576 with 2 Axes>"
            ],
            "image/png": "[encoded data removed]"
          },
          "metadata": {
            "needs_background": "light"
          }
        }
      ]
    },
    {
      "cell_type": "markdown",
      "source": [
        "- Exportar matriz de correlação para JSON"
      ],
      "metadata": {
        "id": "zcy-LHC39kW6"
      }
    },
    {
      "cell_type": "code",
      "source": [
        "df_final.corr().to_json()"
      ],
      "metadata": {
        "colab": {
          "base_uri": "https://localhost:8080/",
          "height": 140
        },
        "id": "ZwD6zfCZ6_J0",
        "outputId": "e985a89c-2036-4fb2-801e-3ba4095370d3"
      },
      "execution_count": null,
      "outputs": [
        {
          "output_type": "execute_result",
          "data": {
            "text/plain": [
              "'{\"BTC\":{\"BTC\":1.0,\"ETH\":0.8272717807,\"SOL\":0.6204544794,\"BNB\":0.774642205,\"ADA\":0.7970664389,\"DAI\":-0.425659409,\"DOGE\":0.6230585628,\"DOT\":0.9455022746,\"MATIC\":0.5485657926,\"XRP\":0.7827166421},\"ETH\":{\"BTC\":0.8272717807,\"ETH\":1.0,\"SOL\":0.8761068993,\"BNB\":0.929535177,\"ADA\":0.8410991069,\"DAI\":-0.4603034638,\"DOGE\":0.7538721285,\"DOT\":0.7816804201,\"MATIC\":0.8752254043,\"XRP\":0.8056075245},\"SOL\":{\"BTC\":0.6204544794,\"ETH\":0.8761068993,\"SOL\":1.0,\"BNB\":0.7712130069,\"ADA\":0.674257057,\"DAI\":-0.3181593282,\"DOGE\":0.4821125726,\"DOT\":0.6185742296,\"MATIC\":0.8195865508,\"XRP\":0.5978051399},\"BNB\":{\"BTC\":0.774642205,\"ETH\":0.929535177,\"SOL\":0.7712130069,\"BNB\":1.0,\"ADA\":0.7790298183,\"DAI\":-0.4764819545,\"DOGE\":0.7728905402,\"DOT\":0.7422842048,\"MATIC\":0.8299020421,\"XRP\":0.8202989467},\"ADA\":{\"BTC\":0.7970664389,\"ETH\":0.8410991069,\"SOL\":0.674257057,\"BNB\":0.7790298183,\"ADA\":1.0,\"DAI\":-0.3503057018,\"DOGE\":0.8133396334,\"DOT\":0.8145996692,\"MATIC\":0.6803206282,\"XRP\":0.8425300085},\"DAI\":{\"BTC\":-0.425659409,\"ETH\":-0.4603034638,\"SOL\":-0.3181593282,\"BNB\":-0.4764819545,\"ADA\":-0.3503057018,\"DAI\":1.0,\"DOGE\":-0.3230863603,\"DOT\":-0.2877407216,\"MATIC\":-0.4166221798,\"XRP\":-0.3195291123},\"DOGE\":{\"BTC\":0.6230585628,\"ETH\":0.7538721285,\"SOL\":0.4821125726,\"BNB\":0.7728905402,\"ADA\":0.8133396334,\"DAI\":-0.3230863603,\"DOGE\":1.0,\"DOT\":0.6452071927,\"MATIC\":0.6477717636,\"XRP\":0.854366414},\"DOT\":{\"BTC\":0.9455022746,\"ETH\":0.7816804201,\"SOL\":0.6185742296,\"BNB\":0.7422842048,\"ADA\":0.8145996692,\"DAI\":-0.2877407216,\"DOGE\":0.6452071927,\"DOT\":1.0,\"MATIC\":0.5006066056,\"XRP\":0.7992369801},\"MATIC\":{\"BTC\":0.5485657926,\"ETH\":0.8752254043,\"SOL\":0.8195865508,\"BNB\":0.8299020421,\"ADA\":0.6803206282,\"DAI\":-0.4166221798,\"DOGE\":0.6477717636,\"DOT\":0.5006066056,\"MATIC\":1.0,\"XRP\":0.6180089616},\"XRP\":{\"BTC\":0.7827166421,\"ETH\":0.8056075245,\"SOL\":0.5978051399,\"BNB\":0.8202989467,\"ADA\":0.8425300085,\"DAI\":-0.3195291123,\"DOGE\":0.854366414,\"DOT\":0.7992369801,\"MATIC\":0.6180089616,\"XRP\":1.0}}'"
            ],
            "application/vnd.google.colaboratory.intrinsic+json": {
              "type": "string"
            }
          },
          "metadata": {},
          "execution_count": 12
        }
      ]
    }
  ]
}