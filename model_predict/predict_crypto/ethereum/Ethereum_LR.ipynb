{
  "nbformat": 4,
  "nbformat_minor": 0,
  "metadata": {
    "colab": {
      "provenance": [],
      "collapsed_sections": [],
      "include_colab_link": true
    },
    "kernelspec": {
      "name": "python3",
      "display_name": "Python 3"
    },
    "language_info": {
      "name": "python"
    }
  },
  "cells": [
    {
      "cell_type": "markdown",
      "metadata": {
        "id": "view-in-github",
        "colab_type": "text"
      },
      "source": [
        "<a href=\"https://colab.research.google.com/github/fabriciocovalesci/tcc_predict_crypto/blob/main/model_predict/predict_crypto/ethereum/Ethereum_LR.ipynb\" target=\"_parent\"><img src=\"https://colab.research.google.com/assets/colab-badge.svg\" alt=\"Open In Colab\"/></a>"
      ]
    },
    {
      "cell_type": "markdown",
      "source": [
        "### Modelo preditivo Ethereum"
      ],
      "metadata": {
        "id": "LnhRNFDuuqQj"
      }
    },
    {
      "cell_type": "markdown",
      "source": [
        "- Instalar biblioteca **yfinance**"
      ],
      "metadata": {
        "id": "9aH0e44yuqIl"
      }
    },
    {
      "cell_type": "code",
      "execution_count": 1,
      "metadata": {
        "colab": {
          "base_uri": "https://localhost:8080/"
        },
        "id": "XI7yeySJr7dG",
        "outputId": "8e0ce923-4443-4c45-bf04-468a05a14eea"
      },
      "outputs": [
        {
          "output_type": "stream",
          "name": "stdout",
          "text": [
            "Looking in indexes: https://pypi.org/simple, https://us-python.pkg.dev/colab-wheels/public/simple/\n",
            "Collecting yfinance\n",
            "  Downloading yfinance-0.1.84-py2.py3-none-any.whl (29 kB)\n",
            "Requirement already satisfied: lxml>=4.5.1 in /usr/local/lib/python3.7/dist-packages (from yfinance) (4.9.1)\n",
            "Requirement already satisfied: pandas>=0.24.0 in /usr/local/lib/python3.7/dist-packages (from yfinance) (1.3.5)\n",
            "Collecting requests>=2.26\n",
            "  Downloading requests-2.28.1-py3-none-any.whl (62 kB)\n",
            "\u001b[K     |████████████████████████████████| 62 kB 19.5 MB/s \n",
            "\u001b[?25hRequirement already satisfied: multitasking>=0.0.7 in /usr/local/lib/python3.7/dist-packages (from yfinance) (0.0.11)\n",
            "Requirement already satisfied: appdirs>=1.4.4 in /usr/local/lib/python3.7/dist-packages (from yfinance) (1.4.4)\n",
            "Requirement already satisfied: numpy>=1.15 in /usr/local/lib/python3.7/dist-packages (from yfinance) (1.21.6)\n",
            "Requirement already satisfied: pytz>=2017.3 in /usr/local/lib/python3.7/dist-packages (from pandas>=0.24.0->yfinance) (2022.5)\n",
            "Requirement already satisfied: python-dateutil>=2.7.3 in /usr/local/lib/python3.7/dist-packages (from pandas>=0.24.0->yfinance) (2.8.2)\n",
            "Requirement already satisfied: six>=1.5 in /usr/local/lib/python3.7/dist-packages (from python-dateutil>=2.7.3->pandas>=0.24.0->yfinance) (1.15.0)\n",
            "Requirement already satisfied: certifi>=2017.4.17 in /usr/local/lib/python3.7/dist-packages (from requests>=2.26->yfinance) (2022.9.24)\n",
            "Requirement already satisfied: urllib3<1.27,>=1.21.1 in /usr/local/lib/python3.7/dist-packages (from requests>=2.26->yfinance) (1.24.3)\n",
            "Requirement already satisfied: charset-normalizer<3,>=2 in /usr/local/lib/python3.7/dist-packages (from requests>=2.26->yfinance) (2.1.1)\n",
            "Requirement already satisfied: idna<4,>=2.5 in /usr/local/lib/python3.7/dist-packages (from requests>=2.26->yfinance) (2.10)\n",
            "Installing collected packages: requests, yfinance\n",
            "  Attempting uninstall: requests\n",
            "    Found existing installation: requests 2.23.0\n",
            "    Uninstalling requests-2.23.0:\n",
            "      Successfully uninstalled requests-2.23.0\n",
            "Successfully installed requests-2.28.1 yfinance-0.1.84\n"
          ]
        }
      ],
      "source": [
        "!pip install yfinance --upgrade --no-cache-dir"
      ]
    },
    {
      "cell_type": "markdown",
      "source": [
        "- Importar bibliotecas de manipulação de dados"
      ],
      "metadata": {
        "id": "pEmfJP70u4O6"
      }
    },
    {
      "cell_type": "code",
      "source": [
        "import pandas as pd\n",
        "import numpy as np\n",
        "import yfinance as yf"
      ],
      "metadata": {
        "id": "wcxpjo8msA5L"
      },
      "execution_count": 2,
      "outputs": []
    },
    {
      "cell_type": "markdown",
      "source": [
        "- Importar bibliotecas realizar as predições"
      ],
      "metadata": {
        "id": "nGxQC0Rmu_Wi"
      }
    },
    {
      "cell_type": "code",
      "source": [
        "from sklearn.feature_selection import SelectKBest, f_regression\n",
        "from sklearn.model_selection import GridSearchCV\n",
        "from sklearn.neural_network import MLPRegressor\n",
        "from sklearn.preprocessing import MinMaxScaler\n",
        "from sklearn import datasets, linear_model\n",
        "from sklearn.metrics import mean_squared_error, r2_score, mean_absolute_error, accuracy_score, confusion_matrix, precision_score\n",
        "from sklearn.model_selection import train_test_split\n",
        "from sklearn.linear_model import LinearRegression\n",
        "from sklearn.pipeline import Pipeline, make_pipeline\n",
        "import joblib"
      ],
      "metadata": {
        "id": "YvTLcAqquVuv"
      },
      "execution_count": 3,
      "outputs": []
    },
    {
      "cell_type": "markdown",
      "source": [
        "- Importar bibliotecas para plotar gráficos"
      ],
      "metadata": {
        "id": "WIh3Dk45vE5K"
      }
    },
    {
      "cell_type": "code",
      "source": [
        "import matplotlib.pyplot as plt\n",
        "import plotly.graph_objects as go\n",
        "from plotly.subplots import make_subplots\n",
        "import plotly.express as px\n",
        "import seaborn as sns\n",
        "from statsmodels.graphics.tsaplots import plot_acf\n",
        "from statsmodels.graphics.tsaplots import plot_pacf\n",
        "import plotly.express as px\n",
        "plt.style.use('ggplot')\n",
        "%matplotlib inline"
      ],
      "metadata": {
        "id": "6RQ1XVxTsA-h"
      },
      "execution_count": 4,
      "outputs": []
    },
    {
      "cell_type": "markdown",
      "source": [
        "- Importar bibliotecas internas do python"
      ],
      "metadata": {
        "id": "09mrCrKYvNNK"
      }
    },
    {
      "cell_type": "code",
      "source": [
        "from functools import reduce\n",
        "from datetime import datetime"
      ],
      "metadata": {
        "id": "jY9SWGLasBBL"
      },
      "execution_count": 5,
      "outputs": []
    },
    {
      "cell_type": "markdown",
      "source": [
        "- Definir datas para capturar os dados"
      ],
      "metadata": {
        "id": "kBXFlQ1VvQRC"
      }
    },
    {
      "cell_type": "code",
      "source": [
        "date_today = datetime.strftime(datetime.today(), '%Y-%m-%d')\n",
        "date_init = \"2014-01-01\""
      ],
      "metadata": {
        "id": "meKtzz9isBDv"
      },
      "execution_count": 6,
      "outputs": []
    },
    {
      "cell_type": "markdown",
      "source": [
        "- Criar funções auxiliares "
      ],
      "metadata": {
        "id": "wO7VGEmSvWOC"
      }
    },
    {
      "cell_type": "code",
      "source": [
        "TICKER = \"ETH-USD\"\n",
        "\n",
        "def download_tickers(ticker):\n",
        "  try:\n",
        "    asset = yf.download(ticker, start=date_init, end=date_today, interval='1d')\n",
        "    return asset.Close\n",
        "  except Exception as err:\n",
        "    print(f\"ERROR: {err}\")\n",
        "\n",
        "  \n",
        "def create_data_frame(asset_close, ticker):\n",
        "  return pd.DataFrame(asset_close).rename(columns = {'Close': ticker})\n",
        "\n",
        "\n",
        "def mean_absolute_percentage_error(y_true, y_pred):\n",
        "\t\"\"\"Take in true and predicted values and calculate the MAPE score\"\"\"\n",
        "\ty_true, y_pred = np.array(y_true), np.array(y_pred)\n",
        "\treturn np.mean(np.abs((y_true - y_pred) / y_true)) * 100"
      ],
      "metadata": {
        "id": "gAcRyUa0sBHC"
      },
      "execution_count": 7,
      "outputs": []
    },
    {
      "cell_type": "markdown",
      "source": [
        "- Download dos dados"
      ],
      "metadata": {
        "id": "H6PD_lK9vaNC"
      }
    },
    {
      "cell_type": "code",
      "source": [
        "df_eth = yf.download(TICKER, date_init, date_today)\n",
        "df_eth = df_eth.reset_index()"
      ],
      "metadata": {
        "colab": {
          "base_uri": "https://localhost:8080/"
        },
        "id": "WqndBn94sVKZ",
        "outputId": "e6c3f1a4-02de-4b2b-921a-0f903c4ef632"
      },
      "execution_count": 8,
      "outputs": [
        {
          "output_type": "stream",
          "name": "stdout",
          "text": [
            "\r[*********************100%***********************]  1 of 1 completed\n"
          ]
        }
      ]
    },
    {
      "cell_type": "markdown",
      "source": [
        "- Renomear colunas"
      ],
      "metadata": {
        "id": "okcEKn2SvfDb"
      }
    },
    {
      "cell_type": "code",
      "source": [
        "df_eth.rename({'Date': 'timestamp', 'Open': 'open', 'High': 'high', 'Low': 'low', 'Adj Close': 'close', 'Volume': 'volume' }, axis=1, inplace=True)"
      ],
      "metadata": {
        "id": "-uH-w6QwsVNZ"
      },
      "execution_count": 9,
      "outputs": []
    },
    {
      "cell_type": "code",
      "source": [
        "df_eth.dtypes"
      ],
      "metadata": {
        "colab": {
          "base_uri": "https://localhost:8080/"
        },
        "id": "rCX7TgAob3lt",
        "outputId": "a2faa6fd-d408-42f6-b436-26f1a33f7c21"
      },
      "execution_count": 10,
      "outputs": [
        {
          "output_type": "execute_result",
          "data": {
            "text/plain": [
              "timestamp    datetime64[ns]\n",
              "open                float64\n",
              "high                float64\n",
              "low                 float64\n",
              "Close               float64\n",
              "close               float64\n",
              "volume                int64\n",
              "dtype: object"
            ]
          },
          "metadata": {},
          "execution_count": 10
        }
      ]
    },
    {
      "cell_type": "markdown",
      "source": [
        "- Converter data"
      ],
      "metadata": {
        "id": "qiqyJR65vo9S"
      }
    },
    {
      "cell_type": "code",
      "source": [
        "df_eth['timestamp'] = pd.to_datetime(df_eth['timestamp'], format=\"%Y-%m-%d\")"
      ],
      "metadata": {
        "id": "fHf2mLrDsVQJ"
      },
      "execution_count": 11,
      "outputs": []
    },
    {
      "cell_type": "markdown",
      "source": [
        "- Criar médias móveis de 7 dias e 21 dias"
      ],
      "metadata": {
        "id": "obt8r1F6vser"
      }
    },
    {
      "cell_type": "code",
      "source": [
        "df_eth['mm7d'] = df_eth['close'].rolling(7).mean()\n",
        "df_eth['mm21d'] = df_eth['close'].rolling(21).mean()\n",
        "\n",
        "df_eth.tail()"
      ],
      "metadata": {
        "colab": {
          "base_uri": "https://localhost:8080/",
          "height": 206
        },
        "id": "TzTF6UoEs84B",
        "outputId": "10c80720-94bd-4992-d9a8-63528321749f"
      },
      "execution_count": 12,
      "outputs": [
        {
          "output_type": "execute_result",
          "data": {
            "text/plain": [
              "      timestamp         open         high          low        Close  \\\n",
              "1813 2022-10-27  1566.841431  1574.403442  1510.816772  1514.374878   \n",
              "1814 2022-10-28  1514.323120  1568.633911  1493.871094  1555.477905   \n",
              "1815 2022-10-29  1555.274658  1652.382202  1549.983643  1619.698486   \n",
              "1816 2022-10-30  1619.697876  1637.037842  1579.485229  1590.783325   \n",
              "1817 2022-10-31  1590.481323  1630.452881  1555.918945  1572.714478   \n",
              "\n",
              "            close       volume         mm7d        mm21d  \n",
              "1813  1514.374878  22813499245  1409.328299  1337.121890  \n",
              "1814  1555.477905  19974623205  1445.832799  1347.739078  \n",
              "1815  1619.698486  21618154775  1489.461269  1362.224697  \n",
              "1816  1590.783325  13930073427  1521.937884  1374.995129  \n",
              "1817  1572.714478  19306919714  1554.468733  1388.394026  "
            ],
            "text/html": [
              "\n",
              "  <div id=\"df-99ecc787-3fc1-441c-b36e-a3a3b8685556\">\n",
              "    <div class=\"colab-df-container\">\n",
              "      <div>\n",
              "<style scoped>\n",
              "    .dataframe tbody tr th:only-of-type {\n",
              "        vertical-align: middle;\n",
              "    }\n",
              "\n",
              "    .dataframe tbody tr th {\n",
              "        vertical-align: top;\n",
              "    }\n",
              "\n",
              "    .dataframe thead th {\n",
              "        text-align: right;\n",
              "    }\n",
              "</style>\n",
              "<table border=\"1\" class=\"dataframe\">\n",
              "  <thead>\n",
              "    <tr style=\"text-align: right;\">\n",
              "      <th></th>\n",
              "      <th>timestamp</th>\n",
              "      <th>open</th>\n",
              "      <th>high</th>\n",
              "      <th>low</th>\n",
              "      <th>Close</th>\n",
              "      <th>close</th>\n",
              "      <th>volume</th>\n",
              "      <th>mm7d</th>\n",
              "      <th>mm21d</th>\n",
              "    </tr>\n",
              "  </thead>\n",
              "  <tbody>\n",
              "    <tr>\n",
              "      <th>1813</th>\n",
              "      <td>2022-10-27</td>\n",
              "      <td>1566.841431</td>\n",
              "      <td>1574.403442</td>\n",
              "      <td>1510.816772</td>\n",
              "      <td>1514.374878</td>\n",
              "      <td>1514.374878</td>\n",
              "      <td>22813499245</td>\n",
              "      <td>1409.328299</td>\n",
              "      <td>1337.121890</td>\n",
              "    </tr>\n",
              "    <tr>\n",
              "      <th>1814</th>\n",
              "      <td>2022-10-28</td>\n",
              "      <td>1514.323120</td>\n",
              "      <td>1568.633911</td>\n",
              "      <td>1493.871094</td>\n",
              "      <td>1555.477905</td>\n",
              "      <td>1555.477905</td>\n",
              "      <td>19974623205</td>\n",
              "      <td>1445.832799</td>\n",
              "      <td>1347.739078</td>\n",
              "    </tr>\n",
              "    <tr>\n",
              "      <th>1815</th>\n",
              "      <td>2022-10-29</td>\n",
              "      <td>1555.274658</td>\n",
              "      <td>1652.382202</td>\n",
              "      <td>1549.983643</td>\n",
              "      <td>1619.698486</td>\n",
              "      <td>1619.698486</td>\n",
              "      <td>21618154775</td>\n",
              "      <td>1489.461269</td>\n",
              "      <td>1362.224697</td>\n",
              "    </tr>\n",
              "    <tr>\n",
              "      <th>1816</th>\n",
              "      <td>2022-10-30</td>\n",
              "      <td>1619.697876</td>\n",
              "      <td>1637.037842</td>\n",
              "      <td>1579.485229</td>\n",
              "      <td>1590.783325</td>\n",
              "      <td>1590.783325</td>\n",
              "      <td>13930073427</td>\n",
              "      <td>1521.937884</td>\n",
              "      <td>1374.995129</td>\n",
              "    </tr>\n",
              "    <tr>\n",
              "      <th>1817</th>\n",
              "      <td>2022-10-31</td>\n",
              "      <td>1590.481323</td>\n",
              "      <td>1630.452881</td>\n",
              "      <td>1555.918945</td>\n",
              "      <td>1572.714478</td>\n",
              "      <td>1572.714478</td>\n",
              "      <td>19306919714</td>\n",
              "      <td>1554.468733</td>\n",
              "      <td>1388.394026</td>\n",
              "    </tr>\n",
              "  </tbody>\n",
              "</table>\n",
              "</div>\n",
              "      <button class=\"colab-df-convert\" onclick=\"convertToInteractive('df-99ecc787-3fc1-441c-b36e-a3a3b8685556')\"\n",
              "              title=\"Convert this dataframe to an interactive table.\"\n",
              "              style=\"display:none;\">\n",
              "        \n",
              "  <svg xmlns=\"http://www.w3.org/2000/svg\" height=\"24px\"viewBox=\"0 0 24 24\"\n",
              "       width=\"24px\">\n",
              "    <path d=\"M0 0h24v24H0V0z\" fill=\"none\"/>\n",
              "    <path d=\"M18.56 5.44l.94 2.06.94-2.06 2.06-.94-2.06-.94-.94-2.06-.94 2.06-2.06.94zm-11 1L8.5 8.5l.94-2.06 2.06-.94-2.06-.94L8.5 2.5l-.94 2.06-2.06.94zm10 10l.94 2.06.94-2.06 2.06-.94-2.06-.94-.94-2.06-.94 2.06-2.06.94z\"/><path d=\"M17.41 7.96l-1.37-1.37c-.4-.4-.92-.59-1.43-.59-.52 0-1.04.2-1.43.59L10.3 9.45l-7.72 7.72c-.78.78-.78 2.05 0 2.83L4 21.41c.39.39.9.59 1.41.59.51 0 1.02-.2 1.41-.59l7.78-7.78 2.81-2.81c.8-.78.8-2.07 0-2.86zM5.41 20L4 18.59l7.72-7.72 1.47 1.35L5.41 20z\"/>\n",
              "  </svg>\n",
              "      </button>\n",
              "      \n",
              "  <style>\n",
              "    .colab-df-container {\n",
              "      display:flex;\n",
              "      flex-wrap:wrap;\n",
              "      gap: 12px;\n",
              "    }\n",
              "\n",
              "    .colab-df-convert {\n",
              "      background-color: #E8F0FE;\n",
              "      border: none;\n",
              "      border-radius: 50%;\n",
              "      cursor: pointer;\n",
              "      display: none;\n",
              "      fill: #1967D2;\n",
              "      height: 32px;\n",
              "      padding: 0 0 0 0;\n",
              "      width: 32px;\n",
              "    }\n",
              "\n",
              "    .colab-df-convert:hover {\n",
              "      background-color: #E2EBFA;\n",
              "      box-shadow: 0px 1px 2px rgba(60, 64, 67, 0.3), 0px 1px 3px 1px rgba(60, 64, 67, 0.15);\n",
              "      fill: #174EA6;\n",
              "    }\n",
              "\n",
              "    [theme=dark] .colab-df-convert {\n",
              "      background-color: #3B4455;\n",
              "      fill: #D2E3FC;\n",
              "    }\n",
              "\n",
              "    [theme=dark] .colab-df-convert:hover {\n",
              "      background-color: #434B5C;\n",
              "      box-shadow: 0px 1px 3px 1px rgba(0, 0, 0, 0.15);\n",
              "      filter: drop-shadow(0px 1px 2px rgba(0, 0, 0, 0.3));\n",
              "      fill: #FFFFFF;\n",
              "    }\n",
              "  </style>\n",
              "\n",
              "      <script>\n",
              "        const buttonEl =\n",
              "          document.querySelector('#df-99ecc787-3fc1-441c-b36e-a3a3b8685556 button.colab-df-convert');\n",
              "        buttonEl.style.display =\n",
              "          google.colab.kernel.accessAllowed ? 'block' : 'none';\n",
              "\n",
              "        async function convertToInteractive(key) {\n",
              "          const element = document.querySelector('#df-99ecc787-3fc1-441c-b36e-a3a3b8685556');\n",
              "          const dataTable =\n",
              "            await google.colab.kernel.invokeFunction('convertToInteractive',\n",
              "                                                     [key], {});\n",
              "          if (!dataTable) return;\n",
              "\n",
              "          const docLinkHtml = 'Like what you see? Visit the ' +\n",
              "            '<a target=\"_blank\" href=https://colab.research.google.com/notebooks/data_table.ipynb>data table notebook</a>'\n",
              "            + ' to learn more about interactive tables.';\n",
              "          element.innerHTML = '';\n",
              "          dataTable['output_type'] = 'display_data';\n",
              "          await google.colab.output.renderOutput(dataTable, element);\n",
              "          const docLink = document.createElement('div');\n",
              "          docLink.innerHTML = docLinkHtml;\n",
              "          element.appendChild(docLink);\n",
              "        }\n",
              "      </script>\n",
              "    </div>\n",
              "  </div>\n",
              "  "
            ]
          },
          "metadata": {},
          "execution_count": 12
        }
      ]
    },
    {
      "cell_type": "markdown",
      "source": [
        "- Função de agrupamento dos dados"
      ],
      "metadata": {
        "id": "eX434S8Kv09a"
      }
    },
    {
      "cell_type": "code",
      "source": [
        "def group_data(type_group):\n",
        "  new_df = df_eth.groupby(pd.Grouper(key=\"timestamp\", freq=type_group)).sum()\n",
        "  new_df.reset_index(inplace=True)\n",
        "  return new_df"
      ],
      "metadata": {
        "id": "MPjrm4WbpN61"
      },
      "execution_count": 13,
      "outputs": []
    },
    {
      "cell_type": "markdown",
      "source": [
        "- Função para plotar grafico conforme o Agrupamento dos Dados\n",
        "- Tipo de agrupamento:\n",
        "- Por Meses (M) ou por Semanas (W)\n",
        "- Por Ano (year)\n",
        "- Tipo de grafico: 'bar',  'line',  'hist',  'barh'"
      ],
      "metadata": {
        "id": "83_LMHOIqubc"
      }
    },
    {
      "cell_type": "code",
      "source": [
        "def create_plot_custom(filter_Mounth_or_Week, year, type_plot):\n",
        "  \"\"\" \n",
        "    Cria um grafico filtrando por Ano, Meses ou Semanas\n",
        "\n",
        "    filter_Mounth_or_Week: 'M' ou 'W'\n",
        "    type_plot: 'line', 'bar', 'hist', 'barh'\n",
        "  \n",
        "  \"\"\"\n",
        "  if year >= 2014 and year <= 2022 and filter_Mounth_or_Week in (\"M\", \"W\"):\n",
        "    filtro_label = None\n",
        "    df_filter = group_data(filter_Mounth_or_Week)\n",
        "    include = df_filter[df_filter['timestamp'].dt.year == year]\n",
        "    meses = [\"jan\", \"fev\", \"mar\", \"abr\", \"mai\", \"jun\", \"jul\", \"ago\", \"set\", \"out\", \"nov\", \"dez\"]\n",
        "    if len(include.index) == 12:\n",
        "      include.index = meses[:len(include.index)]\n",
        "      filtro_label = \"Meses\"\n",
        "    elif len(include.index) > 50:\n",
        "      include.index = [i for i in range(0, len(include.index))]\n",
        "      filtro_label = \"Semanas\"\n",
        "    include.plot(y=\"close\", kind=type_plot, figsize=(14, 8),rot=30, title=f'Distruibuição por {filtro_label} - ano {year}', ylabel='Preço US$', xlabel=filtro_label, color=\"blue\")"
      ],
      "metadata": {
        "id": "8tL9xZOlZ8r0"
      },
      "execution_count": 14,
      "outputs": []
    },
    {
      "cell_type": "code",
      "source": [
        "create_plot_custom(\"M\", 2021, \"bar\")"
      ],
      "metadata": {
        "colab": {
          "base_uri": "https://localhost:8080/",
          "height": 525
        },
        "id": "QxCJ15tsa7E9",
        "outputId": "9d7d08c2-4f7b-42de-988d-e2cda90e7557"
      },
      "execution_count": 15,
      "outputs": [
        {
          "output_type": "display_data",
          "data": {
            "text/plain": [
              "<Figure size 1008x576 with 1 Axes>"
            ],
            "image/png": "[encoded data removed]"
          },
          "metadata": {
            "needs_background": "light"
          }
        }
      ]
    },
    {
      "cell_type": "markdown",
      "source": [
        "- Empurrando para frente os valores da criptomoeda"
      ],
      "metadata": {
        "id": "irz8F9VLv4ui"
      }
    },
    {
      "cell_type": "code",
      "source": [
        "df_eth['close'] = df_eth['close'].shift(-1)\n",
        "df_eth.tail()"
      ],
      "metadata": {
        "colab": {
          "base_uri": "https://localhost:8080/",
          "height": 206
        },
        "id": "vrSuQkVcs89Q",
        "outputId": "5efbdf43-a502-4512-d9fd-eda20fc6c27f"
      },
      "execution_count": 16,
      "outputs": [
        {
          "output_type": "execute_result",
          "data": {
            "text/plain": [
              "      timestamp         open         high          low        Close  \\\n",
              "1813 2022-10-27  1566.841431  1574.403442  1510.816772  1514.374878   \n",
              "1814 2022-10-28  1514.323120  1568.633911  1493.871094  1555.477905   \n",
              "1815 2022-10-29  1555.274658  1652.382202  1549.983643  1619.698486   \n",
              "1816 2022-10-30  1619.697876  1637.037842  1579.485229  1590.783325   \n",
              "1817 2022-10-31  1590.481323  1630.452881  1555.918945  1572.714478   \n",
              "\n",
              "            close       volume         mm7d        mm21d  \n",
              "1813  1555.477905  22813499245  1409.328299  1337.121890  \n",
              "1814  1619.698486  19974623205  1445.832799  1347.739078  \n",
              "1815  1590.783325  21618154775  1489.461269  1362.224697  \n",
              "1816  1572.714478  13930073427  1521.937884  1374.995129  \n",
              "1817          NaN  19306919714  1554.468733  1388.394026  "
            ],
            "text/html": [
              "\n",
              "  <div id=\"df-5a823cd9-f99f-420d-a7fc-f62976804df2\">\n",
              "    <div class=\"colab-df-container\">\n",
              "      <div>\n",
              "<style scoped>\n",
              "    .dataframe tbody tr th:only-of-type {\n",
              "        vertical-align: middle;\n",
              "    }\n",
              "\n",
              "    .dataframe tbody tr th {\n",
              "        vertical-align: top;\n",
              "    }\n",
              "\n",
              "    .dataframe thead th {\n",
              "        text-align: right;\n",
              "    }\n",
              "</style>\n",
              "<table border=\"1\" class=\"dataframe\">\n",
              "  <thead>\n",
              "    <tr style=\"text-align: right;\">\n",
              "      <th></th>\n",
              "      <th>timestamp</th>\n",
              "      <th>open</th>\n",
              "      <th>high</th>\n",
              "      <th>low</th>\n",
              "      <th>Close</th>\n",
              "      <th>close</th>\n",
              "      <th>volume</th>\n",
              "      <th>mm7d</th>\n",
              "      <th>mm21d</th>\n",
              "    </tr>\n",
              "  </thead>\n",
              "  <tbody>\n",
              "    <tr>\n",
              "      <th>1813</th>\n",
              "      <td>2022-10-27</td>\n",
              "      <td>1566.841431</td>\n",
              "      <td>1574.403442</td>\n",
              "      <td>1510.816772</td>\n",
              "      <td>1514.374878</td>\n",
              "      <td>1555.477905</td>\n",
              "      <td>22813499245</td>\n",
              "      <td>1409.328299</td>\n",
              "      <td>1337.121890</td>\n",
              "    </tr>\n",
              "    <tr>\n",
              "      <th>1814</th>\n",
              "      <td>2022-10-28</td>\n",
              "      <td>1514.323120</td>\n",
              "      <td>1568.633911</td>\n",
              "      <td>1493.871094</td>\n",
              "      <td>1555.477905</td>\n",
              "      <td>1619.698486</td>\n",
              "      <td>19974623205</td>\n",
              "      <td>1445.832799</td>\n",
              "      <td>1347.739078</td>\n",
              "    </tr>\n",
              "    <tr>\n",
              "      <th>1815</th>\n",
              "      <td>2022-10-29</td>\n",
              "      <td>1555.274658</td>\n",
              "      <td>1652.382202</td>\n",
              "      <td>1549.983643</td>\n",
              "      <td>1619.698486</td>\n",
              "      <td>1590.783325</td>\n",
              "      <td>21618154775</td>\n",
              "      <td>1489.461269</td>\n",
              "      <td>1362.224697</td>\n",
              "    </tr>\n",
              "    <tr>\n",
              "      <th>1816</th>\n",
              "      <td>2022-10-30</td>\n",
              "      <td>1619.697876</td>\n",
              "      <td>1637.037842</td>\n",
              "      <td>1579.485229</td>\n",
              "      <td>1590.783325</td>\n",
              "      <td>1572.714478</td>\n",
              "      <td>13930073427</td>\n",
              "      <td>1521.937884</td>\n",
              "      <td>1374.995129</td>\n",
              "    </tr>\n",
              "    <tr>\n",
              "      <th>1817</th>\n",
              "      <td>2022-10-31</td>\n",
              "      <td>1590.481323</td>\n",
              "      <td>1630.452881</td>\n",
              "      <td>1555.918945</td>\n",
              "      <td>1572.714478</td>\n",
              "      <td>NaN</td>\n",
              "      <td>19306919714</td>\n",
              "      <td>1554.468733</td>\n",
              "      <td>1388.394026</td>\n",
              "    </tr>\n",
              "  </tbody>\n",
              "</table>\n",
              "</div>\n",
              "      <button class=\"colab-df-convert\" onclick=\"convertToInteractive('df-5a823cd9-f99f-420d-a7fc-f62976804df2')\"\n",
              "              title=\"Convert this dataframe to an interactive table.\"\n",
              "              style=\"display:none;\">\n",
              "        \n",
              "  <svg xmlns=\"http://www.w3.org/2000/svg\" height=\"24px\"viewBox=\"0 0 24 24\"\n",
              "       width=\"24px\">\n",
              "    <path d=\"M0 0h24v24H0V0z\" fill=\"none\"/>\n",
              "    <path d=\"M18.56 5.44l.94 2.06.94-2.06 2.06-.94-2.06-.94-.94-2.06-.94 2.06-2.06.94zm-11 1L8.5 8.5l.94-2.06 2.06-.94-2.06-.94L8.5 2.5l-.94 2.06-2.06.94zm10 10l.94 2.06.94-2.06 2.06-.94-2.06-.94-.94-2.06-.94 2.06-2.06.94z\"/><path d=\"M17.41 7.96l-1.37-1.37c-.4-.4-.92-.59-1.43-.59-.52 0-1.04.2-1.43.59L10.3 9.45l-7.72 7.72c-.78.78-.78 2.05 0 2.83L4 21.41c.39.39.9.59 1.41.59.51 0 1.02-.2 1.41-.59l7.78-7.78 2.81-2.81c.8-.78.8-2.07 0-2.86zM5.41 20L4 18.59l7.72-7.72 1.47 1.35L5.41 20z\"/>\n",
              "  </svg>\n",
              "      </button>\n",
              "      \n",
              "  <style>\n",
              "    .colab-df-container {\n",
              "      display:flex;\n",
              "      flex-wrap:wrap;\n",
              "      gap: 12px;\n",
              "    }\n",
              "\n",
              "    .colab-df-convert {\n",
              "      background-color: #E8F0FE;\n",
              "      border: none;\n",
              "      border-radius: 50%;\n",
              "      cursor: pointer;\n",
              "      display: none;\n",
              "      fill: #1967D2;\n",
              "      height: 32px;\n",
              "      padding: 0 0 0 0;\n",
              "      width: 32px;\n",
              "    }\n",
              "\n",
              "    .colab-df-convert:hover {\n",
              "      background-color: #E2EBFA;\n",
              "      box-shadow: 0px 1px 2px rgba(60, 64, 67, 0.3), 0px 1px 3px 1px rgba(60, 64, 67, 0.15);\n",
              "      fill: #174EA6;\n",
              "    }\n",
              "\n",
              "    [theme=dark] .colab-df-convert {\n",
              "      background-color: #3B4455;\n",
              "      fill: #D2E3FC;\n",
              "    }\n",
              "\n",
              "    [theme=dark] .colab-df-convert:hover {\n",
              "      background-color: #434B5C;\n",
              "      box-shadow: 0px 1px 3px 1px rgba(0, 0, 0, 0.15);\n",
              "      filter: drop-shadow(0px 1px 2px rgba(0, 0, 0, 0.3));\n",
              "      fill: #FFFFFF;\n",
              "    }\n",
              "  </style>\n",
              "\n",
              "      <script>\n",
              "        const buttonEl =\n",
              "          document.querySelector('#df-5a823cd9-f99f-420d-a7fc-f62976804df2 button.colab-df-convert');\n",
              "        buttonEl.style.display =\n",
              "          google.colab.kernel.accessAllowed ? 'block' : 'none';\n",
              "\n",
              "        async function convertToInteractive(key) {\n",
              "          const element = document.querySelector('#df-5a823cd9-f99f-420d-a7fc-f62976804df2');\n",
              "          const dataTable =\n",
              "            await google.colab.kernel.invokeFunction('convertToInteractive',\n",
              "                                                     [key], {});\n",
              "          if (!dataTable) return;\n",
              "\n",
              "          const docLinkHtml = 'Like what you see? Visit the ' +\n",
              "            '<a target=\"_blank\" href=https://colab.research.google.com/notebooks/data_table.ipynb>data table notebook</a>'\n",
              "            + ' to learn more about interactive tables.';\n",
              "          element.innerHTML = '';\n",
              "          dataTable['output_type'] = 'display_data';\n",
              "          await google.colab.output.renderOutput(dataTable, element);\n",
              "          const docLink = document.createElement('div');\n",
              "          docLink.innerHTML = docLinkHtml;\n",
              "          element.appendChild(docLink);\n",
              "        }\n",
              "      </script>\n",
              "    </div>\n",
              "  </div>\n",
              "  "
            ]
          },
          "metadata": {},
          "execution_count": 16
        }
      ]
    },
    {
      "cell_type": "markdown",
      "source": [
        "- Remover os dados nulos"
      ],
      "metadata": {
        "id": "RXxYDot8wARz"
      }
    },
    {
      "cell_type": "code",
      "source": [
        "df_eth.dropna(inplace=True)\n",
        "df_eth"
      ],
      "metadata": {
        "colab": {
          "base_uri": "https://localhost:8080/",
          "height": 424
        },
        "id": "jIP4Y09auAln",
        "outputId": "0277975e-990d-4d27-e667-a7407909d7b6"
      },
      "execution_count": 17,
      "outputs": [
        {
          "output_type": "execute_result",
          "data": {
            "text/plain": [
              "      timestamp         open         high          low        Close  \\\n",
              "20   2017-11-29   473.281006   522.307007   425.071014   427.523010   \n",
              "21   2017-11-30   431.214996   465.497009   401.243011   447.114014   \n",
              "22   2017-12-01   445.209015   472.609009   428.312012   466.540009   \n",
              "23   2017-12-02   466.851013   476.239014   456.653015   463.449005   \n",
              "24   2017-12-03   463.704987   482.813995   451.851990   465.852997   \n",
              "...         ...          ...          ...          ...          ...   \n",
              "1812 2022-10-26  1461.133179  1584.636719  1460.428711  1566.566650   \n",
              "1813 2022-10-27  1566.841431  1574.403442  1510.816772  1514.374878   \n",
              "1814 2022-10-28  1514.323120  1568.633911  1493.871094  1555.477905   \n",
              "1815 2022-10-29  1555.274658  1652.382202  1549.983643  1619.698486   \n",
              "1816 2022-10-30  1619.697876  1637.037842  1579.485229  1590.783325   \n",
              "\n",
              "            close       volume         mm7d        mm21d  \n",
              "20     447.114014   2675940096   457.637573   376.523430  \n",
              "21     466.540009   1903040000   462.915863   382.534383  \n",
              "22     463.449005   1247879936   461.720006   390.500432  \n",
              "23     465.852997    943649984   461.316149   397.584622  \n",
              "24     470.204010    990556992   460.533722   405.105813  \n",
              "...           ...          ...          ...          ...  \n",
              "1812  1514.374878  32705548427  1376.303449  1329.375918  \n",
              "1813  1555.477905  22813499245  1409.328299  1337.121890  \n",
              "1814  1619.698486  19974623205  1445.832799  1347.739078  \n",
              "1815  1590.783325  21618154775  1489.461269  1362.224697  \n",
              "1816  1572.714478  13930073427  1521.937884  1374.995129  \n",
              "\n",
              "[1797 rows x 9 columns]"
            ],
            "text/html": [
              "\n",
              "  <div id=\"df-38f3bd69-15d8-4967-bfc3-ad4a86870976\">\n",
              "    <div class=\"colab-df-container\">\n",
              "      <div>\n",
              "<style scoped>\n",
              "    .dataframe tbody tr th:only-of-type {\n",
              "        vertical-align: middle;\n",
              "    }\n",
              "\n",
              "    .dataframe tbody tr th {\n",
              "        vertical-align: top;\n",
              "    }\n",
              "\n",
              "    .dataframe thead th {\n",
              "        text-align: right;\n",
              "    }\n",
              "</style>\n",
              "<table border=\"1\" class=\"dataframe\">\n",
              "  <thead>\n",
              "    <tr style=\"text-align: right;\">\n",
              "      <th></th>\n",
              "      <th>timestamp</th>\n",
              "      <th>open</th>\n",
              "      <th>high</th>\n",
              "      <th>low</th>\n",
              "      <th>Close</th>\n",
              "      <th>close</th>\n",
              "      <th>volume</th>\n",
              "      <th>mm7d</th>\n",
              "      <th>mm21d</th>\n",
              "    </tr>\n",
              "  </thead>\n",
              "  <tbody>\n",
              "    <tr>\n",
              "      <th>20</th>\n",
              "      <td>2017-11-29</td>\n",
              "      <td>473.281006</td>\n",
              "      <td>522.307007</td>\n",
              "      <td>425.071014</td>\n",
              "      <td>427.523010</td>\n",
              "      <td>447.114014</td>\n",
              "      <td>2675940096</td>\n",
              "      <td>457.637573</td>\n",
              "      <td>376.523430</td>\n",
              "    </tr>\n",
              "    <tr>\n",
              "      <th>21</th>\n",
              "      <td>2017-11-30</td>\n",
              "      <td>431.214996</td>\n",
              "      <td>465.497009</td>\n",
              "      <td>401.243011</td>\n",
              "      <td>447.114014</td>\n",
              "      <td>466.540009</td>\n",
              "      <td>1903040000</td>\n",
              "      <td>462.915863</td>\n",
              "      <td>382.534383</td>\n",
              "    </tr>\n",
              "    <tr>\n",
              "      <th>22</th>\n",
              "      <td>2017-12-01</td>\n",
              "      <td>445.209015</td>\n",
              "      <td>472.609009</td>\n",
              "      <td>428.312012</td>\n",
              "      <td>466.540009</td>\n",
              "      <td>463.449005</td>\n",
              "      <td>1247879936</td>\n",
              "      <td>461.720006</td>\n",
              "      <td>390.500432</td>\n",
              "    </tr>\n",
              "    <tr>\n",
              "      <th>23</th>\n",
              "      <td>2017-12-02</td>\n",
              "      <td>466.851013</td>\n",
              "      <td>476.239014</td>\n",
              "      <td>456.653015</td>\n",
              "      <td>463.449005</td>\n",
              "      <td>465.852997</td>\n",
              "      <td>943649984</td>\n",
              "      <td>461.316149</td>\n",
              "      <td>397.584622</td>\n",
              "    </tr>\n",
              "    <tr>\n",
              "      <th>24</th>\n",
              "      <td>2017-12-03</td>\n",
              "      <td>463.704987</td>\n",
              "      <td>482.813995</td>\n",
              "      <td>451.851990</td>\n",
              "      <td>465.852997</td>\n",
              "      <td>470.204010</td>\n",
              "      <td>990556992</td>\n",
              "      <td>460.533722</td>\n",
              "      <td>405.105813</td>\n",
              "    </tr>\n",
              "    <tr>\n",
              "      <th>...</th>\n",
              "      <td>...</td>\n",
              "      <td>...</td>\n",
              "      <td>...</td>\n",
              "      <td>...</td>\n",
              "      <td>...</td>\n",
              "      <td>...</td>\n",
              "      <td>...</td>\n",
              "      <td>...</td>\n",
              "      <td>...</td>\n",
              "    </tr>\n",
              "    <tr>\n",
              "      <th>1812</th>\n",
              "      <td>2022-10-26</td>\n",
              "      <td>1461.133179</td>\n",
              "      <td>1584.636719</td>\n",
              "      <td>1460.428711</td>\n",
              "      <td>1566.566650</td>\n",
              "      <td>1514.374878</td>\n",
              "      <td>32705548427</td>\n",
              "      <td>1376.303449</td>\n",
              "      <td>1329.375918</td>\n",
              "    </tr>\n",
              "    <tr>\n",
              "      <th>1813</th>\n",
              "      <td>2022-10-27</td>\n",
              "      <td>1566.841431</td>\n",
              "      <td>1574.403442</td>\n",
              "      <td>1510.816772</td>\n",
              "      <td>1514.374878</td>\n",
              "      <td>1555.477905</td>\n",
              "      <td>22813499245</td>\n",
              "      <td>1409.328299</td>\n",
              "      <td>1337.121890</td>\n",
              "    </tr>\n",
              "    <tr>\n",
              "      <th>1814</th>\n",
              "      <td>2022-10-28</td>\n",
              "      <td>1514.323120</td>\n",
              "      <td>1568.633911</td>\n",
              "      <td>1493.871094</td>\n",
              "      <td>1555.477905</td>\n",
              "      <td>1619.698486</td>\n",
              "      <td>19974623205</td>\n",
              "      <td>1445.832799</td>\n",
              "      <td>1347.739078</td>\n",
              "    </tr>\n",
              "    <tr>\n",
              "      <th>1815</th>\n",
              "      <td>2022-10-29</td>\n",
              "      <td>1555.274658</td>\n",
              "      <td>1652.382202</td>\n",
              "      <td>1549.983643</td>\n",
              "      <td>1619.698486</td>\n",
              "      <td>1590.783325</td>\n",
              "      <td>21618154775</td>\n",
              "      <td>1489.461269</td>\n",
              "      <td>1362.224697</td>\n",
              "    </tr>\n",
              "    <tr>\n",
              "      <th>1816</th>\n",
              "      <td>2022-10-30</td>\n",
              "      <td>1619.697876</td>\n",
              "      <td>1637.037842</td>\n",
              "      <td>1579.485229</td>\n",
              "      <td>1590.783325</td>\n",
              "      <td>1572.714478</td>\n",
              "      <td>13930073427</td>\n",
              "      <td>1521.937884</td>\n",
              "      <td>1374.995129</td>\n",
              "    </tr>\n",
              "  </tbody>\n",
              "</table>\n",
              "<p>1797 rows × 9 columns</p>\n",
              "</div>\n",
              "      <button class=\"colab-df-convert\" onclick=\"convertToInteractive('df-38f3bd69-15d8-4967-bfc3-ad4a86870976')\"\n",
              "              title=\"Convert this dataframe to an interactive table.\"\n",
              "              style=\"display:none;\">\n",
              "        \n",
              "  <svg xmlns=\"http://www.w3.org/2000/svg\" height=\"24px\"viewBox=\"0 0 24 24\"\n",
              "       width=\"24px\">\n",
              "    <path d=\"M0 0h24v24H0V0z\" fill=\"none\"/>\n",
              "    <path d=\"M18.56 5.44l.94 2.06.94-2.06 2.06-.94-2.06-.94-.94-2.06-.94 2.06-2.06.94zm-11 1L8.5 8.5l.94-2.06 2.06-.94-2.06-.94L8.5 2.5l-.94 2.06-2.06.94zm10 10l.94 2.06.94-2.06 2.06-.94-2.06-.94-.94-2.06-.94 2.06-2.06.94z\"/><path d=\"M17.41 7.96l-1.37-1.37c-.4-.4-.92-.59-1.43-.59-.52 0-1.04.2-1.43.59L10.3 9.45l-7.72 7.72c-.78.78-.78 2.05 0 2.83L4 21.41c.39.39.9.59 1.41.59.51 0 1.02-.2 1.41-.59l7.78-7.78 2.81-2.81c.8-.78.8-2.07 0-2.86zM5.41 20L4 18.59l7.72-7.72 1.47 1.35L5.41 20z\"/>\n",
              "  </svg>\n",
              "      </button>\n",
              "      \n",
              "  <style>\n",
              "    .colab-df-container {\n",
              "      display:flex;\n",
              "      flex-wrap:wrap;\n",
              "      gap: 12px;\n",
              "    }\n",
              "\n",
              "    .colab-df-convert {\n",
              "      background-color: #E8F0FE;\n",
              "      border: none;\n",
              "      border-radius: 50%;\n",
              "      cursor: pointer;\n",
              "      display: none;\n",
              "      fill: #1967D2;\n",
              "      height: 32px;\n",
              "      padding: 0 0 0 0;\n",
              "      width: 32px;\n",
              "    }\n",
              "\n",
              "    .colab-df-convert:hover {\n",
              "      background-color: #E2EBFA;\n",
              "      box-shadow: 0px 1px 2px rgba(60, 64, 67, 0.3), 0px 1px 3px 1px rgba(60, 64, 67, 0.15);\n",
              "      fill: #174EA6;\n",
              "    }\n",
              "\n",
              "    [theme=dark] .colab-df-convert {\n",
              "      background-color: #3B4455;\n",
              "      fill: #D2E3FC;\n",
              "    }\n",
              "\n",
              "    [theme=dark] .colab-df-convert:hover {\n",
              "      background-color: #434B5C;\n",
              "      box-shadow: 0px 1px 3px 1px rgba(0, 0, 0, 0.15);\n",
              "      filter: drop-shadow(0px 1px 2px rgba(0, 0, 0, 0.3));\n",
              "      fill: #FFFFFF;\n",
              "    }\n",
              "  </style>\n",
              "\n",
              "      <script>\n",
              "        const buttonEl =\n",
              "          document.querySelector('#df-38f3bd69-15d8-4967-bfc3-ad4a86870976 button.colab-df-convert');\n",
              "        buttonEl.style.display =\n",
              "          google.colab.kernel.accessAllowed ? 'block' : 'none';\n",
              "\n",
              "        async function convertToInteractive(key) {\n",
              "          const element = document.querySelector('#df-38f3bd69-15d8-4967-bfc3-ad4a86870976');\n",
              "          const dataTable =\n",
              "            await google.colab.kernel.invokeFunction('convertToInteractive',\n",
              "                                                     [key], {});\n",
              "          if (!dataTable) return;\n",
              "\n",
              "          const docLinkHtml = 'Like what you see? Visit the ' +\n",
              "            '<a target=\"_blank\" href=https://colab.research.google.com/notebooks/data_table.ipynb>data table notebook</a>'\n",
              "            + ' to learn more about interactive tables.';\n",
              "          element.innerHTML = '';\n",
              "          dataTable['output_type'] = 'display_data';\n",
              "          await google.colab.output.renderOutput(dataTable, element);\n",
              "          const docLink = document.createElement('div');\n",
              "          docLink.innerHTML = docLinkHtml;\n",
              "          element.appendChild(docLink);\n",
              "        }\n",
              "      </script>\n",
              "    </div>\n",
              "  </div>\n",
              "  "
            ]
          },
          "metadata": {},
          "execution_count": 17
        }
      ]
    },
    {
      "cell_type": "markdown",
      "source": [
        "- Testar se o DataFrame possui dados nulos"
      ],
      "metadata": {
        "id": "8yFxnOQmwDk6"
      }
    },
    {
      "cell_type": "code",
      "source": [
        "assert df_eth.isnull().sum().sum() == 0"
      ],
      "metadata": {
        "id": "Sk84FushxKQy"
      },
      "execution_count": 18,
      "outputs": []
    },
    {
      "cell_type": "markdown",
      "source": [
        "- Separar os dados em Treino, Teste e Validação. "
      ],
      "metadata": {
        "id": "zRInT3dbwJvy"
      }
    },
    {
      "cell_type": "code",
      "source": [
        "qtd_linhas = len(df_eth)\n",
        "\n",
        "qtd_linhas_treino= round(.70 * qtd_linhas)\n",
        "qtd_linhas_teste= qtd_linhas - qtd_linhas_treino  \n",
        "qtd_linhas_validacao = qtd_linhas -1\n",
        "\n",
        "info = (\n",
        "    f\"linhas treino= 0:{qtd_linhas_treino}\"\n",
        "    f\" linhas teste= {qtd_linhas_treino}:{qtd_linhas_treino + qtd_linhas_teste -1}\"\n",
        "    f\" linhas validação= {qtd_linhas_validacao}\"\n",
        ")\n",
        "\n",
        "info"
      ],
      "metadata": {
        "colab": {
          "base_uri": "https://localhost:8080/",
          "height": 35
        },
        "id": "km4dWJkRs9AH",
        "outputId": "8ba439c7-5551-4f34-9c0f-765deb25e75c"
      },
      "execution_count": 19,
      "outputs": [
        {
          "output_type": "execute_result",
          "data": {
            "text/plain": [
              "'linhas treino= 0:1258 linhas teste= 1258:1796 linhas validação= 1796'"
            ],
            "application/vnd.google.colaboratory.intrinsic+json": {
              "type": "string"
            }
          },
          "metadata": {},
          "execution_count": 19
        }
      ]
    },
    {
      "cell_type": "markdown",
      "source": [
        "- Separar a **labels** que será o target a ser encontrado pelo modelo preditivo\n",
        "- Separar as **features** que serão utilizadas para prever o valor final"
      ],
      "metadata": {
        "id": "SO2vROrYxaHK"
      }
    },
    {
      "cell_type": "code",
      "source": [
        "features = df_eth.drop(['timestamp', 'close'], 1)\n",
        "labels = df_eth['close']"
      ],
      "metadata": {
        "colab": {
          "base_uri": "https://localhost:8080/"
        },
        "id": "f2BJx4Gks9DE",
        "outputId": "e5cbdb02-34e3-4e70-91fe-ccc95a98bd09"
      },
      "execution_count": 20,
      "outputs": [
        {
          "output_type": "stream",
          "name": "stderr",
          "text": [
            "/usr/local/lib/python3.7/dist-packages/ipykernel_launcher.py:1: FutureWarning: In a future version of pandas all arguments of DataFrame.drop except for the argument 'labels' will be keyword-only\n",
            "  \"\"\"Entry point for launching an IPython kernel.\n"
          ]
        }
      ]
    },
    {
      "cell_type": "markdown",
      "source": [
        "- Escolhendo as melhores features com Kbest"
      ],
      "metadata": {
        "id": "accSLbKVx1Ui"
      }
    },
    {
      "cell_type": "code",
      "source": [
        "features_list = ('timestamp', 'open', 'high', 'low', 'volume', 'mm7d', 'mm21d')\n",
        "\n",
        "selector = SelectKBest(score_func=f_regression, k='all').fit(features, labels)\n",
        "x_new = selector.transform(features)\n",
        "scores = selector.scores_\n",
        "\n",
        "raw_pairs = zip(features_list[1:], scores)\n",
        "ordered_pairs = list(reversed(sorted(raw_pairs, key=lambda x: x[1])))\n",
        "\n",
        "k_best_features_final = dict(ordered_pairs[:15])\n",
        "best_features = k_best_features_final.keys()\n",
        "\n",
        "print(\"Melhores features:\")\n",
        "print(k_best_features_final)"
      ],
      "metadata": {
        "colab": {
          "base_uri": "https://localhost:8080/"
        },
        "id": "WS7D9-cns9Fw",
        "outputId": "9cef2cc5-cba4-4308-f1ea-98eed2967fe9"
      },
      "execution_count": 21,
      "outputs": [
        {
          "output_type": "stream",
          "name": "stdout",
          "text": [
            "Melhores features:\n",
            "{'volume': 410400.57779005327, 'high': 286005.81161575246, 'low': 266740.7116720243, 'open': 218536.3639700213, 'mm21d': 149685.3162582576, 'mm7d': 755.819291070153}\n"
          ]
        }
      ]
    },
    {
      "cell_type": "markdown",
      "source": [
        "- Separando as features escolhidas, com melhor pontuação"
      ],
      "metadata": {
        "id": "859MDpnVx5aC"
      }
    },
    {
      "cell_type": "code",
      "source": [
        "features = df_eth.loc[:,['volume','high', 'low', 'open', 'mm21d']]\n",
        "features"
      ],
      "metadata": {
        "colab": {
          "base_uri": "https://localhost:8080/",
          "height": 424
        },
        "id": "VZzojRaqu_r-",
        "outputId": "934dc207-83a9-4774-e1ac-83300d3f896a"
      },
      "execution_count": 22,
      "outputs": [
        {
          "output_type": "execute_result",
          "data": {
            "text/plain": [
              "           volume         high          low         open        mm21d\n",
              "20     2675940096   522.307007   425.071014   473.281006   376.523430\n",
              "21     1903040000   465.497009   401.243011   431.214996   382.534383\n",
              "22     1247879936   472.609009   428.312012   445.209015   390.500432\n",
              "23      943649984   476.239014   456.653015   466.851013   397.584622\n",
              "24      990556992   482.813995   451.851990   463.704987   405.105813\n",
              "...           ...          ...          ...          ...          ...\n",
              "1812  32705548427  1584.636719  1460.428711  1461.133179  1329.375918\n",
              "1813  22813499245  1574.403442  1510.816772  1566.841431  1337.121890\n",
              "1814  19974623205  1568.633911  1493.871094  1514.323120  1347.739078\n",
              "1815  21618154775  1652.382202  1549.983643  1555.274658  1362.224697\n",
              "1816  13930073427  1637.037842  1579.485229  1619.697876  1374.995129\n",
              "\n",
              "[1797 rows x 5 columns]"
            ],
            "text/html": [
              "\n",
              "  <div id=\"df-99061d86-e3d9-4213-8ca8-3094bd29c5a7\">\n",
              "    <div class=\"colab-df-container\">\n",
              "      <div>\n",
              "<style scoped>\n",
              "    .dataframe tbody tr th:only-of-type {\n",
              "        vertical-align: middle;\n",
              "    }\n",
              "\n",
              "    .dataframe tbody tr th {\n",
              "        vertical-align: top;\n",
              "    }\n",
              "\n",
              "    .dataframe thead th {\n",
              "        text-align: right;\n",
              "    }\n",
              "</style>\n",
              "<table border=\"1\" class=\"dataframe\">\n",
              "  <thead>\n",
              "    <tr style=\"text-align: right;\">\n",
              "      <th></th>\n",
              "      <th>volume</th>\n",
              "      <th>high</th>\n",
              "      <th>low</th>\n",
              "      <th>open</th>\n",
              "      <th>mm21d</th>\n",
              "    </tr>\n",
              "  </thead>\n",
              "  <tbody>\n",
              "    <tr>\n",
              "      <th>20</th>\n",
              "      <td>2675940096</td>\n",
              "      <td>522.307007</td>\n",
              "      <td>425.071014</td>\n",
              "      <td>473.281006</td>\n",
              "      <td>376.523430</td>\n",
              "    </tr>\n",
              "    <tr>\n",
              "      <th>21</th>\n",
              "      <td>1903040000</td>\n",
              "      <td>465.497009</td>\n",
              "      <td>401.243011</td>\n",
              "      <td>431.214996</td>\n",
              "      <td>382.534383</td>\n",
              "    </tr>\n",
              "    <tr>\n",
              "      <th>22</th>\n",
              "      <td>1247879936</td>\n",
              "      <td>472.609009</td>\n",
              "      <td>428.312012</td>\n",
              "      <td>445.209015</td>\n",
              "      <td>390.500432</td>\n",
              "    </tr>\n",
              "    <tr>\n",
              "      <th>23</th>\n",
              "      <td>943649984</td>\n",
              "      <td>476.239014</td>\n",
              "      <td>456.653015</td>\n",
              "      <td>466.851013</td>\n",
              "      <td>397.584622</td>\n",
              "    </tr>\n",
              "    <tr>\n",
              "      <th>24</th>\n",
              "      <td>990556992</td>\n",
              "      <td>482.813995</td>\n",
              "      <td>451.851990</td>\n",
              "      <td>463.704987</td>\n",
              "      <td>405.105813</td>\n",
              "    </tr>\n",
              "    <tr>\n",
              "      <th>...</th>\n",
              "      <td>...</td>\n",
              "      <td>...</td>\n",
              "      <td>...</td>\n",
              "      <td>...</td>\n",
              "      <td>...</td>\n",
              "    </tr>\n",
              "    <tr>\n",
              "      <th>1812</th>\n",
              "      <td>32705548427</td>\n",
              "      <td>1584.636719</td>\n",
              "      <td>1460.428711</td>\n",
              "      <td>1461.133179</td>\n",
              "      <td>1329.375918</td>\n",
              "    </tr>\n",
              "    <tr>\n",
              "      <th>1813</th>\n",
              "      <td>22813499245</td>\n",
              "      <td>1574.403442</td>\n",
              "      <td>1510.816772</td>\n",
              "      <td>1566.841431</td>\n",
              "      <td>1337.121890</td>\n",
              "    </tr>\n",
              "    <tr>\n",
              "      <th>1814</th>\n",
              "      <td>19974623205</td>\n",
              "      <td>1568.633911</td>\n",
              "      <td>1493.871094</td>\n",
              "      <td>1514.323120</td>\n",
              "      <td>1347.739078</td>\n",
              "    </tr>\n",
              "    <tr>\n",
              "      <th>1815</th>\n",
              "      <td>21618154775</td>\n",
              "      <td>1652.382202</td>\n",
              "      <td>1549.983643</td>\n",
              "      <td>1555.274658</td>\n",
              "      <td>1362.224697</td>\n",
              "    </tr>\n",
              "    <tr>\n",
              "      <th>1816</th>\n",
              "      <td>13930073427</td>\n",
              "      <td>1637.037842</td>\n",
              "      <td>1579.485229</td>\n",
              "      <td>1619.697876</td>\n",
              "      <td>1374.995129</td>\n",
              "    </tr>\n",
              "  </tbody>\n",
              "</table>\n",
              "<p>1797 rows × 5 columns</p>\n",
              "</div>\n",
              "      <button class=\"colab-df-convert\" onclick=\"convertToInteractive('df-99061d86-e3d9-4213-8ca8-3094bd29c5a7')\"\n",
              "              title=\"Convert this dataframe to an interactive table.\"\n",
              "              style=\"display:none;\">\n",
              "        \n",
              "  <svg xmlns=\"http://www.w3.org/2000/svg\" height=\"24px\"viewBox=\"0 0 24 24\"\n",
              "       width=\"24px\">\n",
              "    <path d=\"M0 0h24v24H0V0z\" fill=\"none\"/>\n",
              "    <path d=\"M18.56 5.44l.94 2.06.94-2.06 2.06-.94-2.06-.94-.94-2.06-.94 2.06-2.06.94zm-11 1L8.5 8.5l.94-2.06 2.06-.94-2.06-.94L8.5 2.5l-.94 2.06-2.06.94zm10 10l.94 2.06.94-2.06 2.06-.94-2.06-.94-.94-2.06-.94 2.06-2.06.94z\"/><path d=\"M17.41 7.96l-1.37-1.37c-.4-.4-.92-.59-1.43-.59-.52 0-1.04.2-1.43.59L10.3 9.45l-7.72 7.72c-.78.78-.78 2.05 0 2.83L4 21.41c.39.39.9.59 1.41.59.51 0 1.02-.2 1.41-.59l7.78-7.78 2.81-2.81c.8-.78.8-2.07 0-2.86zM5.41 20L4 18.59l7.72-7.72 1.47 1.35L5.41 20z\"/>\n",
              "  </svg>\n",
              "      </button>\n",
              "      \n",
              "  <style>\n",
              "    .colab-df-container {\n",
              "      display:flex;\n",
              "      flex-wrap:wrap;\n",
              "      gap: 12px;\n",
              "    }\n",
              "\n",
              "    .colab-df-convert {\n",
              "      background-color: #E8F0FE;\n",
              "      border: none;\n",
              "      border-radius: 50%;\n",
              "      cursor: pointer;\n",
              "      display: none;\n",
              "      fill: #1967D2;\n",
              "      height: 32px;\n",
              "      padding: 0 0 0 0;\n",
              "      width: 32px;\n",
              "    }\n",
              "\n",
              "    .colab-df-convert:hover {\n",
              "      background-color: #E2EBFA;\n",
              "      box-shadow: 0px 1px 2px rgba(60, 64, 67, 0.3), 0px 1px 3px 1px rgba(60, 64, 67, 0.15);\n",
              "      fill: #174EA6;\n",
              "    }\n",
              "\n",
              "    [theme=dark] .colab-df-convert {\n",
              "      background-color: #3B4455;\n",
              "      fill: #D2E3FC;\n",
              "    }\n",
              "\n",
              "    [theme=dark] .colab-df-convert:hover {\n",
              "      background-color: #434B5C;\n",
              "      box-shadow: 0px 1px 3px 1px rgba(0, 0, 0, 0.15);\n",
              "      filter: drop-shadow(0px 1px 2px rgba(0, 0, 0, 0.3));\n",
              "      fill: #FFFFFF;\n",
              "    }\n",
              "  </style>\n",
              "\n",
              "      <script>\n",
              "        const buttonEl =\n",
              "          document.querySelector('#df-99061d86-e3d9-4213-8ca8-3094bd29c5a7 button.colab-df-convert');\n",
              "        buttonEl.style.display =\n",
              "          google.colab.kernel.accessAllowed ? 'block' : 'none';\n",
              "\n",
              "        async function convertToInteractive(key) {\n",
              "          const element = document.querySelector('#df-99061d86-e3d9-4213-8ca8-3094bd29c5a7');\n",
              "          const dataTable =\n",
              "            await google.colab.kernel.invokeFunction('convertToInteractive',\n",
              "                                                     [key], {});\n",
              "          if (!dataTable) return;\n",
              "\n",
              "          const docLinkHtml = 'Like what you see? Visit the ' +\n",
              "            '<a target=\"_blank\" href=https://colab.research.google.com/notebooks/data_table.ipynb>data table notebook</a>'\n",
              "            + ' to learn more about interactive tables.';\n",
              "          element.innerHTML = '';\n",
              "          dataTable['output_type'] = 'display_data';\n",
              "          await google.colab.output.renderOutput(dataTable, element);\n",
              "          const docLink = document.createElement('div');\n",
              "          docLink.innerHTML = docLinkHtml;\n",
              "          element.appendChild(docLink);\n",
              "        }\n",
              "      </script>\n",
              "    </div>\n",
              "  </div>\n",
              "  "
            ]
          },
          "metadata": {},
          "execution_count": 22
        }
      ]
    },
    {
      "cell_type": "markdown",
      "source": [
        "- Criando Pipeline"
      ],
      "metadata": {
        "id": "R0muN60Nm9ft"
      }
    },
    {
      "cell_type": "code",
      "source": [
        "pipeline_linear_regression = make_pipeline(MinMaxScaler(), LinearRegression())"
      ],
      "metadata": {
        "id": "nhzFEDP1myuc"
      },
      "execution_count": 23,
      "outputs": []
    },
    {
      "cell_type": "markdown",
      "source": [],
      "metadata": {
        "id": "Ok2GPU77yDhq"
      }
    },
    {
      "cell_type": "markdown",
      "source": [
        "- Separa os dados de treino teste e validação"
      ],
      "metadata": {
        "id": "vuH9rqRkyFqq"
      }
    },
    {
      "cell_type": "code",
      "source": [
        "X_train = features[:qtd_linhas_treino]\n",
        "X_test = features[qtd_linhas_treino:qtd_linhas_treino + qtd_linhas_teste -1]\n",
        "\n",
        "y_train = labels[:qtd_linhas_treino]\n",
        "y_test = labels[qtd_linhas_treino:qtd_linhas_treino + qtd_linhas_teste -1]\n",
        "\n",
        "print( len(X_train), len(y_train))\n",
        "\n",
        "print( len(X_test), len(y_test))"
      ],
      "metadata": {
        "colab": {
          "base_uri": "https://localhost:8080/"
        },
        "id": "WSkeTZq9u_ut",
        "outputId": "938350f5-a026-49f7-a2d6-c057b3d1db3b"
      },
      "execution_count": 24,
      "outputs": [
        {
          "output_type": "stream",
          "name": "stdout",
          "text": [
            "1258 1258\n",
            "538 538\n"
          ]
        }
      ]
    },
    {
      "cell_type": "markdown",
      "source": [
        "- Treina modelo"
      ],
      "metadata": {
        "id": "w3oopIFM8CGs"
      }
    },
    {
      "cell_type": "code",
      "source": [
        "pipeline_linear_regression.fit(X_train, y_train)"
      ],
      "metadata": {
        "colab": {
          "base_uri": "https://localhost:8080/"
        },
        "id": "mbdd4IOunOuJ",
        "outputId": "06ec1bca-01d4-4e80-d219-43129186d23e"
      },
      "execution_count": 25,
      "outputs": [
        {
          "output_type": "execute_result",
          "data": {
            "text/plain": [
              "Pipeline(steps=[('minmaxscaler', MinMaxScaler()),\n",
              "                ('linearregression', LinearRegression())])"
            ]
          },
          "metadata": {},
          "execution_count": 25
        }
      ]
    },
    {
      "cell_type": "markdown",
      "source": [
        "- Confere "
      ],
      "metadata": {
        "id": "yTVOPZ-c8F6D"
      }
    },
    {
      "cell_type": "code",
      "source": [
        "score_model = pipeline_linear_regression.score(X_test, y_test)\n",
        "f'Teste pontuação para avaliar a consistência do modelo: {score_model * 100:.2f}%'"
      ],
      "metadata": {
        "colab": {
          "base_uri": "https://localhost:8080/",
          "height": 35
        },
        "id": "3CA1WtRInY05",
        "outputId": "79d8cddf-b335-492a-ed78-d4150c222193"
      },
      "execution_count": 26,
      "outputs": [
        {
          "output_type": "execute_result",
          "data": {
            "text/plain": [
              "'Teste pontuação para avaliar a consistência do modelo: 97.44%'"
            ],
            "application/vnd.google.colaboratory.intrinsic+json": {
              "type": "string"
            }
          },
          "metadata": {},
          "execution_count": 26
        }
      ]
    },
    {
      "cell_type": "markdown",
      "source": [
        "- Pega último dado do dataframe"
      ],
      "metadata": {
        "id": "PMAgF8RO8O7F"
      }
    },
    {
      "cell_type": "code",
      "source": [
        "data_pred = ['volume','high', 'low', 'open', 'mm21d']\n",
        "df_eth.tail(1)"
      ],
      "metadata": {
        "colab": {
          "base_uri": "https://localhost:8080/",
          "height": 81
        },
        "id": "lioyLP9en1OB",
        "outputId": "85888790-6ea3-4aa6-a3a4-f24903f4f133"
      },
      "execution_count": 27,
      "outputs": [
        {
          "output_type": "execute_result",
          "data": {
            "text/plain": [
              "      timestamp         open         high          low        Close  \\\n",
              "1816 2022-10-30  1619.697876  1637.037842  1579.485229  1590.783325   \n",
              "\n",
              "            close       volume         mm7d        mm21d  \n",
              "1816  1572.714478  13930073427  1521.937884  1374.995129  "
            ],
            "text/html": [
              "\n",
              "  <div id=\"df-fb920561-7a3e-462a-8ce9-0f4b2b6e86de\">\n",
              "    <div class=\"colab-df-container\">\n",
              "      <div>\n",
              "<style scoped>\n",
              "    .dataframe tbody tr th:only-of-type {\n",
              "        vertical-align: middle;\n",
              "    }\n",
              "\n",
              "    .dataframe tbody tr th {\n",
              "        vertical-align: top;\n",
              "    }\n",
              "\n",
              "    .dataframe thead th {\n",
              "        text-align: right;\n",
              "    }\n",
              "</style>\n",
              "<table border=\"1\" class=\"dataframe\">\n",
              "  <thead>\n",
              "    <tr style=\"text-align: right;\">\n",
              "      <th></th>\n",
              "      <th>timestamp</th>\n",
              "      <th>open</th>\n",
              "      <th>high</th>\n",
              "      <th>low</th>\n",
              "      <th>Close</th>\n",
              "      <th>close</th>\n",
              "      <th>volume</th>\n",
              "      <th>mm7d</th>\n",
              "      <th>mm21d</th>\n",
              "    </tr>\n",
              "  </thead>\n",
              "  <tbody>\n",
              "    <tr>\n",
              "      <th>1816</th>\n",
              "      <td>2022-10-30</td>\n",
              "      <td>1619.697876</td>\n",
              "      <td>1637.037842</td>\n",
              "      <td>1579.485229</td>\n",
              "      <td>1590.783325</td>\n",
              "      <td>1572.714478</td>\n",
              "      <td>13930073427</td>\n",
              "      <td>1521.937884</td>\n",
              "      <td>1374.995129</td>\n",
              "    </tr>\n",
              "  </tbody>\n",
              "</table>\n",
              "</div>\n",
              "      <button class=\"colab-df-convert\" onclick=\"convertToInteractive('df-fb920561-7a3e-462a-8ce9-0f4b2b6e86de')\"\n",
              "              title=\"Convert this dataframe to an interactive table.\"\n",
              "              style=\"display:none;\">\n",
              "        \n",
              "  <svg xmlns=\"http://www.w3.org/2000/svg\" height=\"24px\"viewBox=\"0 0 24 24\"\n",
              "       width=\"24px\">\n",
              "    <path d=\"M0 0h24v24H0V0z\" fill=\"none\"/>\n",
              "    <path d=\"M18.56 5.44l.94 2.06.94-2.06 2.06-.94-2.06-.94-.94-2.06-.94 2.06-2.06.94zm-11 1L8.5 8.5l.94-2.06 2.06-.94-2.06-.94L8.5 2.5l-.94 2.06-2.06.94zm10 10l.94 2.06.94-2.06 2.06-.94-2.06-.94-.94-2.06-.94 2.06-2.06.94z\"/><path d=\"M17.41 7.96l-1.37-1.37c-.4-.4-.92-.59-1.43-.59-.52 0-1.04.2-1.43.59L10.3 9.45l-7.72 7.72c-.78.78-.78 2.05 0 2.83L4 21.41c.39.39.9.59 1.41.59.51 0 1.02-.2 1.41-.59l7.78-7.78 2.81-2.81c.8-.78.8-2.07 0-2.86zM5.41 20L4 18.59l7.72-7.72 1.47 1.35L5.41 20z\"/>\n",
              "  </svg>\n",
              "      </button>\n",
              "      \n",
              "  <style>\n",
              "    .colab-df-container {\n",
              "      display:flex;\n",
              "      flex-wrap:wrap;\n",
              "      gap: 12px;\n",
              "    }\n",
              "\n",
              "    .colab-df-convert {\n",
              "      background-color: #E8F0FE;\n",
              "      border: none;\n",
              "      border-radius: 50%;\n",
              "      cursor: pointer;\n",
              "      display: none;\n",
              "      fill: #1967D2;\n",
              "      height: 32px;\n",
              "      padding: 0 0 0 0;\n",
              "      width: 32px;\n",
              "    }\n",
              "\n",
              "    .colab-df-convert:hover {\n",
              "      background-color: #E2EBFA;\n",
              "      box-shadow: 0px 1px 2px rgba(60, 64, 67, 0.3), 0px 1px 3px 1px rgba(60, 64, 67, 0.15);\n",
              "      fill: #174EA6;\n",
              "    }\n",
              "\n",
              "    [theme=dark] .colab-df-convert {\n",
              "      background-color: #3B4455;\n",
              "      fill: #D2E3FC;\n",
              "    }\n",
              "\n",
              "    [theme=dark] .colab-df-convert:hover {\n",
              "      background-color: #434B5C;\n",
              "      box-shadow: 0px 1px 3px 1px rgba(0, 0, 0, 0.15);\n",
              "      filter: drop-shadow(0px 1px 2px rgba(0, 0, 0, 0.3));\n",
              "      fill: #FFFFFF;\n",
              "    }\n",
              "  </style>\n",
              "\n",
              "      <script>\n",
              "        const buttonEl =\n",
              "          document.querySelector('#df-fb920561-7a3e-462a-8ce9-0f4b2b6e86de button.colab-df-convert');\n",
              "        buttonEl.style.display =\n",
              "          google.colab.kernel.accessAllowed ? 'block' : 'none';\n",
              "\n",
              "        async function convertToInteractive(key) {\n",
              "          const element = document.querySelector('#df-fb920561-7a3e-462a-8ce9-0f4b2b6e86de');\n",
              "          const dataTable =\n",
              "            await google.colab.kernel.invokeFunction('convertToInteractive',\n",
              "                                                     [key], {});\n",
              "          if (!dataTable) return;\n",
              "\n",
              "          const docLinkHtml = 'Like what you see? Visit the ' +\n",
              "            '<a target=\"_blank\" href=https://colab.research.google.com/notebooks/data_table.ipynb>data table notebook</a>'\n",
              "            + ' to learn more about interactive tables.';\n",
              "          element.innerHTML = '';\n",
              "          dataTable['output_type'] = 'display_data';\n",
              "          await google.colab.output.renderOutput(dataTable, element);\n",
              "          const docLink = document.createElement('div');\n",
              "          docLink.innerHTML = docLinkHtml;\n",
              "          element.appendChild(docLink);\n",
              "        }\n",
              "      </script>\n",
              "    </div>\n",
              "  </div>\n",
              "  "
            ]
          },
          "metadata": {},
          "execution_count": 27
        }
      ]
    },
    {
      "cell_type": "markdown",
      "source": [
        "- Testar a predição"
      ],
      "metadata": {
        "id": "EbKjFx4L8XBU"
      }
    },
    {
      "cell_type": "code",
      "source": [
        "pipeline_linear_regression.predict(df_eth.tail(1)[data_pred])"
      ],
      "metadata": {
        "colab": {
          "base_uri": "https://localhost:8080/"
        },
        "id": "LhP_P8ppnYoZ",
        "outputId": "74e15058-9f77-451e-fb07-b67d6773bd33"
      },
      "execution_count": 28,
      "outputs": [
        {
          "output_type": "execute_result",
          "data": {
            "text/plain": [
              "array([1634.56291554])"
            ]
          },
          "metadata": {},
          "execution_count": 28
        }
      ]
    },
    {
      "cell_type": "markdown",
      "source": [
        "- Realizar a predição com os dados de testes(dados que o modelo desconhece)"
      ],
      "metadata": {
        "id": "jW34sUhzA7Sc"
      }
    },
    {
      "cell_type": "code",
      "source": [
        "previsao = features[qtd_linhas_treino:qtd_linhas_treino + qtd_linhas_teste -1]\n",
        "\n",
        "data_btc_full=df_eth[\"timestamp\"]\n",
        "data_btc = data_btc_full[qtd_linhas_treino:qtd_linhas_treino + qtd_linhas_teste -1]\n",
        "\n",
        "res_full = df_eth[\"close\"]\n",
        "res = res_full[qtd_linhas_treino:qtd_linhas_treino + qtd_linhas_teste -1]\n",
        "\n",
        "\n",
        "predict2 = pipeline_linear_regression.predict(previsao)\n",
        "\n",
        "\n",
        "df = pd.DataFrame({ \"data_ethereum\": data_btc, \"real\": res , \"previsao\": predict2 })\n",
        "\n",
        "df[\"real\"] = df[\"real\"].shift(+1)\n",
        "\n",
        "df.set_index(\"data_ethereum\", inplace= True)\n",
        "\n",
        "df.tail()\n",
        "\n"
      ],
      "metadata": {
        "colab": {
          "base_uri": "https://localhost:8080/",
          "height": 238
        },
        "id": "xvcNFxHL6RED",
        "outputId": "ded60594-3352-4282-ba31-72984b8fa257"
      },
      "execution_count": 29,
      "outputs": [
        {
          "output_type": "execute_result",
          "data": {
            "text/plain": [
              "                      real     previsao\n",
              "data_ethereum                          \n",
              "2022-10-25     1461.665405  1483.678681\n",
              "2022-10-26     1566.566650  1580.261863\n",
              "2022-10-27     1514.374878  1565.388058\n",
              "2022-10-28     1555.477905  1567.948523\n",
              "2022-10-29     1619.698486  1651.612553"
            ],
            "text/html": [
              "\n",
              "  <div id=\"df-b4bea970-80bf-41ec-9c1d-995def04bf68\">\n",
              "    <div class=\"colab-df-container\">\n",
              "      <div>\n",
              "<style scoped>\n",
              "    .dataframe tbody tr th:only-of-type {\n",
              "        vertical-align: middle;\n",
              "    }\n",
              "\n",
              "    .dataframe tbody tr th {\n",
              "        vertical-align: top;\n",
              "    }\n",
              "\n",
              "    .dataframe thead th {\n",
              "        text-align: right;\n",
              "    }\n",
              "</style>\n",
              "<table border=\"1\" class=\"dataframe\">\n",
              "  <thead>\n",
              "    <tr style=\"text-align: right;\">\n",
              "      <th></th>\n",
              "      <th>real</th>\n",
              "      <th>previsao</th>\n",
              "    </tr>\n",
              "    <tr>\n",
              "      <th>data_ethereum</th>\n",
              "      <th></th>\n",
              "      <th></th>\n",
              "    </tr>\n",
              "  </thead>\n",
              "  <tbody>\n",
              "    <tr>\n",
              "      <th>2022-10-25</th>\n",
              "      <td>1461.665405</td>\n",
              "      <td>1483.678681</td>\n",
              "    </tr>\n",
              "    <tr>\n",
              "      <th>2022-10-26</th>\n",
              "      <td>1566.566650</td>\n",
              "      <td>1580.261863</td>\n",
              "    </tr>\n",
              "    <tr>\n",
              "      <th>2022-10-27</th>\n",
              "      <td>1514.374878</td>\n",
              "      <td>1565.388058</td>\n",
              "    </tr>\n",
              "    <tr>\n",
              "      <th>2022-10-28</th>\n",
              "      <td>1555.477905</td>\n",
              "      <td>1567.948523</td>\n",
              "    </tr>\n",
              "    <tr>\n",
              "      <th>2022-10-29</th>\n",
              "      <td>1619.698486</td>\n",
              "      <td>1651.612553</td>\n",
              "    </tr>\n",
              "  </tbody>\n",
              "</table>\n",
              "</div>\n",
              "      <button class=\"colab-df-convert\" onclick=\"convertToInteractive('df-b4bea970-80bf-41ec-9c1d-995def04bf68')\"\n",
              "              title=\"Convert this dataframe to an interactive table.\"\n",
              "              style=\"display:none;\">\n",
              "        \n",
              "  <svg xmlns=\"http://www.w3.org/2000/svg\" height=\"24px\"viewBox=\"0 0 24 24\"\n",
              "       width=\"24px\">\n",
              "    <path d=\"M0 0h24v24H0V0z\" fill=\"none\"/>\n",
              "    <path d=\"M18.56 5.44l.94 2.06.94-2.06 2.06-.94-2.06-.94-.94-2.06-.94 2.06-2.06.94zm-11 1L8.5 8.5l.94-2.06 2.06-.94-2.06-.94L8.5 2.5l-.94 2.06-2.06.94zm10 10l.94 2.06.94-2.06 2.06-.94-2.06-.94-.94-2.06-.94 2.06-2.06.94z\"/><path d=\"M17.41 7.96l-1.37-1.37c-.4-.4-.92-.59-1.43-.59-.52 0-1.04.2-1.43.59L10.3 9.45l-7.72 7.72c-.78.78-.78 2.05 0 2.83L4 21.41c.39.39.9.59 1.41.59.51 0 1.02-.2 1.41-.59l7.78-7.78 2.81-2.81c.8-.78.8-2.07 0-2.86zM5.41 20L4 18.59l7.72-7.72 1.47 1.35L5.41 20z\"/>\n",
              "  </svg>\n",
              "      </button>\n",
              "      \n",
              "  <style>\n",
              "    .colab-df-container {\n",
              "      display:flex;\n",
              "      flex-wrap:wrap;\n",
              "      gap: 12px;\n",
              "    }\n",
              "\n",
              "    .colab-df-convert {\n",
              "      background-color: #E8F0FE;\n",
              "      border: none;\n",
              "      border-radius: 50%;\n",
              "      cursor: pointer;\n",
              "      display: none;\n",
              "      fill: #1967D2;\n",
              "      height: 32px;\n",
              "      padding: 0 0 0 0;\n",
              "      width: 32px;\n",
              "    }\n",
              "\n",
              "    .colab-df-convert:hover {\n",
              "      background-color: #E2EBFA;\n",
              "      box-shadow: 0px 1px 2px rgba(60, 64, 67, 0.3), 0px 1px 3px 1px rgba(60, 64, 67, 0.15);\n",
              "      fill: #174EA6;\n",
              "    }\n",
              "\n",
              "    [theme=dark] .colab-df-convert {\n",
              "      background-color: #3B4455;\n",
              "      fill: #D2E3FC;\n",
              "    }\n",
              "\n",
              "    [theme=dark] .colab-df-convert:hover {\n",
              "      background-color: #434B5C;\n",
              "      box-shadow: 0px 1px 3px 1px rgba(0, 0, 0, 0.15);\n",
              "      filter: drop-shadow(0px 1px 2px rgba(0, 0, 0, 0.3));\n",
              "      fill: #FFFFFF;\n",
              "    }\n",
              "  </style>\n",
              "\n",
              "      <script>\n",
              "        const buttonEl =\n",
              "          document.querySelector('#df-b4bea970-80bf-41ec-9c1d-995def04bf68 button.colab-df-convert');\n",
              "        buttonEl.style.display =\n",
              "          google.colab.kernel.accessAllowed ? 'block' : 'none';\n",
              "\n",
              "        async function convertToInteractive(key) {\n",
              "          const element = document.querySelector('#df-b4bea970-80bf-41ec-9c1d-995def04bf68');\n",
              "          const dataTable =\n",
              "            await google.colab.kernel.invokeFunction('convertToInteractive',\n",
              "                                                     [key], {});\n",
              "          if (!dataTable) return;\n",
              "\n",
              "          const docLinkHtml = 'Like what you see? Visit the ' +\n",
              "            '<a target=\"_blank\" href=https://colab.research.google.com/notebooks/data_table.ipynb>data table notebook</a>'\n",
              "            + ' to learn more about interactive tables.';\n",
              "          element.innerHTML = '';\n",
              "          dataTable['output_type'] = 'display_data';\n",
              "          await google.colab.output.renderOutput(dataTable, element);\n",
              "          const docLink = document.createElement('div');\n",
              "          docLink.innerHTML = docLinkHtml;\n",
              "          element.appendChild(docLink);\n",
              "        }\n",
              "      </script>\n",
              "    </div>\n",
              "  </div>\n",
              "  "
            ]
          },
          "metadata": {},
          "execution_count": 29
        }
      ]
    },
    {
      "cell_type": "markdown",
      "source": [
        "- Plotar os resultados"
      ],
      "metadata": {
        "id": "gFLwsKCnBJ28"
      }
    },
    {
      "cell_type": "code",
      "source": [
        "plt.figure(figsize=(25,12))\n",
        "plt.title(\"Analise preço ethereum com dados de teste\")\n",
        "plt.plot(df[\"real\"], label=\"real\", color=\"blue\")\n",
        "plt.plot(df[\"previsao\"], label=\"previsao\", color=\"red\")\n",
        "plt.xlabel(\"Data\")\n",
        "plt.ylabel(\"Preço de Fechamento\")\n",
        "leg = plt.legend()"
      ],
      "metadata": {
        "colab": {
          "base_uri": "https://localhost:8080/",
          "height": 629
        },
        "id": "BADKUbAvva-J",
        "outputId": "766ed15f-6be3-45e5-9b7d-ff503314ae5b"
      },
      "execution_count": 30,
      "outputs": [
        {
          "output_type": "display_data",
          "data": {
            "text/plain": [
              "<Figure size 1800x864 with 1 Axes>"
            ],
            "image/png": "[encoded data removed]"
          },
          "metadata": {
            "needs_background": "light"
          }
        }
      ]
    },
    {
      "cell_type": "code",
      "source": [
        "sns.set_style('whitegrid')\n",
        "sns.set(rc={'figure.figsize':(24, 12)})\n",
        "sns.regplot(x =\"real\", y =\"previsao\", data = df, ci=False, order=2)"
      ],
      "metadata": {
        "colab": {
          "base_uri": "https://localhost:8080/",
          "height": 650
        },
        "id": "3iczwjHLsnNo",
        "outputId": "75c1950e-6807-44be-ba53-8f24008d8d2e"
      },
      "execution_count": 31,
      "outputs": [
        {
          "output_type": "execute_result",
          "data": {
            "text/plain": [
              "<matplotlib.axes._subplots.AxesSubplot at 0x7f04ba95ef50>"
            ]
          },
          "metadata": {},
          "execution_count": 31
        },
        {
          "output_type": "display_data",
          "data": {
            "text/plain": [
              "<Figure size 1728x864 with 1 Axes>"
            ],
            "image/png": "[encoded data removed]"
          },
          "metadata": {}
        }
      ]
    },
    {
      "cell_type": "markdown",
      "source": [
        "- Export modelo preditivo "
      ],
      "metadata": {
        "id": "ym9fUM-5x-gj"
      }
    },
    {
      "cell_type": "code",
      "source": [
        "joblib.dump(pipeline_linear_regression, 'model_eth_usd.pkl')"
      ],
      "metadata": {
        "id": "pyu5yBRFsnTp",
        "colab": {
          "base_uri": "https://localhost:8080/"
        },
        "outputId": "c3369deb-2140-4442-dbf7-f4f2c1c8cfd6"
      },
      "execution_count": 32,
      "outputs": [
        {
          "output_type": "execute_result",
          "data": {
            "text/plain": [
              "['model_eth_usd.pkl']"
            ]
          },
          "metadata": {},
          "execution_count": 32
        }
      ]
    },
    {
      "cell_type": "markdown",
      "source": [
        "- Import modelo preditivo"
      ],
      "metadata": {
        "id": "x6qezcv5yBlL"
      }
    },
    {
      "cell_type": "code",
      "source": [
        "model = joblib.load('model_eth_usd.pkl')"
      ],
      "metadata": {
        "id": "eobLnSMHIt13"
      },
      "execution_count": 33,
      "outputs": []
    },
    {
      "cell_type": "code",
      "source": [],
      "metadata": {
        "id": "sKtWqU-oJeaN"
      },
      "execution_count": 33,
      "outputs": []
    },
    {
      "cell_type": "code",
      "source": [],
      "metadata": {
        "id": "q3lv6P2RJmK5"
      },
      "execution_count": 33,
      "outputs": []
    }
  ]
}