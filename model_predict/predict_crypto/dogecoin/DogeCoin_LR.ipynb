{
  "nbformat": 4,
  "nbformat_minor": 0,
  "metadata": {
    "colab": {
      "provenance": [],
      "collapsed_sections": [],
      "include_colab_link": true
    },
    "kernelspec": {
      "name": "python3",
      "display_name": "Python 3"
    },
    "language_info": {
      "name": "python"
    }
  },
  "cells": [
    {
      "cell_type": "markdown",
      "metadata": {
        "id": "view-in-github",
        "colab_type": "text"
      },
      "source": [
        "<a href=\"https://colab.research.google.com/github/fabriciocovalesci/tcc_predict_crypto/blob/main/model_predict/predict_crypto/dogecoin/DogeCoin_LR.ipynb\" target=\"_parent\"><img src=\"https://colab.research.google.com/assets/colab-badge.svg\" alt=\"Open In Colab\"/></a>"
      ]
    },
    {
      "cell_type": "markdown",
      "source": [
        "### Modelo preditivo DogeCoin"
      ],
      "metadata": {
        "id": "LnhRNFDuuqQj"
      }
    },
    {
      "cell_type": "markdown",
      "source": [
        "- Instalar biblioteca **yfinance**"
      ],
      "metadata": {
        "id": "9aH0e44yuqIl"
      }
    },
    {
      "cell_type": "code",
      "execution_count": 34,
      "metadata": {
        "colab": {
          "base_uri": "https://localhost:8080/"
        },
        "id": "XI7yeySJr7dG",
        "outputId": "368f2d31-b049-4808-d279-6f328cb5264d"
      },
      "outputs": [
        {
          "output_type": "stream",
          "name": "stdout",
          "text": [
            "Looking in indexes: https://pypi.org/simple, https://us-python.pkg.dev/colab-wheels/public/simple/\n",
            "Requirement already satisfied: yfinance in /usr/local/lib/python3.7/dist-packages (0.1.84)\n",
            "Requirement already satisfied: lxml>=4.5.1 in /usr/local/lib/python3.7/dist-packages (from yfinance) (4.9.1)\n",
            "Requirement already satisfied: requests>=2.26 in /usr/local/lib/python3.7/dist-packages (from yfinance) (2.28.1)\n",
            "Requirement already satisfied: multitasking>=0.0.7 in /usr/local/lib/python3.7/dist-packages (from yfinance) (0.0.11)\n",
            "Requirement already satisfied: appdirs>=1.4.4 in /usr/local/lib/python3.7/dist-packages (from yfinance) (1.4.4)\n",
            "Requirement already satisfied: numpy>=1.15 in /usr/local/lib/python3.7/dist-packages (from yfinance) (1.21.6)\n",
            "Requirement already satisfied: pandas>=0.24.0 in /usr/local/lib/python3.7/dist-packages (from yfinance) (1.3.5)\n",
            "Requirement already satisfied: pytz>=2017.3 in /usr/local/lib/python3.7/dist-packages (from pandas>=0.24.0->yfinance) (2022.5)\n",
            "Requirement already satisfied: python-dateutil>=2.7.3 in /usr/local/lib/python3.7/dist-packages (from pandas>=0.24.0->yfinance) (2.8.2)\n",
            "Requirement already satisfied: six>=1.5 in /usr/local/lib/python3.7/dist-packages (from python-dateutil>=2.7.3->pandas>=0.24.0->yfinance) (1.15.0)\n",
            "Requirement already satisfied: urllib3<1.27,>=1.21.1 in /usr/local/lib/python3.7/dist-packages (from requests>=2.26->yfinance) (1.24.3)\n",
            "Requirement already satisfied: idna<4,>=2.5 in /usr/local/lib/python3.7/dist-packages (from requests>=2.26->yfinance) (2.10)\n",
            "Requirement already satisfied: charset-normalizer<3,>=2 in /usr/local/lib/python3.7/dist-packages (from requests>=2.26->yfinance) (2.1.1)\n",
            "Requirement already satisfied: certifi>=2017.4.17 in /usr/local/lib/python3.7/dist-packages (from requests>=2.26->yfinance) (2022.9.24)\n"
          ]
        }
      ],
      "source": [
        "!pip install yfinance --upgrade --no-cache-dir"
      ]
    },
    {
      "cell_type": "markdown",
      "source": [
        "- Importar bibliotecas de manipulação de dados"
      ],
      "metadata": {
        "id": "pEmfJP70u4O6"
      }
    },
    {
      "cell_type": "code",
      "source": [
        "import pandas as pd\n",
        "import numpy as np\n",
        "import yfinance as yf"
      ],
      "metadata": {
        "id": "wcxpjo8msA5L"
      },
      "execution_count": 35,
      "outputs": []
    },
    {
      "cell_type": "markdown",
      "source": [
        "- Importar bibliotecas realizar as predições"
      ],
      "metadata": {
        "id": "nGxQC0Rmu_Wi"
      }
    },
    {
      "cell_type": "code",
      "source": [
        "from sklearn.feature_selection import SelectKBest, f_regression\n",
        "from sklearn.model_selection import GridSearchCV\n",
        "from sklearn.neural_network import MLPRegressor\n",
        "from sklearn.preprocessing import MinMaxScaler\n",
        "from sklearn import datasets, linear_model\n",
        "from sklearn.metrics import mean_squared_error, r2_score, mean_absolute_error, accuracy_score, confusion_matrix, precision_score\n",
        "from sklearn.model_selection import train_test_split\n",
        "from sklearn.linear_model import LinearRegression\n",
        "from sklearn.pipeline import Pipeline, make_pipeline\n",
        "import joblib"
      ],
      "metadata": {
        "id": "YvTLcAqquVuv"
      },
      "execution_count": 36,
      "outputs": []
    },
    {
      "cell_type": "markdown",
      "source": [
        "- Importar bibliotecas para plotar gráficos"
      ],
      "metadata": {
        "id": "WIh3Dk45vE5K"
      }
    },
    {
      "cell_type": "code",
      "source": [
        "import matplotlib.pyplot as plt\n",
        "import plotly.graph_objects as go\n",
        "from plotly.subplots import make_subplots\n",
        "import plotly.express as px\n",
        "import seaborn as sns\n",
        "from statsmodels.graphics.tsaplots import plot_acf\n",
        "from statsmodels.graphics.tsaplots import plot_pacf\n",
        "import plotly.express as px\n",
        "plt.style.use('ggplot')\n",
        "%matplotlib inline"
      ],
      "metadata": {
        "id": "6RQ1XVxTsA-h"
      },
      "execution_count": 37,
      "outputs": []
    },
    {
      "cell_type": "markdown",
      "source": [
        "- Importar bibliotecas internas do python"
      ],
      "metadata": {
        "id": "09mrCrKYvNNK"
      }
    },
    {
      "cell_type": "code",
      "source": [
        "from functools import reduce\n",
        "from datetime import datetime"
      ],
      "metadata": {
        "id": "jY9SWGLasBBL"
      },
      "execution_count": 38,
      "outputs": []
    },
    {
      "cell_type": "markdown",
      "source": [
        "- Definir datas para capturar os dados"
      ],
      "metadata": {
        "id": "kBXFlQ1VvQRC"
      }
    },
    {
      "cell_type": "code",
      "source": [
        "date_today = datetime.strftime(datetime.today(), '%Y-%m-%d')\n",
        "date_init = \"2014-01-01\""
      ],
      "metadata": {
        "id": "meKtzz9isBDv"
      },
      "execution_count": 39,
      "outputs": []
    },
    {
      "cell_type": "markdown",
      "source": [
        "- Criar funções auxiliares "
      ],
      "metadata": {
        "id": "wO7VGEmSvWOC"
      }
    },
    {
      "cell_type": "code",
      "source": [
        "TICKER = \"DOGE-USD\"\n",
        "\n",
        "def download_tickers(ticker):\n",
        "  try:\n",
        "    asset = yf.download(ticker, start=date_init, end=date_today, interval='1d')\n",
        "    return asset.Close\n",
        "  except Exception as err:\n",
        "    print(f\"ERROR: {err}\")\n",
        "\n",
        "  \n",
        "def create_data_frame(asset_close, ticker):\n",
        "  return pd.DataFrame(asset_close).rename(columns = {'Close': ticker})\n",
        "\n",
        "\n",
        "def mean_absolute_percentage_error(y_true, y_pred):\n",
        "\t\"\"\"Take in true and predicted values and calculate the MAPE score\"\"\"\n",
        "\ty_true, y_pred = np.array(y_true), np.array(y_pred)\n",
        "\treturn np.mean(np.abs((y_true - y_pred) / y_true)) * 100"
      ],
      "metadata": {
        "id": "gAcRyUa0sBHC"
      },
      "execution_count": 40,
      "outputs": []
    },
    {
      "cell_type": "markdown",
      "source": [
        "- Download dos dados"
      ],
      "metadata": {
        "id": "H6PD_lK9vaNC"
      }
    },
    {
      "cell_type": "code",
      "source": [
        "df_doge = yf.download(TICKER, date_init, date_today)\n",
        "df_doge = df_doge.reset_index()"
      ],
      "metadata": {
        "colab": {
          "base_uri": "https://localhost:8080/"
        },
        "id": "WqndBn94sVKZ",
        "outputId": "7326a2a0-2d10-4b33-caf2-ff1e8142c75e"
      },
      "execution_count": 41,
      "outputs": [
        {
          "output_type": "stream",
          "name": "stdout",
          "text": [
            "\r[*********************100%***********************]  1 of 1 completed\n"
          ]
        }
      ]
    },
    {
      "cell_type": "markdown",
      "source": [
        "- Renomear colunas"
      ],
      "metadata": {
        "id": "okcEKn2SvfDb"
      }
    },
    {
      "cell_type": "code",
      "source": [
        "df_doge.rename({'Date': 'timestamp', 'Open': 'open', 'High': 'high', 'Low': 'low', 'Adj Close': 'close', 'Volume': 'volume' }, axis=1, inplace=True)"
      ],
      "metadata": {
        "id": "-uH-w6QwsVNZ"
      },
      "execution_count": 42,
      "outputs": []
    },
    {
      "cell_type": "code",
      "source": [
        "df_doge.dtypes"
      ],
      "metadata": {
        "colab": {
          "base_uri": "https://localhost:8080/"
        },
        "id": "rCX7TgAob3lt",
        "outputId": "ed5527bb-742b-4fdb-a987-8cd4393dc8aa"
      },
      "execution_count": 43,
      "outputs": [
        {
          "output_type": "execute_result",
          "data": {
            "text/plain": [
              "timestamp    datetime64[ns]\n",
              "open                float64\n",
              "high                float64\n",
              "low                 float64\n",
              "Close               float64\n",
              "close               float64\n",
              "volume                int64\n",
              "dtype: object"
            ]
          },
          "metadata": {},
          "execution_count": 43
        }
      ]
    },
    {
      "cell_type": "markdown",
      "source": [
        "- Converter data"
      ],
      "metadata": {
        "id": "qiqyJR65vo9S"
      }
    },
    {
      "cell_type": "code",
      "source": [
        "df_doge['timestamp'] = pd.to_datetime(df_doge['timestamp'], format=\"%Y-%m-%d\")"
      ],
      "metadata": {
        "id": "fHf2mLrDsVQJ"
      },
      "execution_count": 44,
      "outputs": []
    },
    {
      "cell_type": "markdown",
      "source": [
        "- Criar médias móveis de 7 dias e 21 dias"
      ],
      "metadata": {
        "id": "obt8r1F6vser"
      }
    },
    {
      "cell_type": "code",
      "source": [
        "df_doge['mm7d'] = df_doge['close'].rolling(7).mean()\n",
        "df_doge['mm21d'] = df_doge['close'].rolling(21).mean()\n",
        "\n",
        "df_doge.tail()"
      ],
      "metadata": {
        "colab": {
          "base_uri": "https://localhost:8080/",
          "height": 206
        },
        "id": "TzTF6UoEs84B",
        "outputId": "dcd18d5c-26cd-4f30-a839-dee730811fce"
      },
      "execution_count": 45,
      "outputs": [
        {
          "output_type": "execute_result",
          "data": {
            "text/plain": [
              "      timestamp      open      high       low     Close     close  \\\n",
              "1813 2022-10-27  0.072799  0.084825  0.072033  0.077018  0.077018   \n",
              "1814 2022-10-28  0.077028  0.087901  0.072930  0.083897  0.083897   \n",
              "1815 2022-10-29  0.083933  0.149392  0.083387  0.121603  0.121603   \n",
              "1816 2022-10-30  0.121644  0.141657  0.112892  0.117802  0.117802   \n",
              "1817 2022-10-31  0.117752  0.130245  0.115076  0.127026  0.127026   \n",
              "\n",
              "           volume      mm7d     mm21d  \n",
              "1813   2652784687  0.064512  0.061488  \n",
              "1814   3172500998  0.068021  0.062511  \n",
              "1815  12157642295  0.076865  0.065365  \n",
              "1816   7908593943  0.085073  0.068015  \n",
              "1817   5814247122  0.094718  0.071229  "
            ],
            "text/html": [
              "\n",
              "  <div id=\"df-a18af21c-3cda-4872-bd13-6cb0de963f7d\">\n",
              "    <div class=\"colab-df-container\">\n",
              "      <div>\n",
              "<style scoped>\n",
              "    .dataframe tbody tr th:only-of-type {\n",
              "        vertical-align: middle;\n",
              "    }\n",
              "\n",
              "    .dataframe tbody tr th {\n",
              "        vertical-align: top;\n",
              "    }\n",
              "\n",
              "    .dataframe thead th {\n",
              "        text-align: right;\n",
              "    }\n",
              "</style>\n",
              "<table border=\"1\" class=\"dataframe\">\n",
              "  <thead>\n",
              "    <tr style=\"text-align: right;\">\n",
              "      <th></th>\n",
              "      <th>timestamp</th>\n",
              "      <th>open</th>\n",
              "      <th>high</th>\n",
              "      <th>low</th>\n",
              "      <th>Close</th>\n",
              "      <th>close</th>\n",
              "      <th>volume</th>\n",
              "      <th>mm7d</th>\n",
              "      <th>mm21d</th>\n",
              "    </tr>\n",
              "  </thead>\n",
              "  <tbody>\n",
              "    <tr>\n",
              "      <th>1813</th>\n",
              "      <td>2022-10-27</td>\n",
              "      <td>0.072799</td>\n",
              "      <td>0.084825</td>\n",
              "      <td>0.072033</td>\n",
              "      <td>0.077018</td>\n",
              "      <td>0.077018</td>\n",
              "      <td>2652784687</td>\n",
              "      <td>0.064512</td>\n",
              "      <td>0.061488</td>\n",
              "    </tr>\n",
              "    <tr>\n",
              "      <th>1814</th>\n",
              "      <td>2022-10-28</td>\n",
              "      <td>0.077028</td>\n",
              "      <td>0.087901</td>\n",
              "      <td>0.072930</td>\n",
              "      <td>0.083897</td>\n",
              "      <td>0.083897</td>\n",
              "      <td>3172500998</td>\n",
              "      <td>0.068021</td>\n",
              "      <td>0.062511</td>\n",
              "    </tr>\n",
              "    <tr>\n",
              "      <th>1815</th>\n",
              "      <td>2022-10-29</td>\n",
              "      <td>0.083933</td>\n",
              "      <td>0.149392</td>\n",
              "      <td>0.083387</td>\n",
              "      <td>0.121603</td>\n",
              "      <td>0.121603</td>\n",
              "      <td>12157642295</td>\n",
              "      <td>0.076865</td>\n",
              "      <td>0.065365</td>\n",
              "    </tr>\n",
              "    <tr>\n",
              "      <th>1816</th>\n",
              "      <td>2022-10-30</td>\n",
              "      <td>0.121644</td>\n",
              "      <td>0.141657</td>\n",
              "      <td>0.112892</td>\n",
              "      <td>0.117802</td>\n",
              "      <td>0.117802</td>\n",
              "      <td>7908593943</td>\n",
              "      <td>0.085073</td>\n",
              "      <td>0.068015</td>\n",
              "    </tr>\n",
              "    <tr>\n",
              "      <th>1817</th>\n",
              "      <td>2022-10-31</td>\n",
              "      <td>0.117752</td>\n",
              "      <td>0.130245</td>\n",
              "      <td>0.115076</td>\n",
              "      <td>0.127026</td>\n",
              "      <td>0.127026</td>\n",
              "      <td>5814247122</td>\n",
              "      <td>0.094718</td>\n",
              "      <td>0.071229</td>\n",
              "    </tr>\n",
              "  </tbody>\n",
              "</table>\n",
              "</div>\n",
              "      <button class=\"colab-df-convert\" onclick=\"convertToInteractive('df-a18af21c-3cda-4872-bd13-6cb0de963f7d')\"\n",
              "              title=\"Convert this dataframe to an interactive table.\"\n",
              "              style=\"display:none;\">\n",
              "        \n",
              "  <svg xmlns=\"http://www.w3.org/2000/svg\" height=\"24px\"viewBox=\"0 0 24 24\"\n",
              "       width=\"24px\">\n",
              "    <path d=\"M0 0h24v24H0V0z\" fill=\"none\"/>\n",
              "    <path d=\"M18.56 5.44l.94 2.06.94-2.06 2.06-.94-2.06-.94-.94-2.06-.94 2.06-2.06.94zm-11 1L8.5 8.5l.94-2.06 2.06-.94-2.06-.94L8.5 2.5l-.94 2.06-2.06.94zm10 10l.94 2.06.94-2.06 2.06-.94-2.06-.94-.94-2.06-.94 2.06-2.06.94z\"/><path d=\"M17.41 7.96l-1.37-1.37c-.4-.4-.92-.59-1.43-.59-.52 0-1.04.2-1.43.59L10.3 9.45l-7.72 7.72c-.78.78-.78 2.05 0 2.83L4 21.41c.39.39.9.59 1.41.59.51 0 1.02-.2 1.41-.59l7.78-7.78 2.81-2.81c.8-.78.8-2.07 0-2.86zM5.41 20L4 18.59l7.72-7.72 1.47 1.35L5.41 20z\"/>\n",
              "  </svg>\n",
              "      </button>\n",
              "      \n",
              "  <style>\n",
              "    .colab-df-container {\n",
              "      display:flex;\n",
              "      flex-wrap:wrap;\n",
              "      gap: 12px;\n",
              "    }\n",
              "\n",
              "    .colab-df-convert {\n",
              "      background-color: #E8F0FE;\n",
              "      border: none;\n",
              "      border-radius: 50%;\n",
              "      cursor: pointer;\n",
              "      display: none;\n",
              "      fill: #1967D2;\n",
              "      height: 32px;\n",
              "      padding: 0 0 0 0;\n",
              "      width: 32px;\n",
              "    }\n",
              "\n",
              "    .colab-df-convert:hover {\n",
              "      background-color: #E2EBFA;\n",
              "      box-shadow: 0px 1px 2px rgba(60, 64, 67, 0.3), 0px 1px 3px 1px rgba(60, 64, 67, 0.15);\n",
              "      fill: #174EA6;\n",
              "    }\n",
              "\n",
              "    [theme=dark] .colab-df-convert {\n",
              "      background-color: #3B4455;\n",
              "      fill: #D2E3FC;\n",
              "    }\n",
              "\n",
              "    [theme=dark] .colab-df-convert:hover {\n",
              "      background-color: #434B5C;\n",
              "      box-shadow: 0px 1px 3px 1px rgba(0, 0, 0, 0.15);\n",
              "      filter: drop-shadow(0px 1px 2px rgba(0, 0, 0, 0.3));\n",
              "      fill: #FFFFFF;\n",
              "    }\n",
              "  </style>\n",
              "\n",
              "      <script>\n",
              "        const buttonEl =\n",
              "          document.querySelector('#df-a18af21c-3cda-4872-bd13-6cb0de963f7d button.colab-df-convert');\n",
              "        buttonEl.style.display =\n",
              "          google.colab.kernel.accessAllowed ? 'block' : 'none';\n",
              "\n",
              "        async function convertToInteractive(key) {\n",
              "          const element = document.querySelector('#df-a18af21c-3cda-4872-bd13-6cb0de963f7d');\n",
              "          const dataTable =\n",
              "            await google.colab.kernel.invokeFunction('convertToInteractive',\n",
              "                                                     [key], {});\n",
              "          if (!dataTable) return;\n",
              "\n",
              "          const docLinkHtml = 'Like what you see? Visit the ' +\n",
              "            '<a target=\"_blank\" href=https://colab.research.google.com/notebooks/data_table.ipynb>data table notebook</a>'\n",
              "            + ' to learn more about interactive tables.';\n",
              "          element.innerHTML = '';\n",
              "          dataTable['output_type'] = 'display_data';\n",
              "          await google.colab.output.renderOutput(dataTable, element);\n",
              "          const docLink = document.createElement('div');\n",
              "          docLink.innerHTML = docLinkHtml;\n",
              "          element.appendChild(docLink);\n",
              "        }\n",
              "      </script>\n",
              "    </div>\n",
              "  </div>\n",
              "  "
            ]
          },
          "metadata": {},
          "execution_count": 45
        }
      ]
    },
    {
      "cell_type": "markdown",
      "source": [
        "- Função de agrupamento dos dados"
      ],
      "metadata": {
        "id": "eX434S8Kv09a"
      }
    },
    {
      "cell_type": "code",
      "source": [
        "def group_data(type_group):\n",
        "  new_df = df_doge.groupby(pd.Grouper(key=\"timestamp\", freq=type_group)).sum()\n",
        "  new_df.reset_index(inplace=True)\n",
        "  return new_df"
      ],
      "metadata": {
        "id": "MPjrm4WbpN61"
      },
      "execution_count": 46,
      "outputs": []
    },
    {
      "cell_type": "markdown",
      "source": [
        "- Função para plotar grafico conforme o Agrupamento dos Dados\n",
        "- Tipo de agrupamento:\n",
        "- Por Meses (M) ou por Semanas (W)\n",
        "- Por Ano (year)\n",
        "- Tipo de grafico: 'bar',  'line',  'hist',  'barh'"
      ],
      "metadata": {
        "id": "83_LMHOIqubc"
      }
    },
    {
      "cell_type": "code",
      "source": [
        "def create_plot_custom(filter_Mounth_or_Week, year, type_plot):\n",
        "  \"\"\" \n",
        "    Cria um grafico filtrando por Ano, Meses ou Semanas\n",
        "\n",
        "    filter_Mounth_or_Week: 'M' ou 'W'\n",
        "    type_plot: 'line', 'bar', 'hist', 'barh'\n",
        "  \n",
        "  \"\"\"\n",
        "  if year >= 2014 and year <= 2022 and filter_Mounth_or_Week in (\"M\", \"W\"):\n",
        "    filtro_label = None\n",
        "    df_filter = group_data(filter_Mounth_or_Week)\n",
        "    include = df_filter[df_filter['timestamp'].dt.year == year]\n",
        "    meses = [\"jan\", \"fev\", \"mar\", \"abr\", \"mai\", \"jun\", \"jul\", \"ago\", \"set\", \"out\", \"nov\", \"dez\"]\n",
        "    if len(include.index) <= 12:\n",
        "      include.index = meses[:len(include.index)]\n",
        "      filtro_label = \"Meses\"\n",
        "    elif len(include.index) > 50:\n",
        "      include.index = [i for i in range(0, len(include.index))]\n",
        "      filtro_label = \"Semanas\"\n",
        "    include.plot(y=\"close\", kind=type_plot, figsize=(14, 8),rot=30, title=f'Distruibuição por {filtro_label} - ano {year}', ylabel='Preço US$', xlabel=filtro_label, color=\"blue\")"
      ],
      "metadata": {
        "id": "8tL9xZOlZ8r0"
      },
      "execution_count": 47,
      "outputs": []
    },
    {
      "cell_type": "code",
      "source": [
        "create_plot_custom(\"M\", 2021, \"bar\")"
      ],
      "metadata": {
        "colab": {
          "base_uri": "https://localhost:8080/",
          "height": 529
        },
        "id": "QxCJ15tsa7E9",
        "outputId": "01b36d6b-78fc-404e-af8c-4c65699b0342"
      },
      "execution_count": 48,
      "outputs": [
        {
          "output_type": "display_data",
          "data": {
            "text/plain": [
              "<Figure size 1008x576 with 1 Axes>"
            ],
            "image/png": "[encoded data removed]"
          },
          "metadata": {
            "needs_background": "light"
          }
        }
      ]
    },
    {
      "cell_type": "markdown",
      "source": [
        "- Empurrando para frente os valores da criptomoeda"
      ],
      "metadata": {
        "id": "irz8F9VLv4ui"
      }
    },
    {
      "cell_type": "code",
      "source": [
        "df_doge['close'] = df_doge['close'].shift(-1)\n",
        "df_doge.tail()"
      ],
      "metadata": {
        "colab": {
          "base_uri": "https://localhost:8080/",
          "height": 206
        },
        "id": "vrSuQkVcs89Q",
        "outputId": "7f8835f4-c43b-41dd-c0b4-2b6f0597e9cc"
      },
      "execution_count": 49,
      "outputs": [
        {
          "output_type": "execute_result",
          "data": {
            "text/plain": [
              "      timestamp      open      high       low     Close     close  \\\n",
              "1813 2022-10-27  0.072799  0.084825  0.072033  0.077018  0.083897   \n",
              "1814 2022-10-28  0.077028  0.087901  0.072930  0.083897  0.121603   \n",
              "1815 2022-10-29  0.083933  0.149392  0.083387  0.121603  0.117802   \n",
              "1816 2022-10-30  0.121644  0.141657  0.112892  0.117802  0.127026   \n",
              "1817 2022-10-31  0.117752  0.130245  0.115076  0.127026       NaN   \n",
              "\n",
              "           volume      mm7d     mm21d  \n",
              "1813   2652784687  0.064512  0.061488  \n",
              "1814   3172500998  0.068021  0.062511  \n",
              "1815  12157642295  0.076865  0.065365  \n",
              "1816   7908593943  0.085073  0.068015  \n",
              "1817   5814247122  0.094718  0.071229  "
            ],
            "text/html": [
              "\n",
              "  <div id=\"df-40e84dfa-3b7d-43e8-8354-d81bb89fd0f4\">\n",
              "    <div class=\"colab-df-container\">\n",
              "      <div>\n",
              "<style scoped>\n",
              "    .dataframe tbody tr th:only-of-type {\n",
              "        vertical-align: middle;\n",
              "    }\n",
              "\n",
              "    .dataframe tbody tr th {\n",
              "        vertical-align: top;\n",
              "    }\n",
              "\n",
              "    .dataframe thead th {\n",
              "        text-align: right;\n",
              "    }\n",
              "</style>\n",
              "<table border=\"1\" class=\"dataframe\">\n",
              "  <thead>\n",
              "    <tr style=\"text-align: right;\">\n",
              "      <th></th>\n",
              "      <th>timestamp</th>\n",
              "      <th>open</th>\n",
              "      <th>high</th>\n",
              "      <th>low</th>\n",
              "      <th>Close</th>\n",
              "      <th>close</th>\n",
              "      <th>volume</th>\n",
              "      <th>mm7d</th>\n",
              "      <th>mm21d</th>\n",
              "    </tr>\n",
              "  </thead>\n",
              "  <tbody>\n",
              "    <tr>\n",
              "      <th>1813</th>\n",
              "      <td>2022-10-27</td>\n",
              "      <td>0.072799</td>\n",
              "      <td>0.084825</td>\n",
              "      <td>0.072033</td>\n",
              "      <td>0.077018</td>\n",
              "      <td>0.083897</td>\n",
              "      <td>2652784687</td>\n",
              "      <td>0.064512</td>\n",
              "      <td>0.061488</td>\n",
              "    </tr>\n",
              "    <tr>\n",
              "      <th>1814</th>\n",
              "      <td>2022-10-28</td>\n",
              "      <td>0.077028</td>\n",
              "      <td>0.087901</td>\n",
              "      <td>0.072930</td>\n",
              "      <td>0.083897</td>\n",
              "      <td>0.121603</td>\n",
              "      <td>3172500998</td>\n",
              "      <td>0.068021</td>\n",
              "      <td>0.062511</td>\n",
              "    </tr>\n",
              "    <tr>\n",
              "      <th>1815</th>\n",
              "      <td>2022-10-29</td>\n",
              "      <td>0.083933</td>\n",
              "      <td>0.149392</td>\n",
              "      <td>0.083387</td>\n",
              "      <td>0.121603</td>\n",
              "      <td>0.117802</td>\n",
              "      <td>12157642295</td>\n",
              "      <td>0.076865</td>\n",
              "      <td>0.065365</td>\n",
              "    </tr>\n",
              "    <tr>\n",
              "      <th>1816</th>\n",
              "      <td>2022-10-30</td>\n",
              "      <td>0.121644</td>\n",
              "      <td>0.141657</td>\n",
              "      <td>0.112892</td>\n",
              "      <td>0.117802</td>\n",
              "      <td>0.127026</td>\n",
              "      <td>7908593943</td>\n",
              "      <td>0.085073</td>\n",
              "      <td>0.068015</td>\n",
              "    </tr>\n",
              "    <tr>\n",
              "      <th>1817</th>\n",
              "      <td>2022-10-31</td>\n",
              "      <td>0.117752</td>\n",
              "      <td>0.130245</td>\n",
              "      <td>0.115076</td>\n",
              "      <td>0.127026</td>\n",
              "      <td>NaN</td>\n",
              "      <td>5814247122</td>\n",
              "      <td>0.094718</td>\n",
              "      <td>0.071229</td>\n",
              "    </tr>\n",
              "  </tbody>\n",
              "</table>\n",
              "</div>\n",
              "      <button class=\"colab-df-convert\" onclick=\"convertToInteractive('df-40e84dfa-3b7d-43e8-8354-d81bb89fd0f4')\"\n",
              "              title=\"Convert this dataframe to an interactive table.\"\n",
              "              style=\"display:none;\">\n",
              "        \n",
              "  <svg xmlns=\"http://www.w3.org/2000/svg\" height=\"24px\"viewBox=\"0 0 24 24\"\n",
              "       width=\"24px\">\n",
              "    <path d=\"M0 0h24v24H0V0z\" fill=\"none\"/>\n",
              "    <path d=\"M18.56 5.44l.94 2.06.94-2.06 2.06-.94-2.06-.94-.94-2.06-.94 2.06-2.06.94zm-11 1L8.5 8.5l.94-2.06 2.06-.94-2.06-.94L8.5 2.5l-.94 2.06-2.06.94zm10 10l.94 2.06.94-2.06 2.06-.94-2.06-.94-.94-2.06-.94 2.06-2.06.94z\"/><path d=\"M17.41 7.96l-1.37-1.37c-.4-.4-.92-.59-1.43-.59-.52 0-1.04.2-1.43.59L10.3 9.45l-7.72 7.72c-.78.78-.78 2.05 0 2.83L4 21.41c.39.39.9.59 1.41.59.51 0 1.02-.2 1.41-.59l7.78-7.78 2.81-2.81c.8-.78.8-2.07 0-2.86zM5.41 20L4 18.59l7.72-7.72 1.47 1.35L5.41 20z\"/>\n",
              "  </svg>\n",
              "      </button>\n",
              "      \n",
              "  <style>\n",
              "    .colab-df-container {\n",
              "      display:flex;\n",
              "      flex-wrap:wrap;\n",
              "      gap: 12px;\n",
              "    }\n",
              "\n",
              "    .colab-df-convert {\n",
              "      background-color: #E8F0FE;\n",
              "      border: none;\n",
              "      border-radius: 50%;\n",
              "      cursor: pointer;\n",
              "      display: none;\n",
              "      fill: #1967D2;\n",
              "      height: 32px;\n",
              "      padding: 0 0 0 0;\n",
              "      width: 32px;\n",
              "    }\n",
              "\n",
              "    .colab-df-convert:hover {\n",
              "      background-color: #E2EBFA;\n",
              "      box-shadow: 0px 1px 2px rgba(60, 64, 67, 0.3), 0px 1px 3px 1px rgba(60, 64, 67, 0.15);\n",
              "      fill: #174EA6;\n",
              "    }\n",
              "\n",
              "    [theme=dark] .colab-df-convert {\n",
              "      background-color: #3B4455;\n",
              "      fill: #D2E3FC;\n",
              "    }\n",
              "\n",
              "    [theme=dark] .colab-df-convert:hover {\n",
              "      background-color: #434B5C;\n",
              "      box-shadow: 0px 1px 3px 1px rgba(0, 0, 0, 0.15);\n",
              "      filter: drop-shadow(0px 1px 2px rgba(0, 0, 0, 0.3));\n",
              "      fill: #FFFFFF;\n",
              "    }\n",
              "  </style>\n",
              "\n",
              "      <script>\n",
              "        const buttonEl =\n",
              "          document.querySelector('#df-40e84dfa-3b7d-43e8-8354-d81bb89fd0f4 button.colab-df-convert');\n",
              "        buttonEl.style.display =\n",
              "          google.colab.kernel.accessAllowed ? 'block' : 'none';\n",
              "\n",
              "        async function convertToInteractive(key) {\n",
              "          const element = document.querySelector('#df-40e84dfa-3b7d-43e8-8354-d81bb89fd0f4');\n",
              "          const dataTable =\n",
              "            await google.colab.kernel.invokeFunction('convertToInteractive',\n",
              "                                                     [key], {});\n",
              "          if (!dataTable) return;\n",
              "\n",
              "          const docLinkHtml = 'Like what you see? Visit the ' +\n",
              "            '<a target=\"_blank\" href=https://colab.research.google.com/notebooks/data_table.ipynb>data table notebook</a>'\n",
              "            + ' to learn more about interactive tables.';\n",
              "          element.innerHTML = '';\n",
              "          dataTable['output_type'] = 'display_data';\n",
              "          await google.colab.output.renderOutput(dataTable, element);\n",
              "          const docLink = document.createElement('div');\n",
              "          docLink.innerHTML = docLinkHtml;\n",
              "          element.appendChild(docLink);\n",
              "        }\n",
              "      </script>\n",
              "    </div>\n",
              "  </div>\n",
              "  "
            ]
          },
          "metadata": {},
          "execution_count": 49
        }
      ]
    },
    {
      "cell_type": "markdown",
      "source": [
        "- Remover os dados nulos"
      ],
      "metadata": {
        "id": "RXxYDot8wARz"
      }
    },
    {
      "cell_type": "code",
      "source": [
        "df_doge.dropna(inplace=True)\n",
        "df_doge"
      ],
      "metadata": {
        "colab": {
          "base_uri": "https://localhost:8080/",
          "height": 424
        },
        "id": "jIP4Y09auAln",
        "outputId": "68cf8470-9ebd-4d23-d270-b6c66fc40825"
      },
      "execution_count": 50,
      "outputs": [
        {
          "output_type": "execute_result",
          "data": {
            "text/plain": [
              "      timestamp      open      high       low     Close     close  \\\n",
              "20   2017-11-29  0.002333  0.002581  0.001993  0.002080  0.002079   \n",
              "21   2017-11-30  0.002048  0.002271  0.001890  0.002079  0.002148   \n",
              "22   2017-12-01  0.002051  0.002237  0.001971  0.002148  0.002149   \n",
              "23   2017-12-02  0.002122  0.002212  0.002017  0.002149  0.002223   \n",
              "24   2017-12-03  0.002092  0.002340  0.002071  0.002223  0.002463   \n",
              "...         ...       ...       ...       ...       ...       ...   \n",
              "1812 2022-10-26  0.062856  0.073274  0.062760  0.072800  0.077018   \n",
              "1813 2022-10-27  0.072799  0.084825  0.072033  0.077018  0.083897   \n",
              "1814 2022-10-28  0.077028  0.087901  0.072930  0.083897  0.121603   \n",
              "1815 2022-10-29  0.083933  0.149392  0.083387  0.121603  0.117802   \n",
              "1816 2022-10-30  0.121644  0.141657  0.112892  0.117802  0.127026   \n",
              "\n",
              "           volume      mm7d     mm21d  \n",
              "20       11077200  0.002047  0.001568  \n",
              "21        4919490  0.002074  0.001600  \n",
              "22        5258110  0.002108  0.001647  \n",
              "23        4978180  0.002119  0.001692  \n",
              "24        4751640  0.002147  0.001749  \n",
              "...           ...       ...       ...  \n",
              "1812   1357027720  0.062014  0.060842  \n",
              "1813   2652784687  0.064512  0.061488  \n",
              "1814   3172500998  0.068021  0.062511  \n",
              "1815  12157642295  0.076865  0.065365  \n",
              "1816   7908593943  0.085073  0.068015  \n",
              "\n",
              "[1797 rows x 9 columns]"
            ],
            "text/html": [
              "\n",
              "  <div id=\"df-93818867-b96b-4912-a9db-a43a0a6c7337\">\n",
              "    <div class=\"colab-df-container\">\n",
              "      <div>\n",
              "<style scoped>\n",
              "    .dataframe tbody tr th:only-of-type {\n",
              "        vertical-align: middle;\n",
              "    }\n",
              "\n",
              "    .dataframe tbody tr th {\n",
              "        vertical-align: top;\n",
              "    }\n",
              "\n",
              "    .dataframe thead th {\n",
              "        text-align: right;\n",
              "    }\n",
              "</style>\n",
              "<table border=\"1\" class=\"dataframe\">\n",
              "  <thead>\n",
              "    <tr style=\"text-align: right;\">\n",
              "      <th></th>\n",
              "      <th>timestamp</th>\n",
              "      <th>open</th>\n",
              "      <th>high</th>\n",
              "      <th>low</th>\n",
              "      <th>Close</th>\n",
              "      <th>close</th>\n",
              "      <th>volume</th>\n",
              "      <th>mm7d</th>\n",
              "      <th>mm21d</th>\n",
              "    </tr>\n",
              "  </thead>\n",
              "  <tbody>\n",
              "    <tr>\n",
              "      <th>20</th>\n",
              "      <td>2017-11-29</td>\n",
              "      <td>0.002333</td>\n",
              "      <td>0.002581</td>\n",
              "      <td>0.001993</td>\n",
              "      <td>0.002080</td>\n",
              "      <td>0.002079</td>\n",
              "      <td>11077200</td>\n",
              "      <td>0.002047</td>\n",
              "      <td>0.001568</td>\n",
              "    </tr>\n",
              "    <tr>\n",
              "      <th>21</th>\n",
              "      <td>2017-11-30</td>\n",
              "      <td>0.002048</td>\n",
              "      <td>0.002271</td>\n",
              "      <td>0.001890</td>\n",
              "      <td>0.002079</td>\n",
              "      <td>0.002148</td>\n",
              "      <td>4919490</td>\n",
              "      <td>0.002074</td>\n",
              "      <td>0.001600</td>\n",
              "    </tr>\n",
              "    <tr>\n",
              "      <th>22</th>\n",
              "      <td>2017-12-01</td>\n",
              "      <td>0.002051</td>\n",
              "      <td>0.002237</td>\n",
              "      <td>0.001971</td>\n",
              "      <td>0.002148</td>\n",
              "      <td>0.002149</td>\n",
              "      <td>5258110</td>\n",
              "      <td>0.002108</td>\n",
              "      <td>0.001647</td>\n",
              "    </tr>\n",
              "    <tr>\n",
              "      <th>23</th>\n",
              "      <td>2017-12-02</td>\n",
              "      <td>0.002122</td>\n",
              "      <td>0.002212</td>\n",
              "      <td>0.002017</td>\n",
              "      <td>0.002149</td>\n",
              "      <td>0.002223</td>\n",
              "      <td>4978180</td>\n",
              "      <td>0.002119</td>\n",
              "      <td>0.001692</td>\n",
              "    </tr>\n",
              "    <tr>\n",
              "      <th>24</th>\n",
              "      <td>2017-12-03</td>\n",
              "      <td>0.002092</td>\n",
              "      <td>0.002340</td>\n",
              "      <td>0.002071</td>\n",
              "      <td>0.002223</td>\n",
              "      <td>0.002463</td>\n",
              "      <td>4751640</td>\n",
              "      <td>0.002147</td>\n",
              "      <td>0.001749</td>\n",
              "    </tr>\n",
              "    <tr>\n",
              "      <th>...</th>\n",
              "      <td>...</td>\n",
              "      <td>...</td>\n",
              "      <td>...</td>\n",
              "      <td>...</td>\n",
              "      <td>...</td>\n",
              "      <td>...</td>\n",
              "      <td>...</td>\n",
              "      <td>...</td>\n",
              "      <td>...</td>\n",
              "    </tr>\n",
              "    <tr>\n",
              "      <th>1812</th>\n",
              "      <td>2022-10-26</td>\n",
              "      <td>0.062856</td>\n",
              "      <td>0.073274</td>\n",
              "      <td>0.062760</td>\n",
              "      <td>0.072800</td>\n",
              "      <td>0.077018</td>\n",
              "      <td>1357027720</td>\n",
              "      <td>0.062014</td>\n",
              "      <td>0.060842</td>\n",
              "    </tr>\n",
              "    <tr>\n",
              "      <th>1813</th>\n",
              "      <td>2022-10-27</td>\n",
              "      <td>0.072799</td>\n",
              "      <td>0.084825</td>\n",
              "      <td>0.072033</td>\n",
              "      <td>0.077018</td>\n",
              "      <td>0.083897</td>\n",
              "      <td>2652784687</td>\n",
              "      <td>0.064512</td>\n",
              "      <td>0.061488</td>\n",
              "    </tr>\n",
              "    <tr>\n",
              "      <th>1814</th>\n",
              "      <td>2022-10-28</td>\n",
              "      <td>0.077028</td>\n",
              "      <td>0.087901</td>\n",
              "      <td>0.072930</td>\n",
              "      <td>0.083897</td>\n",
              "      <td>0.121603</td>\n",
              "      <td>3172500998</td>\n",
              "      <td>0.068021</td>\n",
              "      <td>0.062511</td>\n",
              "    </tr>\n",
              "    <tr>\n",
              "      <th>1815</th>\n",
              "      <td>2022-10-29</td>\n",
              "      <td>0.083933</td>\n",
              "      <td>0.149392</td>\n",
              "      <td>0.083387</td>\n",
              "      <td>0.121603</td>\n",
              "      <td>0.117802</td>\n",
              "      <td>12157642295</td>\n",
              "      <td>0.076865</td>\n",
              "      <td>0.065365</td>\n",
              "    </tr>\n",
              "    <tr>\n",
              "      <th>1816</th>\n",
              "      <td>2022-10-30</td>\n",
              "      <td>0.121644</td>\n",
              "      <td>0.141657</td>\n",
              "      <td>0.112892</td>\n",
              "      <td>0.117802</td>\n",
              "      <td>0.127026</td>\n",
              "      <td>7908593943</td>\n",
              "      <td>0.085073</td>\n",
              "      <td>0.068015</td>\n",
              "    </tr>\n",
              "  </tbody>\n",
              "</table>\n",
              "<p>1797 rows × 9 columns</p>\n",
              "</div>\n",
              "      <button class=\"colab-df-convert\" onclick=\"convertToInteractive('df-93818867-b96b-4912-a9db-a43a0a6c7337')\"\n",
              "              title=\"Convert this dataframe to an interactive table.\"\n",
              "              style=\"display:none;\">\n",
              "        \n",
              "  <svg xmlns=\"http://www.w3.org/2000/svg\" height=\"24px\"viewBox=\"0 0 24 24\"\n",
              "       width=\"24px\">\n",
              "    <path d=\"M0 0h24v24H0V0z\" fill=\"none\"/>\n",
              "    <path d=\"M18.56 5.44l.94 2.06.94-2.06 2.06-.94-2.06-.94-.94-2.06-.94 2.06-2.06.94zm-11 1L8.5 8.5l.94-2.06 2.06-.94-2.06-.94L8.5 2.5l-.94 2.06-2.06.94zm10 10l.94 2.06.94-2.06 2.06-.94-2.06-.94-.94-2.06-.94 2.06-2.06.94z\"/><path d=\"M17.41 7.96l-1.37-1.37c-.4-.4-.92-.59-1.43-.59-.52 0-1.04.2-1.43.59L10.3 9.45l-7.72 7.72c-.78.78-.78 2.05 0 2.83L4 21.41c.39.39.9.59 1.41.59.51 0 1.02-.2 1.41-.59l7.78-7.78 2.81-2.81c.8-.78.8-2.07 0-2.86zM5.41 20L4 18.59l7.72-7.72 1.47 1.35L5.41 20z\"/>\n",
              "  </svg>\n",
              "      </button>\n",
              "      \n",
              "  <style>\n",
              "    .colab-df-container {\n",
              "      display:flex;\n",
              "      flex-wrap:wrap;\n",
              "      gap: 12px;\n",
              "    }\n",
              "\n",
              "    .colab-df-convert {\n",
              "      background-color: #E8F0FE;\n",
              "      border: none;\n",
              "      border-radius: 50%;\n",
              "      cursor: pointer;\n",
              "      display: none;\n",
              "      fill: #1967D2;\n",
              "      height: 32px;\n",
              "      padding: 0 0 0 0;\n",
              "      width: 32px;\n",
              "    }\n",
              "\n",
              "    .colab-df-convert:hover {\n",
              "      background-color: #E2EBFA;\n",
              "      box-shadow: 0px 1px 2px rgba(60, 64, 67, 0.3), 0px 1px 3px 1px rgba(60, 64, 67, 0.15);\n",
              "      fill: #174EA6;\n",
              "    }\n",
              "\n",
              "    [theme=dark] .colab-df-convert {\n",
              "      background-color: #3B4455;\n",
              "      fill: #D2E3FC;\n",
              "    }\n",
              "\n",
              "    [theme=dark] .colab-df-convert:hover {\n",
              "      background-color: #434B5C;\n",
              "      box-shadow: 0px 1px 3px 1px rgba(0, 0, 0, 0.15);\n",
              "      filter: drop-shadow(0px 1px 2px rgba(0, 0, 0, 0.3));\n",
              "      fill: #FFFFFF;\n",
              "    }\n",
              "  </style>\n",
              "\n",
              "      <script>\n",
              "        const buttonEl =\n",
              "          document.querySelector('#df-93818867-b96b-4912-a9db-a43a0a6c7337 button.colab-df-convert');\n",
              "        buttonEl.style.display =\n",
              "          google.colab.kernel.accessAllowed ? 'block' : 'none';\n",
              "\n",
              "        async function convertToInteractive(key) {\n",
              "          const element = document.querySelector('#df-93818867-b96b-4912-a9db-a43a0a6c7337');\n",
              "          const dataTable =\n",
              "            await google.colab.kernel.invokeFunction('convertToInteractive',\n",
              "                                                     [key], {});\n",
              "          if (!dataTable) return;\n",
              "\n",
              "          const docLinkHtml = 'Like what you see? Visit the ' +\n",
              "            '<a target=\"_blank\" href=https://colab.research.google.com/notebooks/data_table.ipynb>data table notebook</a>'\n",
              "            + ' to learn more about interactive tables.';\n",
              "          element.innerHTML = '';\n",
              "          dataTable['output_type'] = 'display_data';\n",
              "          await google.colab.output.renderOutput(dataTable, element);\n",
              "          const docLink = document.createElement('div');\n",
              "          docLink.innerHTML = docLinkHtml;\n",
              "          element.appendChild(docLink);\n",
              "        }\n",
              "      </script>\n",
              "    </div>\n",
              "  </div>\n",
              "  "
            ]
          },
          "metadata": {},
          "execution_count": 50
        }
      ]
    },
    {
      "cell_type": "markdown",
      "source": [
        "- Testar se o DataFrame possui dados nulos"
      ],
      "metadata": {
        "id": "8yFxnOQmwDk6"
      }
    },
    {
      "cell_type": "code",
      "source": [
        "assert df_doge.isnull().sum().sum() == 0"
      ],
      "metadata": {
        "id": "Sk84FushxKQy"
      },
      "execution_count": 51,
      "outputs": []
    },
    {
      "cell_type": "markdown",
      "source": [
        "- Separar os dados em Treino, Teste e Validação. "
      ],
      "metadata": {
        "id": "zRInT3dbwJvy"
      }
    },
    {
      "cell_type": "code",
      "source": [
        "qtd_linhas = len(df_doge)\n",
        "\n",
        "qtd_linhas_treino= round(.70 * qtd_linhas)\n",
        "qtd_linhas_teste= qtd_linhas - qtd_linhas_treino  \n",
        "qtd_linhas_validacao = qtd_linhas -1\n",
        "\n",
        "info = (\n",
        "    f\"linhas treino= 0:{qtd_linhas_treino}\"\n",
        "    f\" linhas teste= {qtd_linhas_treino}:{qtd_linhas_treino + qtd_linhas_teste -1}\"\n",
        "    f\" linhas validação= {qtd_linhas_validacao}\"\n",
        ")\n",
        "\n",
        "info"
      ],
      "metadata": {
        "colab": {
          "base_uri": "https://localhost:8080/",
          "height": 35
        },
        "id": "km4dWJkRs9AH",
        "outputId": "db1e3d3b-2b30-4b4d-eca3-af42c2863490"
      },
      "execution_count": 52,
      "outputs": [
        {
          "output_type": "execute_result",
          "data": {
            "text/plain": [
              "'linhas treino= 0:1258 linhas teste= 1258:1796 linhas validação= 1796'"
            ],
            "application/vnd.google.colaboratory.intrinsic+json": {
              "type": "string"
            }
          },
          "metadata": {},
          "execution_count": 52
        }
      ]
    },
    {
      "cell_type": "markdown",
      "source": [
        "- Separar a **labels** que será o target a ser encontrado pelo modelo preditivo\n",
        "- Separar as **features** que serão utilizadas para prever o valor final"
      ],
      "metadata": {
        "id": "SO2vROrYxaHK"
      }
    },
    {
      "cell_type": "code",
      "source": [
        "features = df_doge.drop(['timestamp', 'close'], 1)\n",
        "labels = df_doge['close']"
      ],
      "metadata": {
        "colab": {
          "base_uri": "https://localhost:8080/"
        },
        "id": "f2BJx4Gks9DE",
        "outputId": "18a68556-2a98-44fc-8963-3a5c317a95a4"
      },
      "execution_count": 53,
      "outputs": [
        {
          "output_type": "stream",
          "name": "stderr",
          "text": [
            "/usr/local/lib/python3.7/dist-packages/ipykernel_launcher.py:1: FutureWarning: In a future version of pandas all arguments of DataFrame.drop except for the argument 'labels' will be keyword-only\n",
            "  \"\"\"Entry point for launching an IPython kernel.\n"
          ]
        }
      ]
    },
    {
      "cell_type": "markdown",
      "source": [
        "- Escolhendo as melhores features com Kbest"
      ],
      "metadata": {
        "id": "accSLbKVx1Ui"
      }
    },
    {
      "cell_type": "code",
      "source": [
        "features_list = ('timestamp', 'open', 'high', 'low', 'volume', 'mm7d', 'mm21d')\n",
        "\n",
        "selector = SelectKBest(score_func=f_regression, k='all').fit(features, labels)\n",
        "x_new = selector.transform(features)\n",
        "scores = selector.scores_\n",
        "\n",
        "raw_pairs = zip(features_list[1:], scores)\n",
        "ordered_pairs = list(reversed(sorted(raw_pairs, key=lambda x: x[1])))\n",
        "\n",
        "k_best_features_final = dict(ordered_pairs[:15])\n",
        "best_features = k_best_features_final.keys()\n",
        "\n",
        "print(\"Melhores features:\")\n",
        "print(k_best_features_final)"
      ],
      "metadata": {
        "colab": {
          "base_uri": "https://localhost:8080/"
        },
        "id": "WS7D9-cns9Fw",
        "outputId": "a8c9c8db-984a-4da6-a0ff-a52662d75fcb"
      },
      "execution_count": 54,
      "outputs": [
        {
          "output_type": "stream",
          "name": "stdout",
          "text": [
            "Melhores features:\n",
            "{'volume': 117310.48473415662, 'high': 80707.28070774228, 'low': 68052.60856727831, 'open': 66840.67751909795, 'mm21d': 44209.46852371669, 'mm7d': 899.4870976594589}\n"
          ]
        }
      ]
    },
    {
      "cell_type": "markdown",
      "source": [
        "- Separando as features escolhidas, com melhor pontuação"
      ],
      "metadata": {
        "id": "859MDpnVx5aC"
      }
    },
    {
      "cell_type": "code",
      "source": [
        "features = df_doge.loc[:,['volume','high', 'low', 'open', 'mm21d']]\n",
        "features"
      ],
      "metadata": {
        "colab": {
          "base_uri": "https://localhost:8080/",
          "height": 424
        },
        "id": "VZzojRaqu_r-",
        "outputId": "69d82ebe-31cb-4fd8-9655-26864e7bd1dd"
      },
      "execution_count": 55,
      "outputs": [
        {
          "output_type": "execute_result",
          "data": {
            "text/plain": [
              "           volume      high       low      open     mm21d\n",
              "20       11077200  0.002581  0.001993  0.002333  0.001568\n",
              "21        4919490  0.002271  0.001890  0.002048  0.001600\n",
              "22        5258110  0.002237  0.001971  0.002051  0.001647\n",
              "23        4978180  0.002212  0.002017  0.002122  0.001692\n",
              "24        4751640  0.002340  0.002071  0.002092  0.001749\n",
              "...           ...       ...       ...       ...       ...\n",
              "1812   1357027720  0.073274  0.062760  0.062856  0.060842\n",
              "1813   2652784687  0.084825  0.072033  0.072799  0.061488\n",
              "1814   3172500998  0.087901  0.072930  0.077028  0.062511\n",
              "1815  12157642295  0.149392  0.083387  0.083933  0.065365\n",
              "1816   7908593943  0.141657  0.112892  0.121644  0.068015\n",
              "\n",
              "[1797 rows x 5 columns]"
            ],
            "text/html": [
              "\n",
              "  <div id=\"df-b9e84fc2-a1cf-4584-bc66-2cc23c22f0d6\">\n",
              "    <div class=\"colab-df-container\">\n",
              "      <div>\n",
              "<style scoped>\n",
              "    .dataframe tbody tr th:only-of-type {\n",
              "        vertical-align: middle;\n",
              "    }\n",
              "\n",
              "    .dataframe tbody tr th {\n",
              "        vertical-align: top;\n",
              "    }\n",
              "\n",
              "    .dataframe thead th {\n",
              "        text-align: right;\n",
              "    }\n",
              "</style>\n",
              "<table border=\"1\" class=\"dataframe\">\n",
              "  <thead>\n",
              "    <tr style=\"text-align: right;\">\n",
              "      <th></th>\n",
              "      <th>volume</th>\n",
              "      <th>high</th>\n",
              "      <th>low</th>\n",
              "      <th>open</th>\n",
              "      <th>mm21d</th>\n",
              "    </tr>\n",
              "  </thead>\n",
              "  <tbody>\n",
              "    <tr>\n",
              "      <th>20</th>\n",
              "      <td>11077200</td>\n",
              "      <td>0.002581</td>\n",
              "      <td>0.001993</td>\n",
              "      <td>0.002333</td>\n",
              "      <td>0.001568</td>\n",
              "    </tr>\n",
              "    <tr>\n",
              "      <th>21</th>\n",
              "      <td>4919490</td>\n",
              "      <td>0.002271</td>\n",
              "      <td>0.001890</td>\n",
              "      <td>0.002048</td>\n",
              "      <td>0.001600</td>\n",
              "    </tr>\n",
              "    <tr>\n",
              "      <th>22</th>\n",
              "      <td>5258110</td>\n",
              "      <td>0.002237</td>\n",
              "      <td>0.001971</td>\n",
              "      <td>0.002051</td>\n",
              "      <td>0.001647</td>\n",
              "    </tr>\n",
              "    <tr>\n",
              "      <th>23</th>\n",
              "      <td>4978180</td>\n",
              "      <td>0.002212</td>\n",
              "      <td>0.002017</td>\n",
              "      <td>0.002122</td>\n",
              "      <td>0.001692</td>\n",
              "    </tr>\n",
              "    <tr>\n",
              "      <th>24</th>\n",
              "      <td>4751640</td>\n",
              "      <td>0.002340</td>\n",
              "      <td>0.002071</td>\n",
              "      <td>0.002092</td>\n",
              "      <td>0.001749</td>\n",
              "    </tr>\n",
              "    <tr>\n",
              "      <th>...</th>\n",
              "      <td>...</td>\n",
              "      <td>...</td>\n",
              "      <td>...</td>\n",
              "      <td>...</td>\n",
              "      <td>...</td>\n",
              "    </tr>\n",
              "    <tr>\n",
              "      <th>1812</th>\n",
              "      <td>1357027720</td>\n",
              "      <td>0.073274</td>\n",
              "      <td>0.062760</td>\n",
              "      <td>0.062856</td>\n",
              "      <td>0.060842</td>\n",
              "    </tr>\n",
              "    <tr>\n",
              "      <th>1813</th>\n",
              "      <td>2652784687</td>\n",
              "      <td>0.084825</td>\n",
              "      <td>0.072033</td>\n",
              "      <td>0.072799</td>\n",
              "      <td>0.061488</td>\n",
              "    </tr>\n",
              "    <tr>\n",
              "      <th>1814</th>\n",
              "      <td>3172500998</td>\n",
              "      <td>0.087901</td>\n",
              "      <td>0.072930</td>\n",
              "      <td>0.077028</td>\n",
              "      <td>0.062511</td>\n",
              "    </tr>\n",
              "    <tr>\n",
              "      <th>1815</th>\n",
              "      <td>12157642295</td>\n",
              "      <td>0.149392</td>\n",
              "      <td>0.083387</td>\n",
              "      <td>0.083933</td>\n",
              "      <td>0.065365</td>\n",
              "    </tr>\n",
              "    <tr>\n",
              "      <th>1816</th>\n",
              "      <td>7908593943</td>\n",
              "      <td>0.141657</td>\n",
              "      <td>0.112892</td>\n",
              "      <td>0.121644</td>\n",
              "      <td>0.068015</td>\n",
              "    </tr>\n",
              "  </tbody>\n",
              "</table>\n",
              "<p>1797 rows × 5 columns</p>\n",
              "</div>\n",
              "      <button class=\"colab-df-convert\" onclick=\"convertToInteractive('df-b9e84fc2-a1cf-4584-bc66-2cc23c22f0d6')\"\n",
              "              title=\"Convert this dataframe to an interactive table.\"\n",
              "              style=\"display:none;\">\n",
              "        \n",
              "  <svg xmlns=\"http://www.w3.org/2000/svg\" height=\"24px\"viewBox=\"0 0 24 24\"\n",
              "       width=\"24px\">\n",
              "    <path d=\"M0 0h24v24H0V0z\" fill=\"none\"/>\n",
              "    <path d=\"M18.56 5.44l.94 2.06.94-2.06 2.06-.94-2.06-.94-.94-2.06-.94 2.06-2.06.94zm-11 1L8.5 8.5l.94-2.06 2.06-.94-2.06-.94L8.5 2.5l-.94 2.06-2.06.94zm10 10l.94 2.06.94-2.06 2.06-.94-2.06-.94-.94-2.06-.94 2.06-2.06.94z\"/><path d=\"M17.41 7.96l-1.37-1.37c-.4-.4-.92-.59-1.43-.59-.52 0-1.04.2-1.43.59L10.3 9.45l-7.72 7.72c-.78.78-.78 2.05 0 2.83L4 21.41c.39.39.9.59 1.41.59.51 0 1.02-.2 1.41-.59l7.78-7.78 2.81-2.81c.8-.78.8-2.07 0-2.86zM5.41 20L4 18.59l7.72-7.72 1.47 1.35L5.41 20z\"/>\n",
              "  </svg>\n",
              "      </button>\n",
              "      \n",
              "  <style>\n",
              "    .colab-df-container {\n",
              "      display:flex;\n",
              "      flex-wrap:wrap;\n",
              "      gap: 12px;\n",
              "    }\n",
              "\n",
              "    .colab-df-convert {\n",
              "      background-color: #E8F0FE;\n",
              "      border: none;\n",
              "      border-radius: 50%;\n",
              "      cursor: pointer;\n",
              "      display: none;\n",
              "      fill: #1967D2;\n",
              "      height: 32px;\n",
              "      padding: 0 0 0 0;\n",
              "      width: 32px;\n",
              "    }\n",
              "\n",
              "    .colab-df-convert:hover {\n",
              "      background-color: #E2EBFA;\n",
              "      box-shadow: 0px 1px 2px rgba(60, 64, 67, 0.3), 0px 1px 3px 1px rgba(60, 64, 67, 0.15);\n",
              "      fill: #174EA6;\n",
              "    }\n",
              "\n",
              "    [theme=dark] .colab-df-convert {\n",
              "      background-color: #3B4455;\n",
              "      fill: #D2E3FC;\n",
              "    }\n",
              "\n",
              "    [theme=dark] .colab-df-convert:hover {\n",
              "      background-color: #434B5C;\n",
              "      box-shadow: 0px 1px 3px 1px rgba(0, 0, 0, 0.15);\n",
              "      filter: drop-shadow(0px 1px 2px rgba(0, 0, 0, 0.3));\n",
              "      fill: #FFFFFF;\n",
              "    }\n",
              "  </style>\n",
              "\n",
              "      <script>\n",
              "        const buttonEl =\n",
              "          document.querySelector('#df-b9e84fc2-a1cf-4584-bc66-2cc23c22f0d6 button.colab-df-convert');\n",
              "        buttonEl.style.display =\n",
              "          google.colab.kernel.accessAllowed ? 'block' : 'none';\n",
              "\n",
              "        async function convertToInteractive(key) {\n",
              "          const element = document.querySelector('#df-b9e84fc2-a1cf-4584-bc66-2cc23c22f0d6');\n",
              "          const dataTable =\n",
              "            await google.colab.kernel.invokeFunction('convertToInteractive',\n",
              "                                                     [key], {});\n",
              "          if (!dataTable) return;\n",
              "\n",
              "          const docLinkHtml = 'Like what you see? Visit the ' +\n",
              "            '<a target=\"_blank\" href=https://colab.research.google.com/notebooks/data_table.ipynb>data table notebook</a>'\n",
              "            + ' to learn more about interactive tables.';\n",
              "          element.innerHTML = '';\n",
              "          dataTable['output_type'] = 'display_data';\n",
              "          await google.colab.output.renderOutput(dataTable, element);\n",
              "          const docLink = document.createElement('div');\n",
              "          docLink.innerHTML = docLinkHtml;\n",
              "          element.appendChild(docLink);\n",
              "        }\n",
              "      </script>\n",
              "    </div>\n",
              "  </div>\n",
              "  "
            ]
          },
          "metadata": {},
          "execution_count": 55
        }
      ]
    },
    {
      "cell_type": "markdown",
      "source": [
        "- Criando Pipeline"
      ],
      "metadata": {
        "id": "R0muN60Nm9ft"
      }
    },
    {
      "cell_type": "code",
      "source": [
        "pipeline_linear_regression = make_pipeline(MinMaxScaler(), LinearRegression())"
      ],
      "metadata": {
        "id": "nhzFEDP1myuc"
      },
      "execution_count": 56,
      "outputs": []
    },
    {
      "cell_type": "markdown",
      "source": [],
      "metadata": {
        "id": "Ok2GPU77yDhq"
      }
    },
    {
      "cell_type": "markdown",
      "source": [
        "- Separa os dados de treino teste e validação"
      ],
      "metadata": {
        "id": "vuH9rqRkyFqq"
      }
    },
    {
      "cell_type": "code",
      "source": [
        "X_train = features[:qtd_linhas_treino]\n",
        "X_test = features[qtd_linhas_treino:qtd_linhas_treino + qtd_linhas_teste -1]\n",
        "\n",
        "y_train = labels[:qtd_linhas_treino]\n",
        "y_test = labels[qtd_linhas_treino:qtd_linhas_treino + qtd_linhas_teste -1]\n",
        "\n",
        "print( len(X_train), len(y_train))\n",
        "\n",
        "print( len(X_test), len(y_test))"
      ],
      "metadata": {
        "colab": {
          "base_uri": "https://localhost:8080/"
        },
        "id": "WSkeTZq9u_ut",
        "outputId": "aa687f62-3d15-48d9-ed22-bf8b327a97f7"
      },
      "execution_count": 57,
      "outputs": [
        {
          "output_type": "stream",
          "name": "stdout",
          "text": [
            "1258 1258\n",
            "538 538\n"
          ]
        }
      ]
    },
    {
      "cell_type": "markdown",
      "source": [
        "- Treina modelo"
      ],
      "metadata": {
        "id": "w3oopIFM8CGs"
      }
    },
    {
      "cell_type": "code",
      "source": [
        "pipeline_linear_regression.fit(X_train, y_train)"
      ],
      "metadata": {
        "colab": {
          "base_uri": "https://localhost:8080/"
        },
        "id": "mbdd4IOunOuJ",
        "outputId": "7d0c6437-a545-4365-b6d3-d671e8225028"
      },
      "execution_count": 58,
      "outputs": [
        {
          "output_type": "execute_result",
          "data": {
            "text/plain": [
              "Pipeline(steps=[('minmaxscaler', MinMaxScaler()),\n",
              "                ('linearregression', LinearRegression())])"
            ]
          },
          "metadata": {},
          "execution_count": 58
        }
      ]
    },
    {
      "cell_type": "markdown",
      "source": [
        "- Confere "
      ],
      "metadata": {
        "id": "yTVOPZ-c8F6D"
      }
    },
    {
      "cell_type": "code",
      "source": [
        "score_model = pipeline_linear_regression.score(X_test, y_test)\n",
        "f'Teste pontuação para avaliar a consistência do modelo: {score_model * 100:.2f}%'"
      ],
      "metadata": {
        "colab": {
          "base_uri": "https://localhost:8080/",
          "height": 35
        },
        "id": "3CA1WtRInY05",
        "outputId": "8857b672-f5f3-4974-e42a-026bb4f59cad"
      },
      "execution_count": 59,
      "outputs": [
        {
          "output_type": "execute_result",
          "data": {
            "text/plain": [
              "'Teste pontuação para avaliar a consistência do modelo: 91.30%'"
            ],
            "application/vnd.google.colaboratory.intrinsic+json": {
              "type": "string"
            }
          },
          "metadata": {},
          "execution_count": 59
        }
      ]
    },
    {
      "cell_type": "markdown",
      "source": [
        "- Pega último dado do dataframe"
      ],
      "metadata": {
        "id": "PMAgF8RO8O7F"
      }
    },
    {
      "cell_type": "code",
      "source": [
        "data_pred = ['volume','high', 'low', 'open', 'mm21d']\n",
        "df_doge.tail(1)"
      ],
      "metadata": {
        "colab": {
          "base_uri": "https://localhost:8080/",
          "height": 81
        },
        "id": "lioyLP9en1OB",
        "outputId": "c7668787-99bc-4cb1-f3b8-c3551c447ccc"
      },
      "execution_count": 60,
      "outputs": [
        {
          "output_type": "execute_result",
          "data": {
            "text/plain": [
              "      timestamp      open      high       low     Close     close      volume  \\\n",
              "1816 2022-10-30  0.121644  0.141657  0.112892  0.117802  0.127026  7908593943   \n",
              "\n",
              "          mm7d     mm21d  \n",
              "1816  0.085073  0.068015  "
            ],
            "text/html": [
              "\n",
              "  <div id=\"df-040e9760-d7cb-4654-a21c-d4fa25105bec\">\n",
              "    <div class=\"colab-df-container\">\n",
              "      <div>\n",
              "<style scoped>\n",
              "    .dataframe tbody tr th:only-of-type {\n",
              "        vertical-align: middle;\n",
              "    }\n",
              "\n",
              "    .dataframe tbody tr th {\n",
              "        vertical-align: top;\n",
              "    }\n",
              "\n",
              "    .dataframe thead th {\n",
              "        text-align: right;\n",
              "    }\n",
              "</style>\n",
              "<table border=\"1\" class=\"dataframe\">\n",
              "  <thead>\n",
              "    <tr style=\"text-align: right;\">\n",
              "      <th></th>\n",
              "      <th>timestamp</th>\n",
              "      <th>open</th>\n",
              "      <th>high</th>\n",
              "      <th>low</th>\n",
              "      <th>Close</th>\n",
              "      <th>close</th>\n",
              "      <th>volume</th>\n",
              "      <th>mm7d</th>\n",
              "      <th>mm21d</th>\n",
              "    </tr>\n",
              "  </thead>\n",
              "  <tbody>\n",
              "    <tr>\n",
              "      <th>1816</th>\n",
              "      <td>2022-10-30</td>\n",
              "      <td>0.121644</td>\n",
              "      <td>0.141657</td>\n",
              "      <td>0.112892</td>\n",
              "      <td>0.117802</td>\n",
              "      <td>0.127026</td>\n",
              "      <td>7908593943</td>\n",
              "      <td>0.085073</td>\n",
              "      <td>0.068015</td>\n",
              "    </tr>\n",
              "  </tbody>\n",
              "</table>\n",
              "</div>\n",
              "      <button class=\"colab-df-convert\" onclick=\"convertToInteractive('df-040e9760-d7cb-4654-a21c-d4fa25105bec')\"\n",
              "              title=\"Convert this dataframe to an interactive table.\"\n",
              "              style=\"display:none;\">\n",
              "        \n",
              "  <svg xmlns=\"http://www.w3.org/2000/svg\" height=\"24px\"viewBox=\"0 0 24 24\"\n",
              "       width=\"24px\">\n",
              "    <path d=\"M0 0h24v24H0V0z\" fill=\"none\"/>\n",
              "    <path d=\"M18.56 5.44l.94 2.06.94-2.06 2.06-.94-2.06-.94-.94-2.06-.94 2.06-2.06.94zm-11 1L8.5 8.5l.94-2.06 2.06-.94-2.06-.94L8.5 2.5l-.94 2.06-2.06.94zm10 10l.94 2.06.94-2.06 2.06-.94-2.06-.94-.94-2.06-.94 2.06-2.06.94z\"/><path d=\"M17.41 7.96l-1.37-1.37c-.4-.4-.92-.59-1.43-.59-.52 0-1.04.2-1.43.59L10.3 9.45l-7.72 7.72c-.78.78-.78 2.05 0 2.83L4 21.41c.39.39.9.59 1.41.59.51 0 1.02-.2 1.41-.59l7.78-7.78 2.81-2.81c.8-.78.8-2.07 0-2.86zM5.41 20L4 18.59l7.72-7.72 1.47 1.35L5.41 20z\"/>\n",
              "  </svg>\n",
              "      </button>\n",
              "      \n",
              "  <style>\n",
              "    .colab-df-container {\n",
              "      display:flex;\n",
              "      flex-wrap:wrap;\n",
              "      gap: 12px;\n",
              "    }\n",
              "\n",
              "    .colab-df-convert {\n",
              "      background-color: #E8F0FE;\n",
              "      border: none;\n",
              "      border-radius: 50%;\n",
              "      cursor: pointer;\n",
              "      display: none;\n",
              "      fill: #1967D2;\n",
              "      height: 32px;\n",
              "      padding: 0 0 0 0;\n",
              "      width: 32px;\n",
              "    }\n",
              "\n",
              "    .colab-df-convert:hover {\n",
              "      background-color: #E2EBFA;\n",
              "      box-shadow: 0px 1px 2px rgba(60, 64, 67, 0.3), 0px 1px 3px 1px rgba(60, 64, 67, 0.15);\n",
              "      fill: #174EA6;\n",
              "    }\n",
              "\n",
              "    [theme=dark] .colab-df-convert {\n",
              "      background-color: #3B4455;\n",
              "      fill: #D2E3FC;\n",
              "    }\n",
              "\n",
              "    [theme=dark] .colab-df-convert:hover {\n",
              "      background-color: #434B5C;\n",
              "      box-shadow: 0px 1px 3px 1px rgba(0, 0, 0, 0.15);\n",
              "      filter: drop-shadow(0px 1px 2px rgba(0, 0, 0, 0.3));\n",
              "      fill: #FFFFFF;\n",
              "    }\n",
              "  </style>\n",
              "\n",
              "      <script>\n",
              "        const buttonEl =\n",
              "          document.querySelector('#df-040e9760-d7cb-4654-a21c-d4fa25105bec button.colab-df-convert');\n",
              "        buttonEl.style.display =\n",
              "          google.colab.kernel.accessAllowed ? 'block' : 'none';\n",
              "\n",
              "        async function convertToInteractive(key) {\n",
              "          const element = document.querySelector('#df-040e9760-d7cb-4654-a21c-d4fa25105bec');\n",
              "          const dataTable =\n",
              "            await google.colab.kernel.invokeFunction('convertToInteractive',\n",
              "                                                     [key], {});\n",
              "          if (!dataTable) return;\n",
              "\n",
              "          const docLinkHtml = 'Like what you see? Visit the ' +\n",
              "            '<a target=\"_blank\" href=https://colab.research.google.com/notebooks/data_table.ipynb>data table notebook</a>'\n",
              "            + ' to learn more about interactive tables.';\n",
              "          element.innerHTML = '';\n",
              "          dataTable['output_type'] = 'display_data';\n",
              "          await google.colab.output.renderOutput(dataTable, element);\n",
              "          const docLink = document.createElement('div');\n",
              "          docLink.innerHTML = docLinkHtml;\n",
              "          element.appendChild(docLink);\n",
              "        }\n",
              "      </script>\n",
              "    </div>\n",
              "  </div>\n",
              "  "
            ]
          },
          "metadata": {},
          "execution_count": 60
        }
      ]
    },
    {
      "cell_type": "markdown",
      "source": [
        "- Testar a predição"
      ],
      "metadata": {
        "id": "EbKjFx4L8XBU"
      }
    },
    {
      "cell_type": "code",
      "source": [
        "pipeline_linear_regression.predict(df_doge.tail(1)[data_pred])"
      ],
      "metadata": {
        "colab": {
          "base_uri": "https://localhost:8080/"
        },
        "id": "LhP_P8ppnYoZ",
        "outputId": "5789b627-f1cd-4e69-bd7f-8f5761f6bcb3"
      },
      "execution_count": 61,
      "outputs": [
        {
          "output_type": "execute_result",
          "data": {
            "text/plain": [
              "array([0.13120905])"
            ]
          },
          "metadata": {},
          "execution_count": 61
        }
      ]
    },
    {
      "cell_type": "markdown",
      "source": [
        "- Realizar a predição com os dados de testes(dados que o modelo desconhece)"
      ],
      "metadata": {
        "id": "jW34sUhzA7Sc"
      }
    },
    {
      "cell_type": "code",
      "source": [
        "previsao = features[qtd_linhas_treino:qtd_linhas_treino + qtd_linhas_teste -1]\n",
        "\n",
        "data_btc_full=df_doge[\"timestamp\"]\n",
        "data_btc = data_btc_full[qtd_linhas_treino:qtd_linhas_treino + qtd_linhas_teste -1]\n",
        "\n",
        "res_full = df_doge[\"close\"]\n",
        "res = res_full[qtd_linhas_treino:qtd_linhas_treino + qtd_linhas_teste -1]\n",
        "\n",
        "\n",
        "predict2 = pipeline_linear_regression.predict(previsao)\n",
        "\n",
        "\n",
        "df = pd.DataFrame({ \"data_dogecoin\": data_btc, \"real\": res , \"previsao\": predict2 })\n",
        "\n",
        "df[\"real\"] = df[\"real\"].shift(+1)\n",
        "\n",
        "df.set_index(\"data_dogecoin\", inplace= True)\n",
        "\n",
        "df.tail()\n",
        "\n"
      ],
      "metadata": {
        "colab": {
          "base_uri": "https://localhost:8080/",
          "height": 238
        },
        "id": "xvcNFxHL6RED",
        "outputId": "8000da68-aae6-4720-9e10-3b32c04c8784"
      },
      "execution_count": 62,
      "outputs": [
        {
          "output_type": "execute_result",
          "data": {
            "text/plain": [
              "                   real  previsao\n",
              "data_dogecoin                    \n",
              "2022-10-25     0.062882  0.069006\n",
              "2022-10-26     0.072800  0.076342\n",
              "2022-10-27     0.077018  0.085993\n",
              "2022-10-28     0.083897  0.086544\n",
              "2022-10-29     0.121603  0.131632"
            ],
            "text/html": [
              "\n",
              "  <div id=\"df-d3aada0b-d55e-440e-a714-0cb546b184e3\">\n",
              "    <div class=\"colab-df-container\">\n",
              "      <div>\n",
              "<style scoped>\n",
              "    .dataframe tbody tr th:only-of-type {\n",
              "        vertical-align: middle;\n",
              "    }\n",
              "\n",
              "    .dataframe tbody tr th {\n",
              "        vertical-align: top;\n",
              "    }\n",
              "\n",
              "    .dataframe thead th {\n",
              "        text-align: right;\n",
              "    }\n",
              "</style>\n",
              "<table border=\"1\" class=\"dataframe\">\n",
              "  <thead>\n",
              "    <tr style=\"text-align: right;\">\n",
              "      <th></th>\n",
              "      <th>real</th>\n",
              "      <th>previsao</th>\n",
              "    </tr>\n",
              "    <tr>\n",
              "      <th>data_dogecoin</th>\n",
              "      <th></th>\n",
              "      <th></th>\n",
              "    </tr>\n",
              "  </thead>\n",
              "  <tbody>\n",
              "    <tr>\n",
              "      <th>2022-10-25</th>\n",
              "      <td>0.062882</td>\n",
              "      <td>0.069006</td>\n",
              "    </tr>\n",
              "    <tr>\n",
              "      <th>2022-10-26</th>\n",
              "      <td>0.072800</td>\n",
              "      <td>0.076342</td>\n",
              "    </tr>\n",
              "    <tr>\n",
              "      <th>2022-10-27</th>\n",
              "      <td>0.077018</td>\n",
              "      <td>0.085993</td>\n",
              "    </tr>\n",
              "    <tr>\n",
              "      <th>2022-10-28</th>\n",
              "      <td>0.083897</td>\n",
              "      <td>0.086544</td>\n",
              "    </tr>\n",
              "    <tr>\n",
              "      <th>2022-10-29</th>\n",
              "      <td>0.121603</td>\n",
              "      <td>0.131632</td>\n",
              "    </tr>\n",
              "  </tbody>\n",
              "</table>\n",
              "</div>\n",
              "      <button class=\"colab-df-convert\" onclick=\"convertToInteractive('df-d3aada0b-d55e-440e-a714-0cb546b184e3')\"\n",
              "              title=\"Convert this dataframe to an interactive table.\"\n",
              "              style=\"display:none;\">\n",
              "        \n",
              "  <svg xmlns=\"http://www.w3.org/2000/svg\" height=\"24px\"viewBox=\"0 0 24 24\"\n",
              "       width=\"24px\">\n",
              "    <path d=\"M0 0h24v24H0V0z\" fill=\"none\"/>\n",
              "    <path d=\"M18.56 5.44l.94 2.06.94-2.06 2.06-.94-2.06-.94-.94-2.06-.94 2.06-2.06.94zm-11 1L8.5 8.5l.94-2.06 2.06-.94-2.06-.94L8.5 2.5l-.94 2.06-2.06.94zm10 10l.94 2.06.94-2.06 2.06-.94-2.06-.94-.94-2.06-.94 2.06-2.06.94z\"/><path d=\"M17.41 7.96l-1.37-1.37c-.4-.4-.92-.59-1.43-.59-.52 0-1.04.2-1.43.59L10.3 9.45l-7.72 7.72c-.78.78-.78 2.05 0 2.83L4 21.41c.39.39.9.59 1.41.59.51 0 1.02-.2 1.41-.59l7.78-7.78 2.81-2.81c.8-.78.8-2.07 0-2.86zM5.41 20L4 18.59l7.72-7.72 1.47 1.35L5.41 20z\"/>\n",
              "  </svg>\n",
              "      </button>\n",
              "      \n",
              "  <style>\n",
              "    .colab-df-container {\n",
              "      display:flex;\n",
              "      flex-wrap:wrap;\n",
              "      gap: 12px;\n",
              "    }\n",
              "\n",
              "    .colab-df-convert {\n",
              "      background-color: #E8F0FE;\n",
              "      border: none;\n",
              "      border-radius: 50%;\n",
              "      cursor: pointer;\n",
              "      display: none;\n",
              "      fill: #1967D2;\n",
              "      height: 32px;\n",
              "      padding: 0 0 0 0;\n",
              "      width: 32px;\n",
              "    }\n",
              "\n",
              "    .colab-df-convert:hover {\n",
              "      background-color: #E2EBFA;\n",
              "      box-shadow: 0px 1px 2px rgba(60, 64, 67, 0.3), 0px 1px 3px 1px rgba(60, 64, 67, 0.15);\n",
              "      fill: #174EA6;\n",
              "    }\n",
              "\n",
              "    [theme=dark] .colab-df-convert {\n",
              "      background-color: #3B4455;\n",
              "      fill: #D2E3FC;\n",
              "    }\n",
              "\n",
              "    [theme=dark] .colab-df-convert:hover {\n",
              "      background-color: #434B5C;\n",
              "      box-shadow: 0px 1px 3px 1px rgba(0, 0, 0, 0.15);\n",
              "      filter: drop-shadow(0px 1px 2px rgba(0, 0, 0, 0.3));\n",
              "      fill: #FFFFFF;\n",
              "    }\n",
              "  </style>\n",
              "\n",
              "      <script>\n",
              "        const buttonEl =\n",
              "          document.querySelector('#df-d3aada0b-d55e-440e-a714-0cb546b184e3 button.colab-df-convert');\n",
              "        buttonEl.style.display =\n",
              "          google.colab.kernel.accessAllowed ? 'block' : 'none';\n",
              "\n",
              "        async function convertToInteractive(key) {\n",
              "          const element = document.querySelector('#df-d3aada0b-d55e-440e-a714-0cb546b184e3');\n",
              "          const dataTable =\n",
              "            await google.colab.kernel.invokeFunction('convertToInteractive',\n",
              "                                                     [key], {});\n",
              "          if (!dataTable) return;\n",
              "\n",
              "          const docLinkHtml = 'Like what you see? Visit the ' +\n",
              "            '<a target=\"_blank\" href=https://colab.research.google.com/notebooks/data_table.ipynb>data table notebook</a>'\n",
              "            + ' to learn more about interactive tables.';\n",
              "          element.innerHTML = '';\n",
              "          dataTable['output_type'] = 'display_data';\n",
              "          await google.colab.output.renderOutput(dataTable, element);\n",
              "          const docLink = document.createElement('div');\n",
              "          docLink.innerHTML = docLinkHtml;\n",
              "          element.appendChild(docLink);\n",
              "        }\n",
              "      </script>\n",
              "    </div>\n",
              "  </div>\n",
              "  "
            ]
          },
          "metadata": {},
          "execution_count": 62
        }
      ]
    },
    {
      "cell_type": "markdown",
      "source": [
        "- Plotar os resultados"
      ],
      "metadata": {
        "id": "gFLwsKCnBJ28"
      }
    },
    {
      "cell_type": "code",
      "source": [
        "plt.figure(figsize=(25,12))\n",
        "plt.title(\"Analise preço dogecoin com dados de teste\")\n",
        "plt.plot(df[\"real\"], label=\"real\", color=\"blue\")\n",
        "plt.plot(df[\"previsao\"], label=\"previsao\", color=\"red\")\n",
        "plt.xlabel(\"Data\")\n",
        "plt.ylabel(\"Preço de Fechamento\")\n",
        "leg = plt.legend()"
      ],
      "metadata": {
        "colab": {
          "base_uri": "https://localhost:8080/",
          "height": 633
        },
        "id": "BADKUbAvva-J",
        "outputId": "13a8c26e-5ae9-48c4-dd49-b43121d24422"
      },
      "execution_count": 63,
      "outputs": [
        {
          "output_type": "display_data",
          "data": {
            "text/plain": [
              "<Figure size 1800x864 with 1 Axes>"
            ],
            "image/png": "[encoded data removed]"
          },
          "metadata": {
            "needs_background": "light"
          }
        }
      ]
    },
    {
      "cell_type": "code",
      "source": [
        "sns.set_style('whitegrid')\n",
        "sns.set(rc={'figure.figsize':(24, 12)})\n",
        "sns.regplot(x =\"real\", y =\"previsao\", data = df, ci=False, order=2)"
      ],
      "metadata": {
        "colab": {
          "base_uri": "https://localhost:8080/",
          "height": 660
        },
        "id": "3iczwjHLsnNo",
        "outputId": "1d0ed793-1159-4577-a1f5-bc629ac0ac81"
      },
      "execution_count": 64,
      "outputs": [
        {
          "output_type": "execute_result",
          "data": {
            "text/plain": [
              "<matplotlib.axes._subplots.AxesSubplot at 0x7f61af8482d0>"
            ]
          },
          "metadata": {},
          "execution_count": 64
        },
        {
          "output_type": "display_data",
          "data": {
            "text/plain": [
              "<Figure size 1728x864 with 1 Axes>"
            ],
            "image/png": "[encoded data removed]"
          },
          "metadata": {}
        }
      ]
    },
    {
      "cell_type": "markdown",
      "source": [
        "- Export modelo preditivo "
      ],
      "metadata": {
        "id": "ym9fUM-5x-gj"
      }
    },
    {
      "cell_type": "code",
      "source": [
        "joblib.dump(pipeline_linear_regression, 'model_doge_usd.pkl')"
      ],
      "metadata": {
        "id": "pyu5yBRFsnTp",
        "colab": {
          "base_uri": "https://localhost:8080/"
        },
        "outputId": "0b4aa929-a1a0-41ac-8ac0-e44148014b0b"
      },
      "execution_count": 65,
      "outputs": [
        {
          "output_type": "execute_result",
          "data": {
            "text/plain": [
              "['model_doge_usd.pkl']"
            ]
          },
          "metadata": {},
          "execution_count": 65
        }
      ]
    },
    {
      "cell_type": "markdown",
      "source": [
        "- Import modelo preditivo"
      ],
      "metadata": {
        "id": "x6qezcv5yBlL"
      }
    },
    {
      "cell_type": "code",
      "source": [
        "model = joblib.load('model_doge_usd.pkl')"
      ],
      "metadata": {
        "id": "eobLnSMHIt13"
      },
      "execution_count": 66,
      "outputs": []
    },
    {
      "cell_type": "code",
      "source": [],
      "metadata": {
        "id": "sKtWqU-oJeaN"
      },
      "execution_count": 66,
      "outputs": []
    },
    {
      "cell_type": "code",
      "source": [],
      "metadata": {
        "id": "q3lv6P2RJmK5"
      },
      "execution_count": 66,
      "outputs": []
    }
  ]
}