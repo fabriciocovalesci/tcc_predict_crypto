{
  "cells": [
    {
      "cell_type": "markdown",
      "metadata": {
        "id": "LnhRNFDuuqQj"
      },
      "source": [
        "### Modelo preditivo Polygon"
      ]
    },
    {
      "cell_type": "markdown",
      "metadata": {
        "id": "9aH0e44yuqIl"
      },
      "source": [
        "- Instalar biblioteca **yfinance**"
      ]
    },
    {
      "cell_type": "code",
      "execution_count": null,
      "metadata": {
        "colab": {
          "base_uri": "https://localhost:8080/"
        },
        "id": "XI7yeySJr7dG",
        "outputId": "8c059d95-751b-45d7-f028-902514da7c45"
      },
      "outputs": [
        {
          "name": "stdout",
          "output_type": "stream",
          "text": [
            "Looking in indexes: https://pypi.org/simple, https://us-python.pkg.dev/colab-wheels/public/simple/\n",
            "Collecting yfinance\n",
            "  Downloading yfinance-0.1.77-py2.py3-none-any.whl (28 kB)\n",
            "Requirement already satisfied: pandas>=0.24.0 in /usr/local/lib/python3.7/dist-packages (from yfinance) (1.3.5)\n",
            "Requirement already satisfied: lxml>=4.5.1 in /usr/local/lib/python3.7/dist-packages (from yfinance) (4.9.1)\n",
            "Requirement already satisfied: numpy>=1.15 in /usr/local/lib/python3.7/dist-packages (from yfinance) (1.21.6)\n",
            "Requirement already satisfied: appdirs>=1.4.4 in /usr/local/lib/python3.7/dist-packages (from yfinance) (1.4.4)\n",
            "Requirement already satisfied: multitasking>=0.0.7 in /usr/local/lib/python3.7/dist-packages (from yfinance) (0.0.11)\n",
            "Collecting requests>=2.26\n",
            "  Downloading requests-2.28.1-py3-none-any.whl (62 kB)\n",
            "\u001b[K     |████████████████████████████████| 62 kB 11.7 MB/s \n",
            "\u001b[?25hRequirement already satisfied: python-dateutil>=2.7.3 in /usr/local/lib/python3.7/dist-packages (from pandas>=0.24.0->yfinance) (2.8.2)\n",
            "Requirement already satisfied: pytz>=2017.3 in /usr/local/lib/python3.7/dist-packages (from pandas>=0.24.0->yfinance) (2022.4)\n",
            "Requirement already satisfied: six>=1.5 in /usr/local/lib/python3.7/dist-packages (from python-dateutil>=2.7.3->pandas>=0.24.0->yfinance) (1.15.0)\n",
            "Requirement already satisfied: charset-normalizer<3,>=2 in /usr/local/lib/python3.7/dist-packages (from requests>=2.26->yfinance) (2.1.1)\n",
            "Requirement already satisfied: urllib3<1.27,>=1.21.1 in /usr/local/lib/python3.7/dist-packages (from requests>=2.26->yfinance) (1.24.3)\n",
            "Requirement already satisfied: idna<4,>=2.5 in /usr/local/lib/python3.7/dist-packages (from requests>=2.26->yfinance) (2.10)\n",
            "Requirement already satisfied: certifi>=2017.4.17 in /usr/local/lib/python3.7/dist-packages (from requests>=2.26->yfinance) (2022.9.24)\n",
            "Installing collected packages: requests, yfinance\n",
            "  Attempting uninstall: requests\n",
            "    Found existing installation: requests 2.23.0\n",
            "    Uninstalling requests-2.23.0:\n",
            "      Successfully uninstalled requests-2.23.0\n",
            "Successfully installed requests-2.28.1 yfinance-0.1.77\n"
          ]
        }
      ],
      "source": [
        "!pip install yfinance --upgrade --no-cache-dir"
      ]
    },
    {
      "cell_type": "markdown",
      "metadata": {
        "id": "pEmfJP70u4O6"
      },
      "source": [
        "- Importar bibliotecas de manipulação de dados"
      ]
    },
    {
      "cell_type": "code",
      "execution_count": null,
      "metadata": {
        "id": "wcxpjo8msA5L"
      },
      "outputs": [],
      "source": [
        "import pandas as pd\n",
        "import numpy as np\n",
        "import yfinance as yf"
      ]
    },
    {
      "cell_type": "markdown",
      "metadata": {
        "id": "nGxQC0Rmu_Wi"
      },
      "source": [
        "- Importar bibliotecas realizar as predições"
      ]
    },
    {
      "cell_type": "code",
      "execution_count": null,
      "metadata": {
        "id": "YvTLcAqquVuv"
      },
      "outputs": [],
      "source": [
        "from sklearn.feature_selection import SelectKBest, f_regression\n",
        "from sklearn.model_selection import GridSearchCV\n",
        "from sklearn.neural_network import MLPRegressor\n",
        "from sklearn.preprocessing import MinMaxScaler\n",
        "from sklearn import datasets, linear_model\n",
        "from sklearn.metrics import mean_squared_error, r2_score, mean_absolute_error, accuracy_score, confusion_matrix, precision_score\n",
        "from sklearn.model_selection import train_test_split\n",
        "from sklearn.linear_model import LinearRegression\n",
        "from sklearn.pipeline import Pipeline, make_pipeline\n",
        "import joblib"
      ]
    },
    {
      "cell_type": "markdown",
      "metadata": {
        "id": "WIh3Dk45vE5K"
      },
      "source": [
        "- Importar bibliotecas para plotar gráficos"
      ]
    },
    {
      "cell_type": "code",
      "execution_count": null,
      "metadata": {
        "id": "6RQ1XVxTsA-h"
      },
      "outputs": [],
      "source": [
        "import matplotlib.pyplot as plt\n",
        "import plotly.graph_objects as go\n",
        "from plotly.subplots import make_subplots\n",
        "import plotly.express as px\n",
        "import seaborn as sns\n",
        "from statsmodels.graphics.tsaplots import plot_acf\n",
        "from statsmodels.graphics.tsaplots import plot_pacf\n",
        "import plotly.express as px\n",
        "plt.style.use('ggplot')\n",
        "%matplotlib inline"
      ]
    },
    {
      "cell_type": "markdown",
      "metadata": {
        "id": "09mrCrKYvNNK"
      },
      "source": [
        "- Importar bibliotecas internas do python"
      ]
    },
    {
      "cell_type": "code",
      "execution_count": null,
      "metadata": {
        "id": "jY9SWGLasBBL"
      },
      "outputs": [],
      "source": [
        "from functools import reduce\n",
        "from datetime import datetime"
      ]
    },
    {
      "cell_type": "markdown",
      "metadata": {
        "id": "kBXFlQ1VvQRC"
      },
      "source": [
        "- Definir datas para capturar os dados"
      ]
    },
    {
      "cell_type": "code",
      "execution_count": null,
      "metadata": {
        "id": "meKtzz9isBDv"
      },
      "outputs": [],
      "source": [
        "date_today = datetime.strftime(datetime.today(), '%Y-%m-%d')\n",
        "date_init = \"2014-01-01\""
      ]
    },
    {
      "cell_type": "markdown",
      "metadata": {
        "id": "wO7VGEmSvWOC"
      },
      "source": [
        "- Criar funções auxiliares "
      ]
    },
    {
      "cell_type": "code",
      "execution_count": null,
      "metadata": {
        "id": "gAcRyUa0sBHC"
      },
      "outputs": [],
      "source": [
        "TICKER = \"MATIC-USD\"\n",
        "\n",
        "def download_tickers(ticker):\n",
        "  try:\n",
        "    asset = yf.download(ticker, start=date_init, end=date_today, interval='1d')\n",
        "    return asset.Close\n",
        "  except Exception as err:\n",
        "    print(f\"ERROR: {err}\")\n",
        "\n",
        "  \n",
        "def create_data_frame(asset_close, ticker):\n",
        "  return pd.DataFrame(asset_close).rename(columns = {'Close': ticker})\n",
        "\n",
        "\n",
        "def mean_absolute_percentage_error(y_true, y_pred):\n",
        "\t\"\"\"Take in true and predicted values and calculate the MAPE score\"\"\"\n",
        "\ty_true, y_pred = np.array(y_true), np.array(y_pred)\n",
        "\treturn np.mean(np.abs((y_true - y_pred) / y_true)) * 100"
      ]
    },
    {
      "cell_type": "markdown",
      "metadata": {
        "id": "H6PD_lK9vaNC"
      },
      "source": [
        "- Download dos dados"
      ]
    },
    {
      "cell_type": "code",
      "execution_count": null,
      "metadata": {
        "colab": {
          "base_uri": "https://localhost:8080/"
        },
        "id": "WqndBn94sVKZ",
        "outputId": "ae92a0bc-3252-4600-8621-0a95fadb7b70"
      },
      "outputs": [
        {
          "name": "stdout",
          "output_type": "stream",
          "text": [
            "\r[*********************100%***********************]  1 of 1 completed\n"
          ]
        }
      ],
      "source": [
        "df_matic = yf.download(TICKER, date_init, date_today)\n",
        "df_matic = df_matic.reset_index()"
      ]
    },
    {
      "cell_type": "markdown",
      "metadata": {
        "id": "okcEKn2SvfDb"
      },
      "source": [
        "- Reindexar index, por default vem o Date"
      ]
    },
    {
      "cell_type": "code",
      "execution_count": null,
      "metadata": {
        "id": "-uH-w6QwsVNZ"
      },
      "outputs": [],
      "source": [
        "df_matic.reset_index(inplace=True)"
      ]
    },
    {
      "cell_type": "code",
      "execution_count": null,
      "metadata": {
        "colab": {
          "base_uri": "https://localhost:8080/"
        },
        "id": "rCX7TgAob3lt",
        "outputId": "405a13f7-165c-48d6-9f52-a670bd483829"
      },
      "outputs": [
        {
          "data": {
            "text/plain": [
              "index                      int64\n",
              "Date         datetime64[ns, UTC]\n",
              "Open                     float64\n",
              "High                     float64\n",
              "Low                      float64\n",
              "Close                    float64\n",
              "Adj Close                float64\n",
              "Volume                     int64\n",
              "dtype: object"
            ]
          },
          "execution_count": 10,
          "metadata": {},
          "output_type": "execute_result"
        }
      ],
      "source": [
        "df_matic.dtypes"
      ]
    },
    {
      "cell_type": "markdown",
      "metadata": {
        "id": "qiqyJR65vo9S"
      },
      "source": [
        "- Converter data"
      ]
    },
    {
      "cell_type": "code",
      "execution_count": null,
      "metadata": {
        "id": "fHf2mLrDsVQJ"
      },
      "outputs": [],
      "source": [
        "df_matic['Date'] = pd.to_datetime(df_matic['Date'], format=\"%Y-%m-%d\")"
      ]
    },
    {
      "cell_type": "markdown",
      "metadata": {
        "id": "obt8r1F6vser"
      },
      "source": [
        "- Criar médias móveis de 7 dias e 21 dias"
      ]
    },
    {
      "cell_type": "code",
      "execution_count": null,
      "metadata": {
        "colab": {
          "base_uri": "https://localhost:8080/",
          "height": 206
        },
        "id": "TzTF6UoEs84B",
        "outputId": "c3421cca-598d-4fcb-c6e8-483204d08b2e"
      },
      "outputs": [
        {
          "data": {
            "text/html": [
              "\n",
              "  <div id=\"df-36b55c73-f930-4f35-8154-52303fa7464d\">\n",
              "    <div class=\"colab-df-container\">\n",
              "      <div>\n",
              "<style scoped>\n",
              "    .dataframe tbody tr th:only-of-type {\n",
              "        vertical-align: middle;\n",
              "    }\n",
              "\n",
              "    .dataframe tbody tr th {\n",
              "        vertical-align: top;\n",
              "    }\n",
              "\n",
              "    .dataframe thead th {\n",
              "        text-align: right;\n",
              "    }\n",
              "</style>\n",
              "<table border=\"1\" class=\"dataframe\">\n",
              "  <thead>\n",
              "    <tr style=\"text-align: right;\">\n",
              "      <th></th>\n",
              "      <th>index</th>\n",
              "      <th>Date</th>\n",
              "      <th>Open</th>\n",
              "      <th>High</th>\n",
              "      <th>Low</th>\n",
              "      <th>Close</th>\n",
              "      <th>Adj Close</th>\n",
              "      <th>Volume</th>\n",
              "      <th>mm7d</th>\n",
              "      <th>mm21d</th>\n",
              "    </tr>\n",
              "  </thead>\n",
              "  <tbody>\n",
              "    <tr>\n",
              "      <th>1261</th>\n",
              "      <td>1261</td>\n",
              "      <td>2022-10-10 00:00:00+00:00</td>\n",
              "      <td>0.825335</td>\n",
              "      <td>0.841165</td>\n",
              "      <td>0.813605</td>\n",
              "      <td>0.815284</td>\n",
              "      <td>0.815284</td>\n",
              "      <td>321110887</td>\n",
              "      <td>0.829535</td>\n",
              "      <td>0.780265</td>\n",
              "    </tr>\n",
              "    <tr>\n",
              "      <th>1262</th>\n",
              "      <td>1262</td>\n",
              "      <td>2022-10-11 00:00:00+00:00</td>\n",
              "      <td>0.815126</td>\n",
              "      <td>0.815130</td>\n",
              "      <td>0.788402</td>\n",
              "      <td>0.790544</td>\n",
              "      <td>0.790544</td>\n",
              "      <td>288662617</td>\n",
              "      <td>0.823023</td>\n",
              "      <td>0.782992</td>\n",
              "    </tr>\n",
              "    <tr>\n",
              "      <th>1263</th>\n",
              "      <td>1263</td>\n",
              "      <td>2022-10-12 00:00:00+00:00</td>\n",
              "      <td>0.790622</td>\n",
              "      <td>0.800645</td>\n",
              "      <td>0.784254</td>\n",
              "      <td>0.784314</td>\n",
              "      <td>0.784314</td>\n",
              "      <td>180040402</td>\n",
              "      <td>0.813444</td>\n",
              "      <td>0.786806</td>\n",
              "    </tr>\n",
              "    <tr>\n",
              "      <th>1264</th>\n",
              "      <td>1264</td>\n",
              "      <td>2022-10-13 00:00:00+00:00</td>\n",
              "      <td>0.784293</td>\n",
              "      <td>0.786658</td>\n",
              "      <td>0.721432</td>\n",
              "      <td>0.775821</td>\n",
              "      <td>0.775821</td>\n",
              "      <td>438551832</td>\n",
              "      <td>0.805268</td>\n",
              "      <td>0.787901</td>\n",
              "    </tr>\n",
              "    <tr>\n",
              "      <th>1265</th>\n",
              "      <td>1265</td>\n",
              "      <td>2022-10-14 00:00:00+00:00</td>\n",
              "      <td>0.775787</td>\n",
              "      <td>0.820607</td>\n",
              "      <td>0.775605</td>\n",
              "      <td>0.792723</td>\n",
              "      <td>0.792723</td>\n",
              "      <td>353472475</td>\n",
              "      <td>0.799672</td>\n",
              "      <td>0.788568</td>\n",
              "    </tr>\n",
              "  </tbody>\n",
              "</table>\n",
              "</div>\n",
              "      <button class=\"colab-df-convert\" onclick=\"convertToInteractive('df-36b55c73-f930-4f35-8154-52303fa7464d')\"\n",
              "              title=\"Convert this dataframe to an interactive table.\"\n",
              "              style=\"display:none;\">\n",
              "        \n",
              "  <svg xmlns=\"http://www.w3.org/2000/svg\" height=\"24px\"viewBox=\"0 0 24 24\"\n",
              "       width=\"24px\">\n",
              "    <path d=\"M0 0h24v24H0V0z\" fill=\"none\"/>\n",
              "    <path d=\"M18.56 5.44l.94 2.06.94-2.06 2.06-.94-2.06-.94-.94-2.06-.94 2.06-2.06.94zm-11 1L8.5 8.5l.94-2.06 2.06-.94-2.06-.94L8.5 2.5l-.94 2.06-2.06.94zm10 10l.94 2.06.94-2.06 2.06-.94-2.06-.94-.94-2.06-.94 2.06-2.06.94z\"/><path d=\"M17.41 7.96l-1.37-1.37c-.4-.4-.92-.59-1.43-.59-.52 0-1.04.2-1.43.59L10.3 9.45l-7.72 7.72c-.78.78-.78 2.05 0 2.83L4 21.41c.39.39.9.59 1.41.59.51 0 1.02-.2 1.41-.59l7.78-7.78 2.81-2.81c.8-.78.8-2.07 0-2.86zM5.41 20L4 18.59l7.72-7.72 1.47 1.35L5.41 20z\"/>\n",
              "  </svg>\n",
              "      </button>\n",
              "      \n",
              "  <style>\n",
              "    .colab-df-container {\n",
              "      display:flex;\n",
              "      flex-wrap:wrap;\n",
              "      gap: 12px;\n",
              "    }\n",
              "\n",
              "    .colab-df-convert {\n",
              "      background-color: #E8F0FE;\n",
              "      border: none;\n",
              "      border-radius: 50%;\n",
              "      cursor: pointer;\n",
              "      display: none;\n",
              "      fill: #1967D2;\n",
              "      height: 32px;\n",
              "      padding: 0 0 0 0;\n",
              "      width: 32px;\n",
              "    }\n",
              "\n",
              "    .colab-df-convert:hover {\n",
              "      background-color: #E2EBFA;\n",
              "      box-shadow: 0px 1px 2px rgba(60, 64, 67, 0.3), 0px 1px 3px 1px rgba(60, 64, 67, 0.15);\n",
              "      fill: #174EA6;\n",
              "    }\n",
              "\n",
              "    [theme=dark] .colab-df-convert {\n",
              "      background-color: #3B4455;\n",
              "      fill: #D2E3FC;\n",
              "    }\n",
              "\n",
              "    [theme=dark] .colab-df-convert:hover {\n",
              "      background-color: #434B5C;\n",
              "      box-shadow: 0px 1px 3px 1px rgba(0, 0, 0, 0.15);\n",
              "      filter: drop-shadow(0px 1px 2px rgba(0, 0, 0, 0.3));\n",
              "      fill: #FFFFFF;\n",
              "    }\n",
              "  </style>\n",
              "\n",
              "      <script>\n",
              "        const buttonEl =\n",
              "          document.querySelector('#df-36b55c73-f930-4f35-8154-52303fa7464d button.colab-df-convert');\n",
              "        buttonEl.style.display =\n",
              "          google.colab.kernel.accessAllowed ? 'block' : 'none';\n",
              "\n",
              "        async function convertToInteractive(key) {\n",
              "          const element = document.querySelector('#df-36b55c73-f930-4f35-8154-52303fa7464d');\n",
              "          const dataTable =\n",
              "            await google.colab.kernel.invokeFunction('convertToInteractive',\n",
              "                                                     [key], {});\n",
              "          if (!dataTable) return;\n",
              "\n",
              "          const docLinkHtml = 'Like what you see? Visit the ' +\n",
              "            '<a target=\"_blank\" href=https://colab.research.google.com/notebooks/data_table.ipynb>data table notebook</a>'\n",
              "            + ' to learn more about interactive tables.';\n",
              "          element.innerHTML = '';\n",
              "          dataTable['output_type'] = 'display_data';\n",
              "          await google.colab.output.renderOutput(dataTable, element);\n",
              "          const docLink = document.createElement('div');\n",
              "          docLink.innerHTML = docLinkHtml;\n",
              "          element.appendChild(docLink);\n",
              "        }\n",
              "      </script>\n",
              "    </div>\n",
              "  </div>\n",
              "  "
            ],
            "text/plain": [
              "      index                      Date      Open      High       Low     Close  \\\n",
              "1261   1261 2022-10-10 00:00:00+00:00  0.825335  0.841165  0.813605  0.815284   \n",
              "1262   1262 2022-10-11 00:00:00+00:00  0.815126  0.815130  0.788402  0.790544   \n",
              "1263   1263 2022-10-12 00:00:00+00:00  0.790622  0.800645  0.784254  0.784314   \n",
              "1264   1264 2022-10-13 00:00:00+00:00  0.784293  0.786658  0.721432  0.775821   \n",
              "1265   1265 2022-10-14 00:00:00+00:00  0.775787  0.820607  0.775605  0.792723   \n",
              "\n",
              "      Adj Close     Volume      mm7d     mm21d  \n",
              "1261   0.815284  321110887  0.829535  0.780265  \n",
              "1262   0.790544  288662617  0.823023  0.782992  \n",
              "1263   0.784314  180040402  0.813444  0.786806  \n",
              "1264   0.775821  438551832  0.805268  0.787901  \n",
              "1265   0.792723  353472475  0.799672  0.788568  "
            ]
          },
          "execution_count": 12,
          "metadata": {},
          "output_type": "execute_result"
        }
      ],
      "source": [
        "df_matic['mm7d'] = df_matic['Adj Close'].rolling(7).mean()\n",
        "df_matic['mm21d'] = df_matic['Adj Close'].rolling(21).mean()\n",
        "\n",
        "df_matic.tail()"
      ]
    },
    {
      "cell_type": "markdown",
      "metadata": {
        "id": "eX434S8Kv09a"
      },
      "source": [
        "- Função de agrupamento dos dados"
      ]
    },
    {
      "cell_type": "code",
      "execution_count": null,
      "metadata": {
        "id": "MPjrm4WbpN61"
      },
      "outputs": [],
      "source": [
        "def group_data(type_group):\n",
        "  new_df = df_matic.groupby(pd.Grouper(key=\"Date\", freq=type_group)).sum()\n",
        "  new_df.reset_index(inplace=True)\n",
        "  return new_df"
      ]
    },
    {
      "cell_type": "markdown",
      "metadata": {
        "id": "83_LMHOIqubc"
      },
      "source": [
        "- Função para plotar grafico conforme o Agrupamento dos Dados\n",
        "- Tipo de agrupamento:\n",
        "- Por Meses (M) ou por Semanas (W)\n",
        "- Por Ano (year)\n",
        "- Tipo de grafico: 'bar',  'line',  'hist',  'barh'"
      ]
    },
    {
      "cell_type": "code",
      "execution_count": null,
      "metadata": {
        "id": "8tL9xZOlZ8r0"
      },
      "outputs": [],
      "source": [
        "def create_plot_custom(filter_Mounth_or_Week, year, type_plot):\n",
        "  \"\"\" \n",
        "    Cria um grafico filtrando por Ano, Meses ou Semanas\n",
        "\n",
        "    filter_Mounth_or_Week: 'M' ou 'W'\n",
        "    type_plot: 'line', 'bar', 'hist', 'barh'\n",
        "  \n",
        "  \"\"\"\n",
        "  if year >= 2014 and year <= 2022 and filter_Mounth_or_Week in (\"M\", \"W\"):\n",
        "    filtro_label = None\n",
        "    df_filter = group_data(filter_Mounth_or_Week)\n",
        "    include = df_filter[df_filter['Date'].dt.year == year]\n",
        "    meses = [\"jan\", \"fev\", \"mar\", \"abr\", \"mai\", \"jun\", \"jul\", \"ago\", \"set\", \"out\", \"nov\", \"dez\"]\n",
        "    if len(include.index) <= 12:\n",
        "      include.index = meses[:len(include.index)]\n",
        "      filtro_label = \"Meses\"\n",
        "    elif len(include.index) > 50:\n",
        "      include.index = [i for i in range(0, len(include.index))]\n",
        "      filtro_label = \"Semanas\"\n",
        "    include.plot(y=\"Adj Close\", kind=type_plot, figsize=(14, 8),rot=30, title=f'Distruibuição por {filtro_label} - ano {year}', ylabel='Preço US$', xlabel=filtro_label, color=\"blue\")"
      ]
    },
    {
      "cell_type": "code",
      "execution_count": null,
      "metadata": {
        "colab": {
          "base_uri": "https://localhost:8080/",
          "height": 525
        },
        "id": "QxCJ15tsa7E9",
        "outputId": "93c137df-5c91-44f1-a58d-88d460b9003f"
      },
      "outputs": [
        {
          "data": {
            "image/png": "[encoded data removed]",
            "text/plain": [
              "<Figure size 1008x576 with 1 Axes>"
            ]
          },
          "metadata": {
            "needs_background": "light"
          },
          "output_type": "display_data"
        }
      ],
      "source": [
        "create_plot_custom(\"M\", 2021, \"bar\")"
      ]
    },
    {
      "cell_type": "markdown",
      "metadata": {
        "id": "irz8F9VLv4ui"
      },
      "source": [
        "- Empurrando para frente os valores da criptomoeda"
      ]
    },
    {
      "cell_type": "code",
      "execution_count": null,
      "metadata": {
        "colab": {
          "base_uri": "https://localhost:8080/",
          "height": 206
        },
        "id": "vrSuQkVcs89Q",
        "outputId": "6dedd809-a5da-42a9-f16e-3584dc803417"
      },
      "outputs": [
        {
          "data": {
            "text/html": [
              "\n",
              "  <div id=\"df-904b693b-841c-428d-b2de-9b3e34fe3ffb\">\n",
              "    <div class=\"colab-df-container\">\n",
              "      <div>\n",
              "<style scoped>\n",
              "    .dataframe tbody tr th:only-of-type {\n",
              "        vertical-align: middle;\n",
              "    }\n",
              "\n",
              "    .dataframe tbody tr th {\n",
              "        vertical-align: top;\n",
              "    }\n",
              "\n",
              "    .dataframe thead th {\n",
              "        text-align: right;\n",
              "    }\n",
              "</style>\n",
              "<table border=\"1\" class=\"dataframe\">\n",
              "  <thead>\n",
              "    <tr style=\"text-align: right;\">\n",
              "      <th></th>\n",
              "      <th>index</th>\n",
              "      <th>Date</th>\n",
              "      <th>Open</th>\n",
              "      <th>High</th>\n",
              "      <th>Low</th>\n",
              "      <th>Close</th>\n",
              "      <th>Adj Close</th>\n",
              "      <th>Volume</th>\n",
              "      <th>mm7d</th>\n",
              "      <th>mm21d</th>\n",
              "    </tr>\n",
              "  </thead>\n",
              "  <tbody>\n",
              "    <tr>\n",
              "      <th>1261</th>\n",
              "      <td>1261</td>\n",
              "      <td>2022-10-10 00:00:00+00:00</td>\n",
              "      <td>0.825335</td>\n",
              "      <td>0.841165</td>\n",
              "      <td>0.813605</td>\n",
              "      <td>0.815284</td>\n",
              "      <td>0.790544</td>\n",
              "      <td>321110887</td>\n",
              "      <td>0.829535</td>\n",
              "      <td>0.780265</td>\n",
              "    </tr>\n",
              "    <tr>\n",
              "      <th>1262</th>\n",
              "      <td>1262</td>\n",
              "      <td>2022-10-11 00:00:00+00:00</td>\n",
              "      <td>0.815126</td>\n",
              "      <td>0.815130</td>\n",
              "      <td>0.788402</td>\n",
              "      <td>0.790544</td>\n",
              "      <td>0.784314</td>\n",
              "      <td>288662617</td>\n",
              "      <td>0.823023</td>\n",
              "      <td>0.782992</td>\n",
              "    </tr>\n",
              "    <tr>\n",
              "      <th>1263</th>\n",
              "      <td>1263</td>\n",
              "      <td>2022-10-12 00:00:00+00:00</td>\n",
              "      <td>0.790622</td>\n",
              "      <td>0.800645</td>\n",
              "      <td>0.784254</td>\n",
              "      <td>0.784314</td>\n",
              "      <td>0.775821</td>\n",
              "      <td>180040402</td>\n",
              "      <td>0.813444</td>\n",
              "      <td>0.786806</td>\n",
              "    </tr>\n",
              "    <tr>\n",
              "      <th>1264</th>\n",
              "      <td>1264</td>\n",
              "      <td>2022-10-13 00:00:00+00:00</td>\n",
              "      <td>0.784293</td>\n",
              "      <td>0.786658</td>\n",
              "      <td>0.721432</td>\n",
              "      <td>0.775821</td>\n",
              "      <td>0.792723</td>\n",
              "      <td>438551832</td>\n",
              "      <td>0.805268</td>\n",
              "      <td>0.787901</td>\n",
              "    </tr>\n",
              "    <tr>\n",
              "      <th>1265</th>\n",
              "      <td>1265</td>\n",
              "      <td>2022-10-14 00:00:00+00:00</td>\n",
              "      <td>0.775787</td>\n",
              "      <td>0.820607</td>\n",
              "      <td>0.775605</td>\n",
              "      <td>0.792723</td>\n",
              "      <td>NaN</td>\n",
              "      <td>353472475</td>\n",
              "      <td>0.799672</td>\n",
              "      <td>0.788568</td>\n",
              "    </tr>\n",
              "  </tbody>\n",
              "</table>\n",
              "</div>\n",
              "      <button class=\"colab-df-convert\" onclick=\"convertToInteractive('df-904b693b-841c-428d-b2de-9b3e34fe3ffb')\"\n",
              "              title=\"Convert this dataframe to an interactive table.\"\n",
              "              style=\"display:none;\">\n",
              "        \n",
              "  <svg xmlns=\"http://www.w3.org/2000/svg\" height=\"24px\"viewBox=\"0 0 24 24\"\n",
              "       width=\"24px\">\n",
              "    <path d=\"M0 0h24v24H0V0z\" fill=\"none\"/>\n",
              "    <path d=\"M18.56 5.44l.94 2.06.94-2.06 2.06-.94-2.06-.94-.94-2.06-.94 2.06-2.06.94zm-11 1L8.5 8.5l.94-2.06 2.06-.94-2.06-.94L8.5 2.5l-.94 2.06-2.06.94zm10 10l.94 2.06.94-2.06 2.06-.94-2.06-.94-.94-2.06-.94 2.06-2.06.94z\"/><path d=\"M17.41 7.96l-1.37-1.37c-.4-.4-.92-.59-1.43-.59-.52 0-1.04.2-1.43.59L10.3 9.45l-7.72 7.72c-.78.78-.78 2.05 0 2.83L4 21.41c.39.39.9.59 1.41.59.51 0 1.02-.2 1.41-.59l7.78-7.78 2.81-2.81c.8-.78.8-2.07 0-2.86zM5.41 20L4 18.59l7.72-7.72 1.47 1.35L5.41 20z\"/>\n",
              "  </svg>\n",
              "      </button>\n",
              "      \n",
              "  <style>\n",
              "    .colab-df-container {\n",
              "      display:flex;\n",
              "      flex-wrap:wrap;\n",
              "      gap: 12px;\n",
              "    }\n",
              "\n",
              "    .colab-df-convert {\n",
              "      background-color: #E8F0FE;\n",
              "      border: none;\n",
              "      border-radius: 50%;\n",
              "      cursor: pointer;\n",
              "      display: none;\n",
              "      fill: #1967D2;\n",
              "      height: 32px;\n",
              "      padding: 0 0 0 0;\n",
              "      width: 32px;\n",
              "    }\n",
              "\n",
              "    .colab-df-convert:hover {\n",
              "      background-color: #E2EBFA;\n",
              "      box-shadow: 0px 1px 2px rgba(60, 64, 67, 0.3), 0px 1px 3px 1px rgba(60, 64, 67, 0.15);\n",
              "      fill: #174EA6;\n",
              "    }\n",
              "\n",
              "    [theme=dark] .colab-df-convert {\n",
              "      background-color: #3B4455;\n",
              "      fill: #D2E3FC;\n",
              "    }\n",
              "\n",
              "    [theme=dark] .colab-df-convert:hover {\n",
              "      background-color: #434B5C;\n",
              "      box-shadow: 0px 1px 3px 1px rgba(0, 0, 0, 0.15);\n",
              "      filter: drop-shadow(0px 1px 2px rgba(0, 0, 0, 0.3));\n",
              "      fill: #FFFFFF;\n",
              "    }\n",
              "  </style>\n",
              "\n",
              "      <script>\n",
              "        const buttonEl =\n",
              "          document.querySelector('#df-904b693b-841c-428d-b2de-9b3e34fe3ffb button.colab-df-convert');\n",
              "        buttonEl.style.display =\n",
              "          google.colab.kernel.accessAllowed ? 'block' : 'none';\n",
              "\n",
              "        async function convertToInteractive(key) {\n",
              "          const element = document.querySelector('#df-904b693b-841c-428d-b2de-9b3e34fe3ffb');\n",
              "          const dataTable =\n",
              "            await google.colab.kernel.invokeFunction('convertToInteractive',\n",
              "                                                     [key], {});\n",
              "          if (!dataTable) return;\n",
              "\n",
              "          const docLinkHtml = 'Like what you see? Visit the ' +\n",
              "            '<a target=\"_blank\" href=https://colab.research.google.com/notebooks/data_table.ipynb>data table notebook</a>'\n",
              "            + ' to learn more about interactive tables.';\n",
              "          element.innerHTML = '';\n",
              "          dataTable['output_type'] = 'display_data';\n",
              "          await google.colab.output.renderOutput(dataTable, element);\n",
              "          const docLink = document.createElement('div');\n",
              "          docLink.innerHTML = docLinkHtml;\n",
              "          element.appendChild(docLink);\n",
              "        }\n",
              "      </script>\n",
              "    </div>\n",
              "  </div>\n",
              "  "
            ],
            "text/plain": [
              "      index                      Date      Open      High       Low     Close  \\\n",
              "1261   1261 2022-10-10 00:00:00+00:00  0.825335  0.841165  0.813605  0.815284   \n",
              "1262   1262 2022-10-11 00:00:00+00:00  0.815126  0.815130  0.788402  0.790544   \n",
              "1263   1263 2022-10-12 00:00:00+00:00  0.790622  0.800645  0.784254  0.784314   \n",
              "1264   1264 2022-10-13 00:00:00+00:00  0.784293  0.786658  0.721432  0.775821   \n",
              "1265   1265 2022-10-14 00:00:00+00:00  0.775787  0.820607  0.775605  0.792723   \n",
              "\n",
              "      Adj Close     Volume      mm7d     mm21d  \n",
              "1261   0.790544  321110887  0.829535  0.780265  \n",
              "1262   0.784314  288662617  0.823023  0.782992  \n",
              "1263   0.775821  180040402  0.813444  0.786806  \n",
              "1264   0.792723  438551832  0.805268  0.787901  \n",
              "1265        NaN  353472475  0.799672  0.788568  "
            ]
          },
          "execution_count": 17,
          "metadata": {},
          "output_type": "execute_result"
        }
      ],
      "source": [
        "df_matic['Adj Close'] = df_matic['Adj Close'].shift(-1)\n",
        "df_matic.tail()"
      ]
    },
    {
      "cell_type": "markdown",
      "metadata": {
        "id": "RXxYDot8wARz"
      },
      "source": [
        "- Remover os dados nulos"
      ]
    },
    {
      "cell_type": "code",
      "execution_count": null,
      "metadata": {
        "colab": {
          "base_uri": "https://localhost:8080/",
          "height": 424
        },
        "id": "jIP4Y09auAln",
        "outputId": "97a8d00b-2a04-457c-aed5-ba57da668c2a"
      },
      "outputs": [
        {
          "data": {
            "text/html": [
              "\n",
              "  <div id=\"df-3689e1f0-1b2c-401e-8c92-3c44d469cbb3\">\n",
              "    <div class=\"colab-df-container\">\n",
              "      <div>\n",
              "<style scoped>\n",
              "    .dataframe tbody tr th:only-of-type {\n",
              "        vertical-align: middle;\n",
              "    }\n",
              "\n",
              "    .dataframe tbody tr th {\n",
              "        vertical-align: top;\n",
              "    }\n",
              "\n",
              "    .dataframe thead th {\n",
              "        text-align: right;\n",
              "    }\n",
              "</style>\n",
              "<table border=\"1\" class=\"dataframe\">\n",
              "  <thead>\n",
              "    <tr style=\"text-align: right;\">\n",
              "      <th></th>\n",
              "      <th>index</th>\n",
              "      <th>Date</th>\n",
              "      <th>Open</th>\n",
              "      <th>High</th>\n",
              "      <th>Low</th>\n",
              "      <th>Close</th>\n",
              "      <th>Adj Close</th>\n",
              "      <th>Volume</th>\n",
              "      <th>mm7d</th>\n",
              "      <th>mm21d</th>\n",
              "    </tr>\n",
              "  </thead>\n",
              "  <tbody>\n",
              "    <tr>\n",
              "      <th>20</th>\n",
              "      <td>20</td>\n",
              "      <td>2019-05-18 00:00:00+00:00</td>\n",
              "      <td>0.014353</td>\n",
              "      <td>0.014799</td>\n",
              "      <td>0.012092</td>\n",
              "      <td>0.012293</td>\n",
              "      <td>0.020231</td>\n",
              "      <td>56628223</td>\n",
              "      <td>0.009823</td>\n",
              "      <td>0.005889</td>\n",
              "    </tr>\n",
              "    <tr>\n",
              "      <th>21</th>\n",
              "      <td>21</td>\n",
              "      <td>2019-05-19 00:00:00+00:00</td>\n",
              "      <td>0.012320</td>\n",
              "      <td>0.020749</td>\n",
              "      <td>0.012309</td>\n",
              "      <td>0.020231</td>\n",
              "      <td>0.029343</td>\n",
              "      <td>141440073</td>\n",
              "      <td>0.011960</td>\n",
              "      <td>0.006642</td>\n",
              "    </tr>\n",
              "    <tr>\n",
              "      <th>22</th>\n",
              "      <td>22</td>\n",
              "      <td>2019-05-20 00:00:00+00:00</td>\n",
              "      <td>0.020231</td>\n",
              "      <td>0.032911</td>\n",
              "      <td>0.019292</td>\n",
              "      <td>0.029343</td>\n",
              "      <td>0.029454</td>\n",
              "      <td>396597433</td>\n",
              "      <td>0.014913</td>\n",
              "      <td>0.007874</td>\n",
              "    </tr>\n",
              "    <tr>\n",
              "      <th>23</th>\n",
              "      <td>23</td>\n",
              "      <td>2019-05-21 00:00:00+00:00</td>\n",
              "      <td>0.029349</td>\n",
              "      <td>0.045017</td>\n",
              "      <td>0.025149</td>\n",
              "      <td>0.029454</td>\n",
              "      <td>0.022186</td>\n",
              "      <td>698132268</td>\n",
              "      <td>0.018014</td>\n",
              "      <td>0.009064</td>\n",
              "    </tr>\n",
              "    <tr>\n",
              "      <th>24</th>\n",
              "      <td>24</td>\n",
              "      <td>2019-05-22 00:00:00+00:00</td>\n",
              "      <td>0.029454</td>\n",
              "      <td>0.031612</td>\n",
              "      <td>0.020417</td>\n",
              "      <td>0.022186</td>\n",
              "      <td>0.027273</td>\n",
              "      <td>266364855</td>\n",
              "      <td>0.019824</td>\n",
              "      <td>0.009912</td>\n",
              "    </tr>\n",
              "    <tr>\n",
              "      <th>...</th>\n",
              "      <td>...</td>\n",
              "      <td>...</td>\n",
              "      <td>...</td>\n",
              "      <td>...</td>\n",
              "      <td>...</td>\n",
              "      <td>...</td>\n",
              "      <td>...</td>\n",
              "      <td>...</td>\n",
              "      <td>...</td>\n",
              "      <td>...</td>\n",
              "    </tr>\n",
              "    <tr>\n",
              "      <th>1260</th>\n",
              "      <td>1260</td>\n",
              "      <td>2022-10-09 00:00:00+00:00</td>\n",
              "      <td>0.813654</td>\n",
              "      <td>0.829261</td>\n",
              "      <td>0.808991</td>\n",
              "      <td>0.825377</td>\n",
              "      <td>0.815284</td>\n",
              "      <td>164897204</td>\n",
              "      <td>0.827609</td>\n",
              "      <td>0.777920</td>\n",
              "    </tr>\n",
              "    <tr>\n",
              "      <th>1261</th>\n",
              "      <td>1261</td>\n",
              "      <td>2022-10-10 00:00:00+00:00</td>\n",
              "      <td>0.825335</td>\n",
              "      <td>0.841165</td>\n",
              "      <td>0.813605</td>\n",
              "      <td>0.815284</td>\n",
              "      <td>0.790544</td>\n",
              "      <td>321110887</td>\n",
              "      <td>0.829535</td>\n",
              "      <td>0.780265</td>\n",
              "    </tr>\n",
              "    <tr>\n",
              "      <th>1262</th>\n",
              "      <td>1262</td>\n",
              "      <td>2022-10-11 00:00:00+00:00</td>\n",
              "      <td>0.815126</td>\n",
              "      <td>0.815130</td>\n",
              "      <td>0.788402</td>\n",
              "      <td>0.790544</td>\n",
              "      <td>0.784314</td>\n",
              "      <td>288662617</td>\n",
              "      <td>0.823023</td>\n",
              "      <td>0.782992</td>\n",
              "    </tr>\n",
              "    <tr>\n",
              "      <th>1263</th>\n",
              "      <td>1263</td>\n",
              "      <td>2022-10-12 00:00:00+00:00</td>\n",
              "      <td>0.790622</td>\n",
              "      <td>0.800645</td>\n",
              "      <td>0.784254</td>\n",
              "      <td>0.784314</td>\n",
              "      <td>0.775821</td>\n",
              "      <td>180040402</td>\n",
              "      <td>0.813444</td>\n",
              "      <td>0.786806</td>\n",
              "    </tr>\n",
              "    <tr>\n",
              "      <th>1264</th>\n",
              "      <td>1264</td>\n",
              "      <td>2022-10-13 00:00:00+00:00</td>\n",
              "      <td>0.784293</td>\n",
              "      <td>0.786658</td>\n",
              "      <td>0.721432</td>\n",
              "      <td>0.775821</td>\n",
              "      <td>0.792723</td>\n",
              "      <td>438551832</td>\n",
              "      <td>0.805268</td>\n",
              "      <td>0.787901</td>\n",
              "    </tr>\n",
              "  </tbody>\n",
              "</table>\n",
              "<p>1245 rows × 10 columns</p>\n",
              "</div>\n",
              "      <button class=\"colab-df-convert\" onclick=\"convertToInteractive('df-3689e1f0-1b2c-401e-8c92-3c44d469cbb3')\"\n",
              "              title=\"Convert this dataframe to an interactive table.\"\n",
              "              style=\"display:none;\">\n",
              "        \n",
              "  <svg xmlns=\"http://www.w3.org/2000/svg\" height=\"24px\"viewBox=\"0 0 24 24\"\n",
              "       width=\"24px\">\n",
              "    <path d=\"M0 0h24v24H0V0z\" fill=\"none\"/>\n",
              "    <path d=\"M18.56 5.44l.94 2.06.94-2.06 2.06-.94-2.06-.94-.94-2.06-.94 2.06-2.06.94zm-11 1L8.5 8.5l.94-2.06 2.06-.94-2.06-.94L8.5 2.5l-.94 2.06-2.06.94zm10 10l.94 2.06.94-2.06 2.06-.94-2.06-.94-.94-2.06-.94 2.06-2.06.94z\"/><path d=\"M17.41 7.96l-1.37-1.37c-.4-.4-.92-.59-1.43-.59-.52 0-1.04.2-1.43.59L10.3 9.45l-7.72 7.72c-.78.78-.78 2.05 0 2.83L4 21.41c.39.39.9.59 1.41.59.51 0 1.02-.2 1.41-.59l7.78-7.78 2.81-2.81c.8-.78.8-2.07 0-2.86zM5.41 20L4 18.59l7.72-7.72 1.47 1.35L5.41 20z\"/>\n",
              "  </svg>\n",
              "      </button>\n",
              "      \n",
              "  <style>\n",
              "    .colab-df-container {\n",
              "      display:flex;\n",
              "      flex-wrap:wrap;\n",
              "      gap: 12px;\n",
              "    }\n",
              "\n",
              "    .colab-df-convert {\n",
              "      background-color: #E8F0FE;\n",
              "      border: none;\n",
              "      border-radius: 50%;\n",
              "      cursor: pointer;\n",
              "      display: none;\n",
              "      fill: #1967D2;\n",
              "      height: 32px;\n",
              "      padding: 0 0 0 0;\n",
              "      width: 32px;\n",
              "    }\n",
              "\n",
              "    .colab-df-convert:hover {\n",
              "      background-color: #E2EBFA;\n",
              "      box-shadow: 0px 1px 2px rgba(60, 64, 67, 0.3), 0px 1px 3px 1px rgba(60, 64, 67, 0.15);\n",
              "      fill: #174EA6;\n",
              "    }\n",
              "\n",
              "    [theme=dark] .colab-df-convert {\n",
              "      background-color: #3B4455;\n",
              "      fill: #D2E3FC;\n",
              "    }\n",
              "\n",
              "    [theme=dark] .colab-df-convert:hover {\n",
              "      background-color: #434B5C;\n",
              "      box-shadow: 0px 1px 3px 1px rgba(0, 0, 0, 0.15);\n",
              "      filter: drop-shadow(0px 1px 2px rgba(0, 0, 0, 0.3));\n",
              "      fill: #FFFFFF;\n",
              "    }\n",
              "  </style>\n",
              "\n",
              "      <script>\n",
              "        const buttonEl =\n",
              "          document.querySelector('#df-3689e1f0-1b2c-401e-8c92-3c44d469cbb3 button.colab-df-convert');\n",
              "        buttonEl.style.display =\n",
              "          google.colab.kernel.accessAllowed ? 'block' : 'none';\n",
              "\n",
              "        async function convertToInteractive(key) {\n",
              "          const element = document.querySelector('#df-3689e1f0-1b2c-401e-8c92-3c44d469cbb3');\n",
              "          const dataTable =\n",
              "            await google.colab.kernel.invokeFunction('convertToInteractive',\n",
              "                                                     [key], {});\n",
              "          if (!dataTable) return;\n",
              "\n",
              "          const docLinkHtml = 'Like what you see? Visit the ' +\n",
              "            '<a target=\"_blank\" href=https://colab.research.google.com/notebooks/data_table.ipynb>data table notebook</a>'\n",
              "            + ' to learn more about interactive tables.';\n",
              "          element.innerHTML = '';\n",
              "          dataTable['output_type'] = 'display_data';\n",
              "          await google.colab.output.renderOutput(dataTable, element);\n",
              "          const docLink = document.createElement('div');\n",
              "          docLink.innerHTML = docLinkHtml;\n",
              "          element.appendChild(docLink);\n",
              "        }\n",
              "      </script>\n",
              "    </div>\n",
              "  </div>\n",
              "  "
            ],
            "text/plain": [
              "      index                      Date      Open      High       Low     Close  \\\n",
              "20       20 2019-05-18 00:00:00+00:00  0.014353  0.014799  0.012092  0.012293   \n",
              "21       21 2019-05-19 00:00:00+00:00  0.012320  0.020749  0.012309  0.020231   \n",
              "22       22 2019-05-20 00:00:00+00:00  0.020231  0.032911  0.019292  0.029343   \n",
              "23       23 2019-05-21 00:00:00+00:00  0.029349  0.045017  0.025149  0.029454   \n",
              "24       24 2019-05-22 00:00:00+00:00  0.029454  0.031612  0.020417  0.022186   \n",
              "...     ...                       ...       ...       ...       ...       ...   \n",
              "1260   1260 2022-10-09 00:00:00+00:00  0.813654  0.829261  0.808991  0.825377   \n",
              "1261   1261 2022-10-10 00:00:00+00:00  0.825335  0.841165  0.813605  0.815284   \n",
              "1262   1262 2022-10-11 00:00:00+00:00  0.815126  0.815130  0.788402  0.790544   \n",
              "1263   1263 2022-10-12 00:00:00+00:00  0.790622  0.800645  0.784254  0.784314   \n",
              "1264   1264 2022-10-13 00:00:00+00:00  0.784293  0.786658  0.721432  0.775821   \n",
              "\n",
              "      Adj Close     Volume      mm7d     mm21d  \n",
              "20     0.020231   56628223  0.009823  0.005889  \n",
              "21     0.029343  141440073  0.011960  0.006642  \n",
              "22     0.029454  396597433  0.014913  0.007874  \n",
              "23     0.022186  698132268  0.018014  0.009064  \n",
              "24     0.027273  266364855  0.019824  0.009912  \n",
              "...         ...        ...       ...       ...  \n",
              "1260   0.815284  164897204  0.827609  0.777920  \n",
              "1261   0.790544  321110887  0.829535  0.780265  \n",
              "1262   0.784314  288662617  0.823023  0.782992  \n",
              "1263   0.775821  180040402  0.813444  0.786806  \n",
              "1264   0.792723  438551832  0.805268  0.787901  \n",
              "\n",
              "[1245 rows x 10 columns]"
            ]
          },
          "execution_count": 18,
          "metadata": {},
          "output_type": "execute_result"
        }
      ],
      "source": [
        "df_matic.dropna(inplace=True)\n",
        "df_matic"
      ]
    },
    {
      "cell_type": "markdown",
      "metadata": {
        "id": "8yFxnOQmwDk6"
      },
      "source": [
        "- Testar se o DataFrame possui dados nulos"
      ]
    },
    {
      "cell_type": "code",
      "execution_count": null,
      "metadata": {
        "id": "Sk84FushxKQy"
      },
      "outputs": [],
      "source": [
        "assert df_matic.isnull().sum().sum() == 0"
      ]
    },
    {
      "cell_type": "markdown",
      "metadata": {
        "id": "zRInT3dbwJvy"
      },
      "source": [
        "- Separar os dados em Treino, Teste e Validação. "
      ]
    },
    {
      "cell_type": "code",
      "execution_count": null,
      "metadata": {
        "colab": {
          "base_uri": "https://localhost:8080/",
          "height": 35
        },
        "id": "km4dWJkRs9AH",
        "outputId": "148d0577-0711-4f1a-c60b-d3d69b0ebf11"
      },
      "outputs": [
        {
          "data": {
            "application/vnd.google.colaboratory.intrinsic+json": {
              "type": "string"
            },
            "text/plain": [
              "'linhas treino= 0:872 linhas teste= 872:1244 linhas validação= 1244'"
            ]
          },
          "execution_count": 20,
          "metadata": {},
          "output_type": "execute_result"
        }
      ],
      "source": [
        "qtd_linhas = len(df_matic)\n",
        "\n",
        "qtd_linhas_treino= round(.70 * qtd_linhas)\n",
        "qtd_linhas_teste= qtd_linhas - qtd_linhas_treino  \n",
        "qtd_linhas_validacao = qtd_linhas -1\n",
        "\n",
        "info = (\n",
        "    f\"linhas treino= 0:{qtd_linhas_treino}\"\n",
        "    f\" linhas teste= {qtd_linhas_treino}:{qtd_linhas_treino + qtd_linhas_teste -1}\"\n",
        "    f\" linhas validação= {qtd_linhas_validacao}\"\n",
        ")\n",
        "\n",
        "info"
      ]
    },
    {
      "cell_type": "markdown",
      "metadata": {
        "id": "SO2vROrYxaHK"
      },
      "source": [
        "- Separar a **labels** que será o target a ser encontrado pelo modelo preditivo\n",
        "- Separar as **features** que serão utilizadas para prever o valor final"
      ]
    },
    {
      "cell_type": "code",
      "execution_count": null,
      "metadata": {
        "colab": {
          "base_uri": "https://localhost:8080/"
        },
        "id": "f2BJx4Gks9DE",
        "outputId": "849a03cb-d926-442d-c00b-282ff93893d0"
      },
      "outputs": [
        {
          "name": "stderr",
          "output_type": "stream",
          "text": [
            "/usr/local/lib/python3.7/dist-packages/ipykernel_launcher.py:1: FutureWarning: In a future version of pandas all arguments of DataFrame.drop except for the argument 'labels' will be keyword-only\n",
            "  \"\"\"Entry point for launching an IPython kernel.\n"
          ]
        }
      ],
      "source": [
        "features = df_matic.drop(['Date', 'Adj Close'], 1)\n",
        "labels = df_matic['Adj Close']"
      ]
    },
    {
      "cell_type": "markdown",
      "metadata": {
        "id": "accSLbKVx1Ui"
      },
      "source": [
        "- Escolhendo as melhores features com Kbest"
      ]
    },
    {
      "cell_type": "code",
      "execution_count": null,
      "metadata": {
        "colab": {
          "base_uri": "https://localhost:8080/"
        },
        "id": "WS7D9-cns9Fw",
        "outputId": "b966d200-d3bc-453b-8107-f9fe7208b980"
      },
      "outputs": [
        {
          "name": "stdout",
          "output_type": "stream",
          "text": [
            "Melhores features:\n",
            "{'mm7d': 120998.7130628382, 'Low': 86621.47958344087, 'Volume': 73084.4055525266, 'High': 67995.86405817409, 'Open': 1311.435211971409, 'mm21d': 1305.1238751253438}\n"
          ]
        }
      ],
      "source": [
        "features_list = ('Date', 'Open', 'High', 'Low', 'Volume', 'mm7d', 'mm21d')\n",
        "\n",
        "selector = SelectKBest(score_func=f_regression, k='all').fit(features, labels)\n",
        "x_new = selector.transform(features)\n",
        "scores = selector.scores_\n",
        "\n",
        "raw_pairs = zip(features_list[1:], scores)\n",
        "ordered_pairs = list(reversed(sorted(raw_pairs, key=lambda x: x[1])))\n",
        "\n",
        "k_best_features_final = dict(ordered_pairs[:15])\n",
        "best_features = k_best_features_final.keys()\n",
        "\n",
        "print(\"Melhores features:\")\n",
        "print(k_best_features_final)"
      ]
    },
    {
      "cell_type": "markdown",
      "metadata": {
        "id": "859MDpnVx5aC"
      },
      "source": [
        "- Separando as features escolhidas, com melhor pontuação"
      ]
    },
    {
      "cell_type": "code",
      "execution_count": null,
      "metadata": {
        "colab": {
          "base_uri": "https://localhost:8080/",
          "height": 424
        },
        "id": "VZzojRaqu_r-",
        "outputId": "b55d48fb-aff6-40a5-8b61-4cb556d56f01"
      },
      "outputs": [
        {
          "data": {
            "text/html": [
              "\n",
              "  <div id=\"df-42355bab-0467-4211-b087-6353e6498ad2\">\n",
              "    <div class=\"colab-df-container\">\n",
              "      <div>\n",
              "<style scoped>\n",
              "    .dataframe tbody tr th:only-of-type {\n",
              "        vertical-align: middle;\n",
              "    }\n",
              "\n",
              "    .dataframe tbody tr th {\n",
              "        vertical-align: top;\n",
              "    }\n",
              "\n",
              "    .dataframe thead th {\n",
              "        text-align: right;\n",
              "    }\n",
              "</style>\n",
              "<table border=\"1\" class=\"dataframe\">\n",
              "  <thead>\n",
              "    <tr style=\"text-align: right;\">\n",
              "      <th></th>\n",
              "      <th>mm7d</th>\n",
              "      <th>Low</th>\n",
              "      <th>Volume</th>\n",
              "      <th>High</th>\n",
              "      <th>Open</th>\n",
              "      <th>mm21d</th>\n",
              "    </tr>\n",
              "  </thead>\n",
              "  <tbody>\n",
              "    <tr>\n",
              "      <th>20</th>\n",
              "      <td>0.009823</td>\n",
              "      <td>0.012092</td>\n",
              "      <td>56628223</td>\n",
              "      <td>0.014799</td>\n",
              "      <td>0.014353</td>\n",
              "      <td>0.005889</td>\n",
              "    </tr>\n",
              "    <tr>\n",
              "      <th>21</th>\n",
              "      <td>0.011960</td>\n",
              "      <td>0.012309</td>\n",
              "      <td>141440073</td>\n",
              "      <td>0.020749</td>\n",
              "      <td>0.012320</td>\n",
              "      <td>0.006642</td>\n",
              "    </tr>\n",
              "    <tr>\n",
              "      <th>22</th>\n",
              "      <td>0.014913</td>\n",
              "      <td>0.019292</td>\n",
              "      <td>396597433</td>\n",
              "      <td>0.032911</td>\n",
              "      <td>0.020231</td>\n",
              "      <td>0.007874</td>\n",
              "    </tr>\n",
              "    <tr>\n",
              "      <th>23</th>\n",
              "      <td>0.018014</td>\n",
              "      <td>0.025149</td>\n",
              "      <td>698132268</td>\n",
              "      <td>0.045017</td>\n",
              "      <td>0.029349</td>\n",
              "      <td>0.009064</td>\n",
              "    </tr>\n",
              "    <tr>\n",
              "      <th>24</th>\n",
              "      <td>0.019824</td>\n",
              "      <td>0.020417</td>\n",
              "      <td>266364855</td>\n",
              "      <td>0.031612</td>\n",
              "      <td>0.029454</td>\n",
              "      <td>0.009912</td>\n",
              "    </tr>\n",
              "    <tr>\n",
              "      <th>...</th>\n",
              "      <td>...</td>\n",
              "      <td>...</td>\n",
              "      <td>...</td>\n",
              "      <td>...</td>\n",
              "      <td>...</td>\n",
              "      <td>...</td>\n",
              "    </tr>\n",
              "    <tr>\n",
              "      <th>1260</th>\n",
              "      <td>0.827609</td>\n",
              "      <td>0.808991</td>\n",
              "      <td>164897204</td>\n",
              "      <td>0.829261</td>\n",
              "      <td>0.813654</td>\n",
              "      <td>0.777920</td>\n",
              "    </tr>\n",
              "    <tr>\n",
              "      <th>1261</th>\n",
              "      <td>0.829535</td>\n",
              "      <td>0.813605</td>\n",
              "      <td>321110887</td>\n",
              "      <td>0.841165</td>\n",
              "      <td>0.825335</td>\n",
              "      <td>0.780265</td>\n",
              "    </tr>\n",
              "    <tr>\n",
              "      <th>1262</th>\n",
              "      <td>0.823023</td>\n",
              "      <td>0.788402</td>\n",
              "      <td>288662617</td>\n",
              "      <td>0.815130</td>\n",
              "      <td>0.815126</td>\n",
              "      <td>0.782992</td>\n",
              "    </tr>\n",
              "    <tr>\n",
              "      <th>1263</th>\n",
              "      <td>0.813444</td>\n",
              "      <td>0.784254</td>\n",
              "      <td>180040402</td>\n",
              "      <td>0.800645</td>\n",
              "      <td>0.790622</td>\n",
              "      <td>0.786806</td>\n",
              "    </tr>\n",
              "    <tr>\n",
              "      <th>1264</th>\n",
              "      <td>0.805268</td>\n",
              "      <td>0.721432</td>\n",
              "      <td>438551832</td>\n",
              "      <td>0.786658</td>\n",
              "      <td>0.784293</td>\n",
              "      <td>0.787901</td>\n",
              "    </tr>\n",
              "  </tbody>\n",
              "</table>\n",
              "<p>1245 rows × 6 columns</p>\n",
              "</div>\n",
              "      <button class=\"colab-df-convert\" onclick=\"convertToInteractive('df-42355bab-0467-4211-b087-6353e6498ad2')\"\n",
              "              title=\"Convert this dataframe to an interactive table.\"\n",
              "              style=\"display:none;\">\n",
              "        \n",
              "  <svg xmlns=\"http://www.w3.org/2000/svg\" height=\"24px\"viewBox=\"0 0 24 24\"\n",
              "       width=\"24px\">\n",
              "    <path d=\"M0 0h24v24H0V0z\" fill=\"none\"/>\n",
              "    <path d=\"M18.56 5.44l.94 2.06.94-2.06 2.06-.94-2.06-.94-.94-2.06-.94 2.06-2.06.94zm-11 1L8.5 8.5l.94-2.06 2.06-.94-2.06-.94L8.5 2.5l-.94 2.06-2.06.94zm10 10l.94 2.06.94-2.06 2.06-.94-2.06-.94-.94-2.06-.94 2.06-2.06.94z\"/><path d=\"M17.41 7.96l-1.37-1.37c-.4-.4-.92-.59-1.43-.59-.52 0-1.04.2-1.43.59L10.3 9.45l-7.72 7.72c-.78.78-.78 2.05 0 2.83L4 21.41c.39.39.9.59 1.41.59.51 0 1.02-.2 1.41-.59l7.78-7.78 2.81-2.81c.8-.78.8-2.07 0-2.86zM5.41 20L4 18.59l7.72-7.72 1.47 1.35L5.41 20z\"/>\n",
              "  </svg>\n",
              "      </button>\n",
              "      \n",
              "  <style>\n",
              "    .colab-df-container {\n",
              "      display:flex;\n",
              "      flex-wrap:wrap;\n",
              "      gap: 12px;\n",
              "    }\n",
              "\n",
              "    .colab-df-convert {\n",
              "      background-color: #E8F0FE;\n",
              "      border: none;\n",
              "      border-radius: 50%;\n",
              "      cursor: pointer;\n",
              "      display: none;\n",
              "      fill: #1967D2;\n",
              "      height: 32px;\n",
              "      padding: 0 0 0 0;\n",
              "      width: 32px;\n",
              "    }\n",
              "\n",
              "    .colab-df-convert:hover {\n",
              "      background-color: #E2EBFA;\n",
              "      box-shadow: 0px 1px 2px rgba(60, 64, 67, 0.3), 0px 1px 3px 1px rgba(60, 64, 67, 0.15);\n",
              "      fill: #174EA6;\n",
              "    }\n",
              "\n",
              "    [theme=dark] .colab-df-convert {\n",
              "      background-color: #3B4455;\n",
              "      fill: #D2E3FC;\n",
              "    }\n",
              "\n",
              "    [theme=dark] .colab-df-convert:hover {\n",
              "      background-color: #434B5C;\n",
              "      box-shadow: 0px 1px 3px 1px rgba(0, 0, 0, 0.15);\n",
              "      filter: drop-shadow(0px 1px 2px rgba(0, 0, 0, 0.3));\n",
              "      fill: #FFFFFF;\n",
              "    }\n",
              "  </style>\n",
              "\n",
              "      <script>\n",
              "        const buttonEl =\n",
              "          document.querySelector('#df-42355bab-0467-4211-b087-6353e6498ad2 button.colab-df-convert');\n",
              "        buttonEl.style.display =\n",
              "          google.colab.kernel.accessAllowed ? 'block' : 'none';\n",
              "\n",
              "        async function convertToInteractive(key) {\n",
              "          const element = document.querySelector('#df-42355bab-0467-4211-b087-6353e6498ad2');\n",
              "          const dataTable =\n",
              "            await google.colab.kernel.invokeFunction('convertToInteractive',\n",
              "                                                     [key], {});\n",
              "          if (!dataTable) return;\n",
              "\n",
              "          const docLinkHtml = 'Like what you see? Visit the ' +\n",
              "            '<a target=\"_blank\" href=https://colab.research.google.com/notebooks/data_table.ipynb>data table notebook</a>'\n",
              "            + ' to learn more about interactive tables.';\n",
              "          element.innerHTML = '';\n",
              "          dataTable['output_type'] = 'display_data';\n",
              "          await google.colab.output.renderOutput(dataTable, element);\n",
              "          const docLink = document.createElement('div');\n",
              "          docLink.innerHTML = docLinkHtml;\n",
              "          element.appendChild(docLink);\n",
              "        }\n",
              "      </script>\n",
              "    </div>\n",
              "  </div>\n",
              "  "
            ],
            "text/plain": [
              "          mm7d       Low     Volume      High      Open     mm21d\n",
              "20    0.009823  0.012092   56628223  0.014799  0.014353  0.005889\n",
              "21    0.011960  0.012309  141440073  0.020749  0.012320  0.006642\n",
              "22    0.014913  0.019292  396597433  0.032911  0.020231  0.007874\n",
              "23    0.018014  0.025149  698132268  0.045017  0.029349  0.009064\n",
              "24    0.019824  0.020417  266364855  0.031612  0.029454  0.009912\n",
              "...        ...       ...        ...       ...       ...       ...\n",
              "1260  0.827609  0.808991  164897204  0.829261  0.813654  0.777920\n",
              "1261  0.829535  0.813605  321110887  0.841165  0.825335  0.780265\n",
              "1262  0.823023  0.788402  288662617  0.815130  0.815126  0.782992\n",
              "1263  0.813444  0.784254  180040402  0.800645  0.790622  0.786806\n",
              "1264  0.805268  0.721432  438551832  0.786658  0.784293  0.787901\n",
              "\n",
              "[1245 rows x 6 columns]"
            ]
          },
          "execution_count": 33,
          "metadata": {},
          "output_type": "execute_result"
        }
      ],
      "source": [
        "features = df_matic.loc[:,['mm7d','Low', 'Volume', 'High', 'Open', 'mm21d']]\n",
        "features"
      ]
    },
    {
      "cell_type": "markdown",
      "metadata": {
        "id": "R0muN60Nm9ft"
      },
      "source": [
        "- Criando Pipeline"
      ]
    },
    {
      "cell_type": "code",
      "execution_count": null,
      "metadata": {
        "id": "nhzFEDP1myuc"
      },
      "outputs": [],
      "source": [
        "pipeline_linear_regression = make_pipeline(MinMaxScaler(), LinearRegression())"
      ]
    },
    {
      "cell_type": "markdown",
      "metadata": {
        "id": "Ok2GPU77yDhq"
      },
      "source": []
    },
    {
      "cell_type": "markdown",
      "metadata": {
        "id": "vuH9rqRkyFqq"
      },
      "source": [
        "- Separa os dados de treino teste e validação"
      ]
    },
    {
      "cell_type": "code",
      "execution_count": null,
      "metadata": {
        "colab": {
          "base_uri": "https://localhost:8080/"
        },
        "id": "WSkeTZq9u_ut",
        "outputId": "b849db4a-4058-41d0-ff9b-5131661724af"
      },
      "outputs": [
        {
          "name": "stdout",
          "output_type": "stream",
          "text": [
            "872 872\n",
            "372 372\n"
          ]
        }
      ],
      "source": [
        "X_train = features[:qtd_linhas_treino]\n",
        "X_test = features[qtd_linhas_treino:qtd_linhas_treino + qtd_linhas_teste -1]\n",
        "\n",
        "y_train = labels[:qtd_linhas_treino]\n",
        "y_test = labels[qtd_linhas_treino:qtd_linhas_treino + qtd_linhas_teste -1]\n",
        "\n",
        "print( len(X_train), len(y_train))\n",
        "\n",
        "print( len(X_test), len(y_test))"
      ]
    },
    {
      "cell_type": "markdown",
      "metadata": {
        "id": "w3oopIFM8CGs"
      },
      "source": [
        "- Treina modelo"
      ]
    },
    {
      "cell_type": "code",
      "execution_count": null,
      "metadata": {
        "colab": {
          "base_uri": "https://localhost:8080/"
        },
        "id": "mbdd4IOunOuJ",
        "outputId": "f2d23647-a534-421e-f453-f73f6a25ee41"
      },
      "outputs": [
        {
          "data": {
            "text/plain": [
              "Pipeline(steps=[('minmaxscaler', MinMaxScaler()),\n",
              "                ('linearregression', LinearRegression())])"
            ]
          },
          "execution_count": 36,
          "metadata": {},
          "output_type": "execute_result"
        }
      ],
      "source": [
        "pipeline_linear_regression.fit(X_train, y_train)"
      ]
    },
    {
      "cell_type": "markdown",
      "metadata": {
        "id": "yTVOPZ-c8F6D"
      },
      "source": [
        "- Conferir a pontuação do modelo"
      ]
    },
    {
      "cell_type": "code",
      "execution_count": null,
      "metadata": {
        "colab": {
          "base_uri": "https://localhost:8080/",
          "height": 35
        },
        "id": "3CA1WtRInY05",
        "outputId": "4aa40a37-39ae-41e6-ff10-1c6d2fc79950"
      },
      "outputs": [
        {
          "data": {
            "application/vnd.google.colaboratory.intrinsic+json": {
              "type": "string"
            },
            "text/plain": [
              "'Teste pontuação para avaliar a consistência do modelo: 97.04%'"
            ]
          },
          "execution_count": 37,
          "metadata": {},
          "output_type": "execute_result"
        }
      ],
      "source": [
        "score_model = pipeline_linear_regression.score(X_test, y_test)\n",
        "f'Teste pontuação para avaliar a consistência do modelo: {score_model * 100:.2f}%'"
      ]
    },
    {
      "cell_type": "markdown",
      "metadata": {
        "id": "PMAgF8RO8O7F"
      },
      "source": [
        "- Pega último dado do dataframe"
      ]
    },
    {
      "cell_type": "code",
      "execution_count": null,
      "metadata": {
        "colab": {
          "base_uri": "https://localhost:8080/",
          "height": 81
        },
        "id": "lioyLP9en1OB",
        "outputId": "c28b319e-86e7-4b13-9d8f-3858e971b009"
      },
      "outputs": [
        {
          "data": {
            "text/html": [
              "\n",
              "  <div id=\"df-f5df525f-fc71-42b9-8098-6fc269381493\">\n",
              "    <div class=\"colab-df-container\">\n",
              "      <div>\n",
              "<style scoped>\n",
              "    .dataframe tbody tr th:only-of-type {\n",
              "        vertical-align: middle;\n",
              "    }\n",
              "\n",
              "    .dataframe tbody tr th {\n",
              "        vertical-align: top;\n",
              "    }\n",
              "\n",
              "    .dataframe thead th {\n",
              "        text-align: right;\n",
              "    }\n",
              "</style>\n",
              "<table border=\"1\" class=\"dataframe\">\n",
              "  <thead>\n",
              "    <tr style=\"text-align: right;\">\n",
              "      <th></th>\n",
              "      <th>index</th>\n",
              "      <th>Date</th>\n",
              "      <th>Open</th>\n",
              "      <th>High</th>\n",
              "      <th>Low</th>\n",
              "      <th>Close</th>\n",
              "      <th>Adj Close</th>\n",
              "      <th>Volume</th>\n",
              "      <th>mm7d</th>\n",
              "      <th>mm21d</th>\n",
              "    </tr>\n",
              "  </thead>\n",
              "  <tbody>\n",
              "    <tr>\n",
              "      <th>1264</th>\n",
              "      <td>1264</td>\n",
              "      <td>2022-10-13 00:00:00+00:00</td>\n",
              "      <td>0.784293</td>\n",
              "      <td>0.786658</td>\n",
              "      <td>0.721432</td>\n",
              "      <td>0.775821</td>\n",
              "      <td>0.792723</td>\n",
              "      <td>438551832</td>\n",
              "      <td>0.805268</td>\n",
              "      <td>0.787901</td>\n",
              "    </tr>\n",
              "  </tbody>\n",
              "</table>\n",
              "</div>\n",
              "      <button class=\"colab-df-convert\" onclick=\"convertToInteractive('df-f5df525f-fc71-42b9-8098-6fc269381493')\"\n",
              "              title=\"Convert this dataframe to an interactive table.\"\n",
              "              style=\"display:none;\">\n",
              "        \n",
              "  <svg xmlns=\"http://www.w3.org/2000/svg\" height=\"24px\"viewBox=\"0 0 24 24\"\n",
              "       width=\"24px\">\n",
              "    <path d=\"M0 0h24v24H0V0z\" fill=\"none\"/>\n",
              "    <path d=\"M18.56 5.44l.94 2.06.94-2.06 2.06-.94-2.06-.94-.94-2.06-.94 2.06-2.06.94zm-11 1L8.5 8.5l.94-2.06 2.06-.94-2.06-.94L8.5 2.5l-.94 2.06-2.06.94zm10 10l.94 2.06.94-2.06 2.06-.94-2.06-.94-.94-2.06-.94 2.06-2.06.94z\"/><path d=\"M17.41 7.96l-1.37-1.37c-.4-.4-.92-.59-1.43-.59-.52 0-1.04.2-1.43.59L10.3 9.45l-7.72 7.72c-.78.78-.78 2.05 0 2.83L4 21.41c.39.39.9.59 1.41.59.51 0 1.02-.2 1.41-.59l7.78-7.78 2.81-2.81c.8-.78.8-2.07 0-2.86zM5.41 20L4 18.59l7.72-7.72 1.47 1.35L5.41 20z\"/>\n",
              "  </svg>\n",
              "      </button>\n",
              "      \n",
              "  <style>\n",
              "    .colab-df-container {\n",
              "      display:flex;\n",
              "      flex-wrap:wrap;\n",
              "      gap: 12px;\n",
              "    }\n",
              "\n",
              "    .colab-df-convert {\n",
              "      background-color: #E8F0FE;\n",
              "      border: none;\n",
              "      border-radius: 50%;\n",
              "      cursor: pointer;\n",
              "      display: none;\n",
              "      fill: #1967D2;\n",
              "      height: 32px;\n",
              "      padding: 0 0 0 0;\n",
              "      width: 32px;\n",
              "    }\n",
              "\n",
              "    .colab-df-convert:hover {\n",
              "      background-color: #E2EBFA;\n",
              "      box-shadow: 0px 1px 2px rgba(60, 64, 67, 0.3), 0px 1px 3px 1px rgba(60, 64, 67, 0.15);\n",
              "      fill: #174EA6;\n",
              "    }\n",
              "\n",
              "    [theme=dark] .colab-df-convert {\n",
              "      background-color: #3B4455;\n",
              "      fill: #D2E3FC;\n",
              "    }\n",
              "\n",
              "    [theme=dark] .colab-df-convert:hover {\n",
              "      background-color: #434B5C;\n",
              "      box-shadow: 0px 1px 3px 1px rgba(0, 0, 0, 0.15);\n",
              "      filter: drop-shadow(0px 1px 2px rgba(0, 0, 0, 0.3));\n",
              "      fill: #FFFFFF;\n",
              "    }\n",
              "  </style>\n",
              "\n",
              "      <script>\n",
              "        const buttonEl =\n",
              "          document.querySelector('#df-f5df525f-fc71-42b9-8098-6fc269381493 button.colab-df-convert');\n",
              "        buttonEl.style.display =\n",
              "          google.colab.kernel.accessAllowed ? 'block' : 'none';\n",
              "\n",
              "        async function convertToInteractive(key) {\n",
              "          const element = document.querySelector('#df-f5df525f-fc71-42b9-8098-6fc269381493');\n",
              "          const dataTable =\n",
              "            await google.colab.kernel.invokeFunction('convertToInteractive',\n",
              "                                                     [key], {});\n",
              "          if (!dataTable) return;\n",
              "\n",
              "          const docLinkHtml = 'Like what you see? Visit the ' +\n",
              "            '<a target=\"_blank\" href=https://colab.research.google.com/notebooks/data_table.ipynb>data table notebook</a>'\n",
              "            + ' to learn more about interactive tables.';\n",
              "          element.innerHTML = '';\n",
              "          dataTable['output_type'] = 'display_data';\n",
              "          await google.colab.output.renderOutput(dataTable, element);\n",
              "          const docLink = document.createElement('div');\n",
              "          docLink.innerHTML = docLinkHtml;\n",
              "          element.appendChild(docLink);\n",
              "        }\n",
              "      </script>\n",
              "    </div>\n",
              "  </div>\n",
              "  "
            ],
            "text/plain": [
              "      index                      Date      Open      High       Low     Close  \\\n",
              "1264   1264 2022-10-13 00:00:00+00:00  0.784293  0.786658  0.721432  0.775821   \n",
              "\n",
              "      Adj Close     Volume      mm7d     mm21d  \n",
              "1264   0.792723  438551832  0.805268  0.787901  "
            ]
          },
          "execution_count": 39,
          "metadata": {},
          "output_type": "execute_result"
        }
      ],
      "source": [
        "data_pred = ['mm7d','Low', 'Volume', 'High', 'Open', 'mm21d']\n",
        "df_matic.tail(1)"
      ]
    },
    {
      "cell_type": "markdown",
      "metadata": {
        "id": "EbKjFx4L8XBU"
      },
      "source": [
        "- Testar a predição"
      ]
    },
    {
      "cell_type": "code",
      "execution_count": null,
      "metadata": {
        "colab": {
          "base_uri": "https://localhost:8080/"
        },
        "id": "LhP_P8ppnYoZ",
        "outputId": "36c452cc-9420-4de1-b429-838ce46ab817"
      },
      "outputs": [
        {
          "data": {
            "text/plain": [
              "array([0.75269046])"
            ]
          },
          "execution_count": 40,
          "metadata": {},
          "output_type": "execute_result"
        }
      ],
      "source": [
        "pipeline_linear_regression.predict(df_matic.tail(1)[data_pred])"
      ]
    },
    {
      "cell_type": "markdown",
      "metadata": {
        "id": "jW34sUhzA7Sc"
      },
      "source": [
        "- Realizar a predição com os dados de testes(dados que o modelo desconhece)"
      ]
    },
    {
      "cell_type": "code",
      "execution_count": null,
      "metadata": {
        "colab": {
          "base_uri": "https://localhost:8080/",
          "height": 238
        },
        "id": "xvcNFxHL6RED",
        "outputId": "62546fef-c7ec-4455-e3f4-8d5b3cf79bbc"
      },
      "outputs": [
        {
          "data": {
            "text/html": [
              "\n",
              "  <div id=\"df-5e6a9f9a-d553-45d3-b222-ca89e20c9279\">\n",
              "    <div class=\"colab-df-container\">\n",
              "      <div>\n",
              "<style scoped>\n",
              "    .dataframe tbody tr th:only-of-type {\n",
              "        vertical-align: middle;\n",
              "    }\n",
              "\n",
              "    .dataframe tbody tr th {\n",
              "        vertical-align: top;\n",
              "    }\n",
              "\n",
              "    .dataframe thead th {\n",
              "        text-align: right;\n",
              "    }\n",
              "</style>\n",
              "<table border=\"1\" class=\"dataframe\">\n",
              "  <thead>\n",
              "    <tr style=\"text-align: right;\">\n",
              "      <th></th>\n",
              "      <th>real</th>\n",
              "      <th>previsao</th>\n",
              "    </tr>\n",
              "    <tr>\n",
              "      <th>data_polygon</th>\n",
              "      <th></th>\n",
              "      <th></th>\n",
              "    </tr>\n",
              "  </thead>\n",
              "  <tbody>\n",
              "    <tr>\n",
              "      <th>2022-10-08 00:00:00+00:00</th>\n",
              "      <td>0.813639</td>\n",
              "      <td>0.805232</td>\n",
              "    </tr>\n",
              "    <tr>\n",
              "      <th>2022-10-09 00:00:00+00:00</th>\n",
              "      <td>0.825377</td>\n",
              "      <td>0.807228</td>\n",
              "    </tr>\n",
              "    <tr>\n",
              "      <th>2022-10-10 00:00:00+00:00</th>\n",
              "      <td>0.815284</td>\n",
              "      <td>0.820596</td>\n",
              "    </tr>\n",
              "    <tr>\n",
              "      <th>2022-10-11 00:00:00+00:00</th>\n",
              "      <td>0.790544</td>\n",
              "      <td>0.797866</td>\n",
              "    </tr>\n",
              "    <tr>\n",
              "      <th>2022-10-12 00:00:00+00:00</th>\n",
              "      <td>0.784314</td>\n",
              "      <td>0.786605</td>\n",
              "    </tr>\n",
              "  </tbody>\n",
              "</table>\n",
              "</div>\n",
              "      <button class=\"colab-df-convert\" onclick=\"convertToInteractive('df-5e6a9f9a-d553-45d3-b222-ca89e20c9279')\"\n",
              "              title=\"Convert this dataframe to an interactive table.\"\n",
              "              style=\"display:none;\">\n",
              "        \n",
              "  <svg xmlns=\"http://www.w3.org/2000/svg\" height=\"24px\"viewBox=\"0 0 24 24\"\n",
              "       width=\"24px\">\n",
              "    <path d=\"M0 0h24v24H0V0z\" fill=\"none\"/>\n",
              "    <path d=\"M18.56 5.44l.94 2.06.94-2.06 2.06-.94-2.06-.94-.94-2.06-.94 2.06-2.06.94zm-11 1L8.5 8.5l.94-2.06 2.06-.94-2.06-.94L8.5 2.5l-.94 2.06-2.06.94zm10 10l.94 2.06.94-2.06 2.06-.94-2.06-.94-.94-2.06-.94 2.06-2.06.94z\"/><path d=\"M17.41 7.96l-1.37-1.37c-.4-.4-.92-.59-1.43-.59-.52 0-1.04.2-1.43.59L10.3 9.45l-7.72 7.72c-.78.78-.78 2.05 0 2.83L4 21.41c.39.39.9.59 1.41.59.51 0 1.02-.2 1.41-.59l7.78-7.78 2.81-2.81c.8-.78.8-2.07 0-2.86zM5.41 20L4 18.59l7.72-7.72 1.47 1.35L5.41 20z\"/>\n",
              "  </svg>\n",
              "      </button>\n",
              "      \n",
              "  <style>\n",
              "    .colab-df-container {\n",
              "      display:flex;\n",
              "      flex-wrap:wrap;\n",
              "      gap: 12px;\n",
              "    }\n",
              "\n",
              "    .colab-df-convert {\n",
              "      background-color: #E8F0FE;\n",
              "      border: none;\n",
              "      border-radius: 50%;\n",
              "      cursor: pointer;\n",
              "      display: none;\n",
              "      fill: #1967D2;\n",
              "      height: 32px;\n",
              "      padding: 0 0 0 0;\n",
              "      width: 32px;\n",
              "    }\n",
              "\n",
              "    .colab-df-convert:hover {\n",
              "      background-color: #E2EBFA;\n",
              "      box-shadow: 0px 1px 2px rgba(60, 64, 67, 0.3), 0px 1px 3px 1px rgba(60, 64, 67, 0.15);\n",
              "      fill: #174EA6;\n",
              "    }\n",
              "\n",
              "    [theme=dark] .colab-df-convert {\n",
              "      background-color: #3B4455;\n",
              "      fill: #D2E3FC;\n",
              "    }\n",
              "\n",
              "    [theme=dark] .colab-df-convert:hover {\n",
              "      background-color: #434B5C;\n",
              "      box-shadow: 0px 1px 3px 1px rgba(0, 0, 0, 0.15);\n",
              "      filter: drop-shadow(0px 1px 2px rgba(0, 0, 0, 0.3));\n",
              "      fill: #FFFFFF;\n",
              "    }\n",
              "  </style>\n",
              "\n",
              "      <script>\n",
              "        const buttonEl =\n",
              "          document.querySelector('#df-5e6a9f9a-d553-45d3-b222-ca89e20c9279 button.colab-df-convert');\n",
              "        buttonEl.style.display =\n",
              "          google.colab.kernel.accessAllowed ? 'block' : 'none';\n",
              "\n",
              "        async function convertToInteractive(key) {\n",
              "          const element = document.querySelector('#df-5e6a9f9a-d553-45d3-b222-ca89e20c9279');\n",
              "          const dataTable =\n",
              "            await google.colab.kernel.invokeFunction('convertToInteractive',\n",
              "                                                     [key], {});\n",
              "          if (!dataTable) return;\n",
              "\n",
              "          const docLinkHtml = 'Like what you see? Visit the ' +\n",
              "            '<a target=\"_blank\" href=https://colab.research.google.com/notebooks/data_table.ipynb>data table notebook</a>'\n",
              "            + ' to learn more about interactive tables.';\n",
              "          element.innerHTML = '';\n",
              "          dataTable['output_type'] = 'display_data';\n",
              "          await google.colab.output.renderOutput(dataTable, element);\n",
              "          const docLink = document.createElement('div');\n",
              "          docLink.innerHTML = docLinkHtml;\n",
              "          element.appendChild(docLink);\n",
              "        }\n",
              "      </script>\n",
              "    </div>\n",
              "  </div>\n",
              "  "
            ],
            "text/plain": [
              "                               real  previsao\n",
              "data_polygon                                 \n",
              "2022-10-08 00:00:00+00:00  0.813639  0.805232\n",
              "2022-10-09 00:00:00+00:00  0.825377  0.807228\n",
              "2022-10-10 00:00:00+00:00  0.815284  0.820596\n",
              "2022-10-11 00:00:00+00:00  0.790544  0.797866\n",
              "2022-10-12 00:00:00+00:00  0.784314  0.786605"
            ]
          },
          "execution_count": 41,
          "metadata": {},
          "output_type": "execute_result"
        }
      ],
      "source": [
        "previsao = features[qtd_linhas_treino:qtd_linhas_treino + qtd_linhas_teste -1]\n",
        "\n",
        "data_btc_full=df_matic[\"Date\"]\n",
        "data_btc = data_btc_full[qtd_linhas_treino:qtd_linhas_treino + qtd_linhas_teste -1]\n",
        "\n",
        "res_full = df_matic[\"Adj Close\"]\n",
        "res = res_full[qtd_linhas_treino:qtd_linhas_treino + qtd_linhas_teste -1]\n",
        "\n",
        "\n",
        "predict2 = pipeline_linear_regression.predict(previsao)\n",
        "\n",
        "\n",
        "df = pd.DataFrame({ \"data_polygon\": data_btc, \"real\": res , \"previsao\": predict2 })\n",
        "\n",
        "df[\"real\"] = df[\"real\"].shift(+1)\n",
        "\n",
        "df.set_index(\"data_polygon\", inplace= True)\n",
        "\n",
        "df.tail()\n",
        "\n"
      ]
    },
    {
      "cell_type": "markdown",
      "metadata": {
        "id": "gFLwsKCnBJ28"
      },
      "source": [
        "- Plotar os resultados"
      ]
    },
    {
      "cell_type": "code",
      "execution_count": null,
      "metadata": {
        "colab": {
          "base_uri": "https://localhost:8080/",
          "height": 734
        },
        "id": "BADKUbAvva-J",
        "outputId": "b3dde880-2f74-494b-b3ce-2bac8c45eb1c"
      },
      "outputs": [
        {
          "data": {
            "image/png": "[encoded data removed]",
            "text/plain": [
              "<Figure size 1800x864 with 1 Axes>"
            ]
          },
          "metadata": {
            "needs_background": "light"
          },
          "output_type": "display_data"
        }
      ],
      "source": [
        "plt.figure(figsize=(25,12))\n",
        "plt.title(\"Analise preço polygon com dados de teste\")\n",
        "plt.plot(df[\"real\"], label=\"real\", color=\"blue\")\n",
        "plt.plot(df[\"previsao\"], label=\"previsao\", color=\"red\")\n",
        "plt.xlabel(\"Data\")\n",
        "plt.ylabel(\"Preço de Fechamento\")\n",
        "leg = plt.legend()"
      ]
    },
    {
      "cell_type": "code",
      "execution_count": null,
      "metadata": {
        "colab": {
          "base_uri": "https://localhost:8080/",
          "height": 737
        },
        "id": "3iczwjHLsnNo",
        "outputId": "55d962a9-fce5-45e8-92b9-430657019c40"
      },
      "outputs": [
        {
          "data": {
            "text/plain": [
              "<matplotlib.axes._subplots.AxesSubplot at 0x7f2b70dd0950>"
            ]
          },
          "execution_count": 43,
          "metadata": {},
          "output_type": "execute_result"
        },
        {
          "data": {
            "image/png": "[encoded data removed]",
            "text/plain": [
              "<Figure size 1728x864 with 1 Axes>"
            ]
          },
          "metadata": {},
          "output_type": "display_data"
        }
      ],
      "source": [
        "sns.set_style('whitegrid')\n",
        "sns.set(rc={'figure.figsize':(24, 12)})\n",
        "sns.regplot(x =\"real\", y =\"previsao\", data = df, ci=False, order=2)"
      ]
    },
    {
      "cell_type": "markdown",
      "metadata": {
        "id": "ym9fUM-5x-gj"
      },
      "source": [
        "- Export modelo preditivo "
      ]
    },
    {
      "cell_type": "code",
      "execution_count": null,
      "metadata": {
        "colab": {
          "base_uri": "https://localhost:8080/"
        },
        "id": "pyu5yBRFsnTp",
        "outputId": "48003b93-926c-4e83-c15e-4cafe96702f8"
      },
      "outputs": [
        {
          "data": {
            "text/plain": [
              "['pipeline_linear_regression.pk1']"
            ]
          },
          "execution_count": 40,
          "metadata": {},
          "output_type": "execute_result"
        }
      ],
      "source": [
        "joblib.dump(pipeline_linear_regression, 'pipeline_linear_regression.pk1')"
      ]
    },
    {
      "cell_type": "markdown",
      "metadata": {
        "id": "x6qezcv5yBlL"
      },
      "source": [
        "- Import modelo preditivo"
      ]
    },
    {
      "cell_type": "code",
      "execution_count": null,
      "metadata": {
        "id": "eobLnSMHIt13"
      },
      "outputs": [],
      "source": [
        "model = joblib.load('pipeline_linear_regression.pkl')"
      ]
    },
    {
      "cell_type": "code",
      "execution_count": null,
      "metadata": {
        "id": "sKtWqU-oJeaN"
      },
      "outputs": [],
      "source": []
    },
    {
      "cell_type": "code",
      "execution_count": null,
      "metadata": {
        "id": "q3lv6P2RJmK5"
      },
      "outputs": [],
      "source": []
    }
  ],
  "metadata": {
    "colab": {
      "collapsed_sections": [],
      "provenance": []
    },
    "kernelspec": {
      "display_name": "Python 3.10.0 ('.predict': venv)",
      "language": "python",
      "name": "python3"
    },
    "language_info": {
      "name": "python",
      "version": "3.10.0"
    },
    "vscode": {
      "interpreter": {
        "hash": "7600f5c96c7453c1fea8b8417edf0ec9a23ba9410a3c3cd132f12b34e6226900"
      }
    }
  },
  "nbformat": 4,
  "nbformat_minor": 0
}
